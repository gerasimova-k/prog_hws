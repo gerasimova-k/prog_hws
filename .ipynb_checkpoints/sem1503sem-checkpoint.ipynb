{
 "cells": [
  {
   "cell_type": "code",
   "execution_count": null,
   "id": "ccf729dd-32f7-4057-9d73-32b38869f0da",
   "metadata": {},
   "outputs": [],
   "source": [
    "!pip install nltk\n",
    "import nltk\n",
    "nltk.download()\n",
    "d\n",
    "all\n",
    "q\n",
    "from nltk.book import *\n",
    "texts()\n"
   ]
  },
  {
   "cell_type": "code",
   "execution_count": null,
   "id": "9b45604a-5cf7-4e61-a1fe-abb660c1fb84",
   "metadata": {},
   "outputs": [],
   "source": [
    "text1.concordance('Moby', width=20, lines=5)"
   ]
  },
  {
   "cell_type": "code",
   "execution_count": null,
   "id": "09376165-814d-4eed-a9f6-98ac4642d13a",
   "metadata": {},
   "outputs": [],
   "source": [
    "text1.similar('whale', num=10) # слова, употр. в похожих контекстах"
   ]
  },
  {
   "cell_type": "code",
   "execution_count": null,
   "id": "773456e5-a6fd-42ab-a5dd-4992ff852545",
   "metadata": {},
   "outputs": [],
   "source": [
    "text1.common_contexts(['whale'], ['ship'], num = 100)"
   ]
  },
  {
   "cell_type": "code",
   "execution_count": null,
   "id": "aa859f0f-0d02-4ce6-a364-2dc57bd05123",
   "metadata": {},
   "outputs": [],
   "source": [
    "text1.dispersion_plot(['Ishmael'], ['Ahab'])"
   ]
  },
  {
   "cell_type": "code",
   "execution_count": null,
   "id": "e4ac28dc-e8a4-4a2e-8b43-240ab3b79db7",
   "metadata": {},
   "outputs": [],
   "source": [
    "text1.generate(length = 100, text_seed = ['Ahab'])"
   ]
  },
  {
   "cell_type": "code",
   "execution_count": null,
   "id": "c26d43a8-da1d-45d5-ac97-6957d92b909f",
   "metadata": {},
   "outputs": [],
   "source": [
    "text1.count('Moby')"
   ]
  },
  {
   "cell_type": "code",
   "execution_count": null,
   "id": "472a980a-555b-47db-9317-888f0444063b",
   "metadata": {},
   "outputs": [],
   "source": [
    "fdist = FreqDist(text1) # частотный словарь"
   ]
  },
  {
   "cell_type": "code",
   "execution_count": null,
   "id": "cb73374c-8c01-4fa4-ac97-51ca365505c7",
   "metadata": {},
   "outputs": [],
   "source": [
    "fdist"
   ]
  },
  {
   "cell_type": "code",
   "execution_count": null,
   "id": "e11e0b56-05a9-435f-ad65-7bc671c31b31",
   "metadata": {},
   "outputs": [],
   "source": [
    "fdist.hapaxes()"
   ]
  },
  {
   "cell_type": "code",
   "execution_count": null,
   "id": "ba863712-b99a-4a74-997f-0f13a69fe3d3",
   "metadata": {},
   "outputs": [],
   "source": [
    "# n-граммы"
   ]
  },
  {
   "cell_type": "code",
   "execution_count": null,
   "id": "73f92521-56c2-43e4-82e8-752744b5d85a",
   "metadata": {},
   "outputs": [],
   "source": [
    "from nltk.util import bigrams, mgrams"
   ]
  },
  {
   "cell_type": "code",
   "execution_count": null,
   "id": "e0176fe3-ca05-4dc6-b832-aaff9edb9039",
   "metadata": {},
   "outputs": [],
   "source": [
    "from nltk.tokenize import word_tokenize\n",
    "text = 'Первое кругосветное плавание — испанская морская экспедиция под руководством Фернана Магеллана, завершённая под командованием Хуана Себастьяна Элькано.'\n",
    "text = word_tokenize(text)"
   ]
  },
  {
   "cell_type": "code",
   "execution_count": null,
   "id": "e8dd4b2d-436d-4b2b-994b-03e10774f830",
   "metadata": {},
   "outputs": [],
   "source": [
    "len(list(ngrams(text, 3)))"
   ]
  },
  {
   "cell_type": "code",
   "execution_count": null,
   "id": "0cfd62f6-1c5f-4c05-8aef-4e4dd4ad8314",
   "metadata": {},
   "outputs": [],
   "source": [
    "import nltk\n",
    "\n",
    "text10 = nltk.Text(text)"
   ]
  },
  {
   "cell_type": "code",
   "execution_count": null,
   "id": "e19963bf-611f-46cc-83f6-681e106ad48a",
   "metadata": {},
   "outputs": [],
   "source": [
    "text10"
   ]
  },
  {
   "cell_type": "code",
   "execution_count": null,
   "id": "7cbc080d-7036-4687-abd2-173110de9b28",
   "metadata": {},
   "outputs": [],
   "source": [
    "text = word_tokenize('The Holocaust in Greece was the mass murder of Greek Jews during World War II. Prior to the war, some 72,000 to 77,000 Jews lived in Greece, around 50,000 of them in Salonica. In April 1941, Germany, Italy, and Bulgaria invaded and occupied Greece.')"
   ]
  },
  {
   "cell_type": "code",
   "execution_count": null,
   "id": "5bddaa06-ebd7-478d-bdad-451788583c9d",
   "metadata": {},
   "outputs": [],
   "source": [
    "nltk.pos_tag(text)"
   ]
  },
  {
   "cell_type": "code",
   "execution_count": null,
   "id": "1a03b4bd-f871-4794-afb0-3c9d6a643d84",
   "metadata": {},
   "outputs": [],
   "source": [
    "from nltk.corpus import brown\n",
    "\n",
    "brown_tagged_sents = brown.tagged_sents(categories = 'news')\n",
    "brown_sents = brown.sents(categories = 'news')\n",
    "unigramm_tagger = nltk.UnigramTagger(brown_tagger_sents)\n",
    "unigramm_tagger.tag(text)"
   ]
  },
  {
   "cell_type": "code",
   "execution_count": null,
   "id": "c5b9c3d4-7747-4270-8c64-6b2eb542d7a9",
   "metadata": {},
   "outputs": [],
   "source": [
    "!pip install spacy"
   ]
  },
  {
   "cell_type": "code",
   "execution_count": 2,
   "id": "687745c6-378f-475d-84a4-bc66267e1d79",
   "metadata": {},
   "outputs": [],
   "source": [
    "import spacy\n",
    "\n",
    "nlp = spacy.blank('en')"
   ]
  },
  {
   "cell_type": "code",
   "execution_count": null,
   "id": "b0296d3b-4f85-4ea9-8f82-9fc7ea4b17c7",
   "metadata": {},
   "outputs": [],
   "source": [
    "raw = '''In March 1943, more than 4,000 Jews were deported from the Bulgarian occupation zone to Treblinka extermination camp. From 15 March through August, almost all of Salonica's Jews were deported to Auschwitz concentration camp. After the Italian armistice in September 1943, Germany took over the Italian occupation zone. In March 1944, Athens and other parts of mainland Greece witnessed the deportation of their Jewish communities.'''"
   ]
  },
  {
   "cell_type": "code",
   "execution_count": null,
   "id": "30d86dce-f09b-4fc4-be1c-3703d95a3ae8",
   "metadata": {},
   "outputs": [],
   "source": [
    "doc = nlp(raw)\n",
    "for token in doc:\n",
    "    print(token)"
   ]
  },
  {
   "cell_type": "code",
   "execution_count": null,
   "id": "2ad4b143-83e9-44fa-b75d-149a4728e152",
   "metadata": {},
   "outputs": [],
   "source": [
    "doc[1:3]"
   ]
  },
  {
   "cell_type": "code",
   "execution_count": null,
   "id": "0d13af46-49cd-442f-9ec8-de46b53b1151",
   "metadata": {},
   "outputs": [],
   "source": [
    "for token in doc[:5]:\n",
    "    print(token, token.i, token.is_alpha, token.is_punct, token.like_num)"
   ]
  },
  {
   "cell_type": "code",
   "execution_count": null,
   "id": "d175166d-165b-4be9-92a8-d0902f563e5f",
   "metadata": {},
   "outputs": [],
   "source": [
    "!python -m spacy download en_core_web_sm"
   ]
  },
  {
   "cell_type": "code",
   "execution_count": null,
   "id": "78e984ec-4c49-42ed-85e7-1d3d26e98453",
   "metadata": {},
   "outputs": [],
   "source": [
    "nlp = spacy.load('en_core_web_sm')"
   ]
  },
  {
   "cell_type": "code",
   "execution_count": null,
   "id": "7d502fe5-5acf-4ecd-a2a0-dfb6386be78d",
   "metadata": {},
   "outputs": [],
   "source": [
    "doc = nlp(raw)\n",
    "for token in doc[:10]:\n",
    "    print(token.i + 1,token, token.lemma_, token.pos_, token.morph, token.dep_, token.head)"
   ]
  },
  {
   "cell_type": "code",
   "execution_count": null,
   "id": "b8edae58-31b3-45f6-b940-66ecb18bf34f",
   "metadata": {},
   "outputs": [],
   "source": [
    "for ent in doc.ents:\n",
    "    print(ent.text, ent.label_)"
   ]
  },
  {
   "cell_type": "code",
   "execution_count": null,
   "id": "61243cd2-6782-4cd3-9012-1c7ed443e8c1",
   "metadata": {},
   "outputs": [],
   "source": [
    "spacy.explain('GPE')"
   ]
  },
  {
   "cell_type": "code",
   "execution_count": null,
   "id": "53ad4a49-54d2-4917-960b-918ab2842cdc",
   "metadata": {},
   "outputs": [],
   "source": [
    "spacy.explain('NORP')"
   ]
  },
  {
   "cell_type": "code",
   "execution_count": null,
   "id": "d7d6a78c-82a0-406b-9428-1662422ddf61",
   "metadata": {},
   "outputs": [],
   "source": [
    "from spacy import displacy\n",
    "displacy.render(doc, style = 'dep', jupyter = True) # style = 'ent'"
   ]
  },
  {
   "cell_type": "code",
   "execution_count": null,
   "id": "76daf412-9cd1-400d-b3a4-faa615ee41ab",
   "metadata": {},
   "outputs": [],
   "source": [
    "!pip install spacy_udpipe"
   ]
  },
  {
   "cell_type": "code",
   "execution_count": null,
   "id": "985a8df8-addb-40b9-877a-e26d84674edc",
   "metadata": {},
   "outputs": [],
   "source": [
    "import spacy_udpipe\n",
    "\n",
    "spacy_udpipe.download('en')"
   ]
  },
  {
   "cell_type": "code",
   "execution_count": null,
   "id": "d07c89dd-a39c-4543-8353-3873bb4e5c76",
   "metadata": {},
   "outputs": [],
   "source": [
    "nlp = spacy_udpipe.load('en')"
   ]
  },
  {
   "cell_type": "code",
   "execution_count": null,
   "id": "cce90e59-d459-4858-9f1d-18f26341551b",
   "metadata": {},
   "outputs": [],
   "source": [
    "!pip install corpy"
   ]
  },
  {
   "cell_type": "code",
   "execution_count": null,
   "id": "bbb6e73d-d6db-460d-9f47-fd5ff2804613",
   "metadata": {},
   "outputs": [],
   "source": [
    "from corpy.update import Model"
   ]
  },
  {
   "cell_type": "code",
   "execution_count": null,
   "id": "93c17eec-7005-4178-986c-03d95efa89c4",
   "metadata": {},
   "outputs": [],
   "source": [
    "m = Model('content/turkish-imstzslknglkn') # путь к папке с языком"
   ]
  },
  {
   "cell_type": "code",
   "execution_count": null,
   "id": "07ae84df-a814-40d4-ba04-59d97d89f083",
   "metadata": {},
   "outputs": [],
   "source": [
    "raw = '''Mısırlı Osman Ağa Çeşmesi, ya da kısaca Osman Ağa Çeşmesi, Türkiye'nin İstanbul ilinin Kadıköy ilçesinde yer alan bir çeşmedir. Bâbüssaâde Ağası Mısırlı Osman Ağa tarafından 1621 ya da 1622'de yaptırıldı. Üzerindeki kitâbenin bu çeşmeye ait olmayabileceği ihtimali de ortaya atılmıştır. Bir müddet sonra teknesi çukurda kalan ve işlevini de yitiren çeşme, 1980'lerde yapılan çalışmayla imar hattına taşınarak kot farkı giderildi. '''"
   ]
  },
  {
   "cell_type": "code",
   "execution_count": null,
   "id": "6f4e21f2-1d38-4cb1-93de-6a1ec86b50e0",
   "metadata": {},
   "outputs": [],
   "source": [
    "sents = list(m.process(raw))"
   ]
  },
  {
   "cell_type": "code",
   "execution_count": null,
   "id": "7cf18935-a126-435b-a203-2f43a49ee0a5",
   "metadata": {},
   "outputs": [],
   "source": [
    "sents"
   ]
  },
  {
   "cell_type": "code",
   "execution_count": null,
   "id": "a39b5db9-dabd-4193-bb4b-afbfc46fe7c1",
   "metadata": {},
   "outputs": [],
   "source": [
    "for sent in sents:\n",
    "    for word in sent.words:\n",
    "        print(f'word: {word.form}\\tlemma: {word.lemma}\\tupos: {word.upostag}\\tfeats: {word.feats}')"
   ]
  }
 ],
 "metadata": {
  "kernelspec": {
   "display_name": "Python 3 (ipykernel)",
   "language": "python",
   "name": "python3"
  },
  "language_info": {
   "codemirror_mode": {
    "name": "ipython",
    "version": 3
   },
   "file_extension": ".py",
   "mimetype": "text/x-python",
   "name": "python",
   "nbconvert_exporter": "python",
   "pygments_lexer": "ipython3",
   "version": "3.9.13"
  }
 },
 "nbformat": 4,
 "nbformat_minor": 5
}
