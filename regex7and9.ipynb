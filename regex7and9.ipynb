{
 "cells": [
  {
   "cell_type": "markdown",
   "id": "b239c31a-701c-473e-be5c-00679f458412",
   "metadata": {},
   "source": [
    "SEM 2 TASK 7"
   ]
  },
  {
   "cell_type": "code",
   "execution_count": null,
   "id": "687a05bd-8335-434e-b9a2-f62f1d3ec81d",
   "metadata": {},
   "outputs": [],
   "source": [
    "(?<!-)(?:[А-ЯЁа-яё]+(?:-[А-ЯЁа-яё]+)*)"
   ]
  },
  {
   "cell_type": "markdown",
   "id": "8a88f131-9d30-46b7-a63f-70f0a23a6bbe",
   "metadata": {},
   "source": [
    "SEM 2 TASK 9"
   ]
  },
  {
   "cell_type": "code",
   "execution_count": null,
   "id": "d257fa2d-b625-4fa6-a00b-4c650fd772ef",
   "metadata": {},
   "outputs": [],
   "source": [
    "\\b(\\w+)\\b(?:\\W+\\w+){0,5}\\W+\\1\\b"
   ]
  }
 ],
 "metadata": {
  "kernelspec": {
   "display_name": "Python 3 (ipykernel)",
   "language": "python",
   "name": "python3"
  },
  "language_info": {
   "codemirror_mode": {
    "name": "ipython",
    "version": 3
   },
   "file_extension": ".py",
   "mimetype": "text/x-python",
   "name": "python",
   "nbconvert_exporter": "python",
   "pygments_lexer": "ipython3",
   "version": "3.9.13"
  }
 },
 "nbformat": 4,
 "nbformat_minor": 5
}
