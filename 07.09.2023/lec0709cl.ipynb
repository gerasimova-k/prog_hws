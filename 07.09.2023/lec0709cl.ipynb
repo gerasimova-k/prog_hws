{
 "cells": [
  {
   "cell_type": "code",
   "execution_count": 1,
   "id": "47ad2b0e-c9b2-40af-b509-a169be03dc9b",
   "metadata": {},
   "outputs": [],
   "source": [
    "from time import sleep\n",
    "from random import randint\n",
    "\n",
    "class Animal:\n",
    "    heart = 1 # статические атрибуты\n",
    "    def __init__(self, name): # magic\n",
    "        self.name = name #dynamic\n",
    "        self.speak()\n",
    "    def sleep(self, n):\n",
    "        print(f'{self.name} sleeps...')\n",
    "        for i in range(n):\n",
    "            print('z' * randint(1, 6))\n",
    "            sleep(1)\n",
    "    @staticmethod\n",
    "    def method(x):\n",
    "        print(x)\n",
    "\n",
    "    def speak(self):\n",
    "        raise NotImplemented\n",
    "    "
   ]
  },
  {
   "cell_type": "code",
   "execution_count": 13,
   "id": "cbb611d2-be84-4457-97ea-864c32aa42a8",
   "metadata": {},
   "outputs": [
    {
     "name": "stdout",
     "output_type": "stream",
     "text": [
      "Cat says hello\n"
     ]
    }
   ],
   "source": [
    "a = Animal('Cat') # тут вызывается __init__\n",
    "#a.sleep(4) # Animal.sleep(a, 4)\n",
    "#a.method('asdf')"
   ]
  },
  {
   "cell_type": "code",
   "execution_count": 2,
   "id": "fda4fc36-f19b-41de-862d-125ba673d140",
   "metadata": {},
   "outputs": [],
   "source": [
    "class Cat(Animal):\n",
    "    def speak(self):\n",
    "        print(f'{self.name} says mew')\n",
    "    def catchfish(self):\n",
    "        print(f'{self.name} looks for a fish')\n",
    "        sleep(2)\n",
    "        d = randint(0, 1)\n",
    "        if d:\n",
    "            print('Fish caught!')\n",
    "            self.speak()\n",
    "        else: \n",
    "            print('No luck this time')\n",
    "    "
   ]
  },
  {
   "cell_type": "code",
   "execution_count": 4,
   "id": "06cceb3e-5631-44d1-b7d3-eaa53972af5f",
   "metadata": {},
   "outputs": [
    {
     "name": "stdout",
     "output_type": "stream",
     "text": [
      "Vasya says mew\n"
     ]
    }
   ],
   "source": [
    "c = Cat('Vasya')"
   ]
  },
  {
   "cell_type": "code",
   "execution_count": 34,
   "id": "f2449aab-1314-4c86-a5fb-5c31de389630",
   "metadata": {},
   "outputs": [
    {
     "name": "stdout",
     "output_type": "stream",
     "text": [
      "Vasya sleeps...\n",
      "zzzz\n",
      "z\n"
     ]
    }
   ],
   "source": [
    "c.sleep(2)"
   ]
  },
  {
   "cell_type": "code",
   "execution_count": 35,
   "id": "ab71dee4-13c9-49f4-930b-9767fd2578d9",
   "metadata": {},
   "outputs": [
    {
     "data": {
      "text/plain": [
       "1"
      ]
     },
     "execution_count": 35,
     "metadata": {},
     "output_type": "execute_result"
    }
   ],
   "source": [
    "c.heart"
   ]
  },
  {
   "cell_type": "code",
   "execution_count": 5,
   "id": "1317bcc8-679d-4f90-b947-2468233dee9a",
   "metadata": {},
   "outputs": [
    {
     "name": "stdout",
     "output_type": "stream",
     "text": [
      "Vasya looks for a fish\n",
      "No luck this time\n"
     ]
    }
   ],
   "source": [
    "c.catchfish()"
   ]
  },
  {
   "cell_type": "code",
   "execution_count": null,
   "id": "a0026a1f-f770-48c8-a9dd-641375b30d1c",
   "metadata": {},
   "outputs": [],
   "source": []
  }
 ],
 "metadata": {
  "kernelspec": {
   "display_name": "Python 3 (ipykernel)",
   "language": "python",
   "name": "python3"
  },
  "language_info": {
   "codemirror_mode": {
    "name": "ipython",
    "version": 3
   },
   "file_extension": ".py",
   "mimetype": "text/x-python",
   "name": "python",
   "nbconvert_exporter": "python",
   "pygments_lexer": "ipython3",
   "version": "3.9.13"
  }
 },
 "nbformat": 4,
 "nbformat_minor": 5
}
