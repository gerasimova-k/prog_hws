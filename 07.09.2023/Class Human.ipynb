{
 "cells": [
  {
   "cell_type": "code",
   "execution_count": 1,
   "id": "18da6372-3157-4aaa-99f9-9d40722a5788",
   "metadata": {},
   "outputs": [],
   "source": [
    "from time import sleep\n",
    "from random import randint"
   ]
  },
  {
   "cell_type": "code",
   "execution_count": 2,
   "id": "ae7a4d33-68e1-4003-bbd7-6263aefd23a1",
   "metadata": {},
   "outputs": [],
   "source": [
    "class Food:\n",
    "    \"\"\"Этот класс просто для красоты\"\"\"\n",
    "    def __init__(self, name):\n",
    "        self.name = name\n",
    "        \n",
    "    def __repr__(self):\n",
    "        return f\"{self.__class__.__name__}('{self.name}')\" # такое обращение к имени класса обеспечивает лучшую поддержку кода\n",
    "    \n",
    "    def __str__(self):\n",
    "        return f\"Блюдо: {self.name}, очень вкусно!\"\n",
    "\n",
    "class Human:\n",
    "    def __init__(self, name, age):\n",
    "        self.name = name\n",
    "        self.age = age\n",
    "        \n",
    "    def __repr__(self):\n",
    "        return f\"{self.__class__.__name__}('{self.name}', self.age)\"\n",
    "    \n",
    "    def __str__(self):\n",
    "        years = self.getage()\n",
    "        return f\"Человек по имени {self.name}, возраст: {self.age} {self.years}\"\n",
    "    \n",
    "    def getage(self):\n",
    "        x = self.age % 10\n",
    "        xx = self.age % 100\n",
    "        years = 'лет'\n",
    "        if not 11 <= xx < 15:\n",
    "            if x == 1:\n",
    "                years = 'год'\n",
    "            elif x in {2, 3, 4}:\n",
    "                years = 'года'\n",
    "        return years\n",
    "    \n",
    "    def sleep(self, n):\n",
    "        print(f'{self.name} спит...')\n",
    "        for i in range(n):\n",
    "            print('z' * randint(2, 6))\n",
    "            sleep(1)\n",
    "    def eat(self, food):\n",
    "        print(f'{self.name} ест: {food.name}')"
   ]
  },
  {
   "cell_type": "code",
   "execution_count": 3,
   "id": "0dd22d72-269a-4a56-8de9-cd95bdf6bed3",
   "metadata": {},
   "outputs": [],
   "source": [
    "class Student(Human): # в круглых скобках указывается класс-родитель\n",
    "    # мы не пишем init: пока что у студента он никак не отличается от всех людей\n",
    "    def study(self, n):\n",
    "        print(f'{self.name} пришел на пары!')\n",
    "        self.sleep(n)"
   ]
  },
  {
   "cell_type": "code",
   "execution_count": 4,
   "id": "0e881599-24f0-413f-9952-70e90b3de60a",
   "metadata": {},
   "outputs": [
    {
     "name": "stdout",
     "output_type": "stream",
     "text": [
      "Вася ест: Пицца\n",
      "Вася пришел на пары!\n",
      "Вася спит...\n",
      "zzzzz\n",
      "zzzzz\n",
      "zzzz\n"
     ]
    }
   ],
   "source": [
    "v = Student('Вася', 19)\n",
    "v.eat(Food('Пицца'))\n",
    "v.study(3)"
   ]
  },
  {
   "cell_type": "code",
   "execution_count": 6,
   "id": "1c00f26f-15e3-4aab-b71c-3a8b85dc5930",
   "metadata": {},
   "outputs": [],
   "source": [
    "from time import sleep"
   ]
  },
  {
   "cell_type": "code",
   "execution_count": null,
   "id": "2755e9c3-a834-4ce9-85cf-342885e58d49",
   "metadata": {},
   "outputs": [],
   "source": []
  }
 ],
 "metadata": {
  "kernelspec": {
   "display_name": "Python 3 (ipykernel)",
   "language": "python",
   "name": "python3"
  },
  "language_info": {
   "codemirror_mode": {
    "name": "ipython",
    "version": 3
   },
   "file_extension": ".py",
   "mimetype": "text/x-python",
   "name": "python",
   "nbconvert_exporter": "python",
   "pygments_lexer": "ipython3",
   "version": "3.9.13"
  }
 },
 "nbformat": 4,
 "nbformat_minor": 5
}
