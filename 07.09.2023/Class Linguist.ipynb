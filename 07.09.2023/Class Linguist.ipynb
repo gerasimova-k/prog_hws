{
 "cells": [
  {
   "cell_type": "code",
   "execution_count": 1,
   "id": "34ce4774-1357-41bb-bb8d-44ee46d597d2",
   "metadata": {},
   "outputs": [],
   "source": [
    "from time import sleep\n",
    "from random import randint\n",
    "\n",
    "class Linguist:\n",
    "    def __init__(self, name, age, affiliation, salary, experience, publications = None):\n",
    "        self.name = name\n",
    "        self.age = age\n",
    "        self.affiliation = affiliation\n",
    "        self.salary = salary\n",
    "        self.experience = experience\n",
    "        if publications is None:\n",
    "            publications = []\n",
    "        self.publications = publications\n",
    "        \n",
    "    def __repr__(self):\n",
    "        return f\"{self.__class__.__name__}('{self.name}', '{self.age}', '{self.affiliation}', '{self.salary}', '{self.experience}', '{self.publications}')\"\n",
    "    \n",
    "    def __str__(self):\n",
    "        years = self.getage()\n",
    "        return f\"{self.name} - лингвист, возрат: {self.age}{self.years}, вуз: {self.affiliation}, оклад: {self.salary} руб., стаж: {self.experience}, список публикаций: {self.publications}\"\n",
    "    \n",
    "    def getage(self):\n",
    "        x = self.age % 10\n",
    "        xx = self.age % 100\n",
    "        years = 'лет'\n",
    "        if not 11 <= xx < 15:\n",
    "            if x == 1:\n",
    "                years = 'год'\n",
    "            elif x in {2, 3, 4}:\n",
    "                years = 'года'\n",
    "        return years\n",
    "\n",
    "    def work(self, task):\n",
    "        print(f'{task.name} - то, над чем работает {self.name}')\n",
    "\n",
    "    def conference(self, theme):\n",
    "        print(f'{self.name} на конференции {theme.name}')\n",
    "\n",
    "    def write(self):\n",
    "        print(f'{self.name} работает над статьей')\n",
    "\n",
    "    def read(self):\n",
    "        print(f'{self.name} изучает материал')\n",
    "\n",
    "    def sleep(self, n):\n",
    "        print(f'{self.name} спит...')\n",
    "        for i in range(n):\n",
    "            print('z' * randint(2, 6))\n",
    "            sleep(1)\n",
    "\n"
   ]
  },
  {
   "cell_type": "code",
   "execution_count": 2,
   "id": "59f6a0e2-4b6a-4795-8931-bbc11617a07d",
   "metadata": {},
   "outputs": [],
   "source": [
    "class Computational(Linguist): \n",
    "\n",
    "    def programing(self, n):\n",
    "        print(f'{self.name} пишет код')\n",
    "        self.sleep(n)\n",
    "\n",
    "    def tasks(self):\n",
    "        d = randint(0, 1)\n",
    "        if d:\n",
    "            print(f'{self.name} пишет код')\n",
    "        else: \n",
    "            print(f'{self.name} пишет статью')\n",
    "\n",
    "    def github_repo(self):\n",
    "        print(f'{self.name} имеет репозиторий на Гитхабе')"
   ]
  },
  {
   "cell_type": "code",
   "execution_count": 3,
   "id": "a732051e-bfbd-4f9a-bd75-8c76117edc3f",
   "metadata": {},
   "outputs": [],
   "source": [
    "class Theoretical(Linguist):\n",
    "\n",
    "    def field_work(self, region):\n",
    "        print(f'{self.name} отправляется в экспедицию в {region.name}')"
   ]
  },
  {
   "cell_type": "code",
   "execution_count": 4,
   "id": "2236fee4-ad73-4c4e-9cc9-dc2d9760c2fc",
   "metadata": {},
   "outputs": [],
   "source": [
    "l = Computational('Даша', 30, 'РГГУ', 100000, 5, 'NLTK')"
   ]
  },
  {
   "cell_type": "code",
   "execution_count": 5,
   "id": "d08eda4d-baac-4741-b6c1-6629b70fba23",
   "metadata": {},
   "outputs": [
    {
     "name": "stdout",
     "output_type": "stream",
     "text": [
      "Даша пишет код\n"
     ]
    }
   ],
   "source": [
    "l.tasks()"
   ]
  },
  {
   "cell_type": "code",
   "execution_count": 6,
   "id": "b6990bee-8e27-4695-9445-e67098171eda",
   "metadata": {},
   "outputs": [],
   "source": [
    " t = Theoretical('Аня', 40, 'ВШЭ', 150000, 12, 'Cемантика')"
   ]
  },
  {
   "cell_type": "code",
   "execution_count": 7,
   "id": "f01c6fc1-bb73-481f-ae95-02f907a9ac01",
   "metadata": {},
   "outputs": [],
   "source": [
    "class Region: \n",
    "    \n",
    "    def __init__(self, name):\n",
    "        self.name = name\n",
    "        \n",
    "    def __repr__(self):\n",
    "        return f\"{self.__class__.__name__}('{self.name}')\" \n",
    "    \n",
    "    "
   ]
  },
  {
   "cell_type": "code",
   "execution_count": 8,
   "id": "304dd01f-64d1-49b7-a0bf-bb40e51a005f",
   "metadata": {},
   "outputs": [
    {
     "name": "stdout",
     "output_type": "stream",
     "text": [
      "Аня отправляется в экспедицию в ЮАР\n"
     ]
    }
   ],
   "source": [
    "t.field_work(Region('ЮАР'))"
   ]
  },
  {
   "cell_type": "code",
   "execution_count": 9,
   "id": "df6ea5cc-61bb-4e5a-9dd1-587930d5dbb6",
   "metadata": {},
   "outputs": [],
   "source": [
    "class Task: \n",
    "    \n",
    "    def __init__(self, name):\n",
    "        self.name = name\n",
    "        \n",
    "    def __repr__(self):\n",
    "        return f\"{self.__class__.__name__}('{self.name}')\" \n",
    "    \n",
    "    "
   ]
  },
  {
   "cell_type": "code",
   "execution_count": 10,
   "id": "c1824091-8429-4ac8-966b-44a3023f2ef0",
   "metadata": {},
   "outputs": [
    {
     "name": "stdout",
     "output_type": "stream",
     "text": [
      "Преподавательская деятельность - то, над чем работает Аня\n"
     ]
    }
   ],
   "source": [
    "t.work(Task('Преподавательская деятельность'))"
   ]
  },
  {
   "cell_type": "code",
   "execution_count": 11,
   "id": "30b19bbc-ff89-42a7-be1e-d075918b0606",
   "metadata": {},
   "outputs": [],
   "source": [
    "class Theme: \n",
    "    \n",
    "    def __init__(self, name):\n",
    "        self.name = name\n",
    "        \n",
    "    def __repr__(self):\n",
    "        return f\"{self.__class__.__name__}('{self.name}')\" \n",
    "    "
   ]
  },
  {
   "cell_type": "code",
   "execution_count": 12,
   "id": "67a4ab24-37d7-41da-84c5-e8b7314cd3ed",
   "metadata": {},
   "outputs": [
    {
     "name": "stdout",
     "output_type": "stream",
     "text": [
      "Даша на конференции Формальная семантика\n"
     ]
    }
   ],
   "source": [
    "l.conference(Theme('Формальная семантика'))"
   ]
  },
  {
   "cell_type": "code",
   "execution_count": 13,
   "id": "3e315f3f-e5c1-4382-9463-3b0ee6fbfe25",
   "metadata": {},
   "outputs": [],
   "source": [
    "a = Linguist('Олег', 35, 'МФТИ', 130000, 10, 'Корпусная лингвистика')"
   ]
  },
  {
   "cell_type": "code",
   "execution_count": 14,
   "id": "af9d4eb5-e138-4734-b0cb-37b7d9584062",
   "metadata": {},
   "outputs": [
    {
     "name": "stdout",
     "output_type": "stream",
     "text": [
      "Олег спит...\n",
      "zzzzz\n",
      "zzz\n"
     ]
    }
   ],
   "source": [
    "a.sleep(2)"
   ]
  },
  {
   "cell_type": "code",
   "execution_count": 15,
   "id": "64d38323-9fbc-4285-a79b-0bfe0f5fbf01",
   "metadata": {},
   "outputs": [],
   "source": [
    "l.salary += 10000"
   ]
  },
  {
   "cell_type": "code",
   "execution_count": 16,
   "id": "7d57da8d-58ed-445a-a7d7-5b94887197fc",
   "metadata": {},
   "outputs": [
    {
     "data": {
      "text/plain": [
       "110000"
      ]
     },
     "execution_count": 16,
     "metadata": {},
     "output_type": "execute_result"
    }
   ],
   "source": [
    "l.salary"
   ]
  },
  {
   "cell_type": "code",
   "execution_count": 17,
   "id": "21265d6c-58bc-4891-a215-8acb7a696c65",
   "metadata": {},
   "outputs": [
    {
     "name": "stdout",
     "output_type": "stream",
     "text": [
      "Олег работает над статьей\n"
     ]
    }
   ],
   "source": [
    "a.write()"
   ]
  },
  {
   "cell_type": "code",
   "execution_count": 18,
   "id": "155b6187-0dda-4e54-bb34-d57a5a66293e",
   "metadata": {},
   "outputs": [
    {
     "name": "stdout",
     "output_type": "stream",
     "text": [
      "Даша работает над статьей\n"
     ]
    }
   ],
   "source": [
    "l.write()"
   ]
  },
  {
   "cell_type": "code",
   "execution_count": 19,
   "id": "ef379a29-4469-48dc-945f-cfaab4294c91",
   "metadata": {},
   "outputs": [
    {
     "data": {
      "text/plain": [
       "'Корпусная лингвистика'"
      ]
     },
     "execution_count": 19,
     "metadata": {},
     "output_type": "execute_result"
    }
   ],
   "source": [
    "a.publications"
   ]
  },
  {
   "cell_type": "code",
   "execution_count": null,
   "id": "0801248f-2455-4b78-b052-6f60c3fcc701",
   "metadata": {},
   "outputs": [],
   "source": []
  }
 ],
 "metadata": {
  "kernelspec": {
   "display_name": "Python 3 (ipykernel)",
   "language": "python",
   "name": "python3"
  },
  "language_info": {
   "codemirror_mode": {
    "name": "ipython",
    "version": 3
   },
   "file_extension": ".py",
   "mimetype": "text/x-python",
   "name": "python",
   "nbconvert_exporter": "python",
   "pygments_lexer": "ipython3",
   "version": "3.9.13"
  }
 },
 "nbformat": 4,
 "nbformat_minor": 5
}
