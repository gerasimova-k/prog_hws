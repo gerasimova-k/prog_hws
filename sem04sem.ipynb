{
 "cells": [
  {
   "cell_type": "markdown",
   "id": "a781880d-a026-4d42-87af-37215bdbdd6d",
   "metadata": {},
   "source": [
    "SEM 4 TASK 1 \n",
    "\n",
    "Разделите его по предложениям и токенизируйте известными вам инструментами. "
   ]
  },
  {
   "cell_type": "code",
   "execution_count": 1,
   "id": "09b015fb-c4d4-4dce-98f4-1a072306e1eb",
   "metadata": {},
   "outputs": [],
   "source": [
    "import nltk"
   ]
  },
  {
   "cell_type": "code",
   "execution_count": 2,
   "id": "b5e28550-af1d-4e49-8657-dd3fe8629d15",
   "metadata": {},
   "outputs": [],
   "source": [
    "from nltk import tokenize, stem"
   ]
  },
  {
   "cell_type": "code",
   "execution_count": 3,
   "id": "839e9b68-059d-4885-9668-29406a069aab",
   "metadata": {},
   "outputs": [],
   "source": [
    "from nltk.tokenize import word_tokenize, sent_tokenize\n",
    "from nltk.stem import WordNetLemmatizer"
   ]
  },
  {
   "cell_type": "code",
   "execution_count": 4,
   "id": "9e5e1a6c-682e-4842-ad9e-4d07f29f231f",
   "metadata": {},
   "outputs": [
    {
     "name": "stdout",
     "output_type": "stream",
     "text": [
      "['Классная история!', 'Браво!!!', 'А я вот вчера, после охрененно тяжёлого рабочего дня зашла в магаз, купила филе лосося и дома на чиабатту с оливковым маслом и помидорами под красное вино кааак съела!', 'И было мне счастье!)))))', 'И полегчало сразу, и спина перестала болеть, и сразу такая гармония наступила!!!', 'Вот что омега-3,6 животворящая может с человеком сделать!', 'Прямо осчастливливает сразу!!!', '))))😁🤣🤣\\nДа здравствует Лосось!!!', '!😁😍😁']\n"
     ]
    }
   ],
   "source": [
    "raw = '''Классная история! Браво!!!\n",
    "А я вот вчера, после охрененно тяжёлого рабочего дня зашла в магаз, купила филе лосося и дома на чиабатту с оливковым маслом и помидорами под красное вино кааак съела! И было мне счастье!))))) И полегчало сразу, и спина перестала болеть, и сразу такая гармония наступила!!! Вот что омега-3,6 животворящая может с человеком сделать! Прямо осчастливливает сразу!!!))))😁🤣🤣\n",
    "Да здравствует Лосось!!!!😁😍😁'''\n",
    "\n",
    "print(sent_tokenize(raw))"
   ]
  },
  {
   "cell_type": "code",
   "execution_count": 5,
   "id": "22380a2e-5475-4c08-98e1-9131ba82ee03",
   "metadata": {},
   "outputs": [
    {
     "name": "stdout",
     "output_type": "stream",
     "text": [
      "['Классная', 'история', '!', 'Браво', '!', '!', '!', 'А', 'я', 'вот', 'вчера', ',', 'после', 'охрененно', 'тяжёлого', 'рабочего', 'дня', 'зашла', 'в', 'магаз', ',', 'купила', 'филе', 'лосося', 'и', 'дома', 'на', 'чиабатту', 'с', 'оливковым', 'маслом', 'и', 'помидорами', 'под', 'красное', 'вино', 'кааак', 'съела', '!', 'И', 'было', 'мне', 'счастье', '!', ')', ')', ')', ')', ')', 'И', 'полегчало', 'сразу', ',', 'и', 'спина', 'перестала', 'болеть', ',', 'и', 'сразу', 'такая', 'гармония', 'наступила', '!', '!', '!', 'Вот', 'что', 'омега-3,6', 'животворящая', 'может', 'с', 'человеком', 'сделать', '!', 'Прямо', 'осчастливливает', 'сразу', '!', '!', '!', ')', ')', ')', ')', '😁🤣🤣', 'Да', 'здравствует', 'Лосось', '!', '!', '!', '!', '😁😍😁']\n"
     ]
    }
   ],
   "source": [
    "print(word_tokenize(raw))"
   ]
  },
  {
   "cell_type": "code",
   "execution_count": 6,
   "id": "e76d3490-0f50-4252-bd56-0cf24d068ed2",
   "metadata": {},
   "outputs": [
    {
     "data": {
      "text/plain": [
       "['Классная история!',\n",
       " 'Браво!!!',\n",
       " 'А я вот вчера, после охрененно тяжёлого рабочего дня зашла в магаз, купила филе лосося и дома на чиабатту с оливковым маслом и помидорами под красное вино кааак съела!',\n",
       " 'И было мне счастье!))))) И полегчало сразу, и спина перестала болеть, и сразу такая гармония наступила!!!',\n",
       " 'Вот что омега-3,6 животворящая может с человеком сделать!',\n",
       " 'Прямо осчастливливает сразу!!!))))😁🤣🤣\\nДа здравствует Лосось!!!!😁😍😁']"
      ]
     },
     "execution_count": 6,
     "metadata": {},
     "output_type": "execute_result"
    }
   ],
   "source": [
    "from rusenttokenize import ru_sent_tokenize\n",
    "sents = ru_sent_tokenize(raw)\n",
    "\n",
    "sents"
   ]
  },
  {
   "cell_type": "code",
   "execution_count": 7,
   "id": "84fe19c2-ef44-4312-b57d-68d5b10ae14a",
   "metadata": {},
   "outputs": [
    {
     "data": {
      "text/plain": [
       "['Классная история!',\n",
       " 'Браво!!!',\n",
       " 'А я вот вчера, после охрененно тяжёлого рабочего дня зашла в магаз, купила филе лосося и дома на чиабатту с оливковым маслом и помидорами под красное вино кааак съела!',\n",
       " 'И было мне счастье!))))) И полегчало сразу, и спина перестала болеть, и сразу такая гармония наступила!!!',\n",
       " 'Вот что омега-3,6 животворящая может с человеком сделать!',\n",
       " 'Прямо осчастливливает сразу!!!))))😁🤣🤣\\nДа здравствует Лосось!!!!😁😍😁']"
      ]
     },
     "execution_count": 7,
     "metadata": {},
     "output_type": "execute_result"
    }
   ],
   "source": [
    "from razdel import sentenize\n",
    "sents = [s.text for s in sentenize(raw)]\n",
    "\n",
    "sents"
   ]
  },
  {
   "cell_type": "code",
   "execution_count": 8,
   "id": "39d80abd-6f5c-426b-acf7-355bca646d59",
   "metadata": {},
   "outputs": [],
   "source": [
    "import spacy\n",
    "nlp = spacy.load('ru_core_news_sm')"
   ]
  },
  {
   "cell_type": "code",
   "execution_count": 9,
   "id": "95ca85af-dd88-477b-ba77-b5c3f83fceeb",
   "metadata": {},
   "outputs": [
    {
     "data": {
      "text/plain": [
       "['Классная',\n",
       " 'история',\n",
       " '!',\n",
       " 'Браво',\n",
       " '!',\n",
       " '!',\n",
       " '!',\n",
       " '\\n',\n",
       " 'А',\n",
       " 'я',\n",
       " 'вот',\n",
       " 'вчера',\n",
       " ',',\n",
       " 'после',\n",
       " 'охрененно',\n",
       " 'тяжёлого',\n",
       " 'рабочего',\n",
       " 'дня',\n",
       " 'зашла',\n",
       " 'в',\n",
       " 'магаз',\n",
       " ',',\n",
       " 'купила',\n",
       " 'филе',\n",
       " 'лосося',\n",
       " 'и',\n",
       " 'дома',\n",
       " 'на',\n",
       " 'чиабатту',\n",
       " 'с',\n",
       " 'оливковым',\n",
       " 'маслом',\n",
       " 'и',\n",
       " 'помидорами',\n",
       " 'под',\n",
       " 'красное',\n",
       " 'вино',\n",
       " 'кааак',\n",
       " 'съела',\n",
       " '!',\n",
       " 'И',\n",
       " 'было',\n",
       " 'мне',\n",
       " 'счастье',\n",
       " '!',\n",
       " ')',\n",
       " ')',\n",
       " ')',\n",
       " ')',\n",
       " ')',\n",
       " 'И',\n",
       " 'полегчало',\n",
       " 'сразу',\n",
       " ',',\n",
       " 'и',\n",
       " 'спина',\n",
       " 'перестала',\n",
       " 'болеть',\n",
       " ',',\n",
       " 'и',\n",
       " 'сразу',\n",
       " 'такая',\n",
       " 'гармония',\n",
       " 'наступила',\n",
       " '!',\n",
       " '!',\n",
       " '!',\n",
       " 'Вот',\n",
       " 'что',\n",
       " 'омега-3,6',\n",
       " 'животворящая',\n",
       " 'может',\n",
       " 'с',\n",
       " 'человеком',\n",
       " 'сделать',\n",
       " '!',\n",
       " 'Прямо',\n",
       " 'осчастливливает',\n",
       " 'сразу',\n",
       " '!',\n",
       " '!',\n",
       " '!',\n",
       " ')',\n",
       " ')',\n",
       " ')',\n",
       " ')',\n",
       " '😁',\n",
       " '🤣',\n",
       " '🤣',\n",
       " '\\n',\n",
       " 'Да',\n",
       " 'здравствует',\n",
       " 'Лосось',\n",
       " '!',\n",
       " '!',\n",
       " '!',\n",
       " '!',\n",
       " '😁',\n",
       " '😍',\n",
       " '😁']"
      ]
     },
     "execution_count": 9,
     "metadata": {},
     "output_type": "execute_result"
    }
   ],
   "source": [
    "doc = nlp(raw)  \n",
    "tokens = [token.text for token in doc]\n",
    "tokens"
   ]
  },
  {
   "cell_type": "markdown",
   "id": "c1ae84a8-c09c-4911-b83f-cbab1e1c5473",
   "metadata": {},
   "source": [
    "SEM 4 TASK 2\n",
    "Посчитайте лексическое разнообразие по леммам по формуле *количество уникальных лемм / общее количество всех слов * 100*."
   ]
  },
  {
   "cell_type": "code",
   "execution_count": 12,
   "id": "189e50ac-ff5f-4258-bf9d-83255f52bf24",
   "metadata": {},
   "outputs": [
    {
     "name": "stdout",
     "output_type": "stream",
     "text": [
      "Лексическое разнообразие по леммам: 16.09%\n"
     ]
    }
   ],
   "source": [
    "with open('Янь Мо. Устал рождаться и умирать.txt', 'r', encoding='utf-8') as file:\n",
    "    text = file.read()\n",
    "words = word_tokenize(text, language = 'russian')\n",
    "\n",
    "lemmatizer = WordNetLemmatizer()\n",
    "lemmas = [lemmatizer.lemmatize(word) for word in words]\n",
    "\n",
    "unique_lemmas = set(lemmas)\n",
    "unique_lemmas_count = len(unique_lemmas)\n",
    "\n",
    "words_count = len(words)\n",
    "\n",
    "lexical_diversity = (unique_lemmas_count / words_count) * 100\n",
    "\n",
    "print(\"Лексическое разнообразие по леммам: {:.2f}%\".format(lexical_diversity))"
   ]
  },
  {
   "cell_type": "code",
   "execution_count": 13,
   "id": "79251823-721e-4f7c-9fb8-4d6860338fac",
   "metadata": {},
   "outputs": [],
   "source": [
    "file.close()"
   ]
  },
  {
   "cell_type": "markdown",
   "id": "36e62c21-f237-4d62-8762-1629daace1d5",
   "metadata": {},
   "source": [
    "SEM 4 TASK 3\n",
    "Возьмите текст на любом языке, модель для которого есть в UD. Создайте с помощью их сайта файл .conllu с разбором. С помощью питона посчитайте частотность лемм в этом тексте (т.е. текст вида \"Saat beşi beş geçe\" должен вернуть словарь-счетчик 'saat': 1, 'beş': 2, 'geçe': 1)."
   ]
  },
  {
   "cell_type": "code",
   "execution_count": 14,
   "id": "b4da91bf-80ae-4db8-9f6b-d29c8baeda52",
   "metadata": {},
   "outputs": [],
   "source": [
    "from conllu import parse"
   ]
  },
  {
   "cell_type": "code",
   "execution_count": 16,
   "id": "e279b56e-539a-44a5-98e1-8ff59bd00d91",
   "metadata": {},
   "outputs": [
    {
     "name": "stdout",
     "output_type": "stream",
     "text": [
      "Downloaded pre-trained UDPipe model for 'it' language\n"
     ]
    }
   ],
   "source": [
    "import spacy_udpipe\n",
    "\n",
    "spacy_udpipe.download(\"it\")\n",
    "nlp = spacy_udpipe.load(\"it\")"
   ]
  },
  {
   "cell_type": "code",
   "execution_count": 24,
   "id": "79481bc9-58e7-4f6f-af5a-335ff72c3543",
   "metadata": {},
   "outputs": [],
   "source": [
    "with open('italian.conllu', 'w', encoding='utf-8') as output_file:\n",
    "    text = '''Nelle megalopoli i geografi riconoscono qualità urbane molto più evolute, \n",
    "derivanti dalla grandissima concentrazione di funzioni e azioni sempre più specializzate. \n",
    "Nella definizione originaria di Gottmann, essa ha una struttura polinucleare con una popolazione complessiva di almeno 20 milioni di abitanti e non presuppone un continuum edificato, \n",
    "ma comprende al proprio interno anche aree agricole e foreste.'''\n",
    "    doc = nlp(text)\n",
    "    for token in doc:\n",
    "            output_file.write(f'{token.i:7}{token.text:15}{token.lemma_:15}{token.pos_:6}{token.dep_:9}{token.head.text}')\n"
   ]
  },
  {
   "cell_type": "code",
   "execution_count": 21,
   "id": "b7f56578-986a-45dd-8dca-cbb331d7a888",
   "metadata": {},
   "outputs": [
    {
     "name": "stdout",
     "output_type": "stream",
     "text": [
      "{'il': 5, 'di': 4, ',': 3, 'e': 3, 'uno': 3, 'in': 2, 'più': 2, '.': 2, 'megalopoli': 1, 'geografo': 1, 'riconoscere': 1, 'qualità': 1, 'urbano': 1, 'molto': 1, 'evoluto': 1, 'derivare': 1, 'da': 1, 'grande': 1, 'concentrazione': 1, 'funzione': 1, 'azione': 1, 'sempre': 1, 'specializzato': 1, 'definizione': 1, 'originario': 1, 'Gottmann': 1, 'esso': 1, 'avere': 1, 'struttura': 1, 'polinucleare': 1, 'con': 1, 'popolazione': 1, 'complessivo': 1, 'almeno': 1, '20': 1, 'milione': 1, 'abitante': 1, 'non': 1, 'presupporre': 1, 'continuum': 1, 'edificato': 1, 'ma': 1, 'comprendere': 1, 'a': 1, 'proprio': 1, 'interno': 1, 'anche': 1, 'area': 1, 'agricolo': 1, 'foresta': 1}\n"
     ]
    }
   ],
   "source": [
    "import collections\n",
    "from collections import Counter\n",
    "\n",
    "all_lems = []\n",
    "for token in doc:\n",
    "    all_lems.append(token.lemma_)\n",
    "\n",
    "frequency = collections.Counter(all_lems)\n",
    "frequency_dict = dict(frequency)\n",
    "sorted_dict = {k: v for k, v in sorted(frequency_dict.items(), key=lambda item: item[1], reverse=True)}\n",
    "\n",
    "print(sorted_dict)"
   ]
  },
  {
   "cell_type": "markdown",
   "id": "71bd3088-3e18-45b5-8662-b3e3b6206a41",
   "metadata": {},
   "source": [
    "SEM 4 TASK 4\n",
    "Постройте графическое дерево"
   ]
  },
  {
   "cell_type": "code",
   "execution_count": 22,
   "id": "3986c240-a5f5-4b52-99d8-106cbbbc1c7a",
   "metadata": {},
   "outputs": [
    {
     "data": {
      "text/html": [
       "<span class=\"tex2jax_ignore\"><svg xmlns=\"http://www.w3.org/2000/svg\" xmlns:xlink=\"http://www.w3.org/1999/xlink\" xml:lang=\"it\" id=\"3c6c3da01d36447aa0d7478c1f1ac020-0\" class=\"displacy\" width=\"2350\" height=\"337.0\" direction=\"ltr\" style=\"max-width: none; height: 337.0px; color: #000000; background: #ffffff; font-family: Arial; direction: ltr\">\n",
       "<text class=\"displacy-token\" fill=\"currentColor\" text-anchor=\"middle\" y=\"247.0\">\n",
       "    <tspan class=\"displacy-word\" fill=\"currentColor\" x=\"50\">In</tspan>\n",
       "    <tspan class=\"displacy-tag\" dy=\"2em\" fill=\"currentColor\" x=\"50\">ADP</tspan>\n",
       "</text>\n",
       "\n",
       "<text class=\"displacy-token\" fill=\"currentColor\" text-anchor=\"middle\" y=\"247.0\">\n",
       "    <tspan class=\"displacy-word\" fill=\"currentColor\" x=\"150\">le</tspan>\n",
       "    <tspan class=\"displacy-tag\" dy=\"2em\" fill=\"currentColor\" x=\"150\">DET</tspan>\n",
       "</text>\n",
       "\n",
       "<text class=\"displacy-token\" fill=\"currentColor\" text-anchor=\"middle\" y=\"247.0\">\n",
       "    <tspan class=\"displacy-word\" fill=\"currentColor\" x=\"250\">megalopoli</tspan>\n",
       "    <tspan class=\"displacy-tag\" dy=\"2em\" fill=\"currentColor\" x=\"250\">NOUN</tspan>\n",
       "</text>\n",
       "\n",
       "<text class=\"displacy-token\" fill=\"currentColor\" text-anchor=\"middle\" y=\"247.0\">\n",
       "    <tspan class=\"displacy-word\" fill=\"currentColor\" x=\"350\">i</tspan>\n",
       "    <tspan class=\"displacy-tag\" dy=\"2em\" fill=\"currentColor\" x=\"350\">DET</tspan>\n",
       "</text>\n",
       "\n",
       "<text class=\"displacy-token\" fill=\"currentColor\" text-anchor=\"middle\" y=\"247.0\">\n",
       "    <tspan class=\"displacy-word\" fill=\"currentColor\" x=\"450\">geografi</tspan>\n",
       "    <tspan class=\"displacy-tag\" dy=\"2em\" fill=\"currentColor\" x=\"450\">NOUN</tspan>\n",
       "</text>\n",
       "\n",
       "<text class=\"displacy-token\" fill=\"currentColor\" text-anchor=\"middle\" y=\"247.0\">\n",
       "    <tspan class=\"displacy-word\" fill=\"currentColor\" x=\"550\">riconoscono</tspan>\n",
       "    <tspan class=\"displacy-tag\" dy=\"2em\" fill=\"currentColor\" x=\"550\">VERB</tspan>\n",
       "</text>\n",
       "\n",
       "<text class=\"displacy-token\" fill=\"currentColor\" text-anchor=\"middle\" y=\"247.0\">\n",
       "    <tspan class=\"displacy-word\" fill=\"currentColor\" x=\"650\">qualità</tspan>\n",
       "    <tspan class=\"displacy-tag\" dy=\"2em\" fill=\"currentColor\" x=\"650\">NOUN</tspan>\n",
       "</text>\n",
       "\n",
       "<text class=\"displacy-token\" fill=\"currentColor\" text-anchor=\"middle\" y=\"247.0\">\n",
       "    <tspan class=\"displacy-word\" fill=\"currentColor\" x=\"750\">urbane</tspan>\n",
       "    <tspan class=\"displacy-tag\" dy=\"2em\" fill=\"currentColor\" x=\"750\">ADJ</tspan>\n",
       "</text>\n",
       "\n",
       "<text class=\"displacy-token\" fill=\"currentColor\" text-anchor=\"middle\" y=\"247.0\">\n",
       "    <tspan class=\"displacy-word\" fill=\"currentColor\" x=\"850\">molto</tspan>\n",
       "    <tspan class=\"displacy-tag\" dy=\"2em\" fill=\"currentColor\" x=\"850\">ADV</tspan>\n",
       "</text>\n",
       "\n",
       "<text class=\"displacy-token\" fill=\"currentColor\" text-anchor=\"middle\" y=\"247.0\">\n",
       "    <tspan class=\"displacy-word\" fill=\"currentColor\" x=\"950\">più</tspan>\n",
       "    <tspan class=\"displacy-tag\" dy=\"2em\" fill=\"currentColor\" x=\"950\">ADV</tspan>\n",
       "</text>\n",
       "\n",
       "<text class=\"displacy-token\" fill=\"currentColor\" text-anchor=\"middle\" y=\"247.0\">\n",
       "    <tspan class=\"displacy-word\" fill=\"currentColor\" x=\"1050\">evolute,</tspan>\n",
       "    <tspan class=\"displacy-tag\" dy=\"2em\" fill=\"currentColor\" x=\"1050\">ADJ</tspan>\n",
       "</text>\n",
       "\n",
       "<text class=\"displacy-token\" fill=\"currentColor\" text-anchor=\"middle\" y=\"247.0\">\n",
       "    <tspan class=\"displacy-word\" fill=\"currentColor\" x=\"1150\">derivanti</tspan>\n",
       "    <tspan class=\"displacy-tag\" dy=\"2em\" fill=\"currentColor\" x=\"1150\">VERB</tspan>\n",
       "</text>\n",
       "\n",
       "<text class=\"displacy-token\" fill=\"currentColor\" text-anchor=\"middle\" y=\"247.0\">\n",
       "    <tspan class=\"displacy-word\" fill=\"currentColor\" x=\"1250\">da</tspan>\n",
       "    <tspan class=\"displacy-tag\" dy=\"2em\" fill=\"currentColor\" x=\"1250\">ADP</tspan>\n",
       "</text>\n",
       "\n",
       "<text class=\"displacy-token\" fill=\"currentColor\" text-anchor=\"middle\" y=\"247.0\">\n",
       "    <tspan class=\"displacy-word\" fill=\"currentColor\" x=\"1350\">la</tspan>\n",
       "    <tspan class=\"displacy-tag\" dy=\"2em\" fill=\"currentColor\" x=\"1350\">DET</tspan>\n",
       "</text>\n",
       "\n",
       "<text class=\"displacy-token\" fill=\"currentColor\" text-anchor=\"middle\" y=\"247.0\">\n",
       "    <tspan class=\"displacy-word\" fill=\"currentColor\" x=\"1450\">grandissima</tspan>\n",
       "    <tspan class=\"displacy-tag\" dy=\"2em\" fill=\"currentColor\" x=\"1450\">ADJ</tspan>\n",
       "</text>\n",
       "\n",
       "<text class=\"displacy-token\" fill=\"currentColor\" text-anchor=\"middle\" y=\"247.0\">\n",
       "    <tspan class=\"displacy-word\" fill=\"currentColor\" x=\"1550\">concentrazione</tspan>\n",
       "    <tspan class=\"displacy-tag\" dy=\"2em\" fill=\"currentColor\" x=\"1550\">NOUN</tspan>\n",
       "</text>\n",
       "\n",
       "<text class=\"displacy-token\" fill=\"currentColor\" text-anchor=\"middle\" y=\"247.0\">\n",
       "    <tspan class=\"displacy-word\" fill=\"currentColor\" x=\"1650\">di</tspan>\n",
       "    <tspan class=\"displacy-tag\" dy=\"2em\" fill=\"currentColor\" x=\"1650\">ADP</tspan>\n",
       "</text>\n",
       "\n",
       "<text class=\"displacy-token\" fill=\"currentColor\" text-anchor=\"middle\" y=\"247.0\">\n",
       "    <tspan class=\"displacy-word\" fill=\"currentColor\" x=\"1750\">funzioni</tspan>\n",
       "    <tspan class=\"displacy-tag\" dy=\"2em\" fill=\"currentColor\" x=\"1750\">NOUN</tspan>\n",
       "</text>\n",
       "\n",
       "<text class=\"displacy-token\" fill=\"currentColor\" text-anchor=\"middle\" y=\"247.0\">\n",
       "    <tspan class=\"displacy-word\" fill=\"currentColor\" x=\"1850\">e</tspan>\n",
       "    <tspan class=\"displacy-tag\" dy=\"2em\" fill=\"currentColor\" x=\"1850\">CCONJ</tspan>\n",
       "</text>\n",
       "\n",
       "<text class=\"displacy-token\" fill=\"currentColor\" text-anchor=\"middle\" y=\"247.0\">\n",
       "    <tspan class=\"displacy-word\" fill=\"currentColor\" x=\"1950\">azioni</tspan>\n",
       "    <tspan class=\"displacy-tag\" dy=\"2em\" fill=\"currentColor\" x=\"1950\">NOUN</tspan>\n",
       "</text>\n",
       "\n",
       "<text class=\"displacy-token\" fill=\"currentColor\" text-anchor=\"middle\" y=\"247.0\">\n",
       "    <tspan class=\"displacy-word\" fill=\"currentColor\" x=\"2050\">sempre</tspan>\n",
       "    <tspan class=\"displacy-tag\" dy=\"2em\" fill=\"currentColor\" x=\"2050\">ADV</tspan>\n",
       "</text>\n",
       "\n",
       "<text class=\"displacy-token\" fill=\"currentColor\" text-anchor=\"middle\" y=\"247.0\">\n",
       "    <tspan class=\"displacy-word\" fill=\"currentColor\" x=\"2150\">più</tspan>\n",
       "    <tspan class=\"displacy-tag\" dy=\"2em\" fill=\"currentColor\" x=\"2150\">ADV</tspan>\n",
       "</text>\n",
       "\n",
       "<text class=\"displacy-token\" fill=\"currentColor\" text-anchor=\"middle\" y=\"247.0\">\n",
       "    <tspan class=\"displacy-word\" fill=\"currentColor\" x=\"2250\">specializzate.</tspan>\n",
       "    <tspan class=\"displacy-tag\" dy=\"2em\" fill=\"currentColor\" x=\"2250\">ADJ</tspan>\n",
       "</text>\n",
       "\n",
       "<g class=\"displacy-arrow\">\n",
       "    <path class=\"displacy-arc\" id=\"arrow-3c6c3da01d36447aa0d7478c1f1ac020-0-0\" stroke-width=\"2px\" d=\"M62,202.0 62,168.66666666666666 244.0,168.66666666666666 244.0,202.0\" fill=\"none\" stroke=\"currentColor\"/>\n",
       "    <text dy=\"1.25em\" style=\"font-size: 0.8em; letter-spacing: 1px\">\n",
       "        <textPath xlink:href=\"#arrow-3c6c3da01d36447aa0d7478c1f1ac020-0-0\" class=\"displacy-label\" startOffset=\"50%\" side=\"left\" fill=\"currentColor\" text-anchor=\"middle\">case</textPath>\n",
       "    </text>\n",
       "    <path class=\"displacy-arrowhead\" d=\"M62,204.0 L58,196.0 66,196.0\" fill=\"currentColor\"/>\n",
       "</g>\n",
       "\n",
       "<g class=\"displacy-arrow\">\n",
       "    <path class=\"displacy-arc\" id=\"arrow-3c6c3da01d36447aa0d7478c1f1ac020-0-1\" stroke-width=\"2px\" d=\"M162,202.0 162,185.33333333333334 241.0,185.33333333333334 241.0,202.0\" fill=\"none\" stroke=\"currentColor\"/>\n",
       "    <text dy=\"1.25em\" style=\"font-size: 0.8em; letter-spacing: 1px\">\n",
       "        <textPath xlink:href=\"#arrow-3c6c3da01d36447aa0d7478c1f1ac020-0-1\" class=\"displacy-label\" startOffset=\"50%\" side=\"left\" fill=\"currentColor\" text-anchor=\"middle\">det</textPath>\n",
       "    </text>\n",
       "    <path class=\"displacy-arrowhead\" d=\"M162,204.0 L158,196.0 166,196.0\" fill=\"currentColor\"/>\n",
       "</g>\n",
       "\n",
       "<g class=\"displacy-arrow\">\n",
       "    <path class=\"displacy-arc\" id=\"arrow-3c6c3da01d36447aa0d7478c1f1ac020-0-2\" stroke-width=\"2px\" d=\"M262,202.0 262,168.66666666666666 544.0,168.66666666666666 544.0,202.0\" fill=\"none\" stroke=\"currentColor\"/>\n",
       "    <text dy=\"1.25em\" style=\"font-size: 0.8em; letter-spacing: 1px\">\n",
       "        <textPath xlink:href=\"#arrow-3c6c3da01d36447aa0d7478c1f1ac020-0-2\" class=\"displacy-label\" startOffset=\"50%\" side=\"left\" fill=\"currentColor\" text-anchor=\"middle\">obl</textPath>\n",
       "    </text>\n",
       "    <path class=\"displacy-arrowhead\" d=\"M262,204.0 L258,196.0 266,196.0\" fill=\"currentColor\"/>\n",
       "</g>\n",
       "\n",
       "<g class=\"displacy-arrow\">\n",
       "    <path class=\"displacy-arc\" id=\"arrow-3c6c3da01d36447aa0d7478c1f1ac020-0-3\" stroke-width=\"2px\" d=\"M362,202.0 362,185.33333333333334 441.0,185.33333333333334 441.0,202.0\" fill=\"none\" stroke=\"currentColor\"/>\n",
       "    <text dy=\"1.25em\" style=\"font-size: 0.8em; letter-spacing: 1px\">\n",
       "        <textPath xlink:href=\"#arrow-3c6c3da01d36447aa0d7478c1f1ac020-0-3\" class=\"displacy-label\" startOffset=\"50%\" side=\"left\" fill=\"currentColor\" text-anchor=\"middle\">det</textPath>\n",
       "    </text>\n",
       "    <path class=\"displacy-arrowhead\" d=\"M362,204.0 L358,196.0 366,196.0\" fill=\"currentColor\"/>\n",
       "</g>\n",
       "\n",
       "<g class=\"displacy-arrow\">\n",
       "    <path class=\"displacy-arc\" id=\"arrow-3c6c3da01d36447aa0d7478c1f1ac020-0-4\" stroke-width=\"2px\" d=\"M462,202.0 462,185.33333333333334 541.0,185.33333333333334 541.0,202.0\" fill=\"none\" stroke=\"currentColor\"/>\n",
       "    <text dy=\"1.25em\" style=\"font-size: 0.8em; letter-spacing: 1px\">\n",
       "        <textPath xlink:href=\"#arrow-3c6c3da01d36447aa0d7478c1f1ac020-0-4\" class=\"displacy-label\" startOffset=\"50%\" side=\"left\" fill=\"currentColor\" text-anchor=\"middle\">nsubj</textPath>\n",
       "    </text>\n",
       "    <path class=\"displacy-arrowhead\" d=\"M462,204.0 L458,196.0 466,196.0\" fill=\"currentColor\"/>\n",
       "</g>\n",
       "\n",
       "<g class=\"displacy-arrow\">\n",
       "    <path class=\"displacy-arc\" id=\"arrow-3c6c3da01d36447aa0d7478c1f1ac020-0-5\" stroke-width=\"2px\" d=\"M562,202.0 562,185.33333333333334 641.0,185.33333333333334 641.0,202.0\" fill=\"none\" stroke=\"currentColor\"/>\n",
       "    <text dy=\"1.25em\" style=\"font-size: 0.8em; letter-spacing: 1px\">\n",
       "        <textPath xlink:href=\"#arrow-3c6c3da01d36447aa0d7478c1f1ac020-0-5\" class=\"displacy-label\" startOffset=\"50%\" side=\"left\" fill=\"currentColor\" text-anchor=\"middle\">obj</textPath>\n",
       "    </text>\n",
       "    <path class=\"displacy-arrowhead\" d=\"M641.0,204.0 L645.0,196.0 637.0,196.0\" fill=\"currentColor\"/>\n",
       "</g>\n",
       "\n",
       "<g class=\"displacy-arrow\">\n",
       "    <path class=\"displacy-arc\" id=\"arrow-3c6c3da01d36447aa0d7478c1f1ac020-0-6\" stroke-width=\"2px\" d=\"M662,202.0 662,185.33333333333334 741.0,185.33333333333334 741.0,202.0\" fill=\"none\" stroke=\"currentColor\"/>\n",
       "    <text dy=\"1.25em\" style=\"font-size: 0.8em; letter-spacing: 1px\">\n",
       "        <textPath xlink:href=\"#arrow-3c6c3da01d36447aa0d7478c1f1ac020-0-6\" class=\"displacy-label\" startOffset=\"50%\" side=\"left\" fill=\"currentColor\" text-anchor=\"middle\">amod</textPath>\n",
       "    </text>\n",
       "    <path class=\"displacy-arrowhead\" d=\"M741.0,204.0 L745.0,196.0 737.0,196.0\" fill=\"currentColor\"/>\n",
       "</g>\n",
       "\n",
       "<g class=\"displacy-arrow\">\n",
       "    <path class=\"displacy-arc\" id=\"arrow-3c6c3da01d36447aa0d7478c1f1ac020-0-7\" stroke-width=\"2px\" d=\"M862,202.0 862,185.33333333333334 941.0,185.33333333333334 941.0,202.0\" fill=\"none\" stroke=\"currentColor\"/>\n",
       "    <text dy=\"1.25em\" style=\"font-size: 0.8em; letter-spacing: 1px\">\n",
       "        <textPath xlink:href=\"#arrow-3c6c3da01d36447aa0d7478c1f1ac020-0-7\" class=\"displacy-label\" startOffset=\"50%\" side=\"left\" fill=\"currentColor\" text-anchor=\"middle\">advmod</textPath>\n",
       "    </text>\n",
       "    <path class=\"displacy-arrowhead\" d=\"M862,204.0 L858,196.0 866,196.0\" fill=\"currentColor\"/>\n",
       "</g>\n",
       "\n",
       "<g class=\"displacy-arrow\">\n",
       "    <path class=\"displacy-arc\" id=\"arrow-3c6c3da01d36447aa0d7478c1f1ac020-0-8\" stroke-width=\"2px\" d=\"M962,202.0 962,185.33333333333334 1041.0,185.33333333333334 1041.0,202.0\" fill=\"none\" stroke=\"currentColor\"/>\n",
       "    <text dy=\"1.25em\" style=\"font-size: 0.8em; letter-spacing: 1px\">\n",
       "        <textPath xlink:href=\"#arrow-3c6c3da01d36447aa0d7478c1f1ac020-0-8\" class=\"displacy-label\" startOffset=\"50%\" side=\"left\" fill=\"currentColor\" text-anchor=\"middle\">advmod</textPath>\n",
       "    </text>\n",
       "    <path class=\"displacy-arrowhead\" d=\"M962,204.0 L958,196.0 966,196.0\" fill=\"currentColor\"/>\n",
       "</g>\n",
       "\n",
       "<g class=\"displacy-arrow\">\n",
       "    <path class=\"displacy-arc\" id=\"arrow-3c6c3da01d36447aa0d7478c1f1ac020-0-9\" stroke-width=\"2px\" d=\"M662,202.0 662,168.66666666666666 1044.0,168.66666666666666 1044.0,202.0\" fill=\"none\" stroke=\"currentColor\"/>\n",
       "    <text dy=\"1.25em\" style=\"font-size: 0.8em; letter-spacing: 1px\">\n",
       "        <textPath xlink:href=\"#arrow-3c6c3da01d36447aa0d7478c1f1ac020-0-9\" class=\"displacy-label\" startOffset=\"50%\" side=\"left\" fill=\"currentColor\" text-anchor=\"middle\">amod</textPath>\n",
       "    </text>\n",
       "    <path class=\"displacy-arrowhead\" d=\"M1044.0,204.0 L1048.0,196.0 1040.0,196.0\" fill=\"currentColor\"/>\n",
       "</g>\n",
       "\n",
       "<g class=\"displacy-arrow\">\n",
       "    <path class=\"displacy-arc\" id=\"arrow-3c6c3da01d36447aa0d7478c1f1ac020-0-10\" stroke-width=\"2px\" d=\"M662,202.0 662,152.0 1147.0,152.0 1147.0,202.0\" fill=\"none\" stroke=\"currentColor\"/>\n",
       "    <text dy=\"1.25em\" style=\"font-size: 0.8em; letter-spacing: 1px\">\n",
       "        <textPath xlink:href=\"#arrow-3c6c3da01d36447aa0d7478c1f1ac020-0-10\" class=\"displacy-label\" startOffset=\"50%\" side=\"left\" fill=\"currentColor\" text-anchor=\"middle\">acl</textPath>\n",
       "    </text>\n",
       "    <path class=\"displacy-arrowhead\" d=\"M1147.0,204.0 L1151.0,196.0 1143.0,196.0\" fill=\"currentColor\"/>\n",
       "</g>\n",
       "\n",
       "<g class=\"displacy-arrow\">\n",
       "    <path class=\"displacy-arc\" id=\"arrow-3c6c3da01d36447aa0d7478c1f1ac020-0-11\" stroke-width=\"2px\" d=\"M1262,202.0 1262,152.0 1547.0,152.0 1547.0,202.0\" fill=\"none\" stroke=\"currentColor\"/>\n",
       "    <text dy=\"1.25em\" style=\"font-size: 0.8em; letter-spacing: 1px\">\n",
       "        <textPath xlink:href=\"#arrow-3c6c3da01d36447aa0d7478c1f1ac020-0-11\" class=\"displacy-label\" startOffset=\"50%\" side=\"left\" fill=\"currentColor\" text-anchor=\"middle\">case</textPath>\n",
       "    </text>\n",
       "    <path class=\"displacy-arrowhead\" d=\"M1262,204.0 L1258,196.0 1266,196.0\" fill=\"currentColor\"/>\n",
       "</g>\n",
       "\n",
       "<g class=\"displacy-arrow\">\n",
       "    <path class=\"displacy-arc\" id=\"arrow-3c6c3da01d36447aa0d7478c1f1ac020-0-12\" stroke-width=\"2px\" d=\"M1362,202.0 1362,168.66666666666666 1544.0,168.66666666666666 1544.0,202.0\" fill=\"none\" stroke=\"currentColor\"/>\n",
       "    <text dy=\"1.25em\" style=\"font-size: 0.8em; letter-spacing: 1px\">\n",
       "        <textPath xlink:href=\"#arrow-3c6c3da01d36447aa0d7478c1f1ac020-0-12\" class=\"displacy-label\" startOffset=\"50%\" side=\"left\" fill=\"currentColor\" text-anchor=\"middle\">det</textPath>\n",
       "    </text>\n",
       "    <path class=\"displacy-arrowhead\" d=\"M1362,204.0 L1358,196.0 1366,196.0\" fill=\"currentColor\"/>\n",
       "</g>\n",
       "\n",
       "<g class=\"displacy-arrow\">\n",
       "    <path class=\"displacy-arc\" id=\"arrow-3c6c3da01d36447aa0d7478c1f1ac020-0-13\" stroke-width=\"2px\" d=\"M1462,202.0 1462,185.33333333333334 1541.0,185.33333333333334 1541.0,202.0\" fill=\"none\" stroke=\"currentColor\"/>\n",
       "    <text dy=\"1.25em\" style=\"font-size: 0.8em; letter-spacing: 1px\">\n",
       "        <textPath xlink:href=\"#arrow-3c6c3da01d36447aa0d7478c1f1ac020-0-13\" class=\"displacy-label\" startOffset=\"50%\" side=\"left\" fill=\"currentColor\" text-anchor=\"middle\">amod</textPath>\n",
       "    </text>\n",
       "    <path class=\"displacy-arrowhead\" d=\"M1462,204.0 L1458,196.0 1466,196.0\" fill=\"currentColor\"/>\n",
       "</g>\n",
       "\n",
       "<g class=\"displacy-arrow\">\n",
       "    <path class=\"displacy-arc\" id=\"arrow-3c6c3da01d36447aa0d7478c1f1ac020-0-14\" stroke-width=\"2px\" d=\"M1162,202.0 1162,135.33333333333331 1550.0,135.33333333333331 1550.0,202.0\" fill=\"none\" stroke=\"currentColor\"/>\n",
       "    <text dy=\"1.25em\" style=\"font-size: 0.8em; letter-spacing: 1px\">\n",
       "        <textPath xlink:href=\"#arrow-3c6c3da01d36447aa0d7478c1f1ac020-0-14\" class=\"displacy-label\" startOffset=\"50%\" side=\"left\" fill=\"currentColor\" text-anchor=\"middle\">obl</textPath>\n",
       "    </text>\n",
       "    <path class=\"displacy-arrowhead\" d=\"M1550.0,204.0 L1554.0,196.0 1546.0,196.0\" fill=\"currentColor\"/>\n",
       "</g>\n",
       "\n",
       "<g class=\"displacy-arrow\">\n",
       "    <path class=\"displacy-arc\" id=\"arrow-3c6c3da01d36447aa0d7478c1f1ac020-0-15\" stroke-width=\"2px\" d=\"M1662,202.0 1662,185.33333333333334 1741.0,185.33333333333334 1741.0,202.0\" fill=\"none\" stroke=\"currentColor\"/>\n",
       "    <text dy=\"1.25em\" style=\"font-size: 0.8em; letter-spacing: 1px\">\n",
       "        <textPath xlink:href=\"#arrow-3c6c3da01d36447aa0d7478c1f1ac020-0-15\" class=\"displacy-label\" startOffset=\"50%\" side=\"left\" fill=\"currentColor\" text-anchor=\"middle\">case</textPath>\n",
       "    </text>\n",
       "    <path class=\"displacy-arrowhead\" d=\"M1662,204.0 L1658,196.0 1666,196.0\" fill=\"currentColor\"/>\n",
       "</g>\n",
       "\n",
       "<g class=\"displacy-arrow\">\n",
       "    <path class=\"displacy-arc\" id=\"arrow-3c6c3da01d36447aa0d7478c1f1ac020-0-16\" stroke-width=\"2px\" d=\"M1562,202.0 1562,168.66666666666666 1744.0,168.66666666666666 1744.0,202.0\" fill=\"none\" stroke=\"currentColor\"/>\n",
       "    <text dy=\"1.25em\" style=\"font-size: 0.8em; letter-spacing: 1px\">\n",
       "        <textPath xlink:href=\"#arrow-3c6c3da01d36447aa0d7478c1f1ac020-0-16\" class=\"displacy-label\" startOffset=\"50%\" side=\"left\" fill=\"currentColor\" text-anchor=\"middle\">nmod</textPath>\n",
       "    </text>\n",
       "    <path class=\"displacy-arrowhead\" d=\"M1744.0,204.0 L1748.0,196.0 1740.0,196.0\" fill=\"currentColor\"/>\n",
       "</g>\n",
       "\n",
       "<g class=\"displacy-arrow\">\n",
       "    <path class=\"displacy-arc\" id=\"arrow-3c6c3da01d36447aa0d7478c1f1ac020-0-17\" stroke-width=\"2px\" d=\"M1862,202.0 1862,185.33333333333334 1941.0,185.33333333333334 1941.0,202.0\" fill=\"none\" stroke=\"currentColor\"/>\n",
       "    <text dy=\"1.25em\" style=\"font-size: 0.8em; letter-spacing: 1px\">\n",
       "        <textPath xlink:href=\"#arrow-3c6c3da01d36447aa0d7478c1f1ac020-0-17\" class=\"displacy-label\" startOffset=\"50%\" side=\"left\" fill=\"currentColor\" text-anchor=\"middle\">cc</textPath>\n",
       "    </text>\n",
       "    <path class=\"displacy-arrowhead\" d=\"M1862,204.0 L1858,196.0 1866,196.0\" fill=\"currentColor\"/>\n",
       "</g>\n",
       "\n",
       "<g class=\"displacy-arrow\">\n",
       "    <path class=\"displacy-arc\" id=\"arrow-3c6c3da01d36447aa0d7478c1f1ac020-0-18\" stroke-width=\"2px\" d=\"M1562,202.0 1562,152.0 1947.0,152.0 1947.0,202.0\" fill=\"none\" stroke=\"currentColor\"/>\n",
       "    <text dy=\"1.25em\" style=\"font-size: 0.8em; letter-spacing: 1px\">\n",
       "        <textPath xlink:href=\"#arrow-3c6c3da01d36447aa0d7478c1f1ac020-0-18\" class=\"displacy-label\" startOffset=\"50%\" side=\"left\" fill=\"currentColor\" text-anchor=\"middle\">conj</textPath>\n",
       "    </text>\n",
       "    <path class=\"displacy-arrowhead\" d=\"M1947.0,204.0 L1951.0,196.0 1943.0,196.0\" fill=\"currentColor\"/>\n",
       "</g>\n",
       "\n",
       "<g class=\"displacy-arrow\">\n",
       "    <path class=\"displacy-arc\" id=\"arrow-3c6c3da01d36447aa0d7478c1f1ac020-0-19\" stroke-width=\"2px\" d=\"M2062,202.0 2062,185.33333333333334 2141.0,185.33333333333334 2141.0,202.0\" fill=\"none\" stroke=\"currentColor\"/>\n",
       "    <text dy=\"1.25em\" style=\"font-size: 0.8em; letter-spacing: 1px\">\n",
       "        <textPath xlink:href=\"#arrow-3c6c3da01d36447aa0d7478c1f1ac020-0-19\" class=\"displacy-label\" startOffset=\"50%\" side=\"left\" fill=\"currentColor\" text-anchor=\"middle\">advmod</textPath>\n",
       "    </text>\n",
       "    <path class=\"displacy-arrowhead\" d=\"M2062,204.0 L2058,196.0 2066,196.0\" fill=\"currentColor\"/>\n",
       "</g>\n",
       "\n",
       "<g class=\"displacy-arrow\">\n",
       "    <path class=\"displacy-arc\" id=\"arrow-3c6c3da01d36447aa0d7478c1f1ac020-0-20\" stroke-width=\"2px\" d=\"M2162,202.0 2162,185.33333333333334 2241.0,185.33333333333334 2241.0,202.0\" fill=\"none\" stroke=\"currentColor\"/>\n",
       "    <text dy=\"1.25em\" style=\"font-size: 0.8em; letter-spacing: 1px\">\n",
       "        <textPath xlink:href=\"#arrow-3c6c3da01d36447aa0d7478c1f1ac020-0-20\" class=\"displacy-label\" startOffset=\"50%\" side=\"left\" fill=\"currentColor\" text-anchor=\"middle\">advmod</textPath>\n",
       "    </text>\n",
       "    <path class=\"displacy-arrowhead\" d=\"M2162,204.0 L2158,196.0 2166,196.0\" fill=\"currentColor\"/>\n",
       "</g>\n",
       "\n",
       "<g class=\"displacy-arrow\">\n",
       "    <path class=\"displacy-arc\" id=\"arrow-3c6c3da01d36447aa0d7478c1f1ac020-0-21\" stroke-width=\"2px\" d=\"M1962,202.0 1962,168.66666666666666 2244.0,168.66666666666666 2244.0,202.0\" fill=\"none\" stroke=\"currentColor\"/>\n",
       "    <text dy=\"1.25em\" style=\"font-size: 0.8em; letter-spacing: 1px\">\n",
       "        <textPath xlink:href=\"#arrow-3c6c3da01d36447aa0d7478c1f1ac020-0-21\" class=\"displacy-label\" startOffset=\"50%\" side=\"left\" fill=\"currentColor\" text-anchor=\"middle\">amod</textPath>\n",
       "    </text>\n",
       "    <path class=\"displacy-arrowhead\" d=\"M2244.0,204.0 L2248.0,196.0 2240.0,196.0\" fill=\"currentColor\"/>\n",
       "</g>\n",
       "</svg></span>"
      ],
      "text/plain": [
       "<IPython.core.display.HTML object>"
      ]
     },
     "metadata": {},
     "output_type": "display_data"
    },
    {
     "name": "stdout",
     "output_type": "stream",
     "text": [
      "In in ADP case\n",
      "le il DET det\n",
      "megalopoli megalopoli NOUN obl\n",
      "i il DET det\n",
      "geografi geografo NOUN nsubj\n",
      "riconoscono riconoscere VERB ROOT\n",
      "qualità qualità NOUN obj\n",
      "urbane urbano ADJ amod\n",
      "molto molto ADV advmod\n",
      "più più ADV advmod\n",
      "evolute evoluto ADJ amod\n",
      ", , PUNCT punct\n",
      "derivanti derivare VERB acl\n",
      "da da ADP case\n",
      "la il DET det\n",
      "grandissima grande ADJ amod\n",
      "concentrazione concentrazione NOUN obl\n",
      "di di ADP case\n",
      "funzioni funzione NOUN nmod\n",
      "e e CCONJ cc\n",
      "azioni azione NOUN conj\n",
      "sempre sempre ADV advmod\n",
      "più più ADV advmod\n",
      "specializzate specializzato ADJ amod\n",
      ". . PUNCT punct\n"
     ]
    }
   ],
   "source": [
    "from spacy import displacy\n",
    "\n",
    "\n",
    "text = '''Nelle megalopoli i geografi riconoscono qualità urbane molto più evolute, \n",
    "derivanti dalla grandissima concentrazione di funzioni e azioni sempre più specializzate. '''\n",
    "\n",
    "doc = nlp(text)\n",
    "displacy.render(doc, style=\"dep\", options={\"compact\": True, \"distance\": 100})\n",
    "\n",
    "svg = displacy.render(doc, style=\"dep\", options={\"compact\": True, \"distance\": 100}, jupyter=False)\n",
    "with open(\"tree.svg\", \"w\", encoding=\"utf-8\") as f:\n",
    "    f.write(svg)\n",
    "    \n",
    "    \n",
    "for token in doc:\n",
    "    print(token.text, token.lemma_, token.pos_, token.dep_)"
   ]
  },
  {
   "cell_type": "code",
   "execution_count": null,
   "id": "7c0359d0-b26d-438c-a7f8-c9e6b8a7064c",
   "metadata": {},
   "outputs": [],
   "source": []
  }
 ],
 "metadata": {
  "kernelspec": {
   "display_name": "Python 3 (ipykernel)",
   "language": "python",
   "name": "python3"
  },
  "language_info": {
   "codemirror_mode": {
    "name": "ipython",
    "version": 3
   },
   "file_extension": ".py",
   "mimetype": "text/x-python",
   "name": "python",
   "nbconvert_exporter": "python",
   "pygments_lexer": "ipython3",
   "version": "3.9.13"
  }
 },
 "nbformat": 4,
 "nbformat_minor": 5
}
