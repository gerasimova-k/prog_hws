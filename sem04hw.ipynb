{
 "cells": [
  {
   "cell_type": "markdown",
   "id": "b3eaf445-aa1d-485b-b45b-bce9805f5b1d",
   "metadata": {},
   "source": [
    "HW 4 TASK 1\n",
    "\n",
    "Посчитайте, как часто в выбранном вами тексте прилагательное стоит сразу перед существительным, а как часто - наоборот. Достаточно вывести количество вхождений (столько-то раз встретилось прил + сущ, столько-то раз - сущ + прил). Подумайте, насколько можно доверять этим цифрам."
   ]
  },
  {
   "cell_type": "code",
   "execution_count": 2,
   "id": "793786f1-394a-48c3-aa93-c84b0f1ae9f9",
   "metadata": {},
   "outputs": [
    {
     "name": "stdout",
     "output_type": "stream",
     "text": [
      "Already downloaded a model for the 'ru' language\n"
     ]
    }
   ],
   "source": [
    "import spacy\n",
    "import spacy_udpipe\n",
    "\n",
    "spacy_udpipe.download('ru')"
   ]
  },
  {
   "cell_type": "code",
   "execution_count": null,
   "id": "e07953a1-664d-4115-b041-75edbdbfe427",
   "metadata": {},
   "outputs": [],
   "source": [
    "# Сравним качество морфопарсинга, чтобы понимать, каким цифрам больше хочется доверять\n",
    "# Пунктуацию не убрала, чтобы не получились неадекватные словосочетания типа \"берёзки. Буйная\""
   ]
  },
  {
   "cell_type": "code",
   "execution_count": 51,
   "id": "9e74b696-5760-4d76-ad30-eaa6affcc7fb",
   "metadata": {},
   "outputs": [
    {
     "name": "stdout",
     "output_type": "stream",
     "text": [
      "[Маленькие, осинки, ,, буйно, густые, и, лопоухие, ,, однако, ,] ['ADJ', 'NOUN', 'PUNCT', 'ADV', 'ADJ', 'CCONJ', 'ADJ', 'PUNCT', 'ADV', 'PUNCT']\n"
     ]
    }
   ],
   "source": [
    "text = '''Маленькие осинки, буйно густые и лопоухие, однако, побеждают даже траву и вырастают, несмотря ни на что. Когда осинник заглушит траву, тенелюбивая ёлка начинает расти в осиннике, обрастает его, и оттого ель обыкновенно сменяет сосну. \n",
    "На этой вырубке, однако, был смешанный лес, но самое главное, что тут были заболоченные моховые пятна, которые оживились и очень повеселели с тех пор, как лес был вырублен. И вот на этой вырубке теперь можно было прочитать всю жизнь леса, \n",
    "во всем её разнообразии тут был и мох со своими голубыми и красными ягодами, красный мох и зелёный, мелкозвёздчатый и крупный и редкие пятна белого ягеля, со вкраплёнными в него красными брусничинами, ерник. \n",
    "Всюду, возле старых пней, на их чёрном фоне, ярко светились в солнечных лучах молоденькие сосны, и ели, и берёзки. Буйная смена жизни вселяла весёлые надежды, и чёрные пни, эти обнаженные могилы прежних высоких деревьев, \n",
    "вовсе не удручали своим видом, как это бывает на человеческих кладбищах. \n",
    "Дерево умирает по-разному.'''\n",
    "\n",
    "\n",
    "        \n",
    "nlp = spacy_udpipe.load('ru')\n",
    "doc = nlp(text)\n",
    "all_tokens = []\n",
    "all_pos = []\n",
    "for token in doc:\n",
    "    all_tokens.append(token)\n",
    "    all_pos.append(token.pos_)\n",
    "print(all_tokens[:10], all_pos[:10])\n"
   ]
  },
  {
   "cell_type": "code",
   "execution_count": 43,
   "id": "844a703e-5332-4679-a2fc-dbcde1a17e39",
   "metadata": {},
   "outputs": [
    {
     "name": "stdout",
     "output_type": "stream",
     "text": [
      "[(('Маленькие', 'NN'), ('осинки', 'NN')), (('осинки', 'NN'), (',', ',')), ((',', ','), ('буйно', 'NNP')), (('буйно', 'NNP'), ('густые', 'NNP')), (('густые', 'NNP'), ('и', 'NNP')), (('и', 'NNP'), ('лопоухие', 'NNP')), (('лопоухие', 'NNP'), (',', ',')), ((',', ','), ('однако', 'NNP')), (('однако', 'NNP'), (',', ',')), ((',', ','), ('побеждают', 'NNP'))]\n"
     ]
    }
   ],
   "source": [
    "import nltk\n",
    "from nltk import pos_tag, word_tokenize\n",
    "from nltk.util import ngrams\n",
    "\n",
    "txt = pos_tag(word_tokenize(text))\n",
    "all_2_grams = list(ngrams(txt, 2))\n",
    "\n",
    "print(all_2_grams[0:10])"
   ]
  },
  {
   "cell_type": "code",
   "execution_count": null,
   "id": "433c564e-950c-4e45-8eb3-901f532fec76",
   "metadata": {},
   "outputs": [],
   "source": [
    " # SpaCy лучше определяет части речи, поэтому используем его"
   ]
  },
  {
   "cell_type": "code",
   "execution_count": 44,
   "id": "b54a79ad-1da3-47ee-b935-d6def6c10b84",
   "metadata": {},
   "outputs": [
    {
     "name": "stdout",
     "output_type": "stream",
     "text": [
      "NOUN + ADJ: 3\n",
      "ADJ + NOUN: 19\n"
     ]
    }
   ],
   "source": [
    "NN_ind = 0\n",
    "ADJ_ind = 0\n",
    "NN_ADJ = []\n",
    "ADJ_NN = []\n",
    "\n",
    "# 'NOUN' + 'ADJ'\n",
    "\n",
    "for index, elem in enumerate(all_pos):\n",
    "    if elem == 'NOUN':\n",
    "        NN_ind = (int(index))\n",
    "        \n",
    "        ADJ_ind = NN_ind + 1\n",
    "        if all_pos[ADJ_ind] == 'ADJ':\n",
    "            NN_ADJ.append(ADJ_ind)\n",
    "\n",
    "\n",
    "# 'ADJ'+ 'NOUN'\n",
    "\n",
    "for index, elem in enumerate(all_pos):\n",
    "    if elem == 'ADJ':\n",
    "        ADJ_ind = (int(index))\n",
    "        \n",
    "        NN_ind = ADJ_ind + 1\n",
    "        if all_pos[NN_ind] == 'NOUN':\n",
    "            ADJ_NN.append(NN_ind)\n",
    "\n",
    "\n",
    "print(f'NOUN + ADJ: {len(NN_ADJ)}\\nADJ + NOUN: {len(ADJ_NN)}')"
   ]
  },
  {
   "cell_type": "code",
   "execution_count": null,
   "id": "db7d6e85-269a-403f-8f83-892731b6bf80",
   "metadata": {},
   "outputs": [],
   "source": []
  }
 ],
 "metadata": {
  "kernelspec": {
   "display_name": "Python 3 (ipykernel)",
   "language": "python",
   "name": "python3"
  },
  "language_info": {
   "codemirror_mode": {
    "name": "ipython",
    "version": 3
   },
   "file_extension": ".py",
   "mimetype": "text/x-python",
   "name": "python",
   "nbconvert_exporter": "python",
   "pygments_lexer": "ipython3",
   "version": "3.9.13"
  }
 },
 "nbformat": 4,
 "nbformat_minor": 5
}
