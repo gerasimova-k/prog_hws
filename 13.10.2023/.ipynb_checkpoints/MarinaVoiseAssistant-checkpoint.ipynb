{
 "cells": [
  {
   "cell_type": "code",
   "execution_count": 1,
   "id": "b5e64dd6-2c28-4ed8-bccb-2b463c9071f2",
   "metadata": {},
   "outputs": [],
   "source": [
    "import pyaudio\n",
    "import pyttsx3\n",
    "from pydub import AudioSegment\n",
    "from gtts import gTTS\n",
    "import speech_recognition as sr\n",
    "from googletrans import Translator\n",
    "import json\n",
    "import random\n",
    "import re"
   ]
  },
  {
   "cell_type": "code",
   "execution_count": 6,
   "id": "61ad3799-a7c5-49db-8f2a-239a37d2898d",
   "metadata": {},
   "outputs": [
    {
     "name": "stdout",
     "output_type": "stream",
     "text": [
      "Скажите что-нибудь...\n",
      "Марина практика\n",
      "Прочитайте текст:\n",
      "My cat is fat\n",
      "\n",
      "Скажите что-нибудь...\n",
      "My Cat is Fat\n",
      "Вы сказали: My Cat is Fat\n",
      "Правильно!\n",
      "Скажите что-нибудь...\n",
      "Марина Переведи\n"
     ]
    },
    {
     "name": "stdin",
     "output_type": "stream",
     "text": [
      "Введите текст для перевода:  Параход приближался к берегу\n"
     ]
    },
    {
     "name": "stdout",
     "output_type": "stream",
     "text": [
      "Перевод: The pair of paradise was approaching the shore\n",
      "Скажите что-нибудь...\n",
      "да\n",
      "Скажите что-нибудь...\n",
      "Марина Зачитай вслух\n"
     ]
    },
    {
     "name": "stdin",
     "output_type": "stream",
     "text": [
      "Введите текст для озвучивания:  This book is mine\n"
     ]
    },
    {
     "name": "stdout",
     "output_type": "stream",
     "text": [
      "Скажите что-нибудь...\n",
      "Марина Добавь фразу\n"
     ]
    },
    {
     "name": "stdin",
     "output_type": "stream",
     "text": [
      "Введите фразу:  Happy birthday\n"
     ]
    },
    {
     "name": "stdout",
     "output_type": "stream",
     "text": [
      "Добавлено!\n",
      "Скажите что-нибудь...\n",
      "Марина пока\n",
      "Пока!\n"
     ]
    }
   ],
   "source": [
    "class MarinaAssistant:\n",
    "    def __init__(self):\n",
    "        self.recognizer = sr.Recognizer()\n",
    "        self.synthesizer = pyttsx3.init()\n",
    "    \n",
    "    def speech_to_text(self):\n",
    "        # распознаем речь\n",
    "        r = sr.Recognizer()\n",
    "        with sr.Microphone() as source:\n",
    "            print(\"Скажите что-нибудь...\")\n",
    "            audio = r.listen(source)\n",
    "        try:\n",
    "            text = r.recognize_google(audio, language=\"ru-RU\")\n",
    "            print(text)\n",
    "            return text\n",
    "        except sr.UnknownValueError:\n",
    "            print(\"Ошибка распознавания речи\")\n",
    "            return \"\"\n",
    "        except sr.RequestError:\n",
    "            print(\"Ошибка соединения с сервером распознавания речи\")\n",
    "            return \"\"\n",
    "      \n",
    "    def speak(self, text):\n",
    "        # Вывод голоса Марины   \n",
    "        engine = pyttsx3.init()\n",
    "        # Скорость и громкость\n",
    "        engine.setProperty('rate', 150)  # 150 words per minute\n",
    "        engine.setProperty('volume', 0.8)  # 80% volume\n",
    "        # смена голоса в зависимости от языка\n",
    "        voices = engine.getProperty('voices')\n",
    "        in_rus = bool(re.search('[а-яА-Я]', text))\n",
    "        if in_rus:\n",
    "            engine.setProperty('voice', voices[0].id) \n",
    "        if in_rus == False:\n",
    "            engine.setProperty(\"voice\", voices[1].id)\n",
    "\n",
    "        engine.say(text)\n",
    "        engine.runAndWait()\n",
    "\n",
    "\n",
    "    def create_file(self):\n",
    "        # Файл с фразами встроенный\n",
    "        phrases = [\"I’m from Russia\", \"I love you\", \"My cat is fat\", \"This house is red\", \"I go to school\"]\n",
    "        with open(\"phrases.txt\", \"w\") as file:\n",
    "            for phrase in phrases:\n",
    "                file.write(phrase + \"\\n\")\n",
    "        \n",
    "    \n",
    "    def add_phrase(self):\n",
    "        self.speak(\"Хорошо! Введите фразу\")\n",
    "        # Добавить пользовательскую фразу в базу данных\n",
    "        phrase = input(\"Введите фразу: \")\n",
    "        with open(\"phrases.txt\", \"a\") as file:\n",
    "            file.write(phrase + \"\\n\")\n",
    "        print(\"Добавлено!\")\n",
    "\n",
    "    \n",
    "    def practice(self):\n",
    "        # Команда практика\n",
    "        self.speak(\"Прочитайте текст\")\n",
    "        with open(\"phrases.txt\", \"r\") as file:\n",
    "            phrases = file.readlines()\n",
    "        random_phrase = random.choice(phrases)\n",
    "        print(\"Прочитайте текст:\")\n",
    "        print(random_phrase)\n",
    "         \n",
    "        original_text = random_phrase\n",
    "        recognized_text = self.speech_to_text()\n",
    "        print(f\"Вы сказали: {recognized_text}\")\n",
    "        self.compare_text(original_text, recognized_text)\n",
    "\n",
    "    \n",
    "    def compare_text(self, original_text, recognized_text):\n",
    "        # Сравниваем речь пользователя с оригиналом\n",
    "        punctuations = \".?!,:;’-–—”()[]{}<>“/…*&#~\\@^|«»'\"\n",
    "        original_no_punc = \"\"\n",
    "        original_text = original_text.strip()\n",
    "        for char in original_text.lower():\n",
    "            if char not in punctuations:\n",
    "                original_no_punc += char\n",
    "        recognized_no_punc = \"\"\n",
    "        recognized_text = recognized_text.strip()\n",
    "        for char in recognized_text.lower():\n",
    "            if char not in punctuations:\n",
    "                recognized_no_punc += char\n",
    "    \n",
    "        if original_no_punc == recognized_no_punc:\n",
    "            print(\"Правильно!\")\n",
    "            self.speak(\"Правильно!\")\n",
    "        else:\n",
    "            print(\"Неправильно\")\n",
    "            self.speak(\"Неправильно, потренируемся ещё?\")\n",
    "            more_practice = self.speech_to_text()\n",
    "            if more_practice.lower().strip() == \"да\":\n",
    "                self.practice()\n",
    "\n",
    "                \n",
    "    def translate_text(self, text):\n",
    "        # Определяем язык\n",
    "        in_rus = bool(re.search('[а-яА-Я]', text))\n",
    "        if in_rus:\n",
    "            d = 'en'\n",
    "        if in_rus == False:\n",
    "            d = 'ru'\n",
    "        # Берем полученное сообщение и переводим его\n",
    "        translator = Translator()\n",
    "        translated_text = translator.translate(text, dest=d)\n",
    "        return translated_text.text\n",
    "\n",
    "\n",
    "    def run(self):\n",
    "        # команды\n",
    "        while True:\n",
    "            self.create_file()\n",
    "            command = self.speech_to_text().lower().strip()\n",
    "\n",
    "            if command == \"марина переведи\":\n",
    "                self.speak(\"Введите текст для перевода\")\n",
    "                text = input(\"Введите текст для перевода: \")\n",
    "                translation = self.translate_text(text)\n",
    "                print(f\"Перевод: {translation}\")\n",
    "                self.speak(\"Зачитать перевод вслух?\")\n",
    "                play_audio = self.speech_to_text()\n",
    "                if play_audio.lower().strip() == \"да\":\n",
    "                    self.speak(translation)\n",
    "\n",
    "            elif command == \"марина зачитай вслух\":\n",
    "                self.speak(\"Введите текст для озвучивания\")\n",
    "                text = input(\"Введите текст для озвучивания: \")\n",
    "                self.speak(text)\n",
    "            elif command == \"марина практика\":\n",
    "                self.practice()\n",
    "            elif command == \"марина добавь фразу\":\n",
    "                self.add_phrase()\n",
    "            elif command == \"марина пока\":\n",
    "                self.speak(\"Пока!\")\n",
    "                print('Пока!')\n",
    "                break\n",
    "            else:\n",
    "                print(\"Неизвестная команда.\")\n",
    "\n",
    "\n",
    "assistant = MarinaAssistant()\n",
    "assistant.run()"
   ]
  },
  {
   "cell_type": "code",
   "execution_count": 30,
   "id": "ef17c38c-fda2-4dcd-9eb8-f9f42c2f1db0",
   "metadata": {},
   "outputs": [
    {
     "name": "stdout",
     "output_type": "stream",
     "text": [
      "Voice: Microsoft Irina Desktop - Russian\n",
      "Voice: Microsoft Zira Desktop - English (United States)\n",
      "Voice: Microsoft David Desktop - English (United States)\n"
     ]
    }
   ],
   "source": [
    "engine = pyttsx3.init()\n",
    "voices = engine.getProperty('voices')\n",
    "for voice in voices:\n",
    "    print(f\"Voice: {voice.name}\")"
   ]
  },
  {
   "cell_type": "code",
   "execution_count": null,
   "id": "fc8c0490-5a2e-4bf2-983a-2f4b49652eb4",
   "metadata": {},
   "outputs": [],
   "source": []
  }
 ],
 "metadata": {
  "kernelspec": {
   "display_name": "Python 3 (ipykernel)",
   "language": "python",
   "name": "python3"
  },
  "language_info": {
   "codemirror_mode": {
    "name": "ipython",
    "version": 3
   },
   "file_extension": ".py",
   "mimetype": "text/x-python",
   "name": "python",
   "nbconvert_exporter": "python",
   "pygments_lexer": "ipython3",
   "version": "3.9.13"
  }
 },
 "nbformat": 4,
 "nbformat_minor": 5
}
