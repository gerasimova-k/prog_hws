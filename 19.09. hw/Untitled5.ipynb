{
 "cells": [
  {
   "cell_type": "code",
   "execution_count": 3,
   "id": "f4783434-d575-4176-8d95-e9b2b966661c",
   "metadata": {},
   "outputs": [
    {
     "name": "stdin",
     "output_type": "stream",
     "text": [
      "Введите трехзначное число 234\n"
     ]
    },
    {
     "name": "stdout",
     "output_type": "stream",
     "text": [
      "Сумма цифр равна 9\n"
     ]
    }
   ],
   "source": [
    "x = int(input(\"Введите трехзначное число\"))\n",
    "a = x // 100\n",
    "b = x // 10 % 10\n",
    "c = x % 10\n",
    "print(\"Сумма цифр равна\", a + b + c)\n"
   ]
  },
  {
   "cell_type": "code",
   "execution_count": 10,
   "id": "82aa5443-018e-4f22-a165-6f1d1c2b9503",
   "metadata": {},
   "outputs": [
    {
     "name": "stdin",
     "output_type": "stream",
     "text": [
      "... руб. 100\n",
      "... коп. 50\n",
      "% годовых 10\n"
     ]
    },
    {
     "name": "stdout",
     "output_type": "stream",
     "text": [
      "Через год сумма составит 110 руб. 55 коп.\n"
     ]
    }
   ],
   "source": [
    "x = int(input(\"... руб.\"))\n",
    "y = int(input(\"... коп.\"))\n",
    "p = int(input(\"% годовых\"))\n",
    "deposit_year_1 = 100 * x + y # переводим в копейки\n",
    "deposit_year_2 = int(deposit_year_1 + (deposit_year_1 * p / 100))\n",
    "print(\"Через год сумма составит\", deposit_year_2 // 100, \"руб.\", deposit_year_2 % 100, \"коп.\")"
   ]
  },
  {
   "cell_type": "code",
   "execution_count": 21,
   "id": "5848e1d2-64dd-4f53-96c2-0bb2bda39721",
   "metadata": {},
   "outputs": [
    {
     "name": "stdin",
     "output_type": "stream",
     "text": [
      "Первый день, км 10000\n",
      "Не менее ... км 1000000\n"
     ]
    },
    {
     "name": "stdout",
     "output_type": "stream",
     "text": [
      "Введите число не более 1000\n"
     ]
    }
   ],
   "source": [
    "x = int(input(\"Первый день, км\"))\n",
    "y = int(input(\"Не менее ... км\")) # для второго и далее дня\n",
    "daay = 1 # прогресс 70% каждый день, начиная со 2-го дня\n",
    "while x < y:\n",
    "    x = 1.7 * x\n",
    "    daay += 1\n",
    "if 0 < y <= 1000:\n",
    "    print(daay)\n",
    "else:\n",
    "    print(\"Введите число не более 1000\")"
   ]
  },
  {
   "cell_type": "code",
   "execution_count": 37,
   "id": "7a0e3473-daf9-4088-b5c5-403f3a10b401",
   "metadata": {},
   "outputs": [
    {
     "name": "stdin",
     "output_type": "stream",
     "text": [
      "Порядковый номер числа Фибоначчи: 9\n"
     ]
    },
    {
     "name": "stdout",
     "output_type": "stream",
     "text": [
      "34\n"
     ]
    }
   ],
   "source": [
    "# 0, 1, 1, 2, 3, 5, 8, 13, ...\n",
    "# Fn = F(n-1) + F(n-2)\n",
    "# F1 = F2 =\n",
    "fib_1 = 1\n",
    "fib_2 = 1\n",
    "n = int(input(\"Порядковый номер числа Фибоначчи:\"))\n",
    "i = 0\n",
    "while i < n - 2: \n",
    "    fib_sum = fib_1 + fib_2\n",
    "    fib_1 = fib_2\n",
    "    fib_2 = fib_sum\n",
    "    i += 1\n",
    "print(fib_2)"
   ]
  },
  {
   "cell_type": "code",
   "execution_count": 36,
   "id": "d3341f66-ca5d-4114-bc54-34e5afe501aa",
   "metadata": {},
   "outputs": [
    {
     "name": "stdin",
     "output_type": "stream",
     "text": [
      "... сек. 7200\n"
     ]
    },
    {
     "name": "stdout",
     "output_type": "stream",
     "text": [
      "2 : 0 : 0\n"
     ]
    }
   ],
   "source": [
    "x = int(input(\"... сек.\"))\n",
    "hh = x // 3600\n",
    "mm = x // 60 % 60\n",
    "ss = x % 60\n",
    "print(hh, \":\", mm, \":\", ss)"
   ]
  },
  {
   "cell_type": "code",
   "execution_count": null,
   "id": "6671285d-7991-4d6c-b376-cf9ab1e86f2b",
   "metadata": {},
   "outputs": [],
   "source": []
  }
 ],
 "metadata": {
  "kernelspec": {
   "display_name": "Python 3 (ipykernel)",
   "language": "python",
   "name": "python3"
  },
  "language_info": {
   "codemirror_mode": {
    "name": "ipython",
    "version": 3
   },
   "file_extension": ".py",
   "mimetype": "text/x-python",
   "name": "python",
   "nbconvert_exporter": "python",
   "pygments_lexer": "ipython3",
   "version": "3.9.13"
  }
 },
 "nbformat": 4,
 "nbformat_minor": 5
}
