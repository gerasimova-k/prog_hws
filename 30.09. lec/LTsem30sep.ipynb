{
 "cells": [
  {
   "cell_type": "code",
   "execution_count": 2,
   "id": "6e5e3dee-ba2e-4e48-865f-808bbaf1141b",
   "metadata": {},
   "outputs": [
    {
     "name": "stdin",
     "output_type": "stream",
     "text": [
      " 123\n"
     ]
    },
    {
     "name": "stdout",
     "output_type": "stream",
     "text": [
      "Сумма цифр равна 6\n"
     ]
    }
   ],
   "source": [
    "# Циклы. Задача 6\n",
    "q = 0\n",
    "x = int(input())\n",
    "while (x != 0):\n",
    "    q += x % 10\n",
    "    x = x // 10\n",
    "print(\"Сумма цифр равна\", q)\n"
   ]
  },
  {
   "cell_type": "code",
   "execution_count": 5,
   "id": "6b6bbc66-93fe-4d24-94d2-52994a89d812",
   "metadata": {},
   "outputs": [
    {
     "name": "stdin",
     "output_type": "stream",
     "text": [
      " q   e   r   \n"
     ]
    },
    {
     "name": "stdout",
     "output_type": "stream",
     "text": [
      "q e r\n"
     ]
    }
   ],
   "source": [
    "# Циклы. Задача 7\n",
    "s = input().strip() \n",
    "while '  ' in s:\n",
    "    s = s.replace('  ', ' ') \n",
    "print(s)"
   ]
  },
  {
   "cell_type": "code",
   "execution_count": 33,
   "id": "ebbf350e-9aa1-4553-b277-2d3b4813070e",
   "metadata": {},
   "outputs": [
    {
     "name": "stdin",
     "output_type": "stream",
     "text": [
      " цушгмр\n",
      " цуацц\n"
     ]
    },
    {
     "name": "stdout",
     "output_type": "stream",
     "text": [
      "False\n"
     ]
    },
    {
     "name": "stdin",
     "output_type": "stream",
     "text": [
      "   \n"
     ]
    },
    {
     "name": "stdout",
     "output_type": "stream",
     "text": [
      "end\n"
     ]
    }
   ],
   "source": [
    "# Циклы. Задача 8\n",
    "w = input().strip()\n",
    "while w.isalpha():\n",
    "    a = w[-1] + w[-2] + w[-3] + w[-4]\n",
    "    e = input().strip()\n",
    "    b = e[-1] + e[-2] + e[-3] + e[-4]\n",
    "    print(a == b)\n",
    "    w = input().strip()\n",
    "else:\n",
    "    print('end')\n"
   ]
  },
  {
   "cell_type": "code",
   "execution_count": null,
   "id": "e5580411-8e9b-4236-be30-52dc27635bf0",
   "metadata": {
    "jp-MarkdownHeadingCollapsed": true,
    "tags": []
   },
   "outputs": [],
   "source": [
    "# Функции\n",
    "# как было в задаче 1:\n",
    "def func(a, b):\n",
    "    n = 0\n",
    "    res = 1\n",
    "    while n != b: \n",
    "        res *= a\n",
    "        n += 1\n",
    "    print(res)"
   ]
  },
  {
   "cell_type": "code",
   "execution_count": 34,
   "id": "3fc4178b-f264-4173-9764-100c500f7ca8",
   "metadata": {},
   "outputs": [],
   "source": [
    "# Функции, задача 5\n",
    "def powr(a, b):\n",
    "    if b == 0: \n",
    "        return 1\n",
    "    else:\n",
    "        return powr(a, b - 1) * a"
   ]
  },
  {
   "cell_type": "code",
   "execution_count": 35,
   "id": "78d0d31a-4e27-4b43-940f-10cac4020d69",
   "metadata": {},
   "outputs": [
    {
     "data": {
      "text/plain": [
       "8"
      ]
     },
     "execution_count": 35,
     "metadata": {},
     "output_type": "execute_result"
    }
   ],
   "source": [
    "powr(2, 3)"
   ]
  },
  {
   "cell_type": "code",
   "execution_count": 520,
   "id": "099c1a3e-9b83-4201-b304-f04b33dcbfdd",
   "metadata": {},
   "outputs": [],
   "source": [
    "#Задача 6. Простите за костыли\n",
    "def mlttable():\n",
    "    \"\"\"Таблица умножения\"\"\" \n",
    "    print(' ', *[x for x in range (1, 10)], sep = ' ' * 7)\n",
    "    for i in range(1, 10):\n",
    "        print(f'{i * 1}',sep = ' ', end = '\\t')\n",
    "        for j in range(1, 10):\n",
    "            print(f'{i * j}', end = '\\t')\n",
    "        print()"
   ]
  },
  {
   "cell_type": "code",
   "execution_count": 521,
   "id": "556b2bcc-0354-4683-8722-9040c1cccc59",
   "metadata": {},
   "outputs": [
    {
     "name": "stdout",
     "output_type": "stream",
     "text": [
      "        1       2       3       4       5       6       7       8       9\n",
      "1\t1\t2\t3\t4\t5\t6\t7\t8\t9\t\n",
      "2\t2\t4\t6\t8\t10\t12\t14\t16\t18\t\n",
      "3\t3\t6\t9\t12\t15\t18\t21\t24\t27\t\n",
      "4\t4\t8\t12\t16\t20\t24\t28\t32\t36\t\n",
      "5\t5\t10\t15\t20\t25\t30\t35\t40\t45\t\n",
      "6\t6\t12\t18\t24\t30\t36\t42\t48\t54\t\n",
      "7\t7\t14\t21\t28\t35\t42\t49\t56\t63\t\n",
      "8\t8\t16\t24\t32\t40\t48\t56\t64\t72\t\n",
      "9\t9\t18\t27\t36\t45\t54\t63\t72\t81\t\n"
     ]
    }
   ],
   "source": [
    "mlttable()"
   ]
  },
  {
   "cell_type": "code",
   "execution_count": 397,
   "id": "a8d54b39-d533-43b6-9cf1-37a8d161f5af",
   "metadata": {},
   "outputs": [],
   "source": [
    "#Вариант 1\n",
    "def suumm(a, b):\n",
    "    c = a + b\n",
    "    c = float(c + (0.05 if c > 0 else - 0.05))\n",
    "    print(c)\n"
   ]
  },
  {
   "cell_type": "code",
   "execution_count": 398,
   "id": "311fab79-7560-41e1-b414-5a438e914cd5",
   "metadata": {},
   "outputs": [
    {
     "name": "stdout",
     "output_type": "stream",
     "text": [
      "11.39\n"
     ]
    }
   ],
   "source": [
    "suumm(4.56, 6.78)"
   ]
  },
  {
   "cell_type": "code",
   "execution_count": null,
   "id": "9286e83c-ab41-4c91-9d89-9cbf85cb9f72",
   "metadata": {},
   "outputs": [],
   "source": []
  },
  {
   "cell_type": "code",
   "execution_count": 327,
   "id": "d5f26d87-2d1d-41d8-b24c-4b593fa728d6",
   "metadata": {},
   "outputs": [],
   "source": [
    "#Вариант 2\n",
    "def ssuumm(a, b):\n",
    "    c = a + b\n",
    "    print(f'{c:.2f}')\n"
   ]
  },
  {
   "cell_type": "code",
   "execution_count": 328,
   "id": "f5b7a205-36ec-4e27-9483-b5152cb0e0b1",
   "metadata": {},
   "outputs": [
    {
     "name": "stdout",
     "output_type": "stream",
     "text": [
      "4.33\n"
     ]
    }
   ],
   "source": [
    "ssuumm(3.334, 1)"
   ]
  },
  {
   "cell_type": "code",
   "execution_count": 518,
   "id": "dda3c7f8-7280-448a-9159-926694aa7e61",
   "metadata": {},
   "outputs": [],
   "source": [
    "#Задача 8\n",
    "def mycount(s):\n",
    "    for char in s:\n",
    "        a = s.count(char)\n",
    "        if a > 1:\n",
    "            print(f'\\'{char}\\' : {s.count(char)}')\n",
    "            s = s.replace(char, ' ')\n",
    "            a = a - 1\n",
    "        elif a == 1:\n",
    "            print(f'\\'{char}\\' : {s.count(char)}')\n",
    "        else:\n",
    "            continue\n",
    "    print()"
   ]
  },
  {
   "cell_type": "code",
   "execution_count": 519,
   "id": "e873f49c-8c02-409e-8c4b-5db909fb830c",
   "metadata": {},
   "outputs": [
    {
     "name": "stdout",
     "output_type": "stream",
     "text": [
      "'q' : 1\n",
      "'w' : 3\n",
      "'e' : 3\n",
      "'d' : 1\n",
      "\n"
     ]
    }
   ],
   "source": [
    "mycount('qwwedwee')"
   ]
  },
  {
   "cell_type": "code",
   "execution_count": null,
   "id": "ef5af262-6a41-4da1-a758-9db3d91c7198",
   "metadata": {},
   "outputs": [],
   "source": []
  }
 ],
 "metadata": {
  "kernelspec": {
   "display_name": "Python 3 (ipykernel)",
   "language": "python",
   "name": "python3"
  },
  "language_info": {
   "codemirror_mode": {
    "name": "ipython",
    "version": 3
   },
   "file_extension": ".py",
   "mimetype": "text/x-python",
   "name": "python",
   "nbconvert_exporter": "python",
   "pygments_lexer": "ipython3",
   "version": "3.9.13"
  }
 },
 "nbformat": 4,
 "nbformat_minor": 5
}
