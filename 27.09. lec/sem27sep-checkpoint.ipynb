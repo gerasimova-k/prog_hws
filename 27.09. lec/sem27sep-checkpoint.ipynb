{
 "cells": [
  {
   "cell_type": "code",
   "execution_count": 8,
   "id": "e952f70d-6303-4d1c-accd-5a1b082ccb5c",
   "metadata": {},
   "outputs": [],
   "source": [
    "lst = [x ** 2 for x in range(10)] # списковое включение, предоставление списка, list comprehension"
   ]
  },
  {
   "cell_type": "code",
   "execution_count": 6,
   "id": "42e0e6f0-a25e-4989-9224-a482afeab8ce",
   "metadata": {},
   "outputs": [
    {
     "name": "stdout",
     "output_type": "stream",
     "text": [
      "3.26 µs ± 201 ns per loop (mean ± std. dev. of 7 runs, 100,000 loops each)\n"
     ]
    }
   ],
   "source": [
    "%%timeit\n",
    "l1 = []\n",
    "for i in range(10):\n",
    "    l1.append(i ** 2)"
   ]
  },
  {
   "cell_type": "code",
   "execution_count": 7,
   "id": "dd4f9d22-0078-4e8c-ab18-8d522bd09bd0",
   "metadata": {},
   "outputs": [
    {
     "name": "stdout",
     "output_type": "stream",
     "text": [
      "3.09 µs ± 182 ns per loop (mean ± std. dev. of 7 runs, 100,000 loops each)\n"
     ]
    }
   ],
   "source": [
    "%timeit l2 = [x ** 2 for x in range(10)]"
   ]
  },
  {
   "cell_type": "code",
   "execution_count": 9,
   "id": "0c202b27-dbc7-4dee-8e64-b7d2fed10184",
   "metadata": {},
   "outputs": [
    {
     "data": {
      "text/plain": [
       "[2, 4, 6, 8, 10]"
      ]
     },
     "execution_count": 9,
     "metadata": {},
     "output_type": "execute_result"
    }
   ],
   "source": [
    "# [x for x in iterable if (condition)]\n",
    "[x ** 2 for x in lst]\n",
    "[ord(char) for char in \"hello\"]\n",
    "[x for x in range(1, 11) if not x % 2]"
   ]
  },
  {
   "cell_type": "code",
   "execution_count": 10,
   "id": "13518383-1855-49c9-9351-6a698bd812c6",
   "metadata": {},
   "outputs": [
    {
     "data": {
      "text/plain": [
       "[0, 0, 0, 0, 0, 0, 0, 0, 0, 0]"
      ]
     },
     "execution_count": 10,
     "metadata": {},
     "output_type": "execute_result"
    }
   ],
   "source": [
    "[0] * 10"
   ]
  },
  {
   "cell_type": "code",
   "execution_count": 12,
   "id": "8255c35b-b8c1-41c5-8a82-101f25f62545",
   "metadata": {},
   "outputs": [
    {
     "data": {
      "text/plain": [
       "[0, 1, 4, 9, 16, 25, 36, 49, 64, 81]"
      ]
     },
     "execution_count": 12,
     "metadata": {},
     "output_type": "execute_result"
    }
   ],
   "source": [
    "l1"
   ]
  },
  {
   "cell_type": "code",
   "execution_count": 15,
   "id": "8b53de5a-b39a-4ba3-8569-cf36c764de65",
   "metadata": {},
   "outputs": [
    {
     "ename": "NameError",
     "evalue": "name 'E' is not defined",
     "output_type": "error",
     "traceback": [
      "\u001b[1;31m---------------------------------------------------------------------------\u001b[0m",
      "\u001b[1;31mNameError\u001b[0m                                 Traceback (most recent call last)",
      "Cell \u001b[1;32mIn [15], line 1\u001b[0m\n\u001b[1;32m----> 1\u001b[0m \u001b[43mE\u001b[49m[\u001b[38;5;241m1\u001b[39m] \u001b[38;5;241m+\u001b[39m\u001b[38;5;241m=\u001b[39m \u001b[38;5;241m1\u001b[39m\n",
      "\u001b[1;31mNameError\u001b[0m: name 'E' is not defined"
     ]
    }
   ],
   "source": [
    "E[1] += 1"
   ]
  },
  {
   "cell_type": "code",
   "execution_count": 14,
   "id": "a732e1d4-a5b0-472d-82f8-8cbf136be705",
   "metadata": {},
   "outputs": [
    {
     "ename": "NameError",
     "evalue": "name 'E' is not defined",
     "output_type": "error",
     "traceback": [
      "\u001b[1;31m---------------------------------------------------------------------------\u001b[0m",
      "\u001b[1;31mNameError\u001b[0m                                 Traceback (most recent call last)",
      "Cell \u001b[1;32mIn [14], line 1\u001b[0m\n\u001b[1;32m----> 1\u001b[0m \u001b[43mE\u001b[49m\n",
      "\u001b[1;31mNameError\u001b[0m: name 'E' is not defined"
     ]
    }
   ],
   "source": [
    "E"
   ]
  },
  {
   "cell_type": "code",
   "execution_count": 16,
   "id": "0ae806aa-fb7b-44f4-9641-2bab157c1c0b",
   "metadata": {},
   "outputs": [],
   "source": [
    "S = list(\"qwerty\")"
   ]
  },
  {
   "cell_type": "code",
   "execution_count": 17,
   "id": "755714a6-d91f-489f-9a8a-209bf6ac07d4",
   "metadata": {},
   "outputs": [
    {
     "data": {
      "text/plain": [
       "['q', 'w', 'e', 'r', 't', 'y']"
      ]
     },
     "execution_count": 17,
     "metadata": {},
     "output_type": "execute_result"
    }
   ],
   "source": [
    "S"
   ]
  },
  {
   "cell_type": "code",
   "execution_count": 18,
   "id": "510ce2ca-dea7-4f6e-a750-a7f6e2c0119a",
   "metadata": {},
   "outputs": [
    {
     "data": {
      "text/plain": [
       "True"
      ]
     },
     "execution_count": 18,
     "metadata": {},
     "output_type": "execute_result"
    }
   ],
   "source": [
    "S[0].isalpha()"
   ]
  },
  {
   "cell_type": "code",
   "execution_count": 19,
   "id": "8c257f3a-1251-4818-8671-9780c7370035",
   "metadata": {},
   "outputs": [],
   "source": [
    "# A + B\n",
    "# A * int()\n",
    "# > < >= <= == !="
   ]
  },
  {
   "cell_type": "code",
   "execution_count": 24,
   "id": "f29b840b-71e5-48e1-8d64-e1ec08874f56",
   "metadata": {},
   "outputs": [
    {
     "data": {
      "text/plain": [
       "['q',\n",
       " 'w',\n",
       " 'e',\n",
       " 'r',\n",
       " 't',\n",
       " 'y',\n",
       " 0,\n",
       " 1,\n",
       " 4,\n",
       " 9,\n",
       " 16,\n",
       " 25,\n",
       " 36,\n",
       " 49,\n",
       " 64,\n",
       " 81,\n",
       " 0,\n",
       " 1,\n",
       " 4,\n",
       " 9,\n",
       " 16,\n",
       " 25,\n",
       " 36,\n",
       " 49,\n",
       " 64,\n",
       " 81]"
      ]
     },
     "execution_count": 24,
     "metadata": {},
     "output_type": "execute_result"
    }
   ],
   "source": [
    "S + l1"
   ]
  },
  {
   "cell_type": "code",
   "execution_count": 25,
   "id": "3a6891df-4343-4642-ae39-449bf1e49a0b",
   "metadata": {},
   "outputs": [
    {
     "data": {
      "text/plain": [
       "16"
      ]
     },
     "execution_count": 25,
     "metadata": {},
     "output_type": "execute_result"
    }
   ],
   "source": [
    "len(S)"
   ]
  },
  {
   "cell_type": "code",
   "execution_count": 26,
   "id": "e15669b7-1678-4254-a337-4a60130b059c",
   "metadata": {},
   "outputs": [
    {
     "data": {
      "text/plain": [
       "285"
      ]
     },
     "execution_count": 26,
     "metadata": {},
     "output_type": "execute_result"
    }
   ],
   "source": [
    "max(l1)\n",
    "min(l1)\n",
    "sum(l1)"
   ]
  },
  {
   "cell_type": "code",
   "execution_count": 77,
   "id": "c19d997d-85ff-42b6-9ba1-03efe080fdd9",
   "metadata": {},
   "outputs": [],
   "source": [
    "L = [1, 2, 3, 4, 5]\n",
    "l = [6]"
   ]
  },
  {
   "cell_type": "code",
   "execution_count": 47,
   "id": "10e1a811-9c47-4602-8cd8-736a18029516",
   "metadata": {},
   "outputs": [],
   "source": [
    "L.append(l)"
   ]
  },
  {
   "cell_type": "code",
   "execution_count": 48,
   "id": "6cdc0859-6e0a-4987-9fa7-6b41a3a142f0",
   "metadata": {},
   "outputs": [
    {
     "data": {
      "text/plain": [
       "[1, 2, 3, 4, 5, [6]]"
      ]
     },
     "execution_count": 48,
     "metadata": {},
     "output_type": "execute_result"
    }
   ],
   "source": [
    "L"
   ]
  },
  {
   "cell_type": "code",
   "execution_count": 49,
   "id": "4862d70e-d0d3-4b6b-8ceb-76fe9ba8d6dd",
   "metadata": {},
   "outputs": [],
   "source": [
    "L.extend(l) #+="
   ]
  },
  {
   "cell_type": "code",
   "execution_count": 50,
   "id": "8604e0b1-56ee-4bae-98cd-2db897c5cead",
   "metadata": {},
   "outputs": [
    {
     "data": {
      "text/plain": [
       "[1, 2, 3, 4, 5, [6], 6]"
      ]
     },
     "execution_count": 50,
     "metadata": {},
     "output_type": "execute_result"
    }
   ],
   "source": [
    "L"
   ]
  },
  {
   "cell_type": "code",
   "execution_count": 51,
   "id": "8cf2e5db-3dbb-4037-95f2-7d19c49a1951",
   "metadata": {},
   "outputs": [],
   "source": [
    "L += l"
   ]
  },
  {
   "cell_type": "code",
   "execution_count": 52,
   "id": "91d62f2b-4b92-460f-8e2f-229363700e7c",
   "metadata": {},
   "outputs": [
    {
     "data": {
      "text/plain": [
       "[1, 2, 3, 4, 5, [6], 6, 6]"
      ]
     },
     "execution_count": 52,
     "metadata": {},
     "output_type": "execute_result"
    }
   ],
   "source": [
    "L"
   ]
  },
  {
   "cell_type": "code",
   "execution_count": null,
   "id": "5636b2d7-7288-433d-95d0-b296a857d53b",
   "metadata": {},
   "outputs": [],
   "source": []
  },
  {
   "cell_type": "code",
   "execution_count": 53,
   "id": "6a115a1c-f4be-478c-b4fa-d3684bdbe4a6",
   "metadata": {},
   "outputs": [
    {
     "data": {
      "text/plain": [
       "list"
      ]
     },
     "execution_count": 53,
     "metadata": {},
     "output_type": "execute_result"
    }
   ],
   "source": [
    "type(L)"
   ]
  },
  {
   "cell_type": "code",
   "execution_count": 54,
   "id": "25fec1c6-8075-4fd4-b66a-36851993be11",
   "metadata": {},
   "outputs": [
    {
     "data": {
      "text/plain": [
       "'hewwo'"
      ]
     },
     "execution_count": 54,
     "metadata": {},
     "output_type": "execute_result"
    }
   ],
   "source": [
    "s = \"hello\"\n",
    "s.replace(\"l\", \"w\")"
   ]
  },
  {
   "cell_type": "code",
   "execution_count": 55,
   "id": "4231eda4-b865-4221-8d92-c150ec706249",
   "metadata": {},
   "outputs": [],
   "source": [
    "# hasable\n",
    "# mutable\n",
    "\n",
    "# mutable, iterable"
   ]
  },
  {
   "cell_type": "code",
   "execution_count": 56,
   "id": "bc3b561f-fe3c-43de-bc03-03590c0d69b5",
   "metadata": {},
   "outputs": [
    {
     "data": {
      "text/plain": [
       "1"
      ]
     },
     "execution_count": 56,
     "metadata": {},
     "output_type": "execute_result"
    }
   ],
   "source": [
    "L.index(6)\n",
    "L.count(4)"
   ]
  },
  {
   "cell_type": "code",
   "execution_count": 57,
   "id": "afec099d-54cf-4dc0-b800-4f60a38e505e",
   "metadata": {},
   "outputs": [],
   "source": [
    "L.remove(4)"
   ]
  },
  {
   "cell_type": "code",
   "execution_count": 62,
   "id": "0cbc4590-4c19-4749-b517-d9642869102d",
   "metadata": {},
   "outputs": [],
   "source": [
    "last = L.pop()"
   ]
  },
  {
   "cell_type": "code",
   "execution_count": 63,
   "id": "83011243-2e87-4262-b776-8b8c908bde31",
   "metadata": {},
   "outputs": [
    {
     "data": {
      "text/plain": [
       "4"
      ]
     },
     "execution_count": 63,
     "metadata": {},
     "output_type": "execute_result"
    }
   ],
   "source": [
    "last"
   ]
  },
  {
   "cell_type": "code",
   "execution_count": 64,
   "id": "5705e4dc-3d38-4da8-a243-2627cf1caf42",
   "metadata": {},
   "outputs": [
    {
     "data": {
      "text/plain": [
       "[1, 2, 3]"
      ]
     },
     "execution_count": 64,
     "metadata": {},
     "output_type": "execute_result"
    }
   ],
   "source": [
    "L"
   ]
  },
  {
   "cell_type": "code",
   "execution_count": 65,
   "id": "df0147d8-b41a-413d-93f2-fa9798431ea1",
   "metadata": {},
   "outputs": [],
   "source": [
    "L.insert(3, 4)"
   ]
  },
  {
   "cell_type": "code",
   "execution_count": 66,
   "id": "0f630d77-da05-4249-84a0-4cf65c95b8a8",
   "metadata": {},
   "outputs": [
    {
     "data": {
      "text/plain": [
       "[1, 2, 3, 4]"
      ]
     },
     "execution_count": 66,
     "metadata": {},
     "output_type": "execute_result"
    }
   ],
   "source": [
    "L"
   ]
  },
  {
   "cell_type": "code",
   "execution_count": 73,
   "id": "827104c7-f1f1-4d6d-84fe-c3661fe638a4",
   "metadata": {},
   "outputs": [],
   "source": [
    "L[2 : 3] = [9, 8, 7]"
   ]
  },
  {
   "cell_type": "code",
   "execution_count": 79,
   "id": "99ecd259-2209-4ed2-9215-a31f8a3f07ab",
   "metadata": {},
   "outputs": [
    {
     "data": {
      "text/plain": [
       "[1, 2, 9, 3, 4, 5]"
      ]
     },
     "execution_count": 79,
     "metadata": {},
     "output_type": "execute_result"
    }
   ],
   "source": [
    "L"
   ]
  },
  {
   "cell_type": "code",
   "execution_count": 78,
   "id": "1f69167f-18d7-42d4-837c-db24355e4d90",
   "metadata": {},
   "outputs": [],
   "source": [
    "L[2 : 2] = [9]"
   ]
  },
  {
   "cell_type": "code",
   "execution_count": 84,
   "id": "c5f6ab07-673d-4924-a761-e41c69af4094",
   "metadata": {},
   "outputs": [],
   "source": [
    "A = [1, 2, 3]\n",
    "B = A\n",
    "B[0] += 4 #A тоже меняется, как и любые изменяемые объекты"
   ]
  },
  {
   "cell_type": "code",
   "execution_count": 89,
   "id": "0dbc2fa8-3680-48dd-a307-7f59c352a6b4",
   "metadata": {},
   "outputs": [
    {
     "data": {
      "text/plain": [
       "[6, 3, 4]"
      ]
     },
     "execution_count": 89,
     "metadata": {},
     "output_type": "execute_result"
    }
   ],
   "source": [
    "A"
   ]
  },
  {
   "cell_type": "code",
   "execution_count": 90,
   "id": "34f4069f-64b8-4e24-878b-113c4f8eb04f",
   "metadata": {},
   "outputs": [],
   "source": [
    "for num in A: #num = A[0], num = A[1]\n",
    "    num += 1"
   ]
  },
  {
   "cell_type": "code",
   "execution_count": 91,
   "id": "f283a738-dfbf-4a5c-8dac-577849d83500",
   "metadata": {},
   "outputs": [],
   "source": [
    "for i in range(len(A)):\n",
    "    A[i] +=1"
   ]
  },
  {
   "cell_type": "code",
   "execution_count": 94,
   "id": "c8eb9a71-9e88-408f-b928-cdfd030e7a35",
   "metadata": {},
   "outputs": [],
   "source": [
    "B = [[1], [2], [3]]\n",
    "for lst in B: #lst = [1]\n",
    "    lst += [5]"
   ]
  },
  {
   "cell_type": "code",
   "execution_count": 95,
   "id": "d50e536f-163c-436d-ba03-bc71cf2d5c6d",
   "metadata": {},
   "outputs": [
    {
     "data": {
      "text/plain": [
       "[[1, 5], [2, 5], [3, 5]]"
      ]
     },
     "execution_count": 95,
     "metadata": {},
     "output_type": "execute_result"
    }
   ],
   "source": [
    "B"
   ]
  },
  {
   "cell_type": "code",
   "execution_count": 96,
   "id": "6cfe210e-e741-4a1d-9d85-41cf39284f31",
   "metadata": {},
   "outputs": [],
   "source": [
    "A = [1, 2, 3]\n",
    "B = A"
   ]
  },
  {
   "cell_type": "code",
   "execution_count": 97,
   "id": "7e6f1e0f-22bd-428b-ab23-288461a8d143",
   "metadata": {},
   "outputs": [],
   "source": [
    "B = A.copy()"
   ]
  },
  {
   "cell_type": "code",
   "execution_count": 98,
   "id": "2b1411f1-d3c6-4066-bf40-9544b0381d61",
   "metadata": {},
   "outputs": [],
   "source": [
    "L = [4, 7, 23, 5, 1]\n",
    "L.sort()"
   ]
  },
  {
   "cell_type": "code",
   "execution_count": 99,
   "id": "c2a82e20-4e47-478a-bed3-f16828de5d2b",
   "metadata": {},
   "outputs": [
    {
     "data": {
      "text/plain": [
       "[1, 4, 5, 7, 23]"
      ]
     },
     "execution_count": 99,
     "metadata": {},
     "output_type": "execute_result"
    }
   ],
   "source": [
    "L"
   ]
  },
  {
   "cell_type": "code",
   "execution_count": 100,
   "id": "6e981fb6-15a9-48e2-b6ff-a2f171aeaff0",
   "metadata": {},
   "outputs": [],
   "source": [
    "L.sort(reverse=True)"
   ]
  },
  {
   "cell_type": "code",
   "execution_count": 101,
   "id": "107222fb-53b9-43a5-bb56-b9aff41b7df3",
   "metadata": {},
   "outputs": [
    {
     "data": {
      "text/plain": [
       "[23, 7, 5, 4, 1]"
      ]
     },
     "execution_count": 101,
     "metadata": {},
     "output_type": "execute_result"
    }
   ],
   "source": [
    "L"
   ]
  },
  {
   "cell_type": "code",
   "execution_count": 109,
   "id": "424a95d6-38d7-4028-b88f-3b3756a1c2e5",
   "metadata": {},
   "outputs": [
    {
     "name": "stdin",
     "output_type": "stream",
     "text": [
      " seiruh s;ieur s;idurh ;siud\n"
     ]
    }
   ],
   "source": [
    "L = input().split()\n",
    "L.sort(reverse=True, key=len) # 0(log n)"
   ]
  },
  {
   "cell_type": "code",
   "execution_count": 107,
   "id": "4f713e45-0cd9-4cb5-94aa-559cd07cae36",
   "metadata": {},
   "outputs": [
    {
     "data": {
      "text/plain": [
       "['hjgjh', 'l;kj', 'lkj', ';l']"
      ]
     },
     "execution_count": 107,
     "metadata": {},
     "output_type": "execute_result"
    }
   ],
   "source": [
    "L"
   ]
  },
  {
   "cell_type": "code",
   "execution_count": 108,
   "id": "2f963dff-ba04-41df-9eec-5510c206b479",
   "metadata": {},
   "outputs": [
    {
     "data": {
      "text/plain": [
       "[';l', 'hjgjh', 'l;kj', 'lkj']"
      ]
     },
     "execution_count": 108,
     "metadata": {},
     "output_type": "execute_result"
    }
   ],
   "source": [
    "sorted(L)"
   ]
  },
  {
   "cell_type": "code",
   "execution_count": 110,
   "id": "ea1684a6-0997-4f8a-8fe6-fe97c1c0cd48",
   "metadata": {},
   "outputs": [
    {
     "data": {
      "text/plain": [
       "['e', 'h', 'l', 'l', 'o']"
      ]
     },
     "execution_count": 110,
     "metadata": {},
     "output_type": "execute_result"
    }
   ],
   "source": [
    "sorted(\"hello\")"
   ]
  },
  {
   "cell_type": "code",
   "execution_count": 111,
   "id": "22fdee7c-7065-446f-bb24-df9acdb8643a",
   "metadata": {},
   "outputs": [
    {
     "data": {
      "text/plain": [
       "True"
      ]
     },
     "execution_count": 111,
     "metadata": {},
     "output_type": "execute_result"
    }
   ],
   "source": [
    "L = [1, 2, 3]\n",
    "\n",
    "3 in L"
   ]
  },
  {
   "cell_type": "code",
   "execution_count": 112,
   "id": "483ea1b6-62c8-4440-abc2-41765b6559b6",
   "metadata": {},
   "outputs": [],
   "source": [
    "l = tuple(L) #кортеж, неизм\n"
   ]
  },
  {
   "cell_type": "code",
   "execution_count": 114,
   "id": "20e04cdb-4a6f-4527-98a6-07f977a6a590",
   "metadata": {},
   "outputs": [
    {
     "ename": "AttributeError",
     "evalue": "'int' object has no attribute 'isalpha'",
     "output_type": "error",
     "traceback": [
      "\u001b[1;31m---------------------------------------------------------------------------\u001b[0m",
      "\u001b[1;31mAttributeError\u001b[0m                            Traceback (most recent call last)",
      "Cell \u001b[1;32mIn [114], line 1\u001b[0m\n\u001b[1;32m----> 1\u001b[0m \u001b[43ml\u001b[49m\u001b[43m[\u001b[49m\u001b[38;5;241;43m0\u001b[39;49m\u001b[43m]\u001b[49m\u001b[38;5;241;43m.\u001b[39;49m\u001b[43misalpha\u001b[49m()\n",
      "\u001b[1;31mAttributeError\u001b[0m: 'int' object has no attribute 'isalpha'"
     ]
    }
   ],
   "source": [
    "l[0].isalpha()"
   ]
  },
  {
   "cell_type": "code",
   "execution_count": 115,
   "id": "f75247b1-afdf-4c9f-b419-9931f4f24459",
   "metadata": {},
   "outputs": [],
   "source": [
    "a = 1\n",
    "b = 2\n",
    "\n",
    "a, b = b, a"
   ]
  },
  {
   "cell_type": "code",
   "execution_count": 116,
   "id": "f9912629-599f-481b-9b05-f337eca78feb",
   "metadata": {},
   "outputs": [
    {
     "data": {
      "text/plain": [
       "1"
      ]
     },
     "execution_count": 116,
     "metadata": {},
     "output_type": "execute_result"
    }
   ],
   "source": [
    "b"
   ]
  },
  {
   "cell_type": "code",
   "execution_count": null,
   "id": "adad2fb6-a78c-49b5-b8d0-48ae3f79e66d",
   "metadata": {},
   "outputs": [],
   "source": []
  },
  {
   "cell_type": "code",
   "execution_count": 117,
   "id": "6ed09594-279f-4903-b3fb-a1a20fb6d7e8",
   "metadata": {},
   "outputs": [],
   "source": []
  },
  {
   "cell_type": "code",
   "execution_count": 118,
   "id": "75768e9a-0cf7-45df-876a-92d0d6f60d13",
   "metadata": {},
   "outputs": [
    {
     "name": "stdout",
     "output_type": "stream",
     "text": [
      "1\n",
      "2\n",
      "3\n"
     ]
    }
   ],
   "source": []
  },
  {
   "cell_type": "code",
   "execution_count": null,
   "id": "77f71dc0-8665-4e01-9645-e4fc8f68e1bd",
   "metadata": {},
   "outputs": [],
   "source": []
  }
 ],
 "metadata": {
  "kernelspec": {
   "display_name": "Python 3 (ipykernel)",
   "language": "python",
   "name": "python3"
  },
  "language_info": {
   "codemirror_mode": {
    "name": "ipython",
    "version": 3
   },
   "file_extension": ".py",
   "mimetype": "text/x-python",
   "name": "python",
   "nbconvert_exporter": "python",
   "pygments_lexer": "ipython3",
   "version": "3.9.13"
  }
 },
 "nbformat": 4,
 "nbformat_minor": 5
}
