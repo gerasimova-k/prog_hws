{
 "cells": [
  {
   "cell_type": "code",
   "execution_count": 41,
   "id": "0aa85e62-2b37-4b4e-a289-f3b1600ed3a6",
   "metadata": {},
   "outputs": [
    {
     "data": {
      "text/plain": [
       "['hello', '', '', '', 'world']"
      ]
     },
     "execution_count": 41,
     "metadata": {},
     "output_type": "execute_result"
    }
   ],
   "source": [
    "\"hello    world\".split(\" \")"
   ]
  },
  {
   "cell_type": "code",
   "execution_count": 42,
   "id": "b33df3e7-25db-4ca8-8ee7-f87fcef879cb",
   "metadata": {},
   "outputs": [],
   "source": [
    "# callable ()"
   ]
  },
  {
   "cell_type": "code",
   "execution_count": 43,
   "id": "5a126dd1-702e-483a-8db4-f9df0f6f7d7b",
   "metadata": {},
   "outputs": [
    {
     "name": "stdin",
     "output_type": "stream",
     "text": [
      " 34 45 \n"
     ]
    }
   ],
   "source": [
    "lst = [int(x) for x in input().split()]"
   ]
  },
  {
   "cell_type": "code",
   "execution_count": 47,
   "id": "1e2a7bfa-fc45-4371-9526-fb0a4ba55423",
   "metadata": {},
   "outputs": [],
   "source": [
    "def func(name):\n",
    "    print(f\"Hello, {name}\")"
   ]
  },
  {
   "cell_type": "code",
   "execution_count": 49,
   "id": "7150cb5b-98b4-4ed2-9d3b-7ce11f210115",
   "metadata": {},
   "outputs": [
    {
     "name": "stdout",
     "output_type": "stream",
     "text": [
      "Hello, Vasya\n"
     ]
    }
   ],
   "source": [
    "func(\"Vasya\")"
   ]
  },
  {
   "cell_type": "code",
   "execution_count": 50,
   "id": "b29303a0-a2fe-436c-ade7-b2425f1e6d54",
   "metadata": {},
   "outputs": [],
   "source": [
    "def func(name, surname, message= \"Hello\"): #необязательный параметр\n",
    "    print(f\"{message}, {name} {surname}\")"
   ]
  },
  {
   "cell_type": "code",
   "execution_count": 51,
   "id": "c8c81cc6-c0e5-4852-b7db-a9dcda0e0517",
   "metadata": {},
   "outputs": [
    {
     "name": "stdout",
     "output_type": "stream",
     "text": [
      "Hello, Vasya Pupkin\n"
     ]
    }
   ],
   "source": [
    "func(\"Vasya\", \"Pupkin\", \"Hello\")"
   ]
  },
  {
   "cell_type": "code",
   "execution_count": 52,
   "id": "4930f4c7-9444-4cd5-ba5b-cfb9341a2d46",
   "metadata": {},
   "outputs": [
    {
     "name": "stdout",
     "output_type": "stream",
     "text": [
      "Hola, Vasya Pupkin\n"
     ]
    }
   ],
   "source": [
    "func(name=\"Vasya\", surname=\"Pupkin\", message=\"Hola\")\n",
    "#keyword arguments vs arguments = args, kwards"
   ]
  },
  {
   "cell_type": "code",
   "execution_count": 54,
   "id": "bc0e50eb-3301-466f-afb4-a6450970e303",
   "metadata": {},
   "outputs": [],
   "source": [
    "def func(arg1, arg2):\n",
    "    if arg1 < 0 or arg2 < 0:\n",
    "        return\n",
    "    return arg1 + arg2, arg1 * arg2"
   ]
  },
  {
   "cell_type": "code",
   "execution_count": 55,
   "id": "bda7b1a2-9d6e-44c5-8961-41bdc1b4b101",
   "metadata": {},
   "outputs": [],
   "source": [
    "s = func(2, 3)"
   ]
  },
  {
   "cell_type": "code",
   "execution_count": 56,
   "id": "645f5999-c9d0-4620-817e-9c47c7dec11b",
   "metadata": {},
   "outputs": [
    {
     "data": {
      "text/plain": [
       "(5, 6)"
      ]
     },
     "execution_count": 56,
     "metadata": {},
     "output_type": "execute_result"
    }
   ],
   "source": [
    "s"
   ]
  },
  {
   "cell_type": "code",
   "execution_count": 57,
   "id": "73cc7bf6-2b12-4b18-8ce2-0658984d7281",
   "metadata": {},
   "outputs": [],
   "source": [
    "def func(arg1, arg2):\n",
    "    \"\"\"sums arg1 and arg2\"\"\"\n",
    "    if arg1 < 0 or arg2 < 0:\n",
    "        return\n",
    "    return arg1 + arg2, arg1 * arg2"
   ]
  },
  {
   "cell_type": "code",
   "execution_count": 58,
   "id": "6bfabf0f-7b7d-440b-b5b5-3ab469c5cfc8",
   "metadata": {},
   "outputs": [
    {
     "name": "stdout",
     "output_type": "stream",
     "text": [
      "Help on function func in module __main__:\n",
      "\n",
      "func(arg1, arg2)\n",
      "    sums arg1 and arg2\n",
      "\n"
     ]
    }
   ],
   "source": [
    "help(func)"
   ]
  },
  {
   "cell_type": "code",
   "execution_count": 61,
   "id": "034f4571-d67a-4f9a-a4cc-4c21a3d60e2a",
   "metadata": {},
   "outputs": [],
   "source": [
    "x = 1 #global\n",
    "\n",
    "def func(x): #local \n",
    "    #x += 1\n",
    "    print(x)"
   ]
  },
  {
   "cell_type": "code",
   "execution_count": 62,
   "id": "bea50b11-98b3-427f-b7f0-6a3a2e318b87",
   "metadata": {},
   "outputs": [
    {
     "ename": "TypeError",
     "evalue": "func() missing 1 required positional argument: 'x'",
     "output_type": "error",
     "traceback": [
      "\u001b[1;31m---------------------------------------------------------------------------\u001b[0m",
      "\u001b[1;31mTypeError\u001b[0m                                 Traceback (most recent call last)",
      "Cell \u001b[1;32mIn [62], line 1\u001b[0m\n\u001b[1;32m----> 1\u001b[0m \u001b[43mfunc\u001b[49m\u001b[43m(\u001b[49m\u001b[43m)\u001b[49m\n",
      "\u001b[1;31mTypeError\u001b[0m: func() missing 1 required positional argument: 'x'"
     ]
    }
   ],
   "source": [
    "func(x)"
   ]
  },
  {
   "cell_type": "code",
   "execution_count": 63,
   "id": "59fcf3aa-3ba8-420c-8cf9-e7cf3b3d0678",
   "metadata": {},
   "outputs": [],
   "source": [
    "x = [1]\n",
    "def func(x):\n",
    "    x += [1]\n",
    "    print(x)"
   ]
  },
  {
   "cell_type": "code",
   "execution_count": 64,
   "id": "3c710d05-9c89-42f0-92eb-edab82a5720f",
   "metadata": {},
   "outputs": [
    {
     "name": "stdout",
     "output_type": "stream",
     "text": [
      "[1, 1]\n"
     ]
    }
   ],
   "source": [
    "func(x)"
   ]
  },
  {
   "cell_type": "code",
   "execution_count": null,
   "id": "8cb3ae26-2aea-4067-9d4b-5604bab3601d",
   "metadata": {},
   "outputs": [],
   "source": [
    "#def func(x):\n",
    "  #  return func(x) \n",
    "    #рекурсия"
   ]
  },
  {
   "cell_type": "code",
   "execution_count": 65,
   "id": "0b691da1-7fc3-4b4f-a59d-5a7f0eed23a9",
   "metadata": {},
   "outputs": [],
   "source": [
    "def func(x):\n",
    "    if x == 0:\n",
    "        return\n",
    "    elif x < 0:\n",
    "        return\n",
    "    else:\n",
    "        func(x - 1)\n",
    "        print(x) "
   ]
  },
  {
   "cell_type": "code",
   "execution_count": 66,
   "id": "848fc856-c207-49d1-b4f7-ad5eb7a6f2ac",
   "metadata": {},
   "outputs": [
    {
     "name": "stdout",
     "output_type": "stream",
     "text": [
      "1\n",
      "2\n",
      "3\n"
     ]
    }
   ],
   "source": [
    "func(3) #func(3) -> func(2) (print ждет) -> func(1) (print) -> func(0)"
   ]
  },
  {
   "cell_type": "code",
   "execution_count": 68,
   "id": "68aecde1-a5eb-453a-aeb2-9a22fd10cce4",
   "metadata": {},
   "outputs": [],
   "source": [
    "def func(x):\n",
    "    return x + 1\n",
    "func = lambda x: x + 1"
   ]
  },
  {
   "cell_type": "code",
   "execution_count": 69,
   "id": "b90aca45-3cac-4fce-bbad-1ee9572a77d4",
   "metadata": {},
   "outputs": [
    {
     "data": {
      "text/plain": [
       "4"
      ]
     },
     "execution_count": 69,
     "metadata": {},
     "output_type": "execute_result"
    }
   ],
   "source": [
    "func(3)"
   ]
  },
  {
   "cell_type": "code",
   "execution_count": null,
   "id": "b81ea9bf-4f3c-4555-aefa-8fa5bef7fe21",
   "metadata": {},
   "outputs": [],
   "source": [
    "#L.sort(key=lambda x:...)"
   ]
  },
  {
   "cell_type": "code",
   "execution_count": 70,
   "id": "00da21a6-71de-4c88-982e-d12fe74d65ab",
   "metadata": {},
   "outputs": [],
   "source": [
    "def func(*args):\n",
    "    for arg in args:\n",
    "        print(arg)"
   ]
  },
  {
   "cell_type": "code",
   "execution_count": 71,
   "id": "4fccbb8f-fdd3-437c-bd71-9f47d761dbef",
   "metadata": {},
   "outputs": [
    {
     "name": "stdout",
     "output_type": "stream",
     "text": [
      "1\n",
      "2\n",
      "3\n",
      "4\n"
     ]
    }
   ],
   "source": [
    "func(1, 2, 3, 4)"
   ]
  },
  {
   "cell_type": "code",
   "execution_count": null,
   "id": "c0b37f79-a82e-47a8-b6dd-4c8b535260b5",
   "metadata": {},
   "outputs": [],
   "source": []
  }
 ],
 "metadata": {
  "kernelspec": {
   "display_name": "Python 3 (ipykernel)",
   "language": "python",
   "name": "python3"
  },
  "language_info": {
   "codemirror_mode": {
    "name": "ipython",
    "version": 3
   },
   "file_extension": ".py",
   "mimetype": "text/x-python",
   "name": "python",
   "nbconvert_exporter": "python",
   "pygments_lexer": "ipython3",
   "version": "3.9.13"
  }
 },
 "nbformat": 4,
 "nbformat_minor": 5
}
