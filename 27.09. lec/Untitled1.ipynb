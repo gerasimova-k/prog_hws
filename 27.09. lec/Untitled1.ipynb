{
 "cells": [
  {
   "cell_type": "code",
   "execution_count": 10,
   "id": "fbe703c6-d9b2-4f2e-a494-4660af0a7d90",
   "metadata": {},
   "outputs": [],
   "source": [
    "def func(a, b):\n",
    "    n = 0\n",
    "    res = 1\n",
    "    while n != b: #итерирование\n",
    "        res *= a\n",
    "        n += 1\n",
    "    print(res)"
   ]
  },
  {
   "cell_type": "code",
   "execution_count": 11,
   "id": "f5a40606-0258-4045-9687-9f6736129f4b",
   "metadata": {},
   "outputs": [
    {
     "name": "stdout",
     "output_type": "stream",
     "text": [
      "9\n"
     ]
    }
   ],
   "source": [
    "func(3, 2)"
   ]
  },
  {
   "cell_type": "code",
   "execution_count": 21,
   "id": "85e67768-e5ec-4863-89fc-0cc048ad1347",
   "metadata": {},
   "outputs": [
    {
     "name": "stdout",
     "output_type": "stream",
     "text": [
      "  1  \t  2  \t  3  \t  4  \t  5  \t  6  \t  7  \t  8  \t  9  \t\n",
      "  2  \t  4  \t  6  \t  8  \t 10  \t 12  \t 14  \t 16  \t 18  \t\n",
      "  3  \t  6  \t  9  \t 12  \t 15  \t 18  \t 21  \t 24  \t 27  \t\n",
      "  4  \t  8  \t 12  \t 16  \t 20  \t 24  \t 28  \t 32  \t 36  \t\n",
      "  5  \t 10  \t 15  \t 20  \t 25  \t 30  \t 35  \t 40  \t 45  \t\n",
      "  6  \t 12  \t 18  \t 24  \t 30  \t 36  \t 42  \t 48  \t 54  \t\n",
      "  7  \t 14  \t 21  \t 28  \t 35  \t 42  \t 49  \t 56  \t 63  \t\n",
      "  8  \t 16  \t 24  \t 32  \t 40  \t 48  \t 56  \t 64  \t 72  \t\n",
      "  9  \t 18  \t 27  \t 36  \t 45  \t 54  \t 63  \t 72  \t 81  \t\n"
     ]
    }
   ],
   "source": [
    "for i in range(1, 10, 1):\n",
    "    for j in range(1, 10, 1):\n",
    "        print(f\"{i * j: ^5}\", end=\"\\t\")\n",
    "    print()"
   ]
  },
  {
   "cell_type": "code",
   "execution_count": 93,
   "id": "c53c1241-c681-4e6f-a78a-749ea6c30163",
   "metadata": {},
   "outputs": [],
   "source": [
    "def ruslet(word):\n",
    "    for letter in word:\n",
    "        a = ord(letter)\n",
    "        if not(1040 < a < 1103) and a != 1025 and a != 1105:\n",
    "            return False\n",
    "    return True"
   ]
  },
  {
   "cell_type": "code",
   "execution_count": 94,
   "id": "0288b4d8-a113-45c0-a96d-535bf487985f",
   "metadata": {},
   "outputs": [
    {
     "data": {
      "text/plain": [
       "True"
      ]
     },
     "execution_count": 94,
     "metadata": {},
     "output_type": "execute_result"
    }
   ],
   "source": [
    "ruslet(\"фцкп\")"
   ]
  },
  {
   "cell_type": "code",
   "execution_count": 107,
   "id": "770b92e8-d667-466c-81ad-355f172d1194",
   "metadata": {},
   "outputs": [],
   "source": [
    "def palyndr(A):\n",
    "    A = A.replace(\" \", \"\")\n",
    "    for letter in A:\n",
    "        B = A[::-1]\n",
    "        if B != A:\n",
    "            return False\n",
    "        return True"
   ]
  },
  {
   "cell_type": "code",
   "execution_count": 108,
   "id": "5ab0800b-4049-4f19-a363-bf15ddeea002",
   "metadata": {},
   "outputs": [
    {
     "data": {
      "text/plain": [
       "True"
      ]
     },
     "execution_count": 108,
     "metadata": {},
     "output_type": "execute_result"
    }
   ],
   "source": [
    "palyndr(\"ароз аупаланалапуазора\")"
   ]
  },
  {
   "cell_type": "code",
   "execution_count": 121,
   "id": "096166ed-dd7d-4def-835c-1983021aa505",
   "metadata": {},
   "outputs": [
    {
     "name": "stdin",
     "output_type": "stream",
     "text": [
      "Введите фразу а роза упала на лапу азора\n",
      "Введите 1 для проверки на кириллицу, введите 2 для проверки на палиндром 2\n"
     ]
    },
    {
     "name": "stdout",
     "output_type": "stream",
     "text": [
      "True\n"
     ]
    }
   ],
   "source": [
    "a = input(\"Введите фразу\")\n",
    "b = int(input(\"Введите 1 для проверки на кириллицу, введите 2 для проверки на палиндром\"))\n",
    "if b == 1:\n",
    "    print(ruslet(a))\n",
    "elif b == 2:\n",
    "    print(palyndr(a))\n",
    "else:\n",
    "    print(\"End\")\n"
   ]
  },
  {
   "cell_type": "code",
   "execution_count": 129,
   "id": "6c37d8ba-52fa-4c45-9deb-f31622b82493",
   "metadata": {},
   "outputs": [],
   "source": [
    "def sign(arg):\n",
    "    if arg < 0:\n",
    "        return False\n",
    "    elif arg > 0:\n",
    "        return True\n",
    "    else: \n",
    "        return type(None)"
   ]
  },
  {
   "cell_type": "code",
   "execution_count": 130,
   "id": "ac038766-e9e6-4294-a53f-b1c763ee0aad",
   "metadata": {},
   "outputs": [
    {
     "data": {
      "text/plain": [
       "NoneType"
      ]
     },
     "execution_count": 130,
     "metadata": {},
     "output_type": "execute_result"
    }
   ],
   "source": [
    "sign(0)"
   ]
  },
  {
   "cell_type": "code",
   "execution_count": null,
   "id": "6d5d224c-ee09-43d7-86ea-7934f264c4dd",
   "metadata": {},
   "outputs": [],
   "source": [
    "def pwrr(a, b):\n",
    "    n = 0\n",
    "    res = 1\n",
    "    if n != b: \n",
    "        res *= a\n",
    "        n += 1\n",
    "    print(res)\n",
    "    if n == 1:\n",
    "        return 1\n",
    "    return n * pwrr(n + 1)"
   ]
  }
 ],
 "metadata": {
  "kernelspec": {
   "display_name": "Python 3 (ipykernel)",
   "language": "python",
   "name": "python3"
  },
  "language_info": {
   "codemirror_mode": {
    "name": "ipython",
    "version": 3
   },
   "file_extension": ".py",
   "mimetype": "text/x-python",
   "name": "python",
   "nbconvert_exporter": "python",
   "pygments_lexer": "ipython3",
   "version": "3.9.13"
  }
 },
 "nbformat": 4,
 "nbformat_minor": 5
}
