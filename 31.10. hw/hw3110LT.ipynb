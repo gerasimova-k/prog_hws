{
 "cells": [
  {
   "cell_type": "code",
   "execution_count": 1,
   "id": "2538b353-0257-4d2d-9628-f1599f7240ae",
   "metadata": {},
   "outputs": [],
   "source": [
    "dct = {1: 'один', 2: 'два', 3: 'три', 4: 'четыре', 5: 'пять', 6: 'шесть', 7: 'семь', 8: 'восемь', 9: 'девять', 10: 'десять'}\n",
    "def numwrd(n):\n",
    "    print(dct[n])"
   ]
  },
  {
   "cell_type": "code",
   "execution_count": 3,
   "id": "7d8f0f09-0149-40cd-9365-d5d721ff5b29",
   "metadata": {},
   "outputs": [
    {
     "name": "stdout",
     "output_type": "stream",
     "text": [
      "шесть\n"
     ]
    }
   ],
   "source": [
    "numwrd(6)"
   ]
  },
  {
   "cell_type": "code",
   "execution_count": 4,
   "id": "d8c78296-61da-4150-bf85-a802ce1d020d",
   "metadata": {},
   "outputs": [],
   "source": [
    "def scramble(word, *arg):\n",
    "    dctt = {}\n",
    "    for i in arg:\n",
    "        dctt[i] = dctt.get(i, 0) + 1\n",
    "    for i in word:\n",
    "        dctt[i] = dctt.get(i, 0) - 1\n",
    "        if dctt[i] < 0:\n",
    "            break\n",
    "    else:\n",
    "        return True\n",
    "    return False"
   ]
  },
  {
   "cell_type": "code",
   "execution_count": 7,
   "id": "680340a4-1f3f-4d6f-a311-9662cfb8ba5b",
   "metadata": {},
   "outputs": [
    {
     "data": {
      "text/plain": [
       "True"
      ]
     },
     "execution_count": 7,
     "metadata": {},
     "output_type": "execute_result"
    }
   ],
   "source": [
    "scramble('мама', 'а', 'а', 'м', 'м')"
   ]
  },
  {
   "cell_type": "code",
   "execution_count": 8,
   "id": "ac845f69-ada6-4e85-9fc8-609a20994b53",
   "metadata": {},
   "outputs": [
    {
     "data": {
      "text/plain": [
       "False"
      ]
     },
     "execution_count": 8,
     "metadata": {},
     "output_type": "execute_result"
    }
   ],
   "source": [
    "scramble('africa', 'a', 'f', 'r', 'i', 'k', 'a')"
   ]
  },
  {
   "cell_type": "code",
   "execution_count": 23,
   "id": "dec89068-5067-479e-af0a-49b49e03dfda",
   "metadata": {},
   "outputs": [
    {
     "name": "stdin",
     "output_type": "stream",
     "text": [
      "Введите количество кандидатов 6\n",
      "Кандидат, кол-во голосов iuy 8\n",
      "Кандидат, кол-во голосов iuy 9\n",
      "Кандидат, кол-во голосов yui 9\n",
      "Кандидат, кол-во голосов oio 7\n",
      "Кандидат, кол-во голосов tyu 6\n",
      "Кандидат, кол-во голосов uyt 8\n"
     ]
    },
    {
     "name": "stdout",
     "output_type": "stream",
     "text": [
      "iuy 17\n",
      "oio 7\n",
      "tyu 6\n",
      "uyt 8\n",
      "yui 9\n"
     ]
    }
   ],
   "source": [
    "votes = {}\n",
    "for i in range(int(input('Введите количество кандидатов'))):\n",
    "    cnd, vt = input('Кандидат, кол-во голосов').split()\n",
    "    votes[cnd] = votes.get(cnd, 0) + int(vt)\n",
    "for cnd, vt in sorted(votes.items()):\n",
    "    print(cnd, vt)\n"
   ]
  },
  {
   "cell_type": "code",
   "execution_count": 46,
   "id": "c4f2f628-b584-44f8-aaea-09a2fcfcd0ab",
   "metadata": {},
   "outputs": [
    {
     "name": "stdin",
     "output_type": "stream",
     "text": [
      "Введите количество продаж 8\n",
      " ann apple 7\n",
      " ann apple 3\n",
      " ann pen 1\n",
      " ben pen 2\n",
      " clara pear 7\n",
      " den pear 6\n",
      " ann cup 2\n",
      " alice dress 3\n"
     ]
    },
    {
     "name": "stdout",
     "output_type": "stream",
     "text": [
      "alice\n",
      "dress 3\n",
      "ann\n",
      "apple 10\n",
      "pen 1\n",
      "cup 2\n",
      "ben\n",
      "pen 2\n",
      "clara\n",
      "pear 7\n",
      "den\n",
      "pear 6\n"
     ]
    }
   ],
   "source": [
    "s = {}\n",
    "for i in range(int(input('Введите количество продаж'))):\n",
    "    name, item, amount = input().split()\n",
    "    if name not in s.keys():\n",
    "        s[name] = {item: int(amount)} \n",
    "    else: \n",
    "        if item in s[name]: \n",
    "            s[name][item] += int(amount) \n",
    "        else: \n",
    "            s[name].update({item: int(amount)}) \n",
    "for name in sorted(s):\n",
    "    print(name)\n",
    "    for item in s[name]:\n",
    "        print(item, s[name][item])"
   ]
  },
  {
   "cell_type": "code",
   "execution_count": null,
   "id": "ae922ae3-3564-41b5-8736-f9818c930546",
   "metadata": {},
   "outputs": [],
   "source": []
  }
 ],
 "metadata": {
  "kernelspec": {
   "display_name": "Python 3 (ipykernel)",
   "language": "python",
   "name": "python3"
  },
  "language_info": {
   "codemirror_mode": {
    "name": "ipython",
    "version": 3
   },
   "file_extension": ".py",
   "mimetype": "text/x-python",
   "name": "python",
   "nbconvert_exporter": "python",
   "pygments_lexer": "ipython3",
   "version": "3.9.13"
  }
 },
 "nbformat": 4,
 "nbformat_minor": 5
}
