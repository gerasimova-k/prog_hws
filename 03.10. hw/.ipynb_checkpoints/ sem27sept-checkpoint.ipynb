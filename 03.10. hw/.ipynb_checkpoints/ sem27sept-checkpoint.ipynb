{
 "cells": [
  {
   "cell_type": "code",
   "execution_count": 3,
   "id": "608ae1f9-5f83-422d-9585-072d809236a2",
   "metadata": {},
   "outputs": [
    {
     "name": "stdin",
     "output_type": "stream",
     "text": [
      " 4 5 6\n"
     ]
    },
    {
     "name": "stdout",
     "output_type": "stream",
     "text": [
      "Сумма 15 Минимальное 4 Максимальное 6\n"
     ]
    }
   ],
   "source": [
    "L = [int(x) for x in input().split()]\n",
    "print(\"Сумма\", sum(L), \"Минимальное\", min(L), \"Максимальное\", max(L))"
   ]
  },
  {
   "cell_type": "code",
   "execution_count": 58,
   "id": "e1e679c7-cb3e-42f6-bb66-fc9e9f98fb0f",
   "metadata": {},
   "outputs": [],
   "source": [
    "B = list(range(1, 11))\n",
    "B[3:3] = ['30']\n",
    "B.insert(3, '30')"
   ]
  },
  {
   "cell_type": "code",
   "execution_count": 59,
   "id": "d8e28d47-c053-41f6-8c75-cff4aca3f4ba",
   "metadata": {},
   "outputs": [
    {
     "data": {
      "text/plain": [
       "[1, 2, 3, '30', '30', 4, 5, 6, 7, 8, 9, 10]"
      ]
     },
     "execution_count": 59,
     "metadata": {},
     "output_type": "execute_result"
    }
   ],
   "source": [
    "B"
   ]
  },
  {
   "cell_type": "code",
   "execution_count": 52,
   "id": "9c342f6e-5fdb-4e0b-b070-d2146f7414de",
   "metadata": {},
   "outputs": [
    {
     "name": "stdout",
     "output_type": "stream",
     "text": [
      "[2, 3, 4, 5]\n"
     ]
    }
   ],
   "source": [
    "A = [1, 2, 3, 4, 5, 1, 1]\n",
    "while 1 in A:\n",
    "    A.remove(1)\n",
    "print(A)"
   ]
  },
  {
   "cell_type": "code",
   "execution_count": 54,
   "id": "19a43777-4a32-4c83-892e-eb53cfb7ccde",
   "metadata": {},
   "outputs": [
    {
     "name": "stdin",
     "output_type": "stream",
     "text": [
      " tydr uygo poi\n"
     ]
    },
    {
     "name": "stdout",
     "output_type": "stream",
     "text": [
      "uygo\n",
      "tydr\n",
      "poi\n"
     ]
    }
   ],
   "source": [
    "L = input().split()\n",
    "L.sort(reverse=True)\n",
    "for word in L:\n",
    "    print(word)"
   ]
  },
  {
   "cell_type": "code",
   "execution_count": 1,
   "id": "fc61756b-7a37-45ed-b9ab-b220628f8f59",
   "metadata": {},
   "outputs": [],
   "source": [
    "def func(a, b):\n",
    "    n = 0\n",
    "    res = 1\n",
    "    while n != b: \n",
    "        res *= a\n",
    "        n += 1\n",
    "    print(res)"
   ]
  },
  {
   "cell_type": "code",
   "execution_count": 2,
   "id": "8cf14803-ce1f-4b0f-9252-b20ea415aa1b",
   "metadata": {},
   "outputs": [
    {
     "name": "stdout",
     "output_type": "stream",
     "text": [
      "16\n"
     ]
    }
   ],
   "source": [
    "func(4, 2)"
   ]
  },
  {
   "cell_type": "code",
   "execution_count": null,
   "id": "235c7b2b-7540-47e0-b31f-1903ef78d4a8",
   "metadata": {},
   "outputs": [],
   "source": []
  }
 ],
 "metadata": {
  "kernelspec": {
   "display_name": "Python 3 (ipykernel)",
   "language": "python",
   "name": "python3"
  },
  "language_info": {
   "codemirror_mode": {
    "name": "ipython",
    "version": 3
   },
   "file_extension": ".py",
   "mimetype": "text/x-python",
   "name": "python",
   "nbconvert_exporter": "python",
   "pygments_lexer": "ipython3",
   "version": "3.9.13"
  }
 },
 "nbformat": 4,
 "nbformat_minor": 5
}
