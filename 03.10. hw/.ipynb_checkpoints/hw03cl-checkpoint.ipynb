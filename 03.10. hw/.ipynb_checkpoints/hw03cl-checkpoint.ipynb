{
 "cells": [
  {
   "cell_type": "code",
   "execution_count": 49,
   "id": "6a7a563c-6d96-4190-8f16-54ae7941ed82",
   "metadata": {},
   "outputs": [
    {
     "name": "stdin",
     "output_type": "stream",
     "text": [
      " 2\n",
      " 4\n",
      " 4\n",
      " 4\n",
      " 5\n",
      " 5\n",
      " 7\n",
      " 9\n",
      " 0\n"
     ]
    },
    {
     "name": "stdout",
     "output_type": "stream",
     "text": [
      "2.0\n"
     ]
    }
   ],
   "source": [
    "L = [int(x) for x in input().split()]\n",
    "mn = 0\n",
    "a = 0\n",
    "while True:\n",
    "    x = int(input())\n",
    "    if x == 0:\n",
    "        break\n",
    "    else:\n",
    "        L.append(x) \n",
    "        mn = sum(L) / len(L)\n",
    "for x in L:\n",
    "    a += ((x - mn) ** 2)\n",
    "print((a / len(L)) ** (0.5))"
   ]
  },
  {
   "cell_type": "code",
   "execution_count": 29,
   "id": "42a47b6b-74ad-4adb-8c84-3febf8a90259",
   "metadata": {
    "jp-MarkdownHeadingCollapsed": true,
    "tags": []
   },
   "outputs": [
    {
     "name": "stdin",
     "output_type": "stream",
     "text": [
      " 0\n"
     ]
    }
   ],
   "source": [
    "wrd = 'кролик'\n",
    "wrda = 'кролика'\n",
    "wrdov = 'кроликов'\n",
    "while True:\n",
    "    a = input()\n",
    "    if a == \"0\":\n",
    "        break\n",
    "    else:\n",
    "        b = list(a)\n",
    "        i = int(b[-1])\n",
    "        if len(b) > 1 and int(b[-2]) == 1:\n",
    "                print(f'{a} {wrdov}') \n",
    "        elif i == 1:\n",
    "            print(f'{a} {wrd}')\n",
    "        elif 2 <= i <= 4:\n",
    "            print (f'{a} {wrda}')\n",
    "        elif 5 <= i <= 9:\n",
    "            print(f'{a} {wrdov}')"
   ]
  },
  {
   "cell_type": "code",
   "execution_count": 32,
   "id": "0254baec-c276-4dd2-a2f2-dc9d35eb4486",
   "metadata": {},
   "outputs": [
    {
     "name": "stdin",
     "output_type": "stream",
     "text": [
      " 1234 -123 123 -1 -12134 0\n"
     ]
    },
    {
     "name": "stdout",
     "output_type": "stream",
     "text": [
      "-12134\n"
     ]
    }
   ],
   "source": [
    "L = [int(x) for x in input().split()]\n",
    "print(min(L))"
   ]
  },
  {
   "cell_type": "code",
   "execution_count": 53,
   "id": "2ebd25ba-7b42-457b-b9f4-3b7aedc2acf5",
   "metadata": {},
   "outputs": [
    {
     "name": "stdin",
     "output_type": "stream",
     "text": [
      " d\n"
     ]
    },
    {
     "name": "stdout",
     "output_type": "stream",
     "text": [
      "D\n"
     ]
    },
    {
     "name": "stdin",
     "output_type": "stream",
     "text": [
      " adfv\n"
     ]
    },
    {
     "name": "stdout",
     "output_type": "stream",
     "text": [
      "ADFV\n"
     ]
    },
    {
     "name": "stdin",
     "output_type": "stream",
     "text": [
      " 87\n"
     ]
    },
    {
     "name": "stdout",
     "output_type": "stream",
     "text": [
      "7569\n"
     ]
    },
    {
     "name": "stdin",
     "output_type": "stream",
     "text": [
      " 4\n"
     ]
    },
    {
     "name": "stdout",
     "output_type": "stream",
     "text": [
      "16\n"
     ]
    },
    {
     "name": "stdin",
     "output_type": "stream",
     "text": [
      "  \n"
     ]
    }
   ],
   "source": [
    "while True:\n",
    "    a = input()\n",
    "    if a.count(\" \") > 0:\n",
    "        break\n",
    "    else:\n",
    "        if a.isdigit():\n",
    "            print(int(a) ** 2)\n",
    "        if a.isalpha():\n",
    "                print(a.upper())\n",
    "    "
   ]
  },
  {
   "cell_type": "code",
   "execution_count": 68,
   "id": "bb900b4e-9b41-4f61-8ee2-f685f43bef54",
   "metadata": {},
   "outputs": [
    {
     "name": "stdin",
     "output_type": "stream",
     "text": [
      " 99999\n"
     ]
    },
    {
     "name": "stdout",
     "output_type": "stream",
     "text": [
      "Введите число от 1 до 1023\n"
     ]
    },
    {
     "name": "stdin",
     "output_type": "stream",
     "text": [
      " 99999\n"
     ]
    },
    {
     "name": "stdout",
     "output_type": "stream",
     "text": [
      "Введите число от 1 до 1023\n"
     ]
    },
    {
     "name": "stdin",
     "output_type": "stream",
     "text": [
      " 99999\n"
     ]
    },
    {
     "name": "stdout",
     "output_type": "stream",
     "text": [
      "Введите число от 1 до 1023\n"
     ]
    },
    {
     "name": "stdin",
     "output_type": "stream",
     "text": [
      " 99999\n"
     ]
    },
    {
     "name": "stdout",
     "output_type": "stream",
     "text": [
      "Введите число от 1 до 1023\n"
     ]
    },
    {
     "name": "stdin",
     "output_type": "stream",
     "text": [
      " 99999\n"
     ]
    },
    {
     "name": "stdout",
     "output_type": "stream",
     "text": [
      "Введите число от 1 до 1023\n"
     ]
    },
    {
     "name": "stdin",
     "output_type": "stream",
     "text": [
      " 99999\n"
     ]
    },
    {
     "name": "stdout",
     "output_type": "stream",
     "text": [
      "Введите число от 1 до 1023\n"
     ]
    },
    {
     "name": "stdin",
     "output_type": "stream",
     "text": [
      " 99999\n"
     ]
    },
    {
     "name": "stdout",
     "output_type": "stream",
     "text": [
      "Введите число от 1 до 1023\n"
     ]
    },
    {
     "name": "stdin",
     "output_type": "stream",
     "text": [
      " 99999\n"
     ]
    },
    {
     "name": "stdout",
     "output_type": "stream",
     "text": [
      "Введите число от 1 до 1023\n"
     ]
    },
    {
     "name": "stdin",
     "output_type": "stream",
     "text": [
      " 99999\n"
     ]
    },
    {
     "name": "stdout",
     "output_type": "stream",
     "text": [
      "Введите число от 1 до 1023\n"
     ]
    },
    {
     "name": "stdin",
     "output_type": "stream",
     "text": [
      " 99999\n"
     ]
    },
    {
     "name": "stdout",
     "output_type": "stream",
     "text": [
      "Введите число от 1 до 1023\n"
     ]
    },
    {
     "name": "stdin",
     "output_type": "stream",
     "text": [
      " 99\n"
     ]
    },
    {
     "name": "stdout",
     "output_type": "stream",
     "text": [
      "больше\n"
     ]
    },
    {
     "name": "stdin",
     "output_type": "stream",
     "text": [
      " 999\n"
     ]
    },
    {
     "name": "stdout",
     "output_type": "stream",
     "text": [
      "меньше\n"
     ]
    },
    {
     "name": "stdin",
     "output_type": "stream",
     "text": [
      " 456\n"
     ]
    },
    {
     "name": "stdout",
     "output_type": "stream",
     "text": [
      "меньше\n"
     ]
    },
    {
     "name": "stdin",
     "output_type": "stream",
     "text": [
      " 345\n"
     ]
    },
    {
     "name": "stdout",
     "output_type": "stream",
     "text": [
      "меньше\n"
     ]
    },
    {
     "name": "stdin",
     "output_type": "stream",
     "text": [
      " 234\n"
     ]
    },
    {
     "name": "stdout",
     "output_type": "stream",
     "text": [
      "больше\n"
     ]
    },
    {
     "name": "stdin",
     "output_type": "stream",
     "text": [
      " 300\n"
     ]
    },
    {
     "name": "stdout",
     "output_type": "stream",
     "text": [
      "меньше\n"
     ]
    },
    {
     "name": "stdin",
     "output_type": "stream",
     "text": [
      " 270\n"
     ]
    },
    {
     "name": "stdout",
     "output_type": "stream",
     "text": [
      "больше\n"
     ]
    },
    {
     "name": "stdin",
     "output_type": "stream",
     "text": [
      " 280\n"
     ]
    },
    {
     "name": "stdout",
     "output_type": "stream",
     "text": [
      "больше\n"
     ]
    },
    {
     "name": "stdin",
     "output_type": "stream",
     "text": [
      " 290\n"
     ]
    },
    {
     "name": "stdout",
     "output_type": "stream",
     "text": [
      "меньше\n"
     ]
    },
    {
     "name": "stdin",
     "output_type": "stream",
     "text": [
      " 285\n"
     ]
    },
    {
     "name": "stdout",
     "output_type": "stream",
     "text": [
      "больше\n",
      "попытки кончились, загаданное число: 289 Сыграть заново?\n"
     ]
    }
   ],
   "source": [
    "from random import randint\n",
    "errs = 0\n",
    "n = randint(1, 1023)\n",
    "while True:\n",
    "    a = int(input())\n",
    "    if a == 0:\n",
    "        break\n",
    "    else:\n",
    "        if a < 1 or a > 1023:\n",
    "            print('Введите число от 1 до 1023')\n",
    "            errs += 0\n",
    "        elif a != n:\n",
    "            if a < n:\n",
    "                print('больше')\n",
    "            if a > n:\n",
    "                print('меньше')\n",
    "            errs += 1\n",
    "    if errs == 10:\n",
    "        print('попытки кончились, загаданное число:', n, 'Сыграть заново?')\n",
    "        break \n",
    "    elif int(a) == n:\n",
    "        print('Победа')\n",
    "        break\n",
    "          \n",
    "#\"Ответьте на вопрос: готовы ли вы ручаться, что угадаете загаданное число за эти 10 попыток?\"))\n",
    "        "
   ]
  },
  {
   "cell_type": "code",
   "execution_count": 203,
   "id": "04a159b8-8557-424a-a510-57c4365f5b10",
   "metadata": {},
   "outputs": [
    {
     "name": "stdin",
     "output_type": "stream",
     "text": [
      " )\n"
     ]
    },
    {
     "name": "stdout",
     "output_type": "stream",
     "text": [
      "False\n"
     ]
    }
   ],
   "source": [
    "# {[()]}\n",
    "x = input()\n",
    "\n",
    "a = ('(' in x) and (')' in x) and x.index('(') < x.index(')') and (x.index(')') - x.index('(')) % 2 != 0\n",
    "b = ('[' in x) and (']' in x) and x.index('[') < x.index(']') and (x.index(']') - x.index('[')) % 2 != 0\n",
    "c = ('{' in x) and ('}' in x) and x.index('{') < x.index('}') and (x.index('}') - x.index('{')) % 2 != 0\n",
    "A = (x.count('(') == x.count (')')) \n",
    "B = (x.count('[') == x.count (']')) \n",
    "C = (x.count('{') == x.count ('}'))\n",
    "if ((A + a) * (B + b) * (C + c)) != 0:\n",
    "    print('True')\n",
    "else:\n",
    "    print('False')\n"
   ]
  },
  {
   "cell_type": "code",
   "execution_count": 231,
   "id": "1bccc85d-d1c9-40b9-b15a-00753977df38",
   "metadata": {},
   "outputs": [
    {
     "name": "stdout",
     "output_type": "stream",
     "text": [
      "1040\n",
      "1041\n",
      "1042\n",
      "1043\n",
      "1044\n",
      "1045\n",
      "1046\n",
      "1047\n",
      "1048\n",
      "1049\n",
      "1050\n",
      "1051\n",
      "1052\n",
      "1053\n",
      "1054\n",
      "1055\n",
      "1056\n",
      "1057\n",
      "1058\n",
      "1059\n",
      "1060\n",
      "1061\n",
      "1062\n",
      "1063\n",
      "1064\n",
      "1065\n",
      "1066\n",
      "1067\n",
      "1068\n",
      "1069\n",
      "1070\n",
      "1071\n",
      "1072\n",
      "1073\n",
      "1074\n",
      "1075\n",
      "1076\n",
      "1077\n",
      "1078\n",
      "1079\n",
      "1080\n",
      "1081\n",
      "1082\n",
      "1083\n",
      "1084\n",
      "1085\n",
      "1086\n",
      "1087\n",
      "1088\n",
      "1089\n",
      "1090\n",
      "1091\n",
      "1092\n",
      "1093\n",
      "1094\n",
      "1095\n",
      "1096\n",
      "1097\n",
      "1098\n",
      "1099\n",
      "1100\n",
      "1101\n",
      "1102\n",
      "1103\n",
      "1025\n",
      "1105\n",
      "65\n",
      "66\n",
      "67\n",
      "68\n",
      "69\n",
      "70\n",
      "71\n",
      "72\n",
      "73\n",
      "74\n",
      "75\n",
      "76\n",
      "77\n",
      "78\n",
      "79\n",
      "80\n",
      "81\n",
      "82\n",
      "83\n",
      "84\n",
      "85\n",
      "86\n",
      "87\n",
      "88\n",
      "89\n",
      "90\n",
      "97\n",
      "98\n",
      "99\n",
      "100\n",
      "101\n",
      "102\n",
      "103\n",
      "104\n",
      "105\n",
      "103\n",
      "107\n",
      "108\n",
      "109\n",
      "110\n",
      "111\n",
      "112\n",
      "113\n",
      "114\n",
      "115\n",
      "116\n",
      "117\n",
      "118\n",
      "119\n",
      "120\n",
      "121\n",
      "122\n"
     ]
    }
   ],
   "source": [
    "#Занудная: выведите с помощью цикла порядковые номера всех букв: \n",
    "# решение 1 \n",
    "A = 'АБВГДЕЖЗИЙКЛМНОПРСТУФХЦЧШЩЪЫЬЭЮЯабвгдежзийклмнопрстуфхцчшщъыьэюяЁё'\n",
    "B = 'ABCDEFGHIJKLMNOPQRSTUVWXYZabcdefghigklmnopqrstuvwxyz'\n",
    "for char in A:\n",
    "    print(ord(char))\n",
    "for char in B:\n",
    "    print(ord(char))"
   ]
  },
  {
   "cell_type": "code",
   "execution_count": 305,
   "id": "7bab2ad3-d694-457e-a759-e4c34f1910b8",
   "metadata": {},
   "outputs": [
    {
     "name": "stdout",
     "output_type": "stream",
     "text": [
      "1025\n",
      "1040\n",
      "1041\n",
      "1042\n",
      "1043\n",
      "1044\n",
      "1045\n",
      "1046\n",
      "1047\n",
      "1048\n",
      "1049\n",
      "1050\n",
      "1051\n",
      "1052\n",
      "1053\n",
      "1054\n",
      "1055\n",
      "1056\n",
      "1057\n",
      "1058\n",
      "1059\n",
      "1060\n",
      "1061\n",
      "1062\n",
      "1063\n",
      "1064\n",
      "1065\n",
      "1066\n",
      "1067\n",
      "1068\n",
      "1069\n",
      "1070\n",
      "1071\n",
      "1072\n",
      "1073\n",
      "1074\n",
      "1075\n",
      "1076\n",
      "1077\n",
      "1078\n",
      "1079\n",
      "1080\n",
      "1081\n",
      "1082\n",
      "1083\n",
      "1084\n",
      "1085\n",
      "1086\n",
      "1087\n",
      "1088\n",
      "1089\n",
      "1090\n",
      "1091\n",
      "1092\n",
      "1093\n",
      "1094\n",
      "1095\n",
      "1096\n",
      "1097\n",
      "1098\n",
      "1099\n",
      "1100\n",
      "1101\n",
      "1102\n",
      "1103\n",
      "1105\n"
     ]
    }
   ],
   "source": [
    "#Решение 2\n",
    "A = 'ЁАБВГДЕЖЗИЙКЛМНОПРСТУФХЦЧШЩЪЫЬЭЮЯабвгдежзийклмнопрстуфхцчшщъыьэюяё'\n",
    "B = 'ABCDEFGHIJKLMNOPQRSTUVWXYZabcdefghigklmnopqrstuvwxyz'\n",
    "n = 0\n",
    "L = []\n",
    "k = 0\n",
    "while n != 32 + 32 + 2:\n",
    "    x = ord(A[n])\n",
    "    L.append(x)\n",
    "    print(x)\n",
    "    n += 1"
   ]
  },
  {
   "cell_type": "code",
   "execution_count": 335,
   "id": "a5298d3d-db4e-45fd-b61f-6bd97be0f30d",
   "metadata": {},
   "outputs": [
    {
     "name": "stdout",
     "output_type": "stream",
     "text": [
      "Ђ\n",
      "Ѓ\n",
      "Є\n",
      "Ѕ\n",
      "І\n",
      "Ї\n",
      "Ј\n",
      "Љ\n",
      "Њ\n",
      "Ћ\n",
      "Ќ\n",
      "Ѝ\n",
      "Ў\n",
      "Џ\n"
     ]
    }
   ],
   "source": [
    "#Посмотрите, есть ли между ними что-нибудь\n",
    "q = 0\n",
    "w = 1\n",
    "for char in L:\n",
    "    while q < int(L[1] - 1):\n",
    "            q = int(L[k] + w)\n",
    "            print(chr(q))\n",
    "            w += 1"
   ]
  },
  {
   "cell_type": "code",
   "execution_count": 384,
   "id": "af07b7ef-e441-4b7f-a64f-c67ce1be60f2",
   "metadata": {},
   "outputs": [
    {
     "name": "stdin",
     "output_type": "stream",
     "text": [
      "Введите шифр абвгдеёжзийклмнопрстуфхцчшщъыьэюя\n"
     ]
    },
    {
     "name": "stdout",
     "output_type": "stream",
     "text": [
      "а\tб\tв\tг\tд\tе\tё\tж\tз\tи\tй\tк\tл\tм\tн\tо\tп\tр\tс\tт\tу\tф\tх\tц\tч\tш\tщ\tъ\tы\tь\tэ\tю\tя\t0\n",
      "б\tв\tг\tд\tе\tё\tж\tз\tи\tй\tк\tл\tм\tн\tо\tп\tр\tс\tт\tу\tф\tх\tц\tч\tш\tщ\tъ\tы\tь\tэ\tю\tя\tа\t1\n",
      "в\tг\tд\tе\tё\tж\tз\tи\tй\tк\tл\tм\tн\tо\tп\tр\tс\tт\tу\tф\tх\tц\tч\tш\tщ\tъ\tы\tь\tэ\tю\tя\tа\tб\t2\n",
      "г\tд\tе\tё\tж\tз\tи\tй\tк\tл\tм\tн\tо\tп\tр\tс\tт\tу\tф\tх\tц\tч\tш\tщ\tъ\tы\tь\tэ\tю\tя\tа\tб\tв\t3\n",
      "д\tе\tё\tж\tз\tи\tй\tк\tл\tм\tн\tо\tп\tр\tс\tт\tу\tф\tх\tц\tч\tш\tщ\tъ\tы\tь\tэ\tю\tя\tа\tб\tв\tг\t4\n",
      "е\tё\tж\tз\tи\tй\tк\tл\tм\tн\tо\tп\tр\tс\tт\tу\tф\tх\tц\tч\tш\tщ\tъ\tы\tь\tэ\tю\tя\tа\tб\tв\tг\tд\t5\n",
      "ё\tж\tз\tи\tй\tк\tл\tм\tн\tо\tп\tр\tс\tт\tу\tф\tх\tц\tч\tш\tщ\tъ\tы\tь\tэ\tю\tя\tа\tб\tв\tг\tд\tе\t6\n",
      "ж\tз\tи\tй\tк\tл\tм\tн\tо\tп\tр\tс\tт\tу\tф\tх\tц\tч\tш\tщ\tъ\tы\tь\tэ\tю\tя\tа\tб\tв\tг\tд\tе\tё\t7\n",
      "з\tи\tй\tк\tл\tм\tн\tо\tп\tр\tс\tт\tу\tф\tх\tц\tч\tш\tщ\tъ\tы\tь\tэ\tю\tя\tа\tб\tв\tг\tд\tе\tё\tж\t8\n",
      "и\tй\tк\tл\tм\tн\tо\tп\tр\tс\tт\tу\tф\tх\tц\tч\tш\tщ\tъ\tы\tь\tэ\tю\tя\tа\tб\tв\tг\tд\tе\tё\tж\tз\t9\n",
      "й\tк\tл\tм\tн\tо\tп\tр\tс\tт\tу\tф\tх\tц\tч\tш\tщ\tъ\tы\tь\tэ\tю\tя\tа\tб\tв\tг\tд\tе\tё\tж\tз\tи\t10\n",
      "к\tл\tм\tн\tо\tп\tр\tс\tт\tу\tф\tх\tц\tч\tш\tщ\tъ\tы\tь\tэ\tю\tя\tа\tб\tв\tг\tд\tе\tё\tж\tз\tи\tй\t11\n",
      "л\tм\tн\tо\tп\tр\tс\tт\tу\tф\tх\tц\tч\tш\tщ\tъ\tы\tь\tэ\tю\tя\tа\tб\tв\tг\tд\tе\tё\tж\tз\tи\tй\tк\t12\n",
      "м\tн\tо\tп\tр\tс\tт\tу\tф\tх\tц\tч\tш\tщ\tъ\tы\tь\tэ\tю\tя\tа\tб\tв\tг\tд\tе\tё\tж\tз\tи\tй\tк\tл\t13\n",
      "н\tо\tп\tр\tс\tт\tу\tф\tх\tц\tч\tш\tщ\tъ\tы\tь\tэ\tю\tя\tа\tб\tв\tг\tд\tе\tё\tж\tз\tи\tй\tк\tл\tм\t14\n",
      "о\tп\tр\tс\tт\tу\tф\tх\tц\tч\tш\tщ\tъ\tы\tь\tэ\tю\tя\tа\tб\tв\tг\tд\tе\tё\tж\tз\tи\tй\tк\tл\tм\tн\t15\n",
      "п\tр\tс\tт\tу\tф\tх\tц\tч\tш\tщ\tъ\tы\tь\tэ\tю\tя\tа\tб\tв\tг\tд\tе\tё\tж\tз\tи\tй\tк\tл\tм\tн\tо\t16\n",
      "р\tс\tт\tу\tф\tх\tц\tч\tш\tщ\tъ\tы\tь\tэ\tю\tя\tа\tб\tв\tг\tд\tе\tё\tж\tз\tи\tй\tк\tл\tм\tн\tо\tп\t17\n",
      "с\tт\tу\tф\tх\tц\tч\tш\tщ\tъ\tы\tь\tэ\tю\tя\tа\tб\tв\tг\tд\tе\tё\tж\tз\tи\tй\tк\tл\tм\tн\tо\tп\tр\t18\n",
      "т\tу\tф\tх\tц\tч\tш\tщ\tъ\tы\tь\tэ\tю\tя\tа\tб\tв\tг\tд\tе\tё\tж\tз\tи\tй\tк\tл\tм\tн\tо\tп\tр\tс\t19\n",
      "у\tф\tх\tц\tч\tш\tщ\tъ\tы\tь\tэ\tю\tя\tа\tб\tв\tг\tд\tе\tё\tж\tз\tи\tй\tк\tл\tм\tн\tо\tп\tр\tс\tт\t20\n",
      "ф\tх\tц\tч\tш\tщ\tъ\tы\tь\tэ\tю\tя\tа\tб\tв\tг\tд\tе\tё\tж\tз\tи\tй\tк\tл\tм\tн\tо\tп\tр\tс\tт\tу\t21\n",
      "х\tц\tч\tш\tщ\tъ\tы\tь\tэ\tю\tя\tа\tб\tв\tг\tд\tе\tё\tж\tз\tи\tй\tк\tл\tм\tн\tо\tп\tр\tс\tт\tу\tф\t22\n",
      "ц\tч\tш\tщ\tъ\tы\tь\tэ\tю\tя\tа\tб\tв\tг\tд\tе\tё\tж\tз\tи\tй\tк\tл\tм\tн\tо\tп\tр\tс\tт\tу\tф\tх\t23\n",
      "ч\tш\tщ\tъ\tы\tь\tэ\tю\tя\tа\tб\tв\tг\tд\tе\tё\tж\tз\tи\tй\tк\tл\tм\tн\tо\tп\tр\tс\tт\tу\tф\tх\tц\t24\n",
      "ш\tщ\tъ\tы\tь\tэ\tю\tя\tа\tб\tв\tг\tд\tе\tё\tж\tз\tи\tй\tк\tл\tм\tн\tо\tп\tр\tс\tт\tу\tф\tх\tц\tч\t25\n",
      "щ\tъ\tы\tь\tэ\tю\tя\tа\tб\tв\tг\tд\tе\tё\tж\tз\tи\tй\tк\tл\tм\tн\tо\tп\tр\tс\tт\tу\tф\tх\tц\tч\tш\t26\n",
      "ъ\tы\tь\tэ\tю\tя\tа\tб\tв\tг\tд\tе\tё\tж\tз\tи\tй\tк\tл\tм\tн\tо\tп\tр\tс\tт\tу\tф\tх\tц\tч\tш\tщ\t27\n",
      "ы\tь\tэ\tю\tя\tа\tб\tв\tг\tд\tе\tё\tж\tз\tи\tй\tк\tл\tм\tн\tо\tп\tр\tс\tт\tу\tф\tх\tц\tч\tш\tщ\tь\t28\n",
      "ь\tэ\tю\tя\tа\tб\tв\tг\tд\tе\tё\tж\tз\tи\tй\tк\tл\tм\tн\tо\tп\tр\tс\tт\tу\tф\tх\tц\tч\tш\tщ\tь\tы\t29\n",
      "э\tю\tя\tа\tб\tв\tг\tд\tе\tё\tж\tз\tи\tй\tк\tл\tм\tн\tо\tп\tр\tс\tт\tу\tф\tх\tц\tч\tш\tщ\tь\tы\tб\t30\n",
      "ю\tя\tа\tб\tв\tг\tд\tе\tё\tж\tз\tи\tй\tк\tл\tм\tн\tо\tп\tр\tс\tт\tу\tф\tх\tц\tч\tш\tщ\tь\tы\tб\tэ\t31\n",
      "я\tа\tб\tв\tг\tд\tе\tё\tж\tз\tи\tй\tк\tл\tм\tн\tо\tп\tр\tс\tт\tу\tф\tх\tц\tч\tш\tщ\tь\tы\tб\tэ\tю\t32\n"
     ]
    }
   ],
   "source": [
    "A = 'абвгдеёжзийклмнопрстуфхцчшщъыьэюяабвгдеёжзийклмнопрстуфхцчшщьыбэюя'\n",
    "msg = input('Введите шифр').replace(' ', '')\n",
    "msg = msg.lower()\n",
    "encr = ''\n",
    "\n",
    "for k in range(0, 33):\n",
    "    k = int(k)\n",
    "    for char in msg:\n",
    "        encr = A[(A.index(char) + k)]\n",
    "        print(f'{encr}', end = '\\t')\n",
    "    print(k)"
   ]
  },
  {
   "cell_type": "code",
   "execution_count": null,
   "id": "af48a5eb-14c5-4b8e-a135-4768b88a8c1a",
   "metadata": {},
   "outputs": [],
   "source": []
  }
 ],
 "metadata": {
  "kernelspec": {
   "display_name": "Python 3 (ipykernel)",
   "language": "python",
   "name": "python3"
  },
  "language_info": {
   "codemirror_mode": {
    "name": "ipython",
    "version": 3
   },
   "file_extension": ".py",
   "mimetype": "text/x-python",
   "name": "python",
   "nbconvert_exporter": "python",
   "pygments_lexer": "ipython3",
   "version": "3.9.13"
  }
 },
 "nbformat": 4,
 "nbformat_minor": 5
}
