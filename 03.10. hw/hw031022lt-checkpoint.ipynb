{
 "cells": [
  {
   "cell_type": "code",
   "execution_count": 4,
   "id": "0a01f2e2-31b5-48fe-b63e-5a70b5380e25",
   "metadata": {},
   "outputs": [
    {
     "name": "stdin",
     "output_type": "stream",
     "text": [
      " 2\n"
     ]
    },
    {
     "name": "stdout",
     "output_type": "stream",
     "text": [
      "4.40924\n"
     ]
    }
   ],
   "source": [
    "a = float(input())\n",
    "print(a * 2.20462)"
   ]
  },
  {
   "cell_type": "code",
   "execution_count": 5,
   "id": "4fcda286-4a22-4e4b-a95d-74aefd4a6360",
   "metadata": {},
   "outputs": [
    {
     "name": "stdin",
     "output_type": "stream",
     "text": [
      " дофвар и фдуок и дфук и дфукло\n"
     ]
    },
    {
     "data": {
      "text/plain": [
       "3"
      ]
     },
     "execution_count": 5,
     "metadata": {},
     "output_type": "execute_result"
    }
   ],
   "source": [
    "s = input()\n",
    "s.count(\" и \")"
   ]
  },
  {
   "cell_type": "code",
   "execution_count": 26,
   "id": "777d86e0-2f89-4cf8-818a-c580ade86d32",
   "metadata": {},
   "outputs": [
    {
     "name": "stdin",
     "output_type": "stream",
     "text": [
      " aewrg\n"
     ]
    },
    {
     "data": {
      "text/plain": [
       "'grwea'"
      ]
     },
     "execution_count": 26,
     "metadata": {},
     "output_type": "execute_result"
    }
   ],
   "source": [
    "s = input()\n",
    "s[::-1]"
   ]
  },
  {
   "cell_type": "code",
   "execution_count": 21,
   "id": "3739bbbf-20cd-4dc2-ab0d-7aefa9b9f25c",
   "metadata": {},
   "outputs": [
    {
     "name": "stdin",
     "output_type": "stream",
     "text": [
      " qwert\n"
     ]
    },
    {
     "name": "stdout",
     "output_type": "stream",
     "text": [
      "rtqwe\n"
     ]
    }
   ],
   "source": [
    "s = input()\n",
    "print(s[(len(s) + 1) // 2:] + s[:(len(s) + 1) // 2])"
   ]
  },
  {
   "cell_type": "code",
   "execution_count": 22,
   "id": "8de3234d-c1ef-454f-8d6b-c47af5970476",
   "metadata": {},
   "outputs": [
    {
     "name": "stdin",
     "output_type": "stream",
     "text": [
      " qewtr qutwy\n"
     ]
    },
    {
     "name": "stdout",
     "output_type": "stream",
     "text": [
      "qutwy qewtr\n"
     ]
    }
   ],
   "source": [
    "s = input()\n",
    "a = s[:s.find(\" \")]\n",
    "b = s[s.find(\" \") + 1:]\n",
    "print(b + \" \" + a)"
   ]
  },
  {
   "cell_type": "code",
   "execution_count": 25,
   "id": "5a67f820-ff8c-4be3-8a9f-7f59060a0805",
   "metadata": {},
   "outputs": [
    {
     "name": "stdin",
     "output_type": "stream",
     "text": [
      " erwrt\n"
     ]
    },
    {
     "name": "stdout",
     "output_type": "stream",
     "text": [
      "\n"
     ]
    }
   ],
   "source": [
    "s = input()\n",
    "if s.count(\"f\") == 1:\n",
    "    print(s.find(\"f\"))\n",
    "elif s.count(\"f\") >= 2:\n",
    "    print(s.find(\"f\"), s.rfind(\"f\"))\n",
    "elif s.count(\"f\") == 0:\n",
    "    print()"
   ]
  },
  {
   "cell_type": "code",
   "execution_count": 36,
   "id": "b51f38d8-45ab-4297-8554-a2e1582f0588",
   "metadata": {},
   "outputs": [
    {
     "name": "stdin",
     "output_type": "stream",
     "text": [
      " afafafa\n"
     ]
    },
    {
     "name": "stdout",
     "output_type": "stream",
     "text": [
      "3\n"
     ]
    }
   ],
   "source": [
    "s = input()\n",
    "if s.count(\"f\") == 1:\n",
    "    print(-1)\n",
    "elif s.count(\"f\") == 0:\n",
    "    print(-2)\n",
    "else:\n",
    "    print(s.find(\"f\", s.find(\"f\") + 1))"
   ]
  },
  {
   "cell_type": "code",
   "execution_count": 37,
   "id": "b6373534-7f4d-4018-8ddf-4547ea0d8cf3",
   "metadata": {},
   "outputs": [
    {
     "name": "stdin",
     "output_type": "stream",
     "text": [
      " In the hole in the ground there lived a hobbit\n"
     ]
    },
    {
     "name": "stdout",
     "output_type": "stream",
     "text": [
      "In tobbit\n"
     ]
    }
   ],
   "source": [
    "s = input()\n",
    "print(s[:s.find(\"h\")] + s[s.rfind(\"h\") + 1:])"
   ]
  },
  {
   "cell_type": "code",
   "execution_count": 39,
   "id": "9ab8c4b0-fb45-43fa-9c60-cf09db631986",
   "metadata": {},
   "outputs": [
    {
     "name": "stdin",
     "output_type": "stream",
     "text": [
      " jhtfhjlhgh\n"
     ]
    },
    {
     "name": "stdout",
     "output_type": "stream",
     "text": [
      "jhghljhfth\n"
     ]
    }
   ],
   "source": [
    "s = input()\n",
    "a = s[:s.find(\"h\")] \n",
    "b = s[s.find(\"h\"):s.rfind(\"h\") + 1]\n",
    "c = s[s.rfind(\"h\") + 1:]\n",
    "s = a + b[::-1] + c\n",
    "print(s)"
   ]
  },
  {
   "cell_type": "code",
   "execution_count": 40,
   "id": "5b71d044-847d-4f52-801e-688f00fdd7f3",
   "metadata": {},
   "outputs": [
    {
     "name": "stdin",
     "output_type": "stream",
     "text": [
      " hhhhhh\n"
     ]
    },
    {
     "name": "stdout",
     "output_type": "stream",
     "text": [
      "hHHHHh\n"
     ]
    }
   ],
   "source": [
    "s = input()\n",
    "s = s.replace(\"h\", \"H\", s.count(\"h\") - 1)\n",
    "s = s.replace(\"H\", \"h\", 1)\n",
    "print(s)"
   ]
  },
  {
   "cell_type": "code",
   "execution_count": null,
   "id": "e4fe0ed4-1538-4f61-ac1a-7ccd9f365f1c",
   "metadata": {},
   "outputs": [],
   "source": []
  }
 ],
 "metadata": {
  "kernelspec": {
   "display_name": "Python 3 (ipykernel)",
   "language": "python",
   "name": "python3"
  },
  "language_info": {
   "codemirror_mode": {
    "name": "ipython",
    "version": 3
   },
   "file_extension": ".py",
   "mimetype": "text/x-python",
   "name": "python",
   "nbconvert_exporter": "python",
   "pygments_lexer": "ipython3",
   "version": "3.9.13"
  }
 },
 "nbformat": 4,
 "nbformat_minor": 5
}
