{
 "cells": [
  {
   "cell_type": "markdown",
   "id": "d8195a19-4e4b-422c-9c36-0d71ef90e561",
   "metadata": {},
   "source": [
    "ЗАДАЧА 1"
   ]
  },
  {
   "cell_type": "code",
   "execution_count": 3,
   "id": "00335cd8-7836-41f0-ba1f-123e3c7fc29a",
   "metadata": {},
   "outputs": [],
   "source": [
    "import numpy as np"
   ]
  },
  {
   "cell_type": "code",
   "execution_count": 50,
   "id": "40c9d5de-4ffc-4eab-9cfc-196261e589e6",
   "metadata": {},
   "outputs": [],
   "source": [
    "import nltk"
   ]
  },
  {
   "cell_type": "code",
   "execution_count": 51,
   "id": "35e8028a-ec94-49cc-9f77-bcf3fe13f4be",
   "metadata": {},
   "outputs": [],
   "source": [
    "from nltk import tokenize"
   ]
  },
  {
   "cell_type": "code",
   "execution_count": 52,
   "id": "d596bbb8-0d0c-419f-a0e5-02598f6e6244",
   "metadata": {},
   "outputs": [],
   "source": [
    "from nltk.tokenize import word_tokenize, sent_tokenize"
   ]
  },
  {
   "cell_type": "code",
   "execution_count": 53,
   "id": "c90492b3-bd23-4422-945c-6b6d6c2fd3fb",
   "metadata": {},
   "outputs": [],
   "source": [
    "from nltk.probability import FreqDist"
   ]
  },
  {
   "cell_type": "code",
   "execution_count": 8,
   "id": "0c7fc509-96c1-4876-a00f-8d639a25a1f7",
   "metadata": {},
   "outputs": [
    {
     "name": "stderr",
     "output_type": "stream",
     "text": [
      "[nltk_data] Downloading package punkt to\n",
      "[nltk_data]     C:\\Users\\Женя\\AppData\\Roaming\\nltk_data...\n",
      "[nltk_data]   Package punkt is already up-to-date!\n"
     ]
    },
    {
     "data": {
      "text/plain": [
       "True"
      ]
     },
     "execution_count": 8,
     "metadata": {},
     "output_type": "execute_result"
    }
   ],
   "source": [
    "nltk.download('punkt')"
   ]
  },
  {
   "cell_type": "code",
   "execution_count": 65,
   "id": "1906a8b1-48e9-4e53-b975-a2a8de8aefa7",
   "metadata": {},
   "outputs": [],
   "source": [
    "with open('bronte_wuthering_txt.txt', 'r', encoding='utf-8') as file:\n",
    "    read_file = file.read().lower()\n",
    "    sentences = nltk.sent_tokenize(read_file)\n",
    "    number_of_sentences = len(sentences)\n",
    "    words = nltk.word_tokenize(read_file)\n",
    "    number_of_words = len(words)\n",
    "    sentence_word_length = [len(sent.split()) for sent in sentences]\n",
    "    mean_sentence_len = np.mean(sentence_word_length)\n",
    "    fdist = FreqDist(word.lower() for word in words)\n",
    "    unique_words = (len(fdist) / number_of_words)\n",
    "    "
   ]
  },
  {
   "cell_type": "code",
   "execution_count": 66,
   "id": "104262aa-45fc-454b-9657-18c623ad804d",
   "metadata": {},
   "outputs": [],
   "source": [
    "with open('Бронте Эмили. Грозовой перевал.txt', 'r', encoding='utf-8') as file2:\n",
    "    read_file2 = file2.read().lower()\n",
    "    sentences2 = nltk.sent_tokenize(read_file2)\n",
    "    number_of_sentences2 = len(sentences2)\n",
    "    words2 = nltk.word_tokenize(read_file2)\n",
    "    number_of_words2 = len(words2)\n",
    "    sentence_word_length2 = [len(sent.split()) for sent in sentences2]\n",
    "    mean_sentence_len2 = np.mean(sentence_word_length2)\n",
    "    fdist2 = FreqDist(word.lower() for word in words2)\n",
    "    unique_words2 = (len(fdist2) / number_of_words2)\n",
    "   "
   ]
  },
  {
   "cell_type": "code",
   "execution_count": 69,
   "id": "b1da41cc-345c-4b32-943b-df227aa2e421",
   "metadata": {},
   "outputs": [
    {
     "name": "stdout",
     "output_type": "stream",
     "text": [
      "ТЕКСТ ENG\n",
      "Предложений (абсолютн.): 6809\n",
      "Предложений (относит.): 0.475920877891941\n",
      "Токенов (абсолютн.): 142302\n",
      "Токенов (относит.): 0.5138536314099902\n",
      "Средняя длина предложения: 17.023057717726537\n",
      "Cоотношение уникальные токены / все токены: 0.0704206546640244\n"
     ]
    }
   ],
   "source": [
    "print(f\"ТЕКСТ ENG\\nПредложений (абсолютн.): {number_of_sentences}\\nПредложений (относит.): {number_of_sentences / (number_of_sentences + number_of_sentences2)}\\nТокенов (абсолютн.): {number_of_words}\\nТокенов (относит.): {number_of_words / (number_of_words + number_of_words2)}\\nСредняя длина предложения: {mean_sentence_len}\\nCоотношение уникальные токены / все токены: {unique_words}\")"
   ]
  },
  {
   "cell_type": "code",
   "execution_count": 70,
   "id": "e723f59e-c75d-4d61-ac6f-1658832c9158",
   "metadata": {},
   "outputs": [
    {
     "name": "stdout",
     "output_type": "stream",
     "text": [
      "ТЕКСТ RU\n",
      "Предложений (абсолютн.): 7498\n",
      "Предложений (относит.): 0.524079122108059\n",
      "Токенов (абсолютн.): 134629\n",
      "Токенов (относит.): 0.48614636859000976\n",
      "Средняя длина предложения: 14.80408108829021\n",
      "Cоотношение уникальные токены / все токены: 0.15060648151586953\n"
     ]
    }
   ],
   "source": [
    "print(f\"ТЕКСТ RU\\nПредложений (абсолютн.): {number_of_sentences2}\\nПредложений (относит.): {number_of_sentences2 / (number_of_sentences + number_of_sentences2)}\\nТокенов (абсолютн.): {number_of_words2}\\nТокенов (относит.): {number_of_words2 / (number_of_words + number_of_words2)}\\nСредняя длина предложения: {mean_sentence_len2}\\nCоотношение уникальные токены / все токены: {unique_words2}\")"
   ]
  },
  {
   "cell_type": "code",
   "execution_count": null,
   "id": "9dd2e843-bb4e-4e7e-8fa2-f968c813063d",
   "metadata": {},
   "outputs": [],
   "source": [
    "# Если ваши тексты параллельные, какой длиннее? \n",
    "# Тексты параллельные. В русском тексте больше предложений, а в английском - слов.\n",
    "# В каком тексте средняя длина предложения больше? Почему? \n",
    "# В английском. Возможная причина - морфосинтаксис и артикли. \n",
    "# В каком тексте выше лексическое разнообразие?\n",
    "# В русском. "
   ]
  },
  {
   "cell_type": "markdown",
   "id": "3c192d08-a7bb-4892-a3ad-a1f7f4ac3dbc",
   "metadata": {},
   "source": [
    "ЗАДАЧА 2"
   ]
  },
  {
   "cell_type": "code",
   "execution_count": 2,
   "id": "9d0718d9-df47-43a6-8bdb-5ecfbb76e6fd",
   "metadata": {},
   "outputs": [],
   "source": [
    "import spacy"
   ]
  },
  {
   "cell_type": "code",
   "execution_count": 4,
   "id": "e6af4ef9-cd74-4598-ba7a-d713e666db61",
   "metadata": {},
   "outputs": [
    {
     "name": "stdout",
     "output_type": "stream",
     "text": [
      "Already downloaded a model for the 'en' language\n"
     ]
    }
   ],
   "source": [
    "import spacy_udpipe\n",
    "\n",
    "spacy_udpipe.download('en')"
   ]
  },
  {
   "cell_type": "code",
   "execution_count": 8,
   "id": "7fee90ed-7847-4bab-85ed-55653d46a515",
   "metadata": {},
   "outputs": [],
   "source": [
    "nlp = spacy_udpipe.load('en')"
   ]
  },
  {
   "cell_type": "code",
   "execution_count": 10,
   "id": "f7651c10-2f9f-4713-93f1-c17b6bad960a",
   "metadata": {},
   "outputs": [],
   "source": [
    "with open('bronte.conllu', 'w', encoding='utf-8') as output_file:\n",
    "    with open('bronte_wuthering_txt.txt', 'r', encoding='utf-8') as file:\n",
    "        read_file = file.read().lower()\n",
    "        doc = nlp(read_file)\n",
    "        for token in doc:\n",
    "            output_file.write(f'{token.i:7}{token.text:15}{token.lemma_:15}{token.pos_:6}{token.dep_:9}{token.head.text}')"
   ]
  },
  {
   "cell_type": "code",
   "execution_count": 4,
   "id": "ce96fdff-2d4b-44e8-abc9-0d8e05d68561",
   "metadata": {},
   "outputs": [
    {
     "ename": "NameError",
     "evalue": "name 'spacy_udpipe' is not defined",
     "output_type": "error",
     "traceback": [
      "\u001b[1;31m---------------------------------------------------------------------------\u001b[0m",
      "\u001b[1;31mNameError\u001b[0m                                 Traceback (most recent call last)",
      "Cell \u001b[1;32mIn [4], line 1\u001b[0m\n\u001b[1;32m----> 1\u001b[0m \u001b[43mspacy_udpipe\u001b[49m\u001b[38;5;241m.\u001b[39mdownload(\u001b[38;5;124m'\u001b[39m\u001b[38;5;124mru\u001b[39m\u001b[38;5;124m'\u001b[39m)\n",
      "\u001b[1;31mNameError\u001b[0m: name 'spacy_udpipe' is not defined"
     ]
    }
   ],
   "source": [
    "spacy_udpipe.download('ru')"
   ]
  },
  {
   "cell_type": "code",
   "execution_count": 13,
   "id": "e8ab8a4b-1417-42e3-b848-d2c11c53c614",
   "metadata": {},
   "outputs": [],
   "source": [
    "nlp = spacy_udpipe.load('ru')"
   ]
  },
  {
   "cell_type": "code",
   "execution_count": 14,
   "id": "f34aa8b0-4a49-4b61-94e9-5a01a96c6038",
   "metadata": {},
   "outputs": [],
   "source": [
    "with open('ru_bronte.conllu', 'w', encoding='utf-8') as output_file:\n",
    "    with open('Бронте Эмили. Грозовой перевал.txt', 'r', encoding='utf-8') as file:\n",
    "        read_file = file.read().lower()\n",
    "        doc = nlp(read_file)\n",
    "        for token in doc:\n",
    "            output_file.write(f'{token.i:7}{token.text:15}{token.lemma_:15}{token.pos_:6}{token.dep_:9}{token.head.text}')"
   ]
  },
  {
   "cell_type": "markdown",
   "id": "f973a4fb-6857-4e46-bb5a-60f68a9fb26c",
   "metadata": {},
   "source": [
    "ЗАДАЧА 3"
   ]
  },
  {
   "cell_type": "code",
   "execution_count": 1,
   "id": "38c4be26-216b-4dd0-8724-8abcef8a8de8",
   "metadata": {},
   "outputs": [],
   "source": [
    "import collections"
   ]
  },
  {
   "cell_type": "code",
   "execution_count": 17,
   "id": "7ddee2e5-593e-48b8-b371-c9f3465775e6",
   "metadata": {},
   "outputs": [
    {
     "name": "stdout",
     "output_type": "stream",
     "text": [
      "[('PRON', 20871), ('NOUN', 20637), ('VERB', 19428), ('ADP', 10789), ('DET', 8910), ('AUX', 8300), ('ADV', 7855), ('ADJ', 6682), ('CCONJ', 5855), ('PART', 4451), ('PUNCT', 4300), ('SCONJ', 3286), ('NUM', 641), ('INTJ', 261), ('SYM', 228), ('PROPN', 202), ('X', 77)]\n"
     ]
    }
   ],
   "source": [
    "with open('bronte_wuthering_txt.txt', 'r', encoding='utf-8') as file:\n",
    "    read_file = file.read().lower()\n",
    "    punctuations = \".?!,:;’-–—”()[]{}<>“/…*&#~\\@^|«»\"\n",
    "    txt_no_punc = \"\"\n",
    "    text = read_file.replace('\\n', ' ')\n",
    "    for char in text:\n",
    "        if char not in punctuations:\n",
    "            txt_no_punc += char\n",
    "\n",
    "    nlp = spacy_udpipe.load('en')\n",
    "    doc = nlp(txt_no_punc)\n",
    "\n",
    "    all_pos = []\n",
    "    for token in doc:\n",
    "        all_pos.append(token.pos_)\n",
    "\n",
    "    frequency = collections.Counter(all_pos)\n",
    "    frequency_dict = dict(frequency)\n",
    "    sorted_dict = {k: v for k, v in sorted(frequency_dict.items(), key=lambda item: item[1], reverse=True)}\n",
    "    lst_sorted_dict = [(k, v) for (k, v) in sorted_dict.items()]\n",
    "\n",
    "    print(lst_sorted_dict)"
   ]
  },
  {
   "cell_type": "code",
   "execution_count": 38,
   "id": "309fde0a-29bf-4690-94e4-3ab362194265",
   "metadata": {},
   "outputs": [
    {
     "name": "stdout",
     "output_type": "stream",
     "text": [
      "PRON     17.0 %\n",
      "NOUN   16.809 %\n",
      "VERB   15.824 %\n",
      "ADP     8.788 %\n",
      "DET     7.257 %\n",
      "AUX      6.76 %\n",
      "ADV     6.398 %\n",
      "ADJ     5.443 %\n",
      "CCONJ   4.769 %\n",
      "PART    3.625 %\n",
      "PUNCT   3.502 %\n",
      "SCONJ   2.676 %\n",
      "NUM     0.522 %\n",
      "INTJ    0.213 %\n",
      "SYM     0.186 %\n",
      "PROPN   0.165 %\n",
      "X       0.063 %\n"
     ]
    }
   ],
   "source": [
    "pos_sum = 0\n",
    "a = 0\n",
    "for k in sorted_dict:\n",
    "    a = int(sorted_dict.get(k))\n",
    "    pos_sum += a\n",
    "\n",
    "for k in sorted_dict:\n",
    "    print(f'{k:6}{round(float(sorted_dict.get(k) / pos_sum * 100), 3):7} %')"
   ]
  },
  {
   "cell_type": "code",
   "execution_count": 39,
   "id": "9c9db167-f9e4-456e-a1a3-ba187dd7a9b7",
   "metadata": {},
   "outputs": [
    {
     "name": "stdout",
     "output_type": "stream",
     "text": [
      "[('NOUN', 21210), ('VERB', 20885), ('PRON', 16390), ('ADP', 10134), ('ADV', 8207), ('ADJ', 6440), ('CCONJ', 5945), ('PART', 5799), ('DET', 4771), ('SCONJ', 3742), ('AUX', 1787), ('NUM', 840), ('PROPN', 249), ('INTJ', 61), ('X', 56), ('PUNCT', 23)]\n"
     ]
    }
   ],
   "source": [
    "with open('Бронте Эмили. Грозовой перевал.txt', 'r', encoding='utf-8') as file:\n",
    "    read_file = file.read().lower()\n",
    "    punctuations = \".?!,:;’-–—”()[]{}<>“/…*&#~\\@^|«»\"\n",
    "    txt_no_punc = \"\"\n",
    "    text = read_file.replace('\\n', ' ')\n",
    "    for char in text:\n",
    "        if char not in punctuations:\n",
    "            txt_no_punc += char\n",
    "\n",
    "    nlp = spacy_udpipe.load('ru')\n",
    "    doc = nlp(txt_no_punc)\n",
    "\n",
    "    all_pos = []\n",
    "    for token in doc:\n",
    "        all_pos.append(token.pos_)\n",
    "\n",
    "    frequency = collections.Counter(all_pos)\n",
    "    frequency_dict = dict(frequency)\n",
    "    sorted_dict = {k: v for k, v in sorted(frequency_dict.items(), key=lambda item: item[1], reverse=True)}\n",
    "    lst_sorted_dict = [(k, v) for (k, v) in sorted_dict.items()]\n",
    "\n",
    "    print(lst_sorted_dict)"
   ]
  },
  {
   "cell_type": "code",
   "execution_count": 40,
   "id": "1acee004-a69c-4579-970c-bca7c06554e6",
   "metadata": {},
   "outputs": [
    {
     "name": "stdout",
     "output_type": "stream",
     "text": [
      "NOUN   19.908 %\n",
      "VERB   19.603 %\n",
      "PRON   15.384 %\n",
      "ADP     9.512 %\n",
      "ADV     7.703 %\n",
      "ADJ     6.045 %\n",
      "CCONJ    5.58 %\n",
      "PART    5.443 %\n",
      "DET     4.478 %\n",
      "SCONJ   3.512 %\n",
      "AUX     1.677 %\n",
      "NUM     0.788 %\n",
      "PROPN   0.234 %\n",
      "INTJ    0.057 %\n",
      "X       0.053 %\n",
      "PUNCT   0.022 %\n"
     ]
    }
   ],
   "source": [
    "pos_sum = 0\n",
    "a = 0\n",
    "for k in sorted_dict:\n",
    "    a = int(sorted_dict.get(k))\n",
    "    pos_sum += a\n",
    "\n",
    "for k in sorted_dict:\n",
    "    print(f'{k:6}{round(float(sorted_dict.get(k) / pos_sum * 100), 3):7} %')"
   ]
  },
  {
   "cell_type": "markdown",
   "id": "c26d406c-3417-4c2c-a741-fc81a7c255d0",
   "metadata": {},
   "source": [
    "ЗАДАЧА 4"
   ]
  },
  {
   "cell_type": "code",
   "execution_count": 43,
   "id": "45556aa9-366a-4e54-aa5d-5b2a8e81b044",
   "metadata": {},
   "outputs": [
    {
     "name": "stdout",
     "output_type": "stream",
     "text": [
      "[('PRON', 21085), ('VERB', 19488), ('NOUN', 18542), ('ADP', 11538), ('DET', 8616), ('AUX', 8523), ('ADJ', 6825), ('ADV', 6291), ('CCONJ', 5811), ('SPACE', 5631), ('PART', 4751), ('PUNCT', 4429), ('SCONJ', 3361), ('PROPN', 3302), ('NUM', 590), ('INTJ', 367), ('X', 14)]\n",
      "[('VERB', 11864), ('PRON', 6985), ('AUX', 4736), ('NOUN', 3010), ('PART', 510), ('ADJ', 245), ('ADV', 115)]\n"
     ]
    }
   ],
   "source": [
    "with open('bronte_wuthering_txt.txt', 'r', encoding='utf-8') as file:\n",
    "    read_file = file.read().lower()\n",
    "    punctuations = \".?!,:;’-–—”()[]{}<>“/…*&#~\\@^|«»\"\n",
    "    txt_no_punc = \"\"\n",
    "    text = read_file.replace('\\n', ' ')\n",
    "    for char in text:\n",
    "        if char not in punctuations:\n",
    "            txt_no_punc += char\n",
    "\n",
    "    nlp = spacy.load('en_core_web_sm')\n",
    "    doc = nlp(txt_no_punc)\n",
    "\n",
    "    all_pos = []\n",
    "    all_dif_pos = []\n",
    "    for token in doc:\n",
    "        all_pos.append(token.pos_)\n",
    "        if token.text != token.lemma_:\n",
    "            all_dif_pos.append(token.pos_)\n",
    "    \n",
    "    all_paradigm = collections.Counter(all_pos)\n",
    "    all_paradigm_dict = dict(all_paradigm)\n",
    "    all_paradigm_sorted_dict = {k: v for k, v in sorted(all_paradigm_dict.items(), key=lambda item: item[1], reverse=True)}\n",
    "    lst_all_paradigm_sorted_dict = [(k, v) for (k, v) in all_paradigm_sorted_dict.items()]\n",
    "\n",
    "    print(lst_all_paradigm_sorted_dict)\n",
    "\n",
    "    frequency = collections.Counter(all_dif_pos)\n",
    "    frequency_dict = dict(frequency)\n",
    "    sorted_dict = {k: v for k, v in sorted(frequency_dict.items(), key=lambda item: item[1], reverse=True)}\n",
    "    lst_sorted_dict = [(k, v) for (k, v) in sorted_dict.items()]\n",
    "\n",
    "    print(lst_sorted_dict)"
   ]
  },
  {
   "cell_type": "code",
   "execution_count": 44,
   "id": "986546e9-712b-4abb-bbd1-0d3d0a26161f",
   "metadata": {},
   "outputs": [
    {
     "name": "stdout",
     "output_type": "stream",
     "text": [
      "VERB   60.878 %\n",
      "PRON   33.128 %\n",
      "AUX    55.567 %\n",
      "NOUN   16.233 %\n",
      "PART   10.735 %\n",
      "ADJ      3.59 %\n",
      "ADV     1.828 %\n"
     ]
    }
   ],
   "source": [
    "\n",
    "for k in sorted_dict:\n",
    "    if k in all_paradigm_sorted_dict:\n",
    "        print(f'{k:6}{round(float(sorted_dict.get(k) / all_paradigm_sorted_dict.get(k) * 100), 3):7} %')\n",
    "    "
   ]
  },
  {
   "cell_type": "code",
   "execution_count": 46,
   "id": "7246621b-cb0b-4a70-8c43-1935b7256e2d",
   "metadata": {},
   "outputs": [
    {
     "name": "stdout",
     "output_type": "stream",
     "text": [
      "[('NOUN', 21210), ('VERB', 20885), ('PRON', 16390), ('ADP', 10134), ('ADV', 8207), ('ADJ', 6440), ('CCONJ', 5945), ('PART', 5799), ('DET', 4771), ('SCONJ', 3742), ('AUX', 1787), ('NUM', 840), ('PROPN', 249), ('INTJ', 61), ('X', 56), ('PUNCT', 23)]\n",
      "[('VERB', 17319), ('NOUN', 13580), ('PRON', 6704), ('ADJ', 5247), ('DET', 3238), ('AUX', 1137), ('ADV', 602), ('ADP', 479), ('NUM', 311), ('SCONJ', 238), ('PART', 69), ('PROPN', 41), ('INTJ', 26), ('CCONJ', 16), ('X', 5)]\n"
     ]
    }
   ],
   "source": [
    "with open('Бронте Эмили. Грозовой перевал.txt', 'r', encoding='utf-8') as file:\n",
    "    read_file = file.read().lower()\n",
    "    punctuations = \".?!,:;’-–—”()[]{}<>“/…*&#~\\@^|«»\"\n",
    "    txt_no_punc = \"\"\n",
    "    text = read_file.replace('\\n', ' ')\n",
    "    for char in text:\n",
    "        if char not in punctuations:\n",
    "            txt_no_punc += char\n",
    "\n",
    "    nlp = spacy_udpipe.load('ru')\n",
    "    doc = nlp(txt_no_punc)\n",
    "\n",
    "    all_pos = []\n",
    "    all_dif_pos = []\n",
    "    for token in doc:\n",
    "        all_pos.append(token.pos_)\n",
    "        if token.text != token.lemma_:\n",
    "            all_dif_pos.append(token.pos_)\n",
    "    \n",
    "    all_paradigm = collections.Counter(all_pos)\n",
    "    all_paradigm_dict = dict(all_paradigm)\n",
    "    all_paradigm_sorted_dict = {k: v for k, v in sorted(all_paradigm_dict.items(), key=lambda item: item[1], reverse=True)}\n",
    "    lst_all_paradigm_sorted_dict = [(k, v) for (k, v) in all_paradigm_sorted_dict.items()]\n",
    "\n",
    "    print(lst_all_paradigm_sorted_dict)\n",
    "\n",
    "    frequency = collections.Counter(all_dif_pos)\n",
    "    frequency_dict = dict(frequency)\n",
    "    sorted_dict = {k: v for k, v in sorted(frequency_dict.items(), key=lambda item: item[1], reverse=True)}\n",
    "    lst_sorted_dict = [(k, v) for (k, v) in sorted_dict.items()]\n",
    "\n",
    "    print(lst_sorted_dict)"
   ]
  },
  {
   "cell_type": "code",
   "execution_count": 47,
   "id": "dcab9cb8-2c3b-407c-af07-4bfe6272ae43",
   "metadata": {},
   "outputs": [
    {
     "name": "stdout",
     "output_type": "stream",
     "text": [
      "VERB   82.926 %\n",
      "NOUN   64.026 %\n",
      "PRON   40.903 %\n",
      "ADJ    81.475 %\n",
      "DET    67.868 %\n",
      "AUX    63.626 %\n",
      "ADV     7.335 %\n",
      "ADP     4.727 %\n",
      "NUM    37.024 %\n",
      "SCONJ    6.36 %\n",
      "PART     1.19 %\n",
      "PROPN  16.466 %\n",
      "INTJ   42.623 %\n",
      "CCONJ   0.269 %\n",
      "X       8.929 %\n"
     ]
    }
   ],
   "source": [
    "for k in sorted_dict:\n",
    "    if k in all_paradigm_sorted_dict:\n",
    "        print(f'{k:6}{round(float(sorted_dict.get(k) / all_paradigm_sorted_dict.get(k) * 100), 3):7} %')\n",
    "    "
   ]
  },
  {
   "cell_type": "markdown",
   "id": "c4020d0d-f608-4e97-a125-308ae74928f2",
   "metadata": {},
   "source": [
    "ЗАДАЧА 5"
   ]
  },
  {
   "cell_type": "code",
   "execution_count": 5,
   "id": "819e61df-8113-448c-9085-32ee3393ded7",
   "metadata": {},
   "outputs": [],
   "source": [
    "import statistics"
   ]
  },
  {
   "cell_type": "code",
   "execution_count": 54,
   "id": "8c8eab77-87d9-4a9e-bc2a-80a847e792ea",
   "metadata": {},
   "outputs": [
    {
     "name": "stdout",
     "output_type": "stream",
     "text": [
      "13\n"
     ]
    }
   ],
   "source": [
    "with open('bronte_wuthering_txt.txt', 'r', encoding='utf-8') as file:\n",
    "    read_file = file.read().lower()\n",
    "    sentences = nltk.sent_tokenize(read_file)\n",
    "    number_of_sentences = len(sentences)\n",
    "\n",
    "    sentence_word_length = [len(sent.split()) for sent in sentences]\n",
    "    median_sentence_len = statistics.median(sentence_word_length)\n",
    "print(median_sentence_len)"
   ]
  },
  {
   "cell_type": "code",
   "execution_count": 55,
   "id": "8ed42c7c-38a6-46a1-b133-0bb5a6ab203e",
   "metadata": {},
   "outputs": [
    {
     "name": "stdout",
     "output_type": "stream",
     "text": [
      "12.0\n"
     ]
    }
   ],
   "source": [
    "with open('Бронте Эмили. Грозовой перевал.txt', 'r', encoding='utf-8') as file:\n",
    "    read_file = file.read().lower()\n",
    "    sentences = nltk.sent_tokenize(read_file)\n",
    "    number_of_sentences = len(sentences)\n",
    "\n",
    "    sentence_word_length = [len(sent.split()) for sent in sentences]\n",
    "    median_sentence_len = statistics.median(sentence_word_length)\n",
    "print(median_sentence_len)"
   ]
  },
  {
   "cell_type": "code",
   "execution_count": 56,
   "id": "daa5251f-573d-4de7-ad5f-64e666f13d29",
   "metadata": {},
   "outputs": [],
   "source": [
    "from spacy import displacy\n"
   ]
  },
  {
   "cell_type": "code",
   "execution_count": 57,
   "id": "ae029c65-bf79-498e-a667-9f6b7bb1a2f3",
   "metadata": {},
   "outputs": [],
   "source": [
    "raw_en = '''In all England, I do not believe that I could have fixed on a\n",
    "situation so completely removed from the stir of society.'''"
   ]
  },
  {
   "cell_type": "code",
   "execution_count": 58,
   "id": "53ffae47-0f77-4c5d-9938-c80db513bab7",
   "metadata": {},
   "outputs": [
    {
     "data": {
      "text/html": [
       "<span class=\"tex2jax_ignore\"><svg xmlns=\"http://www.w3.org/2000/svg\" xmlns:xlink=\"http://www.w3.org/1999/xlink\" xml:lang=\"en\" id=\"bfc1c26f92c842218fa84df81922beed-0\" class=\"displacy\" width=\"4250\" height=\"574.5\" direction=\"ltr\" style=\"max-width: none; height: 574.5px; color: #000000; background: #ffffff; font-family: Arial; direction: ltr\">\n",
       "<text class=\"displacy-token\" fill=\"currentColor\" text-anchor=\"middle\" y=\"484.5\">\n",
       "    <tspan class=\"displacy-word\" fill=\"currentColor\" x=\"50\">In</tspan>\n",
       "    <tspan class=\"displacy-tag\" dy=\"2em\" fill=\"currentColor\" x=\"50\">ADP</tspan>\n",
       "</text>\n",
       "\n",
       "<text class=\"displacy-token\" fill=\"currentColor\" text-anchor=\"middle\" y=\"484.5\">\n",
       "    <tspan class=\"displacy-word\" fill=\"currentColor\" x=\"225\">all</tspan>\n",
       "    <tspan class=\"displacy-tag\" dy=\"2em\" fill=\"currentColor\" x=\"225\">DET</tspan>\n",
       "</text>\n",
       "\n",
       "<text class=\"displacy-token\" fill=\"currentColor\" text-anchor=\"middle\" y=\"484.5\">\n",
       "    <tspan class=\"displacy-word\" fill=\"currentColor\" x=\"400\">England,</tspan>\n",
       "    <tspan class=\"displacy-tag\" dy=\"2em\" fill=\"currentColor\" x=\"400\">PROPN</tspan>\n",
       "</text>\n",
       "\n",
       "<text class=\"displacy-token\" fill=\"currentColor\" text-anchor=\"middle\" y=\"484.5\">\n",
       "    <tspan class=\"displacy-word\" fill=\"currentColor\" x=\"575\">I</tspan>\n",
       "    <tspan class=\"displacy-tag\" dy=\"2em\" fill=\"currentColor\" x=\"575\">PRON</tspan>\n",
       "</text>\n",
       "\n",
       "<text class=\"displacy-token\" fill=\"currentColor\" text-anchor=\"middle\" y=\"484.5\">\n",
       "    <tspan class=\"displacy-word\" fill=\"currentColor\" x=\"750\">do</tspan>\n",
       "    <tspan class=\"displacy-tag\" dy=\"2em\" fill=\"currentColor\" x=\"750\">AUX</tspan>\n",
       "</text>\n",
       "\n",
       "<text class=\"displacy-token\" fill=\"currentColor\" text-anchor=\"middle\" y=\"484.5\">\n",
       "    <tspan class=\"displacy-word\" fill=\"currentColor\" x=\"925\">not</tspan>\n",
       "    <tspan class=\"displacy-tag\" dy=\"2em\" fill=\"currentColor\" x=\"925\">PART</tspan>\n",
       "</text>\n",
       "\n",
       "<text class=\"displacy-token\" fill=\"currentColor\" text-anchor=\"middle\" y=\"484.5\">\n",
       "    <tspan class=\"displacy-word\" fill=\"currentColor\" x=\"1100\">believe</tspan>\n",
       "    <tspan class=\"displacy-tag\" dy=\"2em\" fill=\"currentColor\" x=\"1100\">VERB</tspan>\n",
       "</text>\n",
       "\n",
       "<text class=\"displacy-token\" fill=\"currentColor\" text-anchor=\"middle\" y=\"484.5\">\n",
       "    <tspan class=\"displacy-word\" fill=\"currentColor\" x=\"1275\">that</tspan>\n",
       "    <tspan class=\"displacy-tag\" dy=\"2em\" fill=\"currentColor\" x=\"1275\">SCONJ</tspan>\n",
       "</text>\n",
       "\n",
       "<text class=\"displacy-token\" fill=\"currentColor\" text-anchor=\"middle\" y=\"484.5\">\n",
       "    <tspan class=\"displacy-word\" fill=\"currentColor\" x=\"1450\">I</tspan>\n",
       "    <tspan class=\"displacy-tag\" dy=\"2em\" fill=\"currentColor\" x=\"1450\">PRON</tspan>\n",
       "</text>\n",
       "\n",
       "<text class=\"displacy-token\" fill=\"currentColor\" text-anchor=\"middle\" y=\"484.5\">\n",
       "    <tspan class=\"displacy-word\" fill=\"currentColor\" x=\"1625\">could</tspan>\n",
       "    <tspan class=\"displacy-tag\" dy=\"2em\" fill=\"currentColor\" x=\"1625\">AUX</tspan>\n",
       "</text>\n",
       "\n",
       "<text class=\"displacy-token\" fill=\"currentColor\" text-anchor=\"middle\" y=\"484.5\">\n",
       "    <tspan class=\"displacy-word\" fill=\"currentColor\" x=\"1800\">have</tspan>\n",
       "    <tspan class=\"displacy-tag\" dy=\"2em\" fill=\"currentColor\" x=\"1800\">AUX</tspan>\n",
       "</text>\n",
       "\n",
       "<text class=\"displacy-token\" fill=\"currentColor\" text-anchor=\"middle\" y=\"484.5\">\n",
       "    <tspan class=\"displacy-word\" fill=\"currentColor\" x=\"1975\">fixed</tspan>\n",
       "    <tspan class=\"displacy-tag\" dy=\"2em\" fill=\"currentColor\" x=\"1975\">VERB</tspan>\n",
       "</text>\n",
       "\n",
       "<text class=\"displacy-token\" fill=\"currentColor\" text-anchor=\"middle\" y=\"484.5\">\n",
       "    <tspan class=\"displacy-word\" fill=\"currentColor\" x=\"2150\">on</tspan>\n",
       "    <tspan class=\"displacy-tag\" dy=\"2em\" fill=\"currentColor\" x=\"2150\">ADP</tspan>\n",
       "</text>\n",
       "\n",
       "<text class=\"displacy-token\" fill=\"currentColor\" text-anchor=\"middle\" y=\"484.5\">\n",
       "    <tspan class=\"displacy-word\" fill=\"currentColor\" x=\"2325\">a</tspan>\n",
       "    <tspan class=\"displacy-tag\" dy=\"2em\" fill=\"currentColor\" x=\"2325\">DET</tspan>\n",
       "</text>\n",
       "\n",
       "<text class=\"displacy-token\" fill=\"currentColor\" text-anchor=\"middle\" y=\"484.5\">\n",
       "    <tspan class=\"displacy-word\" fill=\"currentColor\" x=\"2500\">\n",
       "</tspan>\n",
       "    <tspan class=\"displacy-tag\" dy=\"2em\" fill=\"currentColor\" x=\"2500\">SPACE</tspan>\n",
       "</text>\n",
       "\n",
       "<text class=\"displacy-token\" fill=\"currentColor\" text-anchor=\"middle\" y=\"484.5\">\n",
       "    <tspan class=\"displacy-word\" fill=\"currentColor\" x=\"2675\">situation</tspan>\n",
       "    <tspan class=\"displacy-tag\" dy=\"2em\" fill=\"currentColor\" x=\"2675\">NOUN</tspan>\n",
       "</text>\n",
       "\n",
       "<text class=\"displacy-token\" fill=\"currentColor\" text-anchor=\"middle\" y=\"484.5\">\n",
       "    <tspan class=\"displacy-word\" fill=\"currentColor\" x=\"2850\">so</tspan>\n",
       "    <tspan class=\"displacy-tag\" dy=\"2em\" fill=\"currentColor\" x=\"2850\">ADV</tspan>\n",
       "</text>\n",
       "\n",
       "<text class=\"displacy-token\" fill=\"currentColor\" text-anchor=\"middle\" y=\"484.5\">\n",
       "    <tspan class=\"displacy-word\" fill=\"currentColor\" x=\"3025\">completely</tspan>\n",
       "    <tspan class=\"displacy-tag\" dy=\"2em\" fill=\"currentColor\" x=\"3025\">ADV</tspan>\n",
       "</text>\n",
       "\n",
       "<text class=\"displacy-token\" fill=\"currentColor\" text-anchor=\"middle\" y=\"484.5\">\n",
       "    <tspan class=\"displacy-word\" fill=\"currentColor\" x=\"3200\">removed</tspan>\n",
       "    <tspan class=\"displacy-tag\" dy=\"2em\" fill=\"currentColor\" x=\"3200\">VERB</tspan>\n",
       "</text>\n",
       "\n",
       "<text class=\"displacy-token\" fill=\"currentColor\" text-anchor=\"middle\" y=\"484.5\">\n",
       "    <tspan class=\"displacy-word\" fill=\"currentColor\" x=\"3375\">from</tspan>\n",
       "    <tspan class=\"displacy-tag\" dy=\"2em\" fill=\"currentColor\" x=\"3375\">ADP</tspan>\n",
       "</text>\n",
       "\n",
       "<text class=\"displacy-token\" fill=\"currentColor\" text-anchor=\"middle\" y=\"484.5\">\n",
       "    <tspan class=\"displacy-word\" fill=\"currentColor\" x=\"3550\">the</tspan>\n",
       "    <tspan class=\"displacy-tag\" dy=\"2em\" fill=\"currentColor\" x=\"3550\">DET</tspan>\n",
       "</text>\n",
       "\n",
       "<text class=\"displacy-token\" fill=\"currentColor\" text-anchor=\"middle\" y=\"484.5\">\n",
       "    <tspan class=\"displacy-word\" fill=\"currentColor\" x=\"3725\">stir</tspan>\n",
       "    <tspan class=\"displacy-tag\" dy=\"2em\" fill=\"currentColor\" x=\"3725\">NOUN</tspan>\n",
       "</text>\n",
       "\n",
       "<text class=\"displacy-token\" fill=\"currentColor\" text-anchor=\"middle\" y=\"484.5\">\n",
       "    <tspan class=\"displacy-word\" fill=\"currentColor\" x=\"3900\">of</tspan>\n",
       "    <tspan class=\"displacy-tag\" dy=\"2em\" fill=\"currentColor\" x=\"3900\">ADP</tspan>\n",
       "</text>\n",
       "\n",
       "<text class=\"displacy-token\" fill=\"currentColor\" text-anchor=\"middle\" y=\"484.5\">\n",
       "    <tspan class=\"displacy-word\" fill=\"currentColor\" x=\"4075\">society.</tspan>\n",
       "    <tspan class=\"displacy-tag\" dy=\"2em\" fill=\"currentColor\" x=\"4075\">NOUN</tspan>\n",
       "</text>\n",
       "\n",
       "<g class=\"displacy-arrow\">\n",
       "    <path class=\"displacy-arc\" id=\"arrow-bfc1c26f92c842218fa84df81922beed-0-0\" stroke-width=\"2px\" d=\"M70,439.5 C70,89.5 1095.0,89.5 1095.0,439.5\" fill=\"none\" stroke=\"currentColor\"/>\n",
       "    <text dy=\"1.25em\" style=\"font-size: 0.8em; letter-spacing: 1px\">\n",
       "        <textPath xlink:href=\"#arrow-bfc1c26f92c842218fa84df81922beed-0-0\" class=\"displacy-label\" startOffset=\"50%\" side=\"left\" fill=\"currentColor\" text-anchor=\"middle\">prep</textPath>\n",
       "    </text>\n",
       "    <path class=\"displacy-arrowhead\" d=\"M70,441.5 L62,429.5 78,429.5\" fill=\"currentColor\"/>\n",
       "</g>\n",
       "\n",
       "<g class=\"displacy-arrow\">\n",
       "    <path class=\"displacy-arc\" id=\"arrow-bfc1c26f92c842218fa84df81922beed-0-1\" stroke-width=\"2px\" d=\"M245,439.5 C245,352.0 380.0,352.0 380.0,439.5\" fill=\"none\" stroke=\"currentColor\"/>\n",
       "    <text dy=\"1.25em\" style=\"font-size: 0.8em; letter-spacing: 1px\">\n",
       "        <textPath xlink:href=\"#arrow-bfc1c26f92c842218fa84df81922beed-0-1\" class=\"displacy-label\" startOffset=\"50%\" side=\"left\" fill=\"currentColor\" text-anchor=\"middle\">det</textPath>\n",
       "    </text>\n",
       "    <path class=\"displacy-arrowhead\" d=\"M245,441.5 L237,429.5 253,429.5\" fill=\"currentColor\"/>\n",
       "</g>\n",
       "\n",
       "<g class=\"displacy-arrow\">\n",
       "    <path class=\"displacy-arc\" id=\"arrow-bfc1c26f92c842218fa84df81922beed-0-2\" stroke-width=\"2px\" d=\"M70,439.5 C70,264.5 385.0,264.5 385.0,439.5\" fill=\"none\" stroke=\"currentColor\"/>\n",
       "    <text dy=\"1.25em\" style=\"font-size: 0.8em; letter-spacing: 1px\">\n",
       "        <textPath xlink:href=\"#arrow-bfc1c26f92c842218fa84df81922beed-0-2\" class=\"displacy-label\" startOffset=\"50%\" side=\"left\" fill=\"currentColor\" text-anchor=\"middle\">pobj</textPath>\n",
       "    </text>\n",
       "    <path class=\"displacy-arrowhead\" d=\"M385.0,441.5 L393.0,429.5 377.0,429.5\" fill=\"currentColor\"/>\n",
       "</g>\n",
       "\n",
       "<g class=\"displacy-arrow\">\n",
       "    <path class=\"displacy-arc\" id=\"arrow-bfc1c26f92c842218fa84df81922beed-0-3\" stroke-width=\"2px\" d=\"M595,439.5 C595,177.0 1090.0,177.0 1090.0,439.5\" fill=\"none\" stroke=\"currentColor\"/>\n",
       "    <text dy=\"1.25em\" style=\"font-size: 0.8em; letter-spacing: 1px\">\n",
       "        <textPath xlink:href=\"#arrow-bfc1c26f92c842218fa84df81922beed-0-3\" class=\"displacy-label\" startOffset=\"50%\" side=\"left\" fill=\"currentColor\" text-anchor=\"middle\">nsubj</textPath>\n",
       "    </text>\n",
       "    <path class=\"displacy-arrowhead\" d=\"M595,441.5 L587,429.5 603,429.5\" fill=\"currentColor\"/>\n",
       "</g>\n",
       "\n",
       "<g class=\"displacy-arrow\">\n",
       "    <path class=\"displacy-arc\" id=\"arrow-bfc1c26f92c842218fa84df81922beed-0-4\" stroke-width=\"2px\" d=\"M770,439.5 C770,264.5 1085.0,264.5 1085.0,439.5\" fill=\"none\" stroke=\"currentColor\"/>\n",
       "    <text dy=\"1.25em\" style=\"font-size: 0.8em; letter-spacing: 1px\">\n",
       "        <textPath xlink:href=\"#arrow-bfc1c26f92c842218fa84df81922beed-0-4\" class=\"displacy-label\" startOffset=\"50%\" side=\"left\" fill=\"currentColor\" text-anchor=\"middle\">aux</textPath>\n",
       "    </text>\n",
       "    <path class=\"displacy-arrowhead\" d=\"M770,441.5 L762,429.5 778,429.5\" fill=\"currentColor\"/>\n",
       "</g>\n",
       "\n",
       "<g class=\"displacy-arrow\">\n",
       "    <path class=\"displacy-arc\" id=\"arrow-bfc1c26f92c842218fa84df81922beed-0-5\" stroke-width=\"2px\" d=\"M945,439.5 C945,352.0 1080.0,352.0 1080.0,439.5\" fill=\"none\" stroke=\"currentColor\"/>\n",
       "    <text dy=\"1.25em\" style=\"font-size: 0.8em; letter-spacing: 1px\">\n",
       "        <textPath xlink:href=\"#arrow-bfc1c26f92c842218fa84df81922beed-0-5\" class=\"displacy-label\" startOffset=\"50%\" side=\"left\" fill=\"currentColor\" text-anchor=\"middle\">neg</textPath>\n",
       "    </text>\n",
       "    <path class=\"displacy-arrowhead\" d=\"M945,441.5 L937,429.5 953,429.5\" fill=\"currentColor\"/>\n",
       "</g>\n",
       "\n",
       "<g class=\"displacy-arrow\">\n",
       "    <path class=\"displacy-arc\" id=\"arrow-bfc1c26f92c842218fa84df81922beed-0-6\" stroke-width=\"2px\" d=\"M1295,439.5 C1295,89.5 1970.0,89.5 1970.0,439.5\" fill=\"none\" stroke=\"currentColor\"/>\n",
       "    <text dy=\"1.25em\" style=\"font-size: 0.8em; letter-spacing: 1px\">\n",
       "        <textPath xlink:href=\"#arrow-bfc1c26f92c842218fa84df81922beed-0-6\" class=\"displacy-label\" startOffset=\"50%\" side=\"left\" fill=\"currentColor\" text-anchor=\"middle\">mark</textPath>\n",
       "    </text>\n",
       "    <path class=\"displacy-arrowhead\" d=\"M1295,441.5 L1287,429.5 1303,429.5\" fill=\"currentColor\"/>\n",
       "</g>\n",
       "\n",
       "<g class=\"displacy-arrow\">\n",
       "    <path class=\"displacy-arc\" id=\"arrow-bfc1c26f92c842218fa84df81922beed-0-7\" stroke-width=\"2px\" d=\"M1470,439.5 C1470,177.0 1965.0,177.0 1965.0,439.5\" fill=\"none\" stroke=\"currentColor\"/>\n",
       "    <text dy=\"1.25em\" style=\"font-size: 0.8em; letter-spacing: 1px\">\n",
       "        <textPath xlink:href=\"#arrow-bfc1c26f92c842218fa84df81922beed-0-7\" class=\"displacy-label\" startOffset=\"50%\" side=\"left\" fill=\"currentColor\" text-anchor=\"middle\">nsubj</textPath>\n",
       "    </text>\n",
       "    <path class=\"displacy-arrowhead\" d=\"M1470,441.5 L1462,429.5 1478,429.5\" fill=\"currentColor\"/>\n",
       "</g>\n",
       "\n",
       "<g class=\"displacy-arrow\">\n",
       "    <path class=\"displacy-arc\" id=\"arrow-bfc1c26f92c842218fa84df81922beed-0-8\" stroke-width=\"2px\" d=\"M1645,439.5 C1645,264.5 1960.0,264.5 1960.0,439.5\" fill=\"none\" stroke=\"currentColor\"/>\n",
       "    <text dy=\"1.25em\" style=\"font-size: 0.8em; letter-spacing: 1px\">\n",
       "        <textPath xlink:href=\"#arrow-bfc1c26f92c842218fa84df81922beed-0-8\" class=\"displacy-label\" startOffset=\"50%\" side=\"left\" fill=\"currentColor\" text-anchor=\"middle\">aux</textPath>\n",
       "    </text>\n",
       "    <path class=\"displacy-arrowhead\" d=\"M1645,441.5 L1637,429.5 1653,429.5\" fill=\"currentColor\"/>\n",
       "</g>\n",
       "\n",
       "<g class=\"displacy-arrow\">\n",
       "    <path class=\"displacy-arc\" id=\"arrow-bfc1c26f92c842218fa84df81922beed-0-9\" stroke-width=\"2px\" d=\"M1820,439.5 C1820,352.0 1955.0,352.0 1955.0,439.5\" fill=\"none\" stroke=\"currentColor\"/>\n",
       "    <text dy=\"1.25em\" style=\"font-size: 0.8em; letter-spacing: 1px\">\n",
       "        <textPath xlink:href=\"#arrow-bfc1c26f92c842218fa84df81922beed-0-9\" class=\"displacy-label\" startOffset=\"50%\" side=\"left\" fill=\"currentColor\" text-anchor=\"middle\">aux</textPath>\n",
       "    </text>\n",
       "    <path class=\"displacy-arrowhead\" d=\"M1820,441.5 L1812,429.5 1828,429.5\" fill=\"currentColor\"/>\n",
       "</g>\n",
       "\n",
       "<g class=\"displacy-arrow\">\n",
       "    <path class=\"displacy-arc\" id=\"arrow-bfc1c26f92c842218fa84df81922beed-0-10\" stroke-width=\"2px\" d=\"M1120,439.5 C1120,2.0 1975.0,2.0 1975.0,439.5\" fill=\"none\" stroke=\"currentColor\"/>\n",
       "    <text dy=\"1.25em\" style=\"font-size: 0.8em; letter-spacing: 1px\">\n",
       "        <textPath xlink:href=\"#arrow-bfc1c26f92c842218fa84df81922beed-0-10\" class=\"displacy-label\" startOffset=\"50%\" side=\"left\" fill=\"currentColor\" text-anchor=\"middle\">ccomp</textPath>\n",
       "    </text>\n",
       "    <path class=\"displacy-arrowhead\" d=\"M1975.0,441.5 L1983.0,429.5 1967.0,429.5\" fill=\"currentColor\"/>\n",
       "</g>\n",
       "\n",
       "<g class=\"displacy-arrow\">\n",
       "    <path class=\"displacy-arc\" id=\"arrow-bfc1c26f92c842218fa84df81922beed-0-11\" stroke-width=\"2px\" d=\"M1995,439.5 C1995,352.0 2130.0,352.0 2130.0,439.5\" fill=\"none\" stroke=\"currentColor\"/>\n",
       "    <text dy=\"1.25em\" style=\"font-size: 0.8em; letter-spacing: 1px\">\n",
       "        <textPath xlink:href=\"#arrow-bfc1c26f92c842218fa84df81922beed-0-11\" class=\"displacy-label\" startOffset=\"50%\" side=\"left\" fill=\"currentColor\" text-anchor=\"middle\">prep</textPath>\n",
       "    </text>\n",
       "    <path class=\"displacy-arrowhead\" d=\"M2130.0,441.5 L2138.0,429.5 2122.0,429.5\" fill=\"currentColor\"/>\n",
       "</g>\n",
       "\n",
       "<g class=\"displacy-arrow\">\n",
       "    <path class=\"displacy-arc\" id=\"arrow-bfc1c26f92c842218fa84df81922beed-0-12\" stroke-width=\"2px\" d=\"M2345,439.5 C2345,264.5 2660.0,264.5 2660.0,439.5\" fill=\"none\" stroke=\"currentColor\"/>\n",
       "    <text dy=\"1.25em\" style=\"font-size: 0.8em; letter-spacing: 1px\">\n",
       "        <textPath xlink:href=\"#arrow-bfc1c26f92c842218fa84df81922beed-0-12\" class=\"displacy-label\" startOffset=\"50%\" side=\"left\" fill=\"currentColor\" text-anchor=\"middle\">det</textPath>\n",
       "    </text>\n",
       "    <path class=\"displacy-arrowhead\" d=\"M2345,441.5 L2337,429.5 2353,429.5\" fill=\"currentColor\"/>\n",
       "</g>\n",
       "\n",
       "<g class=\"displacy-arrow\">\n",
       "    <path class=\"displacy-arc\" id=\"arrow-bfc1c26f92c842218fa84df81922beed-0-13\" stroke-width=\"2px\" d=\"M2345,439.5 C2345,352.0 2480.0,352.0 2480.0,439.5\" fill=\"none\" stroke=\"currentColor\"/>\n",
       "    <text dy=\"1.25em\" style=\"font-size: 0.8em; letter-spacing: 1px\">\n",
       "        <textPath xlink:href=\"#arrow-bfc1c26f92c842218fa84df81922beed-0-13\" class=\"displacy-label\" startOffset=\"50%\" side=\"left\" fill=\"currentColor\" text-anchor=\"middle\">dep</textPath>\n",
       "    </text>\n",
       "    <path class=\"displacy-arrowhead\" d=\"M2480.0,441.5 L2488.0,429.5 2472.0,429.5\" fill=\"currentColor\"/>\n",
       "</g>\n",
       "\n",
       "<g class=\"displacy-arrow\">\n",
       "    <path class=\"displacy-arc\" id=\"arrow-bfc1c26f92c842218fa84df81922beed-0-14\" stroke-width=\"2px\" d=\"M2170,439.5 C2170,177.0 2665.0,177.0 2665.0,439.5\" fill=\"none\" stroke=\"currentColor\"/>\n",
       "    <text dy=\"1.25em\" style=\"font-size: 0.8em; letter-spacing: 1px\">\n",
       "        <textPath xlink:href=\"#arrow-bfc1c26f92c842218fa84df81922beed-0-14\" class=\"displacy-label\" startOffset=\"50%\" side=\"left\" fill=\"currentColor\" text-anchor=\"middle\">pobj</textPath>\n",
       "    </text>\n",
       "    <path class=\"displacy-arrowhead\" d=\"M2665.0,441.5 L2673.0,429.5 2657.0,429.5\" fill=\"currentColor\"/>\n",
       "</g>\n",
       "\n",
       "<g class=\"displacy-arrow\">\n",
       "    <path class=\"displacy-arc\" id=\"arrow-bfc1c26f92c842218fa84df81922beed-0-15\" stroke-width=\"2px\" d=\"M2870,439.5 C2870,352.0 3005.0,352.0 3005.0,439.5\" fill=\"none\" stroke=\"currentColor\"/>\n",
       "    <text dy=\"1.25em\" style=\"font-size: 0.8em; letter-spacing: 1px\">\n",
       "        <textPath xlink:href=\"#arrow-bfc1c26f92c842218fa84df81922beed-0-15\" class=\"displacy-label\" startOffset=\"50%\" side=\"left\" fill=\"currentColor\" text-anchor=\"middle\">advmod</textPath>\n",
       "    </text>\n",
       "    <path class=\"displacy-arrowhead\" d=\"M2870,441.5 L2862,429.5 2878,429.5\" fill=\"currentColor\"/>\n",
       "</g>\n",
       "\n",
       "<g class=\"displacy-arrow\">\n",
       "    <path class=\"displacy-arc\" id=\"arrow-bfc1c26f92c842218fa84df81922beed-0-16\" stroke-width=\"2px\" d=\"M3045,439.5 C3045,352.0 3180.0,352.0 3180.0,439.5\" fill=\"none\" stroke=\"currentColor\"/>\n",
       "    <text dy=\"1.25em\" style=\"font-size: 0.8em; letter-spacing: 1px\">\n",
       "        <textPath xlink:href=\"#arrow-bfc1c26f92c842218fa84df81922beed-0-16\" class=\"displacy-label\" startOffset=\"50%\" side=\"left\" fill=\"currentColor\" text-anchor=\"middle\">advmod</textPath>\n",
       "    </text>\n",
       "    <path class=\"displacy-arrowhead\" d=\"M3045,441.5 L3037,429.5 3053,429.5\" fill=\"currentColor\"/>\n",
       "</g>\n",
       "\n",
       "<g class=\"displacy-arrow\">\n",
       "    <path class=\"displacy-arc\" id=\"arrow-bfc1c26f92c842218fa84df81922beed-0-17\" stroke-width=\"2px\" d=\"M2695,439.5 C2695,264.5 3185.0,264.5 3185.0,439.5\" fill=\"none\" stroke=\"currentColor\"/>\n",
       "    <text dy=\"1.25em\" style=\"font-size: 0.8em; letter-spacing: 1px\">\n",
       "        <textPath xlink:href=\"#arrow-bfc1c26f92c842218fa84df81922beed-0-17\" class=\"displacy-label\" startOffset=\"50%\" side=\"left\" fill=\"currentColor\" text-anchor=\"middle\">acl</textPath>\n",
       "    </text>\n",
       "    <path class=\"displacy-arrowhead\" d=\"M3185.0,441.5 L3193.0,429.5 3177.0,429.5\" fill=\"currentColor\"/>\n",
       "</g>\n",
       "\n",
       "<g class=\"displacy-arrow\">\n",
       "    <path class=\"displacy-arc\" id=\"arrow-bfc1c26f92c842218fa84df81922beed-0-18\" stroke-width=\"2px\" d=\"M3220,439.5 C3220,352.0 3355.0,352.0 3355.0,439.5\" fill=\"none\" stroke=\"currentColor\"/>\n",
       "    <text dy=\"1.25em\" style=\"font-size: 0.8em; letter-spacing: 1px\">\n",
       "        <textPath xlink:href=\"#arrow-bfc1c26f92c842218fa84df81922beed-0-18\" class=\"displacy-label\" startOffset=\"50%\" side=\"left\" fill=\"currentColor\" text-anchor=\"middle\">prep</textPath>\n",
       "    </text>\n",
       "    <path class=\"displacy-arrowhead\" d=\"M3355.0,441.5 L3363.0,429.5 3347.0,429.5\" fill=\"currentColor\"/>\n",
       "</g>\n",
       "\n",
       "<g class=\"displacy-arrow\">\n",
       "    <path class=\"displacy-arc\" id=\"arrow-bfc1c26f92c842218fa84df81922beed-0-19\" stroke-width=\"2px\" d=\"M3570,439.5 C3570,352.0 3705.0,352.0 3705.0,439.5\" fill=\"none\" stroke=\"currentColor\"/>\n",
       "    <text dy=\"1.25em\" style=\"font-size: 0.8em; letter-spacing: 1px\">\n",
       "        <textPath xlink:href=\"#arrow-bfc1c26f92c842218fa84df81922beed-0-19\" class=\"displacy-label\" startOffset=\"50%\" side=\"left\" fill=\"currentColor\" text-anchor=\"middle\">det</textPath>\n",
       "    </text>\n",
       "    <path class=\"displacy-arrowhead\" d=\"M3570,441.5 L3562,429.5 3578,429.5\" fill=\"currentColor\"/>\n",
       "</g>\n",
       "\n",
       "<g class=\"displacy-arrow\">\n",
       "    <path class=\"displacy-arc\" id=\"arrow-bfc1c26f92c842218fa84df81922beed-0-20\" stroke-width=\"2px\" d=\"M3395,439.5 C3395,264.5 3710.0,264.5 3710.0,439.5\" fill=\"none\" stroke=\"currentColor\"/>\n",
       "    <text dy=\"1.25em\" style=\"font-size: 0.8em; letter-spacing: 1px\">\n",
       "        <textPath xlink:href=\"#arrow-bfc1c26f92c842218fa84df81922beed-0-20\" class=\"displacy-label\" startOffset=\"50%\" side=\"left\" fill=\"currentColor\" text-anchor=\"middle\">pobj</textPath>\n",
       "    </text>\n",
       "    <path class=\"displacy-arrowhead\" d=\"M3710.0,441.5 L3718.0,429.5 3702.0,429.5\" fill=\"currentColor\"/>\n",
       "</g>\n",
       "\n",
       "<g class=\"displacy-arrow\">\n",
       "    <path class=\"displacy-arc\" id=\"arrow-bfc1c26f92c842218fa84df81922beed-0-21\" stroke-width=\"2px\" d=\"M3745,439.5 C3745,352.0 3880.0,352.0 3880.0,439.5\" fill=\"none\" stroke=\"currentColor\"/>\n",
       "    <text dy=\"1.25em\" style=\"font-size: 0.8em; letter-spacing: 1px\">\n",
       "        <textPath xlink:href=\"#arrow-bfc1c26f92c842218fa84df81922beed-0-21\" class=\"displacy-label\" startOffset=\"50%\" side=\"left\" fill=\"currentColor\" text-anchor=\"middle\">prep</textPath>\n",
       "    </text>\n",
       "    <path class=\"displacy-arrowhead\" d=\"M3880.0,441.5 L3888.0,429.5 3872.0,429.5\" fill=\"currentColor\"/>\n",
       "</g>\n",
       "\n",
       "<g class=\"displacy-arrow\">\n",
       "    <path class=\"displacy-arc\" id=\"arrow-bfc1c26f92c842218fa84df81922beed-0-22\" stroke-width=\"2px\" d=\"M3920,439.5 C3920,352.0 4055.0,352.0 4055.0,439.5\" fill=\"none\" stroke=\"currentColor\"/>\n",
       "    <text dy=\"1.25em\" style=\"font-size: 0.8em; letter-spacing: 1px\">\n",
       "        <textPath xlink:href=\"#arrow-bfc1c26f92c842218fa84df81922beed-0-22\" class=\"displacy-label\" startOffset=\"50%\" side=\"left\" fill=\"currentColor\" text-anchor=\"middle\">pobj</textPath>\n",
       "    </text>\n",
       "    <path class=\"displacy-arrowhead\" d=\"M4055.0,441.5 L4063.0,429.5 4047.0,429.5\" fill=\"currentColor\"/>\n",
       "</g>\n",
       "</svg></span>"
      ],
      "text/plain": [
       "<IPython.core.display.HTML object>"
      ]
     },
     "metadata": {},
     "output_type": "display_data"
    }
   ],
   "source": [
    "nlp = spacy.load('en_core_web_sm')\n",
    "doc = nlp(raw_en)\n",
    "displacy.render(doc, style = 'dep', jupyter = True)"
   ]
  },
  {
   "cell_type": "code",
   "execution_count": 59,
   "id": "7e9b3c5f-5b46-44a2-86a7-dce7c8c9182f",
   "metadata": {},
   "outputs": [],
   "source": [
    "raw_ru = '''Во всей Англии едва ли я сыскал бы уголок, так идеально удаленный от светской суеты.'''"
   ]
  },
  {
   "cell_type": "code",
   "execution_count": 60,
   "id": "1fe139a9-a203-4c8c-9130-020dfc6063e6",
   "metadata": {},
   "outputs": [
    {
     "data": {
      "text/html": [
       "<span class=\"tex2jax_ignore\"><svg xmlns=\"http://www.w3.org/2000/svg\" xmlns:xlink=\"http://www.w3.org/1999/xlink\" xml:lang=\"ru\" id=\"396117c7d388456cbe0248c0d2547d6f-0\" class=\"displacy\" width=\"2675\" height=\"399.5\" direction=\"ltr\" style=\"max-width: none; height: 399.5px; color: #000000; background: #ffffff; font-family: Arial; direction: ltr\">\n",
       "<text class=\"displacy-token\" fill=\"currentColor\" text-anchor=\"middle\" y=\"309.5\">\n",
       "    <tspan class=\"displacy-word\" fill=\"currentColor\" x=\"50\">Во</tspan>\n",
       "    <tspan class=\"displacy-tag\" dy=\"2em\" fill=\"currentColor\" x=\"50\">ADP</tspan>\n",
       "</text>\n",
       "\n",
       "<text class=\"displacy-token\" fill=\"currentColor\" text-anchor=\"middle\" y=\"309.5\">\n",
       "    <tspan class=\"displacy-word\" fill=\"currentColor\" x=\"225\">всей</tspan>\n",
       "    <tspan class=\"displacy-tag\" dy=\"2em\" fill=\"currentColor\" x=\"225\">DET</tspan>\n",
       "</text>\n",
       "\n",
       "<text class=\"displacy-token\" fill=\"currentColor\" text-anchor=\"middle\" y=\"309.5\">\n",
       "    <tspan class=\"displacy-word\" fill=\"currentColor\" x=\"400\">Англии</tspan>\n",
       "    <tspan class=\"displacy-tag\" dy=\"2em\" fill=\"currentColor\" x=\"400\">PROPN</tspan>\n",
       "</text>\n",
       "\n",
       "<text class=\"displacy-token\" fill=\"currentColor\" text-anchor=\"middle\" y=\"309.5\">\n",
       "    <tspan class=\"displacy-word\" fill=\"currentColor\" x=\"575\">едва</tspan>\n",
       "    <tspan class=\"displacy-tag\" dy=\"2em\" fill=\"currentColor\" x=\"575\">ADV</tspan>\n",
       "</text>\n",
       "\n",
       "<text class=\"displacy-token\" fill=\"currentColor\" text-anchor=\"middle\" y=\"309.5\">\n",
       "    <tspan class=\"displacy-word\" fill=\"currentColor\" x=\"750\">ли</tspan>\n",
       "    <tspan class=\"displacy-tag\" dy=\"2em\" fill=\"currentColor\" x=\"750\">PART</tspan>\n",
       "</text>\n",
       "\n",
       "<text class=\"displacy-token\" fill=\"currentColor\" text-anchor=\"middle\" y=\"309.5\">\n",
       "    <tspan class=\"displacy-word\" fill=\"currentColor\" x=\"925\">я</tspan>\n",
       "    <tspan class=\"displacy-tag\" dy=\"2em\" fill=\"currentColor\" x=\"925\">PRON</tspan>\n",
       "</text>\n",
       "\n",
       "<text class=\"displacy-token\" fill=\"currentColor\" text-anchor=\"middle\" y=\"309.5\">\n",
       "    <tspan class=\"displacy-word\" fill=\"currentColor\" x=\"1100\">сыскал</tspan>\n",
       "    <tspan class=\"displacy-tag\" dy=\"2em\" fill=\"currentColor\" x=\"1100\">VERB</tspan>\n",
       "</text>\n",
       "\n",
       "<text class=\"displacy-token\" fill=\"currentColor\" text-anchor=\"middle\" y=\"309.5\">\n",
       "    <tspan class=\"displacy-word\" fill=\"currentColor\" x=\"1275\">бы</tspan>\n",
       "    <tspan class=\"displacy-tag\" dy=\"2em\" fill=\"currentColor\" x=\"1275\">AUX</tspan>\n",
       "</text>\n",
       "\n",
       "<text class=\"displacy-token\" fill=\"currentColor\" text-anchor=\"middle\" y=\"309.5\">\n",
       "    <tspan class=\"displacy-word\" fill=\"currentColor\" x=\"1450\">уголок,</tspan>\n",
       "    <tspan class=\"displacy-tag\" dy=\"2em\" fill=\"currentColor\" x=\"1450\">NOUN</tspan>\n",
       "</text>\n",
       "\n",
       "<text class=\"displacy-token\" fill=\"currentColor\" text-anchor=\"middle\" y=\"309.5\">\n",
       "    <tspan class=\"displacy-word\" fill=\"currentColor\" x=\"1625\">так</tspan>\n",
       "    <tspan class=\"displacy-tag\" dy=\"2em\" fill=\"currentColor\" x=\"1625\">ADV</tspan>\n",
       "</text>\n",
       "\n",
       "<text class=\"displacy-token\" fill=\"currentColor\" text-anchor=\"middle\" y=\"309.5\">\n",
       "    <tspan class=\"displacy-word\" fill=\"currentColor\" x=\"1800\">идеально</tspan>\n",
       "    <tspan class=\"displacy-tag\" dy=\"2em\" fill=\"currentColor\" x=\"1800\">ADV</tspan>\n",
       "</text>\n",
       "\n",
       "<text class=\"displacy-token\" fill=\"currentColor\" text-anchor=\"middle\" y=\"309.5\">\n",
       "    <tspan class=\"displacy-word\" fill=\"currentColor\" x=\"1975\">удаленный</tspan>\n",
       "    <tspan class=\"displacy-tag\" dy=\"2em\" fill=\"currentColor\" x=\"1975\">VERB</tspan>\n",
       "</text>\n",
       "\n",
       "<text class=\"displacy-token\" fill=\"currentColor\" text-anchor=\"middle\" y=\"309.5\">\n",
       "    <tspan class=\"displacy-word\" fill=\"currentColor\" x=\"2150\">от</tspan>\n",
       "    <tspan class=\"displacy-tag\" dy=\"2em\" fill=\"currentColor\" x=\"2150\">ADP</tspan>\n",
       "</text>\n",
       "\n",
       "<text class=\"displacy-token\" fill=\"currentColor\" text-anchor=\"middle\" y=\"309.5\">\n",
       "    <tspan class=\"displacy-word\" fill=\"currentColor\" x=\"2325\">светской</tspan>\n",
       "    <tspan class=\"displacy-tag\" dy=\"2em\" fill=\"currentColor\" x=\"2325\">ADJ</tspan>\n",
       "</text>\n",
       "\n",
       "<text class=\"displacy-token\" fill=\"currentColor\" text-anchor=\"middle\" y=\"309.5\">\n",
       "    <tspan class=\"displacy-word\" fill=\"currentColor\" x=\"2500\">суеты.</tspan>\n",
       "    <tspan class=\"displacy-tag\" dy=\"2em\" fill=\"currentColor\" x=\"2500\">NOUN</tspan>\n",
       "</text>\n",
       "\n",
       "<g class=\"displacy-arrow\">\n",
       "    <path class=\"displacy-arc\" id=\"arrow-396117c7d388456cbe0248c0d2547d6f-0-0\" stroke-width=\"2px\" d=\"M70,264.5 C70,89.5 395.0,89.5 395.0,264.5\" fill=\"none\" stroke=\"currentColor\"/>\n",
       "    <text dy=\"1.25em\" style=\"font-size: 0.8em; letter-spacing: 1px\">\n",
       "        <textPath xlink:href=\"#arrow-396117c7d388456cbe0248c0d2547d6f-0-0\" class=\"displacy-label\" startOffset=\"50%\" side=\"left\" fill=\"currentColor\" text-anchor=\"middle\">case</textPath>\n",
       "    </text>\n",
       "    <path class=\"displacy-arrowhead\" d=\"M70,266.5 L62,254.5 78,254.5\" fill=\"currentColor\"/>\n",
       "</g>\n",
       "\n",
       "<g class=\"displacy-arrow\">\n",
       "    <path class=\"displacy-arc\" id=\"arrow-396117c7d388456cbe0248c0d2547d6f-0-1\" stroke-width=\"2px\" d=\"M245,264.5 C245,177.0 390.0,177.0 390.0,264.5\" fill=\"none\" stroke=\"currentColor\"/>\n",
       "    <text dy=\"1.25em\" style=\"font-size: 0.8em; letter-spacing: 1px\">\n",
       "        <textPath xlink:href=\"#arrow-396117c7d388456cbe0248c0d2547d6f-0-1\" class=\"displacy-label\" startOffset=\"50%\" side=\"left\" fill=\"currentColor\" text-anchor=\"middle\">det</textPath>\n",
       "    </text>\n",
       "    <path class=\"displacy-arrowhead\" d=\"M245,266.5 L237,254.5 253,254.5\" fill=\"currentColor\"/>\n",
       "</g>\n",
       "\n",
       "<g class=\"displacy-arrow\">\n",
       "    <path class=\"displacy-arc\" id=\"arrow-396117c7d388456cbe0248c0d2547d6f-0-2\" stroke-width=\"2px\" d=\"M420,264.5 C420,2.0 1100.0,2.0 1100.0,264.5\" fill=\"none\" stroke=\"currentColor\"/>\n",
       "    <text dy=\"1.25em\" style=\"font-size: 0.8em; letter-spacing: 1px\">\n",
       "        <textPath xlink:href=\"#arrow-396117c7d388456cbe0248c0d2547d6f-0-2\" class=\"displacy-label\" startOffset=\"50%\" side=\"left\" fill=\"currentColor\" text-anchor=\"middle\">obl</textPath>\n",
       "    </text>\n",
       "    <path class=\"displacy-arrowhead\" d=\"M420,266.5 L412,254.5 428,254.5\" fill=\"currentColor\"/>\n",
       "</g>\n",
       "\n",
       "<g class=\"displacy-arrow\">\n",
       "    <path class=\"displacy-arc\" id=\"arrow-396117c7d388456cbe0248c0d2547d6f-0-3\" stroke-width=\"2px\" d=\"M595,264.5 C595,89.5 1095.0,89.5 1095.0,264.5\" fill=\"none\" stroke=\"currentColor\"/>\n",
       "    <text dy=\"1.25em\" style=\"font-size: 0.8em; letter-spacing: 1px\">\n",
       "        <textPath xlink:href=\"#arrow-396117c7d388456cbe0248c0d2547d6f-0-3\" class=\"displacy-label\" startOffset=\"50%\" side=\"left\" fill=\"currentColor\" text-anchor=\"middle\">advmod</textPath>\n",
       "    </text>\n",
       "    <path class=\"displacy-arrowhead\" d=\"M595,266.5 L587,254.5 603,254.5\" fill=\"currentColor\"/>\n",
       "</g>\n",
       "\n",
       "<g class=\"displacy-arrow\">\n",
       "    <path class=\"displacy-arc\" id=\"arrow-396117c7d388456cbe0248c0d2547d6f-0-4\" stroke-width=\"2px\" d=\"M595,264.5 C595,177.0 740.0,177.0 740.0,264.5\" fill=\"none\" stroke=\"currentColor\"/>\n",
       "    <text dy=\"1.25em\" style=\"font-size: 0.8em; letter-spacing: 1px\">\n",
       "        <textPath xlink:href=\"#arrow-396117c7d388456cbe0248c0d2547d6f-0-4\" class=\"displacy-label\" startOffset=\"50%\" side=\"left\" fill=\"currentColor\" text-anchor=\"middle\">fixed</textPath>\n",
       "    </text>\n",
       "    <path class=\"displacy-arrowhead\" d=\"M740.0,266.5 L748.0,254.5 732.0,254.5\" fill=\"currentColor\"/>\n",
       "</g>\n",
       "\n",
       "<g class=\"displacy-arrow\">\n",
       "    <path class=\"displacy-arc\" id=\"arrow-396117c7d388456cbe0248c0d2547d6f-0-5\" stroke-width=\"2px\" d=\"M945,264.5 C945,177.0 1090.0,177.0 1090.0,264.5\" fill=\"none\" stroke=\"currentColor\"/>\n",
       "    <text dy=\"1.25em\" style=\"font-size: 0.8em; letter-spacing: 1px\">\n",
       "        <textPath xlink:href=\"#arrow-396117c7d388456cbe0248c0d2547d6f-0-5\" class=\"displacy-label\" startOffset=\"50%\" side=\"left\" fill=\"currentColor\" text-anchor=\"middle\">nsubj</textPath>\n",
       "    </text>\n",
       "    <path class=\"displacy-arrowhead\" d=\"M945,266.5 L937,254.5 953,254.5\" fill=\"currentColor\"/>\n",
       "</g>\n",
       "\n",
       "<g class=\"displacy-arrow\">\n",
       "    <path class=\"displacy-arc\" id=\"arrow-396117c7d388456cbe0248c0d2547d6f-0-6\" stroke-width=\"2px\" d=\"M1120,264.5 C1120,177.0 1265.0,177.0 1265.0,264.5\" fill=\"none\" stroke=\"currentColor\"/>\n",
       "    <text dy=\"1.25em\" style=\"font-size: 0.8em; letter-spacing: 1px\">\n",
       "        <textPath xlink:href=\"#arrow-396117c7d388456cbe0248c0d2547d6f-0-6\" class=\"displacy-label\" startOffset=\"50%\" side=\"left\" fill=\"currentColor\" text-anchor=\"middle\">aux</textPath>\n",
       "    </text>\n",
       "    <path class=\"displacy-arrowhead\" d=\"M1265.0,266.5 L1273.0,254.5 1257.0,254.5\" fill=\"currentColor\"/>\n",
       "</g>\n",
       "\n",
       "<g class=\"displacy-arrow\">\n",
       "    <path class=\"displacy-arc\" id=\"arrow-396117c7d388456cbe0248c0d2547d6f-0-7\" stroke-width=\"2px\" d=\"M1120,264.5 C1120,89.5 1445.0,89.5 1445.0,264.5\" fill=\"none\" stroke=\"currentColor\"/>\n",
       "    <text dy=\"1.25em\" style=\"font-size: 0.8em; letter-spacing: 1px\">\n",
       "        <textPath xlink:href=\"#arrow-396117c7d388456cbe0248c0d2547d6f-0-7\" class=\"displacy-label\" startOffset=\"50%\" side=\"left\" fill=\"currentColor\" text-anchor=\"middle\">nsubj</textPath>\n",
       "    </text>\n",
       "    <path class=\"displacy-arrowhead\" d=\"M1445.0,266.5 L1453.0,254.5 1437.0,254.5\" fill=\"currentColor\"/>\n",
       "</g>\n",
       "\n",
       "<g class=\"displacy-arrow\">\n",
       "    <path class=\"displacy-arc\" id=\"arrow-396117c7d388456cbe0248c0d2547d6f-0-8\" stroke-width=\"2px\" d=\"M1645,264.5 C1645,177.0 1790.0,177.0 1790.0,264.5\" fill=\"none\" stroke=\"currentColor\"/>\n",
       "    <text dy=\"1.25em\" style=\"font-size: 0.8em; letter-spacing: 1px\">\n",
       "        <textPath xlink:href=\"#arrow-396117c7d388456cbe0248c0d2547d6f-0-8\" class=\"displacy-label\" startOffset=\"50%\" side=\"left\" fill=\"currentColor\" text-anchor=\"middle\">advmod</textPath>\n",
       "    </text>\n",
       "    <path class=\"displacy-arrowhead\" d=\"M1645,266.5 L1637,254.5 1653,254.5\" fill=\"currentColor\"/>\n",
       "</g>\n",
       "\n",
       "<g class=\"displacy-arrow\">\n",
       "    <path class=\"displacy-arc\" id=\"arrow-396117c7d388456cbe0248c0d2547d6f-0-9\" stroke-width=\"2px\" d=\"M1820,264.5 C1820,177.0 1965.0,177.0 1965.0,264.5\" fill=\"none\" stroke=\"currentColor\"/>\n",
       "    <text dy=\"1.25em\" style=\"font-size: 0.8em; letter-spacing: 1px\">\n",
       "        <textPath xlink:href=\"#arrow-396117c7d388456cbe0248c0d2547d6f-0-9\" class=\"displacy-label\" startOffset=\"50%\" side=\"left\" fill=\"currentColor\" text-anchor=\"middle\">advmod</textPath>\n",
       "    </text>\n",
       "    <path class=\"displacy-arrowhead\" d=\"M1820,266.5 L1812,254.5 1828,254.5\" fill=\"currentColor\"/>\n",
       "</g>\n",
       "\n",
       "<g class=\"displacy-arrow\">\n",
       "    <path class=\"displacy-arc\" id=\"arrow-396117c7d388456cbe0248c0d2547d6f-0-10\" stroke-width=\"2px\" d=\"M1470,264.5 C1470,89.5 1970.0,89.5 1970.0,264.5\" fill=\"none\" stroke=\"currentColor\"/>\n",
       "    <text dy=\"1.25em\" style=\"font-size: 0.8em; letter-spacing: 1px\">\n",
       "        <textPath xlink:href=\"#arrow-396117c7d388456cbe0248c0d2547d6f-0-10\" class=\"displacy-label\" startOffset=\"50%\" side=\"left\" fill=\"currentColor\" text-anchor=\"middle\">acl</textPath>\n",
       "    </text>\n",
       "    <path class=\"displacy-arrowhead\" d=\"M1970.0,266.5 L1978.0,254.5 1962.0,254.5\" fill=\"currentColor\"/>\n",
       "</g>\n",
       "\n",
       "<g class=\"displacy-arrow\">\n",
       "    <path class=\"displacy-arc\" id=\"arrow-396117c7d388456cbe0248c0d2547d6f-0-11\" stroke-width=\"2px\" d=\"M2170,264.5 C2170,89.5 2495.0,89.5 2495.0,264.5\" fill=\"none\" stroke=\"currentColor\"/>\n",
       "    <text dy=\"1.25em\" style=\"font-size: 0.8em; letter-spacing: 1px\">\n",
       "        <textPath xlink:href=\"#arrow-396117c7d388456cbe0248c0d2547d6f-0-11\" class=\"displacy-label\" startOffset=\"50%\" side=\"left\" fill=\"currentColor\" text-anchor=\"middle\">case</textPath>\n",
       "    </text>\n",
       "    <path class=\"displacy-arrowhead\" d=\"M2170,266.5 L2162,254.5 2178,254.5\" fill=\"currentColor\"/>\n",
       "</g>\n",
       "\n",
       "<g class=\"displacy-arrow\">\n",
       "    <path class=\"displacy-arc\" id=\"arrow-396117c7d388456cbe0248c0d2547d6f-0-12\" stroke-width=\"2px\" d=\"M2345,264.5 C2345,177.0 2490.0,177.0 2490.0,264.5\" fill=\"none\" stroke=\"currentColor\"/>\n",
       "    <text dy=\"1.25em\" style=\"font-size: 0.8em; letter-spacing: 1px\">\n",
       "        <textPath xlink:href=\"#arrow-396117c7d388456cbe0248c0d2547d6f-0-12\" class=\"displacy-label\" startOffset=\"50%\" side=\"left\" fill=\"currentColor\" text-anchor=\"middle\">amod</textPath>\n",
       "    </text>\n",
       "    <path class=\"displacy-arrowhead\" d=\"M2345,266.5 L2337,254.5 2353,254.5\" fill=\"currentColor\"/>\n",
       "</g>\n",
       "\n",
       "<g class=\"displacy-arrow\">\n",
       "    <path class=\"displacy-arc\" id=\"arrow-396117c7d388456cbe0248c0d2547d6f-0-13\" stroke-width=\"2px\" d=\"M1995,264.5 C1995,2.0 2500.0,2.0 2500.0,264.5\" fill=\"none\" stroke=\"currentColor\"/>\n",
       "    <text dy=\"1.25em\" style=\"font-size: 0.8em; letter-spacing: 1px\">\n",
       "        <textPath xlink:href=\"#arrow-396117c7d388456cbe0248c0d2547d6f-0-13\" class=\"displacy-label\" startOffset=\"50%\" side=\"left\" fill=\"currentColor\" text-anchor=\"middle\">obl</textPath>\n",
       "    </text>\n",
       "    <path class=\"displacy-arrowhead\" d=\"M2500.0,266.5 L2508.0,254.5 2492.0,254.5\" fill=\"currentColor\"/>\n",
       "</g>\n",
       "</svg></span>"
      ],
      "text/plain": [
       "<IPython.core.display.HTML object>"
      ]
     },
     "metadata": {},
     "output_type": "display_data"
    }
   ],
   "source": [
    "nlp = spacy_udpipe.load('ru')\n",
    "doc = nlp(raw_ru)\n",
    "displacy.render(doc, style = 'dep', jupyter = True)"
   ]
  },
  {
   "cell_type": "markdown",
   "id": "0fa48bd9-dcb8-46f6-a653-1e895fc2a24b",
   "metadata": {},
   "source": [
    "ЗАДАЧА 6"
   ]
  },
  {
   "cell_type": "code",
   "execution_count": 11,
   "id": "d311e9fb-9d02-4450-b2aa-083d9a4d50df",
   "metadata": {},
   "outputs": [
    {
     "name": "stdout",
     "output_type": "stream",
     "text": [
      "[('nsubj', 13863), ('prep', 10547), ('pobj', 9550), ('dobj', 8689), ('det', 8498), ('aux', 7084), ('advmod', 7004), ('conj', 6624), ('ccomp', 6592), ('dep', 5823), ('cc', 5765), ('poss', 5060), ('amod', 4529), ('punct', 4458), ('advcl', 3237), ('mark', 2465), ('xcomp', 2076), ('compound', 1845), ('neg', 1733), ('relcl', 1706), ('acomp', 1473), ('ROOT', 1371), ('attr', 1156), ('case', 1087), ('pcomp', 956), ('auxpass', 827), ('prt', 786), ('acl', 701), ('npadvmod', 673), ('nsubjpass', 632), ('nummod', 415), ('intj', 341), ('appos', 274), ('dative', 231), ('oprd', 195), ('expl', 158), ('agent', 150), ('predet', 147), ('nmod', 126), ('parataxis', 98), ('preconj', 79), ('csubj', 69), ('quantmod', 46), ('meta', 23), ('csubjpass', 2)]\n"
     ]
    }
   ],
   "source": [
    "with open('bronte_wuthering_txt.txt', 'r', encoding='utf-8') as file:\n",
    "    read_file = file.read().lower()\n",
    "    punctuations = \".?!,:;’-–—”()[]{}<>“/…*&#~\\@^|«»\"\n",
    "    txt_no_punc = \"\"\n",
    "    text = read_file.replace('\\n', ' ')\n",
    "    for char in text:\n",
    "        if char not in punctuations:\n",
    "            txt_no_punc += char\n",
    "\n",
    "    nlp = spacy.load('en_core_web_sm')\n",
    "    doc = nlp(txt_no_punc)\n",
    "\n",
    "    all_dep = []\n",
    "    for token in doc:\n",
    "        all_dep.append(token.dep_)\n",
    "\n",
    "    frequency = collections.Counter(all_dep)\n",
    "    frequency_dict = dict(frequency)\n",
    "    sorted_dict = {k: v for k, v in sorted(frequency_dict.items(), key=lambda item: item[1], reverse=True)}\n",
    "    lst_sorted_dict = [(k, v) for (k, v) in sorted_dict.items()]\n",
    "\n",
    "    print(lst_sorted_dict)"
   ]
  },
  {
   "cell_type": "code",
   "execution_count": null,
   "id": "bd37dbcb-3853-47fd-9783-5016d06ef5fc",
   "metadata": {},
   "outputs": [
    {
     "name": "stdout",
     "output_type": "stream",
     "text": [
      "oprd [('open', 7), ('catherine', 5), ('ready', 4)]\n",
      "dative [('me', 58), ('him', 44), ('you', 30)]\n",
      "auxpass [('was', 244), ('be', 208), ('were', 85)]\n",
      "ccomp [('was', 394), ('is', 288), ('be', 223)]\n",
      "quantmod [('a', 27), ('than', 6), ('half', 4)]\n",
      "punct [(\"'\", 4010), ('\"', 316), ('_', 58)]\n",
      "pobj [('me', 269), ('him', 228), ('you', 128)]\n",
      "nsubjpass [('i', 110), ('he', 73), ('it', 41)]\n",
      "agent [('by', 150)]\n",
      "case [(\"'\", 566), (\"'s\", 521)]\n",
      "dobj [('me', 567), ('him', 526), ('it', 436)]\n",
      "relcl [('was', 45), ('is', 34), ('have', 33)]\n",
      "ROOT [('said', 135), ('answered', 46), (\"'s\", 44)]\n",
      "parataxis [('know', 31), ('suppose', 8), ('mean', 7)]\n",
      "meta [('no', 3), ('had', 1), ('well', 1)]\n",
      "amod [('little', 139), ('young', 97), ('own', 94)]\n",
      "attr [('_', 52), ('what', 31), ('heathcliff', 21)]\n",
      "det [('the', 4535), ('a', 2268), ('an', 316)]\n",
      "advcl [('was', 106), ('were', 70), ('be', 62)]\n",
      "nmod [('you', 8), ('th', 4), ('joseph', 3)]\n",
      "acomp [('sure', 41), ('glad', 29), ('certain', 23)]\n",
      "csubjpass [('revived', 1), ('glided', 1)]\n",
      "mark [('that', 610), ('as', 474), ('if', 438)]\n",
      "npadvmod [('day', 38), ('time', 38), ('_', 38)]\n",
      "compound [('mr', 303), ('mrs', 133), ('miss', 53)]\n",
      "neg [('not', 1004), (\"n't\", 507), ('never', 178)]\n",
      "intj [('oh', 97), ('no', 59), ('well', 48)]\n",
      "dep [(' ', 5552), ('  ', 36), ('    ', 35)]\n",
      "expl [('there', 158)]\n",
      "conj [('was', 178), ('is', 130), ('be', 81)]\n",
      "prt [('up', 248), ('out', 162), ('down', 124)]\n",
      "nummod [('one', 123), ('two', 89), ('three', 41)]\n",
      "pcomp [('being', 29), ('first', 20), ('coming', 17)]\n",
      "appos [('_', 31), ('all', 26), ('himself', 13)]\n",
      "predet [('all', 63), ('such', 56), ('half', 14)]\n",
      "cc [('and', 4692), ('but', 662), ('or', 307)]\n",
      "poss [('his', 1386), ('my', 1087), ('her', 1005)]\n"
     ]
    }
   ],
   "source": [
    "deps = list(set(all_dep))\n",
    "dep_toks = []\n",
    "for item in deps:\n",
    "    for token in doc:\n",
    "        if item == token.dep_:\n",
    "            dep_toks.append(token.text)\n",
    "\n",
    "        frequency = collections.Counter(dep_toks)\n",
    "        frequency_dict = dict(frequency)\n",
    "        sorted_dict = {k: v for k, v in sorted(frequency_dict.items(), key=lambda item: item[1], reverse=True)}\n",
    "        lst_sorted_dict = [(k, v) for (k, v) in sorted_dict.items()]\n",
    "\n",
    "    print(item, lst_sorted_dict[0:3])\n",
    "    dep_toks = []"
   ]
  },
  {
   "cell_type": "code",
   "execution_count": 7,
   "id": "b9e25e5d-f34b-4c9d-a53d-c495c2b14077",
   "metadata": {},
   "outputs": [
    {
     "name": "stdout",
     "output_type": "stream",
     "text": [
      "nsubj [('я', 3136), ('он', 1688), ('она', 1052)]\n",
      "appos [('хитклиф', 111), ('линтон', 96), ('кэтрин', 66)]\n",
      "dep [('\\xa0 ', 2354), (' ', 1542), (' \\xa0', 1310)]\n",
      "flat:name [('линтон', 88), ('дин', 37), ('хитклиф', 36)]\n",
      "ROOT [('перевал', 1), ('подчинился', 1), ('достала', 1)]\n",
      "nummod [('один', 46), ('одну', 23), ('одна', 23)]\n",
      "flat [('сентября', 2), ('1801', 1), ('утра', 1)]\n",
      "advmod [('не', 2921), ('так', 473), ('же', 383)]\n",
      "fixed [('что', 325), ('чем', 95), ('бы', 64)]\n",
      "conj [('нет', 146), ('сказал', 88), ('сказала', 76)]\n",
      "case [('в', 2183), ('на', 1579), ('с', 1136)]\n",
      "det [('его', 512), ('ее', 384), ('все', 173)]\n",
      "obl [('меня', 260), ('него', 181), ('раз', 146)]\n",
      "amod [('самом', 54), ('другой', 39), ('грозовой', 36)]\n",
      "nmod [('его', 94), ('хитклифа', 58), ('ее', 44)]\n",
      "aux [('бы', 495), ('будет', 65), ('буду', 39)]\n",
      "iobj [('мне', 687), ('ему', 323), ('ей', 245)]\n",
      "xcomp [('сказать', 41), ('нет', 38), ('спать', 37)]\n",
      "obj [('его', 547), ('меня', 531), ('ее', 340)]\n",
      "acl [('сама', 50), ('сам', 43), ('сами', 17)]\n",
      "cc [('и', 4293), ('но', 693), ('а', 685)]\n",
      "nsubj:pass [('я', 25), ('он', 22), ('она', 14)]\n",
      "nummod:gov [('несколько', 53), ('два', 43), ('три', 34)]\n",
      "mark [('что', 1289), ('когда', 533), ('как', 481)]\n",
      "advcl [('могла', 12), ('могу', 11), ('увидела', 11)]\n",
      "ccomp [('может', 23), ('нет', 18), ('могу', 13)]\n",
      "parataxis [('сказал', 117), ('сказала', 95), ('ответил', 72)]\n",
      "aux:pass [('был', 56), ('была', 37), ('были', 32)]\n",
      "csubj [('видеть', 7), ('сказать', 5), ('думать', 5)]\n",
      "acl:relcl [('понимал', 2), ('видел', 2), ('могла', 2)]\n",
      "cop [('было', 219), ('был', 197), ('была', 142)]\n",
      "obl:agent [('мною', 3), ('хитклифом', 2), ('окороками', 1)]\n",
      "punct [('\"', 20), ('ну', 5), ('„', 3)]\n",
      "csubj:pass [('призвать', 1), ('взять', 1), ('увести', 1)]\n",
      "discourse [('ну', 25), ('значит', 5), ('тем', 2)]\n",
      "flat:foreign [('chevy', 2), ('chase', 2), ('annum', 1)]\n",
      "nummod:entity [('ну', 2), ('три', 1)]\n",
      "expl [('это', 5), ('ну', 1)]\n"
     ]
    }
   ],
   "source": [
    "with open('Бронте Эмили. Грозовой перевал.txt', 'r', encoding='utf-8') as file:\n",
    "    read_file = file.read().lower()\n",
    "    punctuations = \".?!,:;’-–—”()[]{}<>“/…*&#~\\@^|«»\"\n",
    "    txt_no_punc = \"\"\n",
    "    text = read_file.replace('\\n', ' ')\n",
    "    for char in text:\n",
    "        if char not in punctuations:\n",
    "            txt_no_punc += char\n",
    "\n",
    "    nlp = spacy.load('ru_core_news_sm')\n",
    "    doc = nlp(txt_no_punc)\n",
    "    \n",
    "    deps = []\n",
    "    for token in doc:\n",
    "        if token.dep_ not in deps:\n",
    "            deps.append(token.dep_)\n",
    "            \n",
    "    dep_toks = []\n",
    "    for item in deps:\n",
    "        for token in doc:\n",
    "            if item == token.dep_:\n",
    "                dep_toks.append(token.text)\n",
    "\n",
    "            frequency = collections.Counter(dep_toks)\n",
    "            frequency_dict = dict(frequency)\n",
    "            sorted_dict = {k: v for k, v in sorted(frequency_dict.items(), key=lambda item: item[1], reverse=True)}\n",
    "            lst_sorted_dict = [(k, v) for (k, v) in sorted_dict.items()]\n",
    "\n",
    "        print(item, lst_sorted_dict[0:3])\n",
    "        dep_toks = []\n",
    "    \n"
   ]
  },
  {
   "cell_type": "code",
   "execution_count": 8,
   "id": "5fa0f2a8-5389-45a2-a59e-37bf3c8d0be4",
   "metadata": {},
   "outputs": [],
   "source": [
    "file.close()"
   ]
  },
  {
   "cell_type": "code",
   "execution_count": null,
   "id": "36defdae-8e76-4872-bdaa-36b81ce09189",
   "metadata": {},
   "outputs": [],
   "source": []
  }
 ],
 "metadata": {
  "kernelspec": {
   "display_name": "Python 3 (ipykernel)",
   "language": "python",
   "name": "python3"
  },
  "language_info": {
   "codemirror_mode": {
    "name": "ipython",
    "version": 3
   },
   "file_extension": ".py",
   "mimetype": "text/x-python",
   "name": "python",
   "nbconvert_exporter": "python",
   "pygments_lexer": "ipython3",
   "version": "3.9.13"
  }
 },
 "nbformat": 4,
 "nbformat_minor": 5
}
