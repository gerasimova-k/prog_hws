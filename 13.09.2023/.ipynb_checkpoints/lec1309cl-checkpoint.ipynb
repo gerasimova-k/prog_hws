{
 "cells": [
  {
   "cell_type": "code",
   "execution_count": 1,
   "id": "2b06912d-5536-49ad-9ddd-44117aefa02b",
   "metadata": {},
   "outputs": [],
   "source": [
    "class Human:\n",
    "    def __init__(self, name, age):\n",
    "        self.name = name\n",
    "        self.age = age\n",
    "    \n",
    "class Student(Human):\n",
    "    def __init__(self, name, age, course):\n",
    "        Human.__init__(self, name, age) # явно передаем self тоже, потому что вызываем метод от имени класса\n",
    "        self.course = course"
   ]
  },
  {
   "cell_type": "code",
   "execution_count": 2,
   "id": "14f21138-0d0c-427c-a43d-c5b08694da23",
   "metadata": {},
   "outputs": [],
   "source": [
    "vasya = Student('Вася', 19, 2)"
   ]
  },
  {
   "cell_type": "code",
   "execution_count": 3,
   "id": "196c774f-cf8c-45b2-bca3-421cd4cb6507",
   "metadata": {},
   "outputs": [],
   "source": [
    "class Student(Human):\n",
    "    def __init__(self, name, age, course):\n",
    "        super().__init__(name, age) # тут не нужно передавать self - super() сам его отыщет и передаст куда надо\n",
    "        self.course = course\n",
    "        \n",
    "vasya = Student('Вася', 19, 2)"
   ]
  },
  {
   "cell_type": "code",
   "execution_count": null,
   "id": "77803ac7-2f46-4335-b9bf-2c2390bb8e1e",
   "metadata": {},
   "outputs": [],
   "source": [
    "# Все классы наследуются от класса Object"
   ]
  },
  {
   "cell_type": "code",
   "execution_count": 8,
   "id": "48a84660-d4f0-4f4b-90e5-719959e5ed3a",
   "metadata": {},
   "outputs": [],
   "source": [
    "class MyClass:\n",
    "    def __init__(self, age):\n",
    "        print('Я создал')\n",
    "        self.age = age\n",
    "    def __bool__(self):\n",
    "        if self.age < 18:\n",
    "            return False\n",
    "        else:\n",
    "            return True"
   ]
  },
  {
   "cell_type": "code",
   "execution_count": 10,
   "id": "466a3eea-58e3-48dd-933e-10c8c984ecd7",
   "metadata": {},
   "outputs": [
    {
     "name": "stdout",
     "output_type": "stream",
     "text": [
      "Я создал\n"
     ]
    }
   ],
   "source": [
    "Petya = MyClass(12)"
   ]
  },
  {
   "cell_type": "code",
   "execution_count": 6,
   "id": "243f2567-1756-4bf8-90f0-8f1c6c9b6f9a",
   "metadata": {},
   "outputs": [
    {
     "name": "stdout",
     "output_type": "stream",
     "text": [
      "Я создал\n"
     ]
    }
   ],
   "source": [
    "m = MyClass()"
   ]
  },
  {
   "cell_type": "code",
   "execution_count": 7,
   "id": "20d2ca5a-26da-46a5-af0b-a5f004dd0a21",
   "metadata": {},
   "outputs": [
    {
     "ename": "ModuleNotFoundError",
     "evalue": "No module named 'razdel'",
     "output_type": "error",
     "traceback": [
      "\u001b[1;31m---------------------------------------------------------------------------\u001b[0m",
      "\u001b[1;31mModuleNotFoundError\u001b[0m                       Traceback (most recent call last)",
      "Cell \u001b[1;32mIn[7], line 1\u001b[0m\n\u001b[1;32m----> 1\u001b[0m \u001b[38;5;28;01mimport\u001b[39;00m \u001b[38;5;21;01mrazdel\u001b[39;00m\n",
      "\u001b[1;31mModuleNotFoundError\u001b[0m: No module named 'razdel'"
     ]
    }
   ],
   "source": [
    "import razdel"
   ]
  },
  {
   "cell_type": "code",
   "execution_count": null,
   "id": "738863e3-ec3f-4520-be7d-69254759057f",
   "metadata": {},
   "outputs": [],
   "source": [
    " [t.text for t in razdel.tokenize('kjhj;l')]"
   ]
  },
  {
   "cell_type": "code",
   "execution_count": 11,
   "id": "0aedb44f-1e1b-4df1-9489-188929f8192f",
   "metadata": {},
   "outputs": [
    {
     "data": {
      "text/plain": [
       "False"
      ]
     },
     "execution_count": 11,
     "metadata": {},
     "output_type": "execute_result"
    }
   ],
   "source": [
    "bool(Petya)"
   ]
  },
  {
   "cell_type": "code",
   "execution_count": 7,
   "id": "b3413537-335b-4e08-b459-25db769dc3cc",
   "metadata": {},
   "outputs": [
    {
     "data": {
      "text/plain": [
       "[2]"
      ]
     },
     "execution_count": 7,
     "metadata": {},
     "output_type": "execute_result"
    }
   ],
   "source": [
    "lst = [1, 2, 3]\n",
    "lst[1]\n",
    "lst[1:2]"
   ]
  },
  {
   "cell_type": "code",
   "execution_count": 11,
   "id": "3b322023-297e-412d-8390-ca4b21769a7f",
   "metadata": {},
   "outputs": [],
   "source": [
    "class Conference:\n",
    "    def __init__(self, name, date, papers):\n",
    "        self.name = name\n",
    "        self.date = date\n",
    "        self.papers = papers\n",
    "    def __getitem__(self, index):\n",
    "        return self.papers[index.start:index.stop:index.step]\n",
    "    def __setitem__(self, index):\n",
    "        self.papers.index = obj\n",
    "    def __index__(self, obj):\n",
    "        "
   ]
  },
  {
   "cell_type": "code",
   "execution_count": 5,
   "id": "9b506b57-d20a-4624-96d8-16a5fa90f134",
   "metadata": {},
   "outputs": [],
   "source": [
    "conf = Conference('COLING', 'May 2024', ['On morph', 'On syntax', 'NER'])"
   ]
  },
  {
   "cell_type": "code",
   "execution_count": 10,
   "id": "fb760d50-7111-48fd-8147-e73e6ce5eb8f",
   "metadata": {},
   "outputs": [
    {
     "data": {
      "text/plain": [
       "['On syntax', 'NER']"
      ]
     },
     "execution_count": 10,
     "metadata": {},
     "output_type": "execute_result"
    }
   ],
   "source": [
    "conf[1:]"
   ]
  },
  {
   "cell_type": "code",
   "execution_count": 12,
   "id": "fdabccad-b15d-45fa-97eb-ab57179604f0",
   "metadata": {},
   "outputs": [
    {
     "ename": "TypeError",
     "evalue": "'Conference' object does not support item assignment",
     "output_type": "error",
     "traceback": [
      "\u001b[1;31m---------------------------------------------------------------------------\u001b[0m",
      "\u001b[1;31mTypeError\u001b[0m                                 Traceback (most recent call last)",
      "Cell \u001b[1;32mIn[12], line 1\u001b[0m\n\u001b[1;32m----> 1\u001b[0m \u001b[43mconf\u001b[49m\u001b[43m[\u001b[49m\u001b[38;5;241;43m0\u001b[39;49m\u001b[43m]\u001b[49m \u001b[38;5;241m=\u001b[39m \u001b[38;5;124m'\u001b[39m\u001b[38;5;124mOn morphology\u001b[39m\u001b[38;5;124m'\u001b[39m\n",
      "\u001b[1;31mTypeError\u001b[0m: 'Conference' object does not support item assignment"
     ]
    }
   ],
   "source": [
    "conf[] = 'On morphology'"
   ]
  },
  {
   "cell_type": "code",
   "execution_count": 8,
   "id": "a98c916b-db4c-4b24-a291-f00e61ddbc57",
   "metadata": {},
   "outputs": [
    {
     "data": {
      "text/plain": [
       "True"
      ]
     },
     "execution_count": 8,
     "metadata": {},
     "output_type": "execute_result"
    }
   ],
   "source": [
    "lst[slice(1, 2)] == lst[1:2]"
   ]
  },
  {
   "cell_type": "code",
   "execution_count": null,
   "id": "bc0366eb-ea7e-4fff-ae77-b006eabb936b",
   "metadata": {},
   "outputs": [],
   "source": [
    "for paper in conf:\n",
    "    print(paper)"
   ]
  },
  {
   "cell_type": "code",
   "execution_count": 13,
   "id": "d40ba816-fd75-4ad9-9ddb-93624998f88e",
   "metadata": {},
   "outputs": [
    {
     "data": {
      "text/plain": [
       "[[1, 1], [2, 1], [3, 1]]"
      ]
     },
     "execution_count": 13,
     "metadata": {},
     "output_type": "execute_result"
    }
   ],
   "source": [
    "A = [[1], [2], [3]]\n",
    "\n",
    "for elem in A:\n",
    "    elem.append(1)\n",
    "A"
   ]
  },
  {
   "cell_type": "code",
   "execution_count": null,
   "id": "ce72c962-39d4-4381-a292-a22762644f05",
   "metadata": {},
   "outputs": [],
   "source": [
    "for elem in A: # I = iter(A)\n",
    "    elem += 1\n",
    "    # elem = I.__next__() = next(I) == elem == 1\n",
    "    # elem += 1 == elem = 2\n",
    "    # __\n",
    "    #elem = [1]\n",
    "    # elem.append(1) == [1, 1]\n",
    "\n",
    "for i in range(len(A)): #I = iter(range(0, len(A)))\n",
    "    A[i] = 2 #A.__setitem__(i, 2)"
   ]
  },
  {
   "cell_type": "code",
   "execution_count": null,
   "id": "478b6e4d-6b69-46d1-b970-328069812db4",
   "metadata": {},
   "outputs": [],
   "source": [
    "d = reversed(lst)"
   ]
  },
  {
   "cell_type": "code",
   "execution_count": null,
   "id": "2c39a7f2-03e8-4319-a401-fa1d52756d24",
   "metadata": {},
   "outputs": [],
   "source": [
    "for elem in d:\n",
    "    print(elem) # итератор работает только один раз, потом он пустой\n",
    "# d.__next__()\n",
    "# d.__next__()\n",
    "# StopIteration"
   ]
  },
  {
   "cell_type": "code",
   "execution_count": null,
   "id": "b262682b-c8fe-43fc-8be1-745831b5a8c7",
   "metadata": {},
   "outputs": [],
   "source": [
    "iter()\n",
    "next(I)\n",
    "...\n",
    "StopIteration"
   ]
  },
  {
   "cell_type": "code",
   "execution_count": null,
   "id": "3ee54036-d960-46b7-8096-d9e8fd722cc0",
   "metadata": {},
   "outputs": [],
   "source": [
    "# __iter__\n",
    "# __next__"
   ]
  },
  {
   "cell_type": "code",
   "execution_count": 19,
   "id": "cd8d3b63-56aa-4063-af32-974574ecf8fd",
   "metadata": {},
   "outputs": [],
   "source": [
    "class Squares:\n",
    "    def __init__(self, start, stop):\n",
    "        self.value = start - 1\n",
    "        self.stop = stop\n",
    "    def __iter__(self):\n",
    "        return self\n",
    "    def __next__(self):\n",
    "        if self.value == self.stop:\n",
    "            raise StopIteration\n",
    "        self.value += 1\n",
    "        return self.value ** 2"
   ]
  },
  {
   "cell_type": "code",
   "execution_count": 20,
   "id": "f13092fb-aaab-4ced-bd35-1d577de1f5a7",
   "metadata": {},
   "outputs": [
    {
     "name": "stdout",
     "output_type": "stream",
     "text": [
      "1\n",
      "4\n",
      "9\n",
      "16\n",
      "25\n",
      "36\n",
      "49\n",
      "64\n",
      "81\n",
      "100\n"
     ]
    }
   ],
   "source": [
    "s = Squares(1, 10)\n",
    "for i in s:\n",
    "    print(i)"
   ]
  },
  {
   "cell_type": "code",
   "execution_count": 14,
   "id": "a3f57cda-52e0-4ccd-b5bb-990a664f3726",
   "metadata": {},
   "outputs": [
    {
     "ename": "IndexError",
     "evalue": "",
     "output_type": "error",
     "traceback": [
      "\u001b[1;31m---------------------------------------------------------------------------\u001b[0m",
      "\u001b[1;31mIndexError\u001b[0m                                Traceback (most recent call last)",
      "Cell \u001b[1;32mIn[14], line 1\u001b[0m\n\u001b[1;32m----> 1\u001b[0m \u001b[38;5;28;01mraise\u001b[39;00m \u001b[38;5;167;01mIndexError\u001b[39;00m\n",
      "\u001b[1;31mIndexError\u001b[0m: "
     ]
    }
   ],
   "source": [
    "raise IndexError"
   ]
  },
  {
   "cell_type": "code",
   "execution_count": 15,
   "id": "8d0217be-ecab-42f6-8bf5-28846b0b12cd",
   "metadata": {},
   "outputs": [
    {
     "name": "stdout",
     "output_type": "stream",
     "text": [
      "3\n"
     ]
    },
    {
     "ename": "IndexError",
     "evalue": "list index out of range",
     "output_type": "error",
     "traceback": [
      "\u001b[1;31m---------------------------------------------------------------------------\u001b[0m",
      "\u001b[1;31mIndexError\u001b[0m                                Traceback (most recent call last)",
      "Cell \u001b[1;32mIn[15], line 2\u001b[0m\n\u001b[0;32m      1\u001b[0m \u001b[38;5;28;01mtry\u001b[39;00m:\n\u001b[1;32m----> 2\u001b[0m     \u001b[38;5;28mprint\u001b[39m(\u001b[43mlst\u001b[49m\u001b[43m[\u001b[49m\u001b[38;5;241;43m4\u001b[39;49m\u001b[43m]\u001b[49m)\n\u001b[0;32m      3\u001b[0m \u001b[38;5;28;01mexcept\u001b[39;00m \u001b[38;5;167;01mIndexError\u001b[39;00m:\n\u001b[0;32m      4\u001b[0m     \u001b[38;5;28mprint\u001b[39m(\u001b[38;5;28mlen\u001b[39m(lst))\n",
      "\u001b[1;31mIndexError\u001b[0m: list index out of range"
     ]
    }
   ],
   "source": [
    "try:\n",
    "    print(lst[4])\n",
    "except IndexError:\n",
    "    print(len(lst))\n",
    "    raise"
   ]
  },
  {
   "cell_type": "code",
   "execution_count": null,
   "id": "09de5d75-78da-4ebc-8229-e36e3c596346",
   "metadata": {},
   "outputs": [],
   "source": [
    "import spacy\n",
    "\n",
    "nlp = spacy.load('en_core_news')"
   ]
  },
  {
   "cell_type": "code",
   "execution_count": null,
   "id": "3c4678f0-f31b-4d2f-85ec-bff69c9ae910",
   "metadata": {},
   "outputs": [],
   "source": [
    "map, filter, reduce"
   ]
  },
  {
   "cell_type": "code",
   "execution_count": 23,
   "id": "9f79c9b3-26ab-421a-a4f8-ab3982647e7e",
   "metadata": {},
   "outputs": [
    {
     "name": "stdin",
     "output_type": "stream",
     "text": [
      " 1 2\n"
     ]
    }
   ],
   "source": [
    "x, y = list(map(int, input().split()))"
   ]
  },
  {
   "cell_type": "code",
   "execution_count": 24,
   "id": "4b22bd53-5b08-4d56-898b-ac039d37a46b",
   "metadata": {},
   "outputs": [
    {
     "data": {
      "text/plain": [
       "(1, 2)"
      ]
     },
     "execution_count": 24,
     "metadata": {},
     "output_type": "execute_result"
    }
   ],
   "source": [
    "x, y"
   ]
  },
  {
   "cell_type": "code",
   "execution_count": 26,
   "id": "f4083b77-57c6-4ef7-8483-72163adc57f4",
   "metadata": {},
   "outputs": [
    {
     "ename": "TypeError",
     "evalue": "'builtin_function_or_method' object is not subscriptable",
     "output_type": "error",
     "traceback": [
      "\u001b[1;31m---------------------------------------------------------------------------\u001b[0m",
      "\u001b[1;31mTypeError\u001b[0m                                 Traceback (most recent call last)",
      "Cell \u001b[1;32mIn[26], line 1\u001b[0m\n\u001b[1;32m----> 1\u001b[0m \u001b[38;5;28mmap\u001b[39m(\u001b[38;5;28;43mpow\u001b[39;49m\u001b[43m \u001b[49m\u001b[43m[\u001b[49m\u001b[38;5;241;43m1\u001b[39;49m\u001b[43m,\u001b[49m\u001b[43m \u001b[49m\u001b[38;5;241;43m2\u001b[39;49m\u001b[43m,\u001b[49m\u001b[43m \u001b[49m\u001b[38;5;241;43m3\u001b[39;49m\u001b[43m]\u001b[49m, [\u001b[38;5;241m1\u001b[39m, \u001b[38;5;241m2\u001b[39m, \u001b[38;5;241m3\u001b[39m])\n",
      "\u001b[1;31mTypeError\u001b[0m: 'builtin_function_or_method' object is not subscriptable"
     ]
    }
   ],
   "source": [
    "map(pow [1, 2, 3], [1, 2, 3])"
   ]
  },
  {
   "cell_type": "code",
   "execution_count": 27,
   "id": "9f0c82cc-ca5e-44b1-b037-1df59f2117b2",
   "metadata": {},
   "outputs": [
    {
     "data": {
      "text/plain": [
       "[-5, -4, -3, -2, -1]"
      ]
     },
     "execution_count": 27,
     "metadata": {},
     "output_type": "execute_result"
    }
   ],
   "source": [
    "list(filter(lambda x: x < 0, range(-5, 5)))"
   ]
  },
  {
   "cell_type": "code",
   "execution_count": 28,
   "id": "97f6b38b-326b-491e-851d-3c21d0ca8d46",
   "metadata": {},
   "outputs": [
    {
     "data": {
      "text/plain": [
       "10"
      ]
     },
     "execution_count": 28,
     "metadata": {},
     "output_type": "execute_result"
    }
   ],
   "source": [
    "from functools import reduce\n",
    "\n",
    "reduce((lambda x, y: x + y), [1, 2, 3, 4])"
   ]
  },
  {
   "cell_type": "code",
   "execution_count": 29,
   "id": "12ca7d20-a017-424c-91e4-0d71fde65268",
   "metadata": {},
   "outputs": [
    {
     "data": {
      "text/plain": [
       "24"
      ]
     },
     "execution_count": 29,
     "metadata": {},
     "output_type": "execute_result"
    }
   ],
   "source": [
    "reduce((lambda x, y: x * y), [1, 2, 3, 4])"
   ]
  },
  {
   "cell_type": "code",
   "execution_count": 30,
   "id": "3d59a9af-8fdf-47ac-98a6-83223f34d748",
   "metadata": {},
   "outputs": [
    {
     "data": {
      "text/plain": [
       "<generator object <genexpr> at 0x000002063DA80BA0>"
      ]
     },
     "execution_count": 30,
     "metadata": {},
     "output_type": "execute_result"
    }
   ],
   "source": [
    "(i for i in range(1, 10))"
   ]
  },
  {
   "cell_type": "code",
   "execution_count": 64,
   "id": "45c7d9f7-4ac8-40ab-b64f-1c5262068492",
   "metadata": {},
   "outputs": [],
   "source": [
    "def gsquares(start, stop):\n",
    "    for i in range(start, stop):\n",
    "        yield i ** 2\n"
   ]
  },
  {
   "cell_type": "code",
   "execution_count": 65,
   "id": "2aa7b43e-e874-4b38-974e-6824479d3d7b",
   "metadata": {},
   "outputs": [],
   "source": [
    "d = gsquares(1, 10)"
   ]
  },
  {
   "cell_type": "code",
   "execution_count": null,
   "id": "12410617-5871-433d-b2af-ec3dce93e4d0",
   "metadata": {},
   "outputs": [],
   "source": [
    "next(d)"
   ]
  },
  {
   "cell_type": "code",
   "execution_count": 66,
   "id": "3f686e3a-a306-447a-b0f3-64e1e4d3c625",
   "metadata": {},
   "outputs": [
    {
     "data": {
      "text/plain": [
       "[1, 4, 9, 16, 25, 36, 49, 64, 81]"
      ]
     },
     "execution_count": 66,
     "metadata": {},
     "output_type": "execute_result"
    }
   ],
   "source": [
    "list(d)"
   ]
  },
  {
   "cell_type": "code",
   "execution_count": 36,
   "id": "03453c6c-5fb8-4008-8b48-4ccde2b38644",
   "metadata": {},
   "outputs": [],
   "source": [
    "class SkipObject:\n",
    "    def __init__(self, wrapped):\n",
    "        self.wrapped = wrapped\n",
    "    def __iter__(self):\n",
    "        return SkipIterator(self.wrapped)\n",
    "class SkipIterator:\n",
    "    def __init__(self, wrapped):\n",
    "        self.wrapped = wrapped\n",
    "        self.offset = 0\n",
    "    def __next__(self):\n",
    "        if self.offset > len(self.wrapped) - 2:\n",
    "            raise StopIteration\n",
    "        item = self.wrapped[self.offset]\n",
    "        self.offset += 2\n",
    "        return item"
   ]
  },
  {
   "cell_type": "code",
   "execution_count": 37,
   "id": "21373c58-dbfb-4e64-b322-ce853623d1f1",
   "metadata": {},
   "outputs": [],
   "source": [
    "a = 'qweryt'\n",
    "skipper = SkipObject(a)"
   ]
  },
  {
   "cell_type": "code",
   "execution_count": 38,
   "id": "a4e7c59a-7c41-49b2-ad33-4b37f97fc629",
   "metadata": {},
   "outputs": [
    {
     "name": "stdout",
     "output_type": "stream",
     "text": [
      "q\n",
      "e\n",
      "y\n"
     ]
    }
   ],
   "source": [
    "for i in skipper:\n",
    "    print(i)"
   ]
  },
  {
   "cell_type": "code",
   "execution_count": 59,
   "id": "d34543d7-11d6-4536-8836-b627be18850e",
   "metadata": {},
   "outputs": [],
   "source": [
    "class Conference:\n",
    "    def __init__(self, name, date, papers):\n",
    "        self.name = name\n",
    "        self.date = date\n",
    "        self.papers = papers\n",
    "    def __getitem__(self, index):\n",
    "        print('getitem')\n",
    "        if isinstance(index, int):\n",
    "            return self,papers[index]\n",
    "        else:\n",
    "            return self.papers[index.start:index.stop:index.step]\n",
    "    def __setitem__(self, index, obj):\n",
    "        self.papers[index] = obj\n",
    "    \n",
    "    def __iter__(self):\n",
    "        print('iter')\n",
    "        for item in range(len(self.papers)):\n",
    "            yield self.papers[item]\n",
    "    def __contains__(self, obj):\n",
    "        print('contains')\n",
    "        return obj in self.papers\n",
    "    def __call__(self, *args, **kwargs):\n",
    "        print(*self.papers, kwargs)"
   ]
  },
  {
   "cell_type": "code",
   "execution_count": 63,
   "id": "d859bd13-56fc-471e-8fb7-d5483588e516",
   "metadata": {},
   "outputs": [
    {
     "name": "stdout",
     "output_type": "stream",
     "text": [
      "On morph On syntax NER {'sep': '\\t', 'end': '!\\n'}\n"
     ]
    }
   ],
   "source": [
    "conf(sep='\\t', end='!\\n')"
   ]
  },
  {
   "cell_type": "code",
   "execution_count": 62,
   "id": "abfb78f1-c467-4172-ab99-6fca56864df0",
   "metadata": {},
   "outputs": [],
   "source": [
    "conf = Conference('COLING', 'may 2024', ['On morph','On syntax', 'NER'])"
   ]
  },
  {
   "cell_type": "code",
   "execution_count": 41,
   "id": "985209d2-565d-4eac-a2bf-681475b4cfc1",
   "metadata": {},
   "outputs": [
    {
     "name": "stdout",
     "output_type": "stream",
     "text": [
      "contains\n"
     ]
    },
    {
     "data": {
      "text/plain": [
       "True"
      ]
     },
     "execution_count": 41,
     "metadata": {},
     "output_type": "execute_result"
    }
   ],
   "source": [
    "'NER' in conf"
   ]
  },
  {
   "cell_type": "code",
   "execution_count": null,
   "id": "36b4e71f-c0ea-4bb4-9471-db8e4ef18f6d",
   "metadata": {},
   "outputs": [],
   "source": [
    "nlp = \n",
    "doc = nlp(raw)\n",
    "doc.spans\n",
    "doc.ends"
   ]
  },
  {
   "cell_type": "code",
   "execution_count": 42,
   "id": "52995ddf-50b7-41cf-917f-35ea5e7faef4",
   "metadata": {},
   "outputs": [],
   "source": [
    "conf.location = 'Madrid'"
   ]
  },
  {
   "cell_type": "code",
   "execution_count": 43,
   "id": "105e6ed6-cfde-4247-bcb5-d193c8dd7f7c",
   "metadata": {},
   "outputs": [],
   "source": [
    "a = 1"
   ]
  },
  {
   "cell_type": "code",
   "execution_count": 44,
   "id": "f30816d1-5c3f-43d5-bfd7-a585327768dc",
   "metadata": {},
   "outputs": [
    {
     "ename": "AttributeError",
     "evalue": "'int' object has no attribute 'name'",
     "output_type": "error",
     "traceback": [
      "\u001b[1;31m---------------------------------------------------------------------------\u001b[0m",
      "\u001b[1;31mAttributeError\u001b[0m                            Traceback (most recent call last)",
      "Cell \u001b[1;32mIn[44], line 1\u001b[0m\n\u001b[1;32m----> 1\u001b[0m \u001b[43ma\u001b[49m\u001b[38;5;241;43m.\u001b[39;49m\u001b[43mname\u001b[49m\n",
      "\u001b[1;31mAttributeError\u001b[0m: 'int' object has no attribute 'name'"
     ]
    }
   ],
   "source": [
    "a.name"
   ]
  },
  {
   "cell_type": "code",
   "execution_count": 52,
   "id": "1753549f-49db-4284-8f18-444541db8234",
   "metadata": {},
   "outputs": [],
   "source": [
    "class Empty:\n",
    "    def __getattr__(self, attrname):\n",
    "        if attrname == 'name':\n",
    "            return 'Empty'\n",
    "        else: \n",
    "            raise AttributeError(attrname)\n",
    "    def __setattr__(self, attrname, value):\n",
    "        if attrname != 'name':\n",
    "            raise AttributeError(attrname)\n",
    "        self.__dict__[attrname] = value"
   ]
  },
  {
   "cell_type": "code",
   "execution_count": 53,
   "id": "63f29a13-961b-4936-884e-5cc1e2c6f08b",
   "metadata": {},
   "outputs": [
    {
     "data": {
      "text/plain": [
       "'Empty'"
      ]
     },
     "execution_count": 53,
     "metadata": {},
     "output_type": "execute_result"
    }
   ],
   "source": [
    "e = Empty()\n",
    "e.name"
   ]
  },
  {
   "cell_type": "code",
   "execution_count": 54,
   "id": "ec9b1e3b-7e32-4cdf-9cc8-73fb925d51c6",
   "metadata": {},
   "outputs": [],
   "source": [
    "e.name = 'New'"
   ]
  },
  {
   "cell_type": "code",
   "execution_count": 56,
   "id": "3ab06238-0f9e-475a-8e5b-2eab69173d33",
   "metadata": {},
   "outputs": [],
   "source": [
    "e.__dict__['age'] = 12"
   ]
  },
  {
   "cell_type": "code",
   "execution_count": 57,
   "id": "09597cf7-0813-4bee-b21c-d67bb7972573",
   "metadata": {},
   "outputs": [
    {
     "data": {
      "text/plain": [
       "12"
      ]
     },
     "execution_count": 57,
     "metadata": {},
     "output_type": "execute_result"
    }
   ],
   "source": [
    "e.age"
   ]
  },
  {
   "cell_type": "code",
   "execution_count": null,
   "id": "88c82da4-1084-431d-8150-c27dca3ae932",
   "metadata": {},
   "outputs": [],
   "source": [
    "class Callee:\n",
    "    def __call__(self, *args, **kwargs):"
   ]
  },
  {
   "cell_type": "code",
   "execution_count": null,
   "id": "d3766658-e919-48bf-a923-87f6c002faa6",
   "metadata": {},
   "outputs": [],
   "source": [
    "func(arg1, arg2, ag3)"
   ]
  },
  {
   "cell_type": "code",
   "execution_count": null,
   "id": "72eda556-cd9d-406c-8f8c-7cbb67b85514",
   "metadata": {},
   "outputs": [],
   "source": [
    "print(1, 2, 3, 4 sep=' ', end = '!') "
   ]
  },
  {
   "cell_type": "code",
   "execution_count": 58,
   "id": "3c1cbd08-f345-48a3-99b8-7f4206d6012d",
   "metadata": {},
   "outputs": [
    {
     "name": "stdout",
     "output_type": "stream",
     "text": [
      "1 2!"
     ]
    }
   ],
   "source": [
    "print(1, 2, **{'sep': ' ', 'end': '!'}) # распаковка"
   ]
  },
  {
   "cell_type": "code",
   "execution_count": null,
   "id": "3da4697f-c47a-403e-b6a5-40cd073d1ba7",
   "metadata": {},
   "outputs": [],
   "source": []
  }
 ],
 "metadata": {
  "kernelspec": {
   "display_name": "Python 3 (ipykernel)",
   "language": "python",
   "name": "python3"
  },
  "language_info": {
   "codemirror_mode": {
    "name": "ipython",
    "version": 3
   },
   "file_extension": ".py",
   "mimetype": "text/x-python",
   "name": "python",
   "nbconvert_exporter": "python",
   "pygments_lexer": "ipython3",
   "version": "3.9.13"
  }
 },
 "nbformat": 4,
 "nbformat_minor": 5
}
