{
 "cells": [
  {
   "cell_type": "code",
   "execution_count": 4,
   "id": "df9f36bc-7a0f-4e21-8dd3-bc4d6a4ad31d",
   "metadata": {},
   "outputs": [
    {
     "name": "stdin",
     "output_type": "stream",
     "text": [
      " slrkjgn@@lkn@\n"
     ]
    },
    {
     "name": "stdout",
     "output_type": "stream",
     "text": [
      "slrkjgnlkn\n"
     ]
    }
   ],
   "source": [
    "a = input()\n",
    "print(a.replace(\"@\", \"\"))"
   ]
  },
  {
   "cell_type": "code",
   "execution_count": 11,
   "id": "480b6daf-d43b-4962-88af-4752ac33701c",
   "metadata": {},
   "outputs": [
    {
     "name": "stdin",
     "output_type": "stream",
     "text": [
      " w;eron 'aelkr ;kjd kjd kjbnd kjbd lkjnd \n"
     ]
    },
    {
     "name": "stdout",
     "output_type": "stream",
     "text": [
      "7\n"
     ]
    }
   ],
   "source": [
    "a = input()\n",
    "b = a.strip()\n",
    "c = b.count(\" \")\n",
    "print(c+1)"
   ]
  },
  {
   "cell_type": "code",
   "execution_count": 14,
   "id": "1b70edb2-42ee-4b96-b4ff-c6c9c268860d",
   "metadata": {},
   "outputs": [
    {
     "name": "stdin",
     "output_type": "stream",
     "text": [
      " орпо\n"
     ]
    },
    {
     "data": {
      "text/plain": [
       "False"
      ]
     },
     "execution_count": 14,
     "metadata": {},
     "output_type": "execute_result"
    }
   ],
   "source": [
    "a = input()\n",
    "a.startswith(\"пере\") and a.endswith(\"ся\")"
   ]
  },
  {
   "cell_type": "code",
   "execution_count": 51,
   "id": "2896b8c1-7ee6-4fe8-a2fd-c3a3afea4274",
   "metadata": {},
   "outputs": [
    {
     "name": "stdin",
     "output_type": "stream",
     "text": [
      " 276.874\n"
     ]
    },
    {
     "name": "stdout",
     "output_type": "stream",
     "text": [
      "8\n"
     ]
    }
   ],
   "source": [
    "a = input()\n",
    "b = int(a.rfind(\".\") + 1)\n",
    "print(a[b])"
   ]
  },
  {
   "cell_type": "code",
   "execution_count": 10,
   "id": "1700f906-a059-492e-ad65-c6b70a79b71c",
   "metadata": {},
   "outputs": [
    {
     "name": "stdin",
     "output_type": "stream",
     "text": [
      " 8\n"
     ]
    },
    {
     "name": "stdout",
     "output_type": "stream",
     "text": [
      "64\n"
     ]
    },
    {
     "name": "stdin",
     "output_type": "stream",
     "text": [
      " р\n"
     ]
    },
    {
     "name": "stdout",
     "output_type": "stream",
     "text": [
      "Не является числом\n"
     ]
    }
   ],
   "source": [
    "try:\n",
    "    a = int(input())               \n",
    "    print(a**2)      \n",
    "    a = int(input())\n",
    "except ValueError:\n",
    "    print(\"Не является числом\")\n"
   ]
  },
  {
   "cell_type": "code",
   "execution_count": null,
   "id": "9447d4ca-70bc-4126-9a42-536de615f30a",
   "metadata": {},
   "outputs": [],
   "source": []
  }
 ],
 "metadata": {
  "kernelspec": {
   "display_name": "Python 3 (ipykernel)",
   "language": "python",
   "name": "python3"
  },
  "language_info": {
   "codemirror_mode": {
    "name": "ipython",
    "version": 3
   },
   "file_extension": ".py",
   "mimetype": "text/x-python",
   "name": "python",
   "nbconvert_exporter": "python",
   "pygments_lexer": "ipython3",
   "version": "3.9.13"
  }
 },
 "nbformat": 4,
 "nbformat_minor": 5
}
