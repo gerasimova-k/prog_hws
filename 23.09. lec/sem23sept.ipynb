{
 "cells": [
  {
   "cell_type": "code",
   "execution_count": 4,
   "id": "df9f36bc-7a0f-4e21-8dd3-bc4d6a4ad31d",
   "metadata": {},
   "outputs": [
    {
     "name": "stdin",
     "output_type": "stream",
     "text": [
      " slrkjgn@@lkn@\n"
     ]
    },
    {
     "name": "stdout",
     "output_type": "stream",
     "text": [
      "slrkjgnlkn\n"
     ]
    }
   ],
   "source": [
    "a = input()\n",
    "print(a.replace(\"@\", \"\"))"
   ]
  },
  {
   "cell_type": "code",
   "execution_count": 11,
   "id": "480b6daf-d43b-4962-88af-4752ac33701c",
   "metadata": {},
   "outputs": [
    {
     "name": "stdin",
     "output_type": "stream",
     "text": [
      " w;eron 'aelkr ;kjd kjd kjbnd kjbd lkjnd \n"
     ]
    },
    {
     "name": "stdout",
     "output_type": "stream",
     "text": [
      "7\n"
     ]
    }
   ],
   "source": [
    "a = input()\n",
    "b = a.strip()\n",
    "c = b.count(\" \")\n",
    "print(c+1)"
   ]
  },
  {
   "cell_type": "code",
   "execution_count": 14,
   "id": "1b70edb2-42ee-4b96-b4ff-c6c9c268860d",
   "metadata": {},
   "outputs": [
    {
     "name": "stdin",
     "output_type": "stream",
     "text": [
      " орпо\n"
     ]
    },
    {
     "data": {
      "text/plain": [
       "False"
      ]
     },
     "execution_count": 14,
     "metadata": {},
     "output_type": "execute_result"
    }
   ],
   "source": [
    "a = input()\n",
    "a.startswith(\"пере\") and a.endswith(\"ся\")"
   ]
  },
  {
   "cell_type": "code",
   "execution_count": 51,
   "id": "2896b8c1-7ee6-4fe8-a2fd-c3a3afea4274",
   "metadata": {},
   "outputs": [
    {
     "name": "stdin",
     "output_type": "stream",
     "text": [
      " 276.874\n"
     ]
    },
    {
     "name": "stdout",
     "output_type": "stream",
     "text": [
      "8\n"
     ]
    }
   ],
   "source": [
    "a = input()\n",
    "b = int(a.rfind(\".\") + 1)\n",
    "print(a[b])"
   ]
  },
  {
   "cell_type": "code",
   "execution_count": 10,
   "id": "1700f906-a059-492e-ad65-c6b70a79b71c",
   "metadata": {},
   "outputs": [
    {
     "name": "stdin",
     "output_type": "stream",
     "text": [
      " 8\n"
     ]
    },
    {
     "name": "stdout",
     "output_type": "stream",
     "text": [
      "64\n"
     ]
    },
    {
     "name": "stdin",
     "output_type": "stream",
     "text": [
      " р\n"
     ]
    },
    {
     "name": "stdout",
     "output_type": "stream",
     "text": [
      "Не является числом\n"
     ]
    }
   ],
   "source": [
    "try:\n",
    "    a = int(input())               \n",
    "    print(a**2)      \n",
    "    a = int(input())\n",
    "except ValueError:\n",
    "    print(\"Не является числом\")\n"
   ]
  },
  {
   "cell_type": "code",
   "execution_count": 8,
   "id": "9447d4ca-70bc-4126-9a42-536de615f30a",
   "metadata": {},
   "outputs": [
    {
     "name": "stdout",
     "output_type": "stream",
     "text": [
      "  1    2    3    4    5    6    7    8    9  \n",
      "  2    4    6    8   10   12   14   16   18  \n",
      "  3    6    9   12   15   18   21   24   27  \n",
      "  4    8   12   16   20   24   28   32   36  \n",
      "  5   10   15   20   25   30   35   40   45  \n",
      "  6   12   18   24   30   36   42   48   54  \n",
      "  7   14   21   28   35   42   49   56   63  \n",
      "  8   16   24   32   40   48   56   64   72  \n",
      "  9   18   27   36   45   54   63   72   81  \n"
     ]
    }
   ],
   "source": [
    "for i in range(1, 10, 1):\n",
    "    print(f\"{i: ^5}{i * 2: ^5}{i * 3: ^5}{i * 4: ^5}{i * 5: ^5}{i * 6: ^5}{i * 7: ^5}{i * 8: ^5}{i * 9: ^5}\")\n",
    "   \n",
    "    \n"
   ]
  },
  {
   "cell_type": "code",
   "execution_count": 43,
   "id": "30114886-e2b9-4771-a54d-9271869ee4e4",
   "metadata": {},
   "outputs": [
    {
     "name": "stdin",
     "output_type": "stream",
     "text": [
      " ыукапи\n"
     ]
    },
    {
     "name": "stdout",
     "output_type": "stream",
     "text": [
      "Ыукапи\n"
     ]
    },
    {
     "name": "stdin",
     "output_type": "stream",
     "text": [
      " ывап\n"
     ]
    },
    {
     "name": "stdout",
     "output_type": "stream",
     "text": [
      "Ывап\n"
     ]
    },
    {
     "name": "stdin",
     "output_type": "stream",
     "text": [
      " Стоп\n"
     ]
    },
    {
     "name": "stdout",
     "output_type": "stream",
     "text": [
      "end\n"
     ]
    }
   ],
   "source": [
    "a = input()\n",
    "while a.lower() != \"стоп\": \n",
    "    print(a.title())\n",
    "    a = input()\n",
    "else:\n",
    "    print(\"end\")"
   ]
  },
  {
   "cell_type": "code",
   "execution_count": null,
   "id": "6f4fd790-b55a-4449-bc00-45b4be1fea01",
   "metadata": {},
   "outputs": [],
   "source": []
  }
 ],
 "metadata": {
  "kernelspec": {
   "display_name": "Python 3 (ipykernel)",
   "language": "python",
   "name": "python3"
  },
  "language_info": {
   "codemirror_mode": {
    "name": "ipython",
    "version": 3
   },
   "file_extension": ".py",
   "mimetype": "text/x-python",
   "name": "python",
   "nbconvert_exporter": "python",
   "pygments_lexer": "ipython3",
   "version": "3.9.13"
  }
 },
 "nbformat": 4,
 "nbformat_minor": 5
}
