{
 "cells": [
  {
   "cell_type": "code",
   "execution_count": 3,
   "id": "608ae1f9-5f83-422d-9585-072d809236a2",
   "metadata": {},
   "outputs": [
    {
     "name": "stdin",
     "output_type": "stream",
     "text": [
      " 4 5 6\n"
     ]
    },
    {
     "name": "stdout",
     "output_type": "stream",
     "text": [
      "Сумма 15 Минимальное 4 Максимальное 6\n"
     ]
    }
   ],
   "source": [
    "L = [int(x) for x in input().split()]\n",
    "print(\"Сумма\", sum(L), \"Минимальное\", min(L), \"Максимальное\", max(L))"
   ]
  },
  {
   "cell_type": "code",
   "execution_count": 9,
   "id": "3ec1075b-dc7b-4e36-884b-77e908b423ff",
   "metadata": {},
   "outputs": [
    {
     "ename": "ValueError",
     "evalue": "list.remove(x): x not in list",
     "output_type": "error",
     "traceback": [
      "\u001b[1;31m---------------------------------------------------------------------------\u001b[0m",
      "\u001b[1;31mValueError\u001b[0m                                Traceback (most recent call last)",
      "Cell \u001b[1;32mIn [9], line 3\u001b[0m\n\u001b[0;32m      1\u001b[0m A \u001b[38;5;241m=\u001b[39m [\u001b[38;5;241m1\u001b[39m, \u001b[38;5;241m2\u001b[39m, \u001b[38;5;241m3\u001b[39m, \u001b[38;5;241m4\u001b[39m, \u001b[38;5;241m5\u001b[39m, \u001b[38;5;241m1\u001b[39m, \u001b[38;5;241m1\u001b[39m]\n\u001b[0;32m      2\u001b[0m \u001b[38;5;28;01mwhile\u001b[39;00m A:\n\u001b[1;32m----> 3\u001b[0m     \u001b[43mA\u001b[49m\u001b[38;5;241;43m.\u001b[39;49m\u001b[43mremove\u001b[49m\u001b[43m(\u001b[49m\u001b[38;5;241;43m1\u001b[39;49m\u001b[43m)\u001b[49m\n",
      "\u001b[1;31mValueError\u001b[0m: list.remove(x): x not in list"
     ]
    }
   ],
   "source": [
    "A = [1, 2, 3, 4, 5, 1, 1]\n",
    "while A:\n",
    "    A.remove(1)"
   ]
  },
  {
   "cell_type": "code",
   "execution_count": 10,
   "id": "f43293b3-c621-4407-b5bf-58e7ca5c685d",
   "metadata": {},
   "outputs": [
    {
     "data": {
      "text/plain": [
       "[2, 3, 4, 5]"
      ]
     },
     "execution_count": 10,
     "metadata": {},
     "output_type": "execute_result"
    }
   ],
   "source": [
    "A"
   ]
  },
  {
   "cell_type": "code",
   "execution_count": 13,
   "id": "19a43777-4a32-4c83-892e-eb53cfb7ccde",
   "metadata": {},
   "outputs": [
    {
     "name": "stdin",
     "output_type": "stream",
     "text": [
      " sd dfl sdf\n"
     ]
    }
   ],
   "source": [
    "L = input().split()\n",
    "L.sort()"
   ]
  },
  {
   "cell_type": "code",
   "execution_count": 14,
   "id": "413a92f4-41db-4a26-a41f-431aa03b0d43",
   "metadata": {},
   "outputs": [
    {
     "data": {
      "text/plain": [
       "['dfl', 'sd', 'sdf']"
      ]
     },
     "execution_count": 14,
     "metadata": {},
     "output_type": "execute_result"
    }
   ],
   "source": [
    "L"
   ]
  },
  {
   "cell_type": "code",
   "execution_count": 15,
   "id": "32b8500e-2db4-42be-bb5b-69978a966a1e",
   "metadata": {},
   "outputs": [
    {
     "name": "stdout",
     "output_type": "stream",
     "text": [
      "['dfl', 'sd', 'sdf']\n",
      "\n"
     ]
    }
   ],
   "source": [
    "print(f\"{L}\\n\")"
   ]
  },
  {
   "cell_type": "code",
   "execution_count": null,
   "id": "f78f7c06-e6ce-460b-ace6-6f25622f9715",
   "metadata": {},
   "outputs": [],
   "source": []
  }
 ],
 "metadata": {
  "kernelspec": {
   "display_name": "Python 3 (ipykernel)",
   "language": "python",
   "name": "python3"
  },
  "language_info": {
   "codemirror_mode": {
    "name": "ipython",
    "version": 3
   },
   "file_extension": ".py",
   "mimetype": "text/x-python",
   "name": "python",
   "nbconvert_exporter": "python",
   "pygments_lexer": "ipython3",
   "version": "3.9.13"
  }
 },
 "nbformat": 4,
 "nbformat_minor": 5
}
