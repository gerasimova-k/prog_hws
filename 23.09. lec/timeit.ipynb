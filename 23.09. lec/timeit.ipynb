{
 "cells": [
  {
   "cell_type": "code",
   "execution_count": 8,
   "id": "e952f70d-6303-4d1c-accd-5a1b082ccb5c",
   "metadata": {},
   "outputs": [],
   "source": [
    "lst = [x ** 2 for x in range(10)] # списковое включение, предоставление списка, list comprehension"
   ]
  },
  {
   "cell_type": "code",
   "execution_count": 6,
   "id": "42e0e6f0-a25e-4989-9224-a482afeab8ce",
   "metadata": {},
   "outputs": [
    {
     "name": "stdout",
     "output_type": "stream",
     "text": [
      "3.26 µs ± 201 ns per loop (mean ± std. dev. of 7 runs, 100,000 loops each)\n"
     ]
    }
   ],
   "source": [
    "%%timeit\n",
    "l1 = []\n",
    "for i in range(10):\n",
    "    l1.append(i ** 2)"
   ]
  },
  {
   "cell_type": "code",
   "execution_count": 7,
   "id": "dd4f9d22-0078-4e8c-ab18-8d522bd09bd0",
   "metadata": {},
   "outputs": [
    {
     "name": "stdout",
     "output_type": "stream",
     "text": [
      "3.09 µs ± 182 ns per loop (mean ± std. dev. of 7 runs, 100,000 loops each)\n"
     ]
    }
   ],
   "source": [
    "%timeit l2 = [x ** 2 for x in range(10)]"
   ]
  },
  {
   "cell_type": "code",
   "execution_count": null,
   "id": "0c202b27-dbc7-4dee-8e64-b7d2fed10184",
   "metadata": {},
   "outputs": [],
   "source": []
  }
 ],
 "metadata": {
  "kernelspec": {
   "display_name": "Python 3 (ipykernel)",
   "language": "python",
   "name": "python3"
  },
  "language_info": {
   "codemirror_mode": {
    "name": "ipython",
    "version": 3
   },
   "file_extension": ".py",
   "mimetype": "text/x-python",
   "name": "python",
   "nbconvert_exporter": "python",
   "pygments_lexer": "ipython3",
   "version": "3.9.13"
  }
 },
 "nbformat": 4,
 "nbformat_minor": 5
}
