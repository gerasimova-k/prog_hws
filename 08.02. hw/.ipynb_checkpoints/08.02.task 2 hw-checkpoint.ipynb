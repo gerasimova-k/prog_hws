{
 "cells": [
  {
   "cell_type": "code",
   "execution_count": 1,
   "id": "1236cca4-1697-4adf-a3fc-32992b7e4e29",
   "metadata": {},
   "outputs": [
    {
     "name": "stdin",
     "output_type": "stream",
     "text": [
      "Human:  москва\n"
     ]
    },
    {
     "name": "stdout",
     "output_type": "stream",
     "text": [
      "Computer: Алексин\n"
     ]
    },
    {
     "name": "stdin",
     "output_type": "stream",
     "text": [
      "Human:  Новосибирск\n"
     ]
    },
    {
     "name": "stdout",
     "output_type": "stream",
     "text": [
      "Computer: Кораблино\n"
     ]
    },
    {
     "name": "stdin",
     "output_type": "stream",
     "text": [
      "Human:  Орел\n"
     ]
    },
    {
     "name": "stdout",
     "output_type": "stream",
     "text": [
      "Computer: Лермонтов\n"
     ]
    },
    {
     "name": "stdin",
     "output_type": "stream",
     "text": [
      "Human:  Волгоград\n"
     ]
    },
    {
     "name": "stdout",
     "output_type": "stream",
     "text": [
      "Computer: Димитровград\n"
     ]
    },
    {
     "name": "stdin",
     "output_type": "stream",
     "text": [
      "Human:  Дмитров\n"
     ]
    },
    {
     "name": "stdout",
     "output_type": "stream",
     "text": [
      "Computer: Великиелуки\n"
     ]
    },
    {
     "name": "stdin",
     "output_type": "stream",
     "text": [
      "Human:  Воронеж\n"
     ]
    },
    {
     "name": "stdout",
     "output_type": "stream",
     "text": [
      "Город Воронеж начинается не на букву и\n"
     ]
    },
    {
     "name": "stdin",
     "output_type": "stream",
     "text": [
      "Human:  \n"
     ]
    },
    {
     "name": "stdout",
     "output_type": "stream",
     "text": [
      "Игра окончена\n"
     ]
    }
   ],
   "source": [
    "import random\n",
    "\n",
    "from random import choice\n",
    "\n",
    "class Game:\n",
    "    def __init__(self):\n",
    "        self.cities_d = {}\n",
    "        self.cities_used = set()\n",
    "        self.collect_cities_d()\n",
    "        self.last_symbol = ''\n",
    "\n",
    "    def collect_cities_d(self):\n",
    "        with open('C:\\\\Users\\\\Женя\\\\Documents\\\\goroda.txt', 'r', encoding='utf-8') as infile:\n",
    "            for line in infile:\n",
    "                line = line.strip().lower()\n",
    "                if line[0] not in self.cities_d:\n",
    "                    self.cities_d[line[0]] = []\n",
    "                self.cities_d[line[0]].append(line.capitalize())\n",
    "\n",
    "    def find_word(self, last_symbol):\n",
    "        if last_symbol in self.cities_d:\n",
    "            if self.cities_d[last_symbol]:\n",
    "                city = random.choice(self.cities_d[last_symbol])\n",
    "                self.cities_d[last_symbol].remove(city)\n",
    "                self.cities_used.add(city)\n",
    "                return city\n",
    "        return None\n",
    "\n",
    "    def start_game(self):\n",
    "        while True:\n",
    "            city_of_human = input('Human: ').lower()\n",
    "\n",
    "            if city_of_human == '':\n",
    "                print('Игра окончена')\n",
    "                break\n",
    "\n",
    "            if self.last_symbol != '' and city_of_human[0] != self.last_symbol:\n",
    "                print(f'Город {city_of_human.capitalize()} '\n",
    "                      f'начинается не на букву {self.last_symbol}')\n",
    "                continue\n",
    "\n",
    "            if city_of_human in self.cities_used:\n",
    "                print(f'Не повторяйтесь! Город {city_of_human.capitalize()} уже был')\n",
    "                continue\n",
    "                \n",
    "            no_cities = 'ъыь'\n",
    "            symbol = city_of_human[-1]\n",
    "            if symbol in no_cities:\n",
    "                symbol = city_of_human[-2]\n",
    "\n",
    "            city_of_computer = self.find_word(symbol)\n",
    "            if city_of_computer is None:\n",
    "                print(f'Вы победили! Городов на букву {symbol} больше нет.')\n",
    "                break\n",
    "\n",
    "            print('Computer:', city_of_computer)\n",
    "            self.cities_used.add(city_of_human)\n",
    "            self.last_symbol = city_of_computer[-1]\n",
    "            if self.last_symbol in no_cities:\n",
    "                self.last_symbol = city_of_computer[-2]\n",
    "\n",
    "game = Game()\n",
    "game.start_game()"
   ]
  },
  {
   "cell_type": "code",
   "execution_count": null,
   "id": "00879646-6b0d-4f68-8c6e-b0a3e7a86711",
   "metadata": {},
   "outputs": [],
   "source": []
  }
 ],
 "metadata": {
  "kernelspec": {
   "display_name": "Python 3 (ipykernel)",
   "language": "python",
   "name": "python3"
  },
  "language_info": {
   "codemirror_mode": {
    "name": "ipython",
    "version": 3
   },
   "file_extension": ".py",
   "mimetype": "text/x-python",
   "name": "python",
   "nbconvert_exporter": "python",
   "pygments_lexer": "ipython3",
   "version": "3.9.13"
  }
 },
 "nbformat": 4,
 "nbformat_minor": 5
}
