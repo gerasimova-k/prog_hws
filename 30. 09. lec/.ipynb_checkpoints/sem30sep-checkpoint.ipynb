{
 "cells": [
  {
   "cell_type": "code",
   "execution_count": 1,
   "id": "c1a8bba5-3be1-42a8-a3e1-d2eca89348a8",
   "metadata": {},
   "outputs": [
    {
     "name": "stdout",
     "output_type": "stream",
     "text": [
      "8\n"
     ]
    }
   ],
   "source": [
    "n = 0\n",
    "a = 2\n",
    "res = 1\n",
    "while n < 3: #итерирование\n",
    "    res *= a\n",
    "    n += 1\n",
    "print(res)"
   ]
  },
  {
   "cell_type": "code",
   "execution_count": 2,
   "id": "7005149a-4702-4974-a983-6e7cbd76c414",
   "metadata": {},
   "outputs": [],
   "source": [
    "a = range(3)"
   ]
  },
  {
   "cell_type": "code",
   "execution_count": 3,
   "id": "843fd81a-a661-4fe7-9298-38f80d5d6e30",
   "metadata": {},
   "outputs": [
    {
     "data": {
      "text/plain": [
       "range"
      ]
     },
     "execution_count": 3,
     "metadata": {},
     "output_type": "execute_result"
    }
   ],
   "source": [
    "type(a)"
   ]
  },
  {
   "cell_type": "code",
   "execution_count": null,
   "id": "76288450-407c-449b-87b5-653542e8f831",
   "metadata": {},
   "outputs": [],
   "source": [
    "range(3) == (0, 1, 2) [:3]\n",
    "range(1, 4) == (1, 2, 3) [1:4]\n"
   ]
  },
  {
   "cell_type": "code",
   "execution_count": null,
   "id": "645e4643-c319-474c-8592-8ebe390dfdab",
   "metadata": {},
   "outputs": [],
   "source": [
    "n = 0\n",
    "a = 2\n",
    "res = 1\n",
    "for i in range(n): # range(start, stop, step) i = 0, i = 1, i = 2\n",
    "    res *= a\n",
    "    n += 1\n",
    "print(res)"
   ]
  },
  {
   "cell_type": "code",
   "execution_count": 4,
   "id": "71be71c2-936b-45c1-8452-a02df51ddaef",
   "metadata": {},
   "outputs": [
    {
     "name": "stdout",
     "output_type": "stream",
     "text": [
      "h\n",
      "e\n",
      "l\n",
      "l\n",
      "o\n"
     ]
    }
   ],
   "source": [
    "for char in \"hello\": #s = hello, for char in s:\n",
    "    print(char) # end=\"\\n\""
   ]
  },
  {
   "cell_type": "code",
   "execution_count": 5,
   "id": "b0248fe9-8875-4242-ba26-d25d86ce4044",
   "metadata": {},
   "outputs": [
    {
     "name": "stdout",
     "output_type": "stream",
     "text": [
      "0 h\n",
      "1 e\n",
      "2 l\n",
      "3 l\n",
      "4 o\n"
     ]
    }
   ],
   "source": [
    "s = \"hello\" #range(5) = 0, 1, 3, 4\n",
    "for i in range(len(s)):\n",
    "    print(i, s[i])"
   ]
  },
  {
   "cell_type": "code",
   "execution_count": 6,
   "id": "83cba149-ddec-4caf-b347-d5d7f3cdeadd",
   "metadata": {},
   "outputs": [
    {
     "name": "stdout",
     "output_type": "stream",
     "text": [
      "i: 0, j: 0\n",
      "i: 0, j: 1\n",
      "i: 0, j: 2\n",
      "i: 1, j: 0\n",
      "i: 1, j: 1\n",
      "i: 1, j: 2\n",
      "i: 2, j: 0\n",
      "i: 2, j: 1\n",
      "i: 2, j: 2\n"
     ]
    }
   ],
   "source": [
    "for i in range(3):\n",
    "    for j in range(3):\n",
    "        print(f\"i: {i}, j: {j}\")"
   ]
  },
  {
   "cell_type": "code",
   "execution_count": 7,
   "id": "a96869f3-f354-4cb8-bbe6-ecfe32b882bb",
   "metadata": {},
   "outputs": [
    {
     "name": "stdin",
     "output_type": "stream",
     "text": [
      " 2\n"
     ]
    },
    {
     "name": "stdout",
     "output_type": "stream",
     "text": [
      "2\n"
     ]
    },
    {
     "name": "stdin",
     "output_type": "stream",
     "text": [
      " 3\n"
     ]
    },
    {
     "name": "stdout",
     "output_type": "stream",
     "text": [
      "3\n"
     ]
    },
    {
     "name": "stdin",
     "output_type": "stream",
     "text": [
      " 1\n"
     ]
    }
   ],
   "source": [
    "while 2 < 3:\n",
    "    a = input()\n",
    "    if a == \"1\":\n",
    "        break\n",
    "    print(a)"
   ]
  },
  {
   "cell_type": "code",
   "execution_count": 10,
   "id": "c9f38232-a477-4201-8c19-f43054bfe0f8",
   "metadata": {
    "tags": []
   },
   "outputs": [
    {
     "name": "stdin",
     "output_type": "stream",
     "text": [
      " 1\n"
     ]
    },
    {
     "name": "stdout",
     "output_type": "stream",
     "text": [
      "End\n"
     ]
    }
   ],
   "source": [
    "while True: #true\n",
    "    a = input()\n",
    "    if a == \"1\":\n",
    "        break\n",
    "    elif a == 2:\n",
    "        continue\n",
    "    print(a)\n",
    "    print(a * 3)\n",
    "print(\"End\")\n"
   ]
  },
  {
   "cell_type": "code",
   "execution_count": null,
   "id": "9595923d-96ee-4f08-b826-41c718d8fdb6",
   "metadata": {},
   "outputs": [],
   "source": [
    "while true:\n",
    "    path = input()\n",
    "    if path.endswith(\".txt\"):\n",
    "        continue\n",
    "    ..."
   ]
  },
  {
   "cell_type": "code",
   "execution_count": 11,
   "id": "20c5ffc6-ce1d-4ddf-90f8-550202ee1174",
   "metadata": {},
   "outputs": [
    {
     "name": "stdin",
     "output_type": "stream",
     "text": [
      " 2\n"
     ]
    },
    {
     "name": "stdout",
     "output_type": "stream",
     "text": [
      "2\n"
     ]
    },
    {
     "name": "stdin",
     "output_type": "stream",
     "text": [
      " 1\n"
     ]
    },
    {
     "name": "stdout",
     "output_type": "stream",
     "text": [
      "End\n"
     ]
    }
   ],
   "source": [
    "a = input()\n",
    "while a != \"1\":\n",
    "    print(a)\n",
    "    a=input()\n",
    "    if a == \"2\":\n",
    "        break        \n",
    "else:\n",
    "    print(\"End\")"
   ]
  },
  {
   "cell_type": "code",
   "execution_count": 13,
   "id": "0f0ebff7-e77c-4507-8fcf-2f3487da0bd5",
   "metadata": {},
   "outputs": [
    {
     "data": {
      "text/plain": [
       "1072"
      ]
     },
     "execution_count": 13,
     "metadata": {},
     "output_type": "execute_result"
    }
   ],
   "source": [
    "ord(\"а\")"
   ]
  },
  {
   "cell_type": "code",
   "execution_count": 14,
   "id": "b6d8017c-b9e5-4703-ad86-c33431ffbcb1",
   "metadata": {},
   "outputs": [
    {
     "data": {
      "text/plain": [
       "1105"
      ]
     },
     "execution_count": 14,
     "metadata": {},
     "output_type": "execute_result"
    }
   ],
   "source": [
    "ord(\"ё\")"
   ]
  },
  {
   "cell_type": "code",
   "execution_count": 15,
   "id": "762727a3-e191-4841-b357-f922eec53e3b",
   "metadata": {},
   "outputs": [
    {
     "data": {
      "text/plain": [
       "1103"
      ]
     },
     "execution_count": 15,
     "metadata": {},
     "output_type": "execute_result"
    }
   ],
   "source": [
    "ord(\"я\")"
   ]
  },
  {
   "cell_type": "code",
   "execution_count": 16,
   "id": "100a8b0e-2b1f-4dfc-8a92-e97a313a12de",
   "metadata": {},
   "outputs": [
    {
     "data": {
      "text/plain": [
       "1040"
      ]
     },
     "execution_count": 16,
     "metadata": {},
     "output_type": "execute_result"
    }
   ],
   "source": [
    "ord(\"А\")"
   ]
  },
  {
   "cell_type": "code",
   "execution_count": 17,
   "id": "9ef73e5d-d9cf-4a8c-95f4-b3abe808aa48",
   "metadata": {},
   "outputs": [
    {
     "data": {
      "text/plain": [
       "1025"
      ]
     },
     "execution_count": 17,
     "metadata": {},
     "output_type": "execute_result"
    }
   ],
   "source": [
    "ord(\"Ё\")"
   ]
  },
  {
   "cell_type": "code",
   "execution_count": 18,
   "id": "2baff0e6-be20-4b56-982b-ae596ceee1c5",
   "metadata": {},
   "outputs": [
    {
     "data": {
      "text/plain": [
       "1071"
      ]
     },
     "execution_count": 18,
     "metadata": {},
     "output_type": "execute_result"
    }
   ],
   "source": [
    "ord(\"Я\")"
   ]
  },
  {
   "cell_type": "code",
   "execution_count": 24,
   "id": "8f1d5802-1490-48f0-af73-a0344d109666",
   "metadata": {},
   "outputs": [
    {
     "name": "stdout",
     "output_type": "stream",
     "text": [
      "hellohello\n"
     ]
    }
   ],
   "source": [
    "s = \"hello\"\n",
    "if s.isalpha():\n",
    "    s *= 2\n",
    "    print(s)"
   ]
  },
  {
   "cell_type": "code",
   "execution_count": 21,
   "id": "dabea9a7-d968-46a1-bd5e-dac5d08aa307",
   "metadata": {},
   "outputs": [],
   "source": [
    "def doublestr(s):\n",
    "    if s.isalpha():\n",
    "        s *= 2\n",
    "        print(s)"
   ]
  },
  {
   "cell_type": "code",
   "execution_count": 23,
   "id": "92ee6009-ac9f-446f-88d2-63f056adcd32",
   "metadata": {},
   "outputs": [],
   "source": [
    "def play():\n",
    "    ...\n",
    "def savegame():\n",
    "    ...\n",
    "def showstats():\n",
    "    ..."
   ]
  },
  {
   "cell_type": "code",
   "execution_count": 25,
   "id": "6b1250f4-027a-489b-b994-7d5fbafdb9ca",
   "metadata": {},
   "outputs": [],
   "source": [
    "def factorial(n):\n",
    "    if n == 1:\n",
    "        return 1\n",
    "    return n * factorial(n - 1)"
   ]
  },
  {
   "cell_type": "code",
   "execution_count": 26,
   "id": "382ed61d-1fb0-4440-b481-eb6e571a5073",
   "metadata": {},
   "outputs": [
    {
     "data": {
      "text/plain": [
       "120"
      ]
     },
     "execution_count": 26,
     "metadata": {},
     "output_type": "execute_result"
    }
   ],
   "source": [
    "factorial(5)"
   ]
  },
  {
   "cell_type": "code",
   "execution_count": null,
   "id": "efed22fe-6fa5-48d9-ac8b-82caae4c3e7c",
   "metadata": {},
   "outputs": [],
   "source": []
  }
 ],
 "metadata": {
  "kernelspec": {
   "display_name": "Python 3 (ipykernel)",
   "language": "python",
   "name": "python3"
  },
  "language_info": {
   "codemirror_mode": {
    "name": "ipython",
    "version": 3
   },
   "file_extension": ".py",
   "mimetype": "text/x-python",
   "name": "python",
   "nbconvert_exporter": "python",
   "pygments_lexer": "ipython3",
   "version": "3.9.13"
  }
 },
 "nbformat": 4,
 "nbformat_minor": 5
}
