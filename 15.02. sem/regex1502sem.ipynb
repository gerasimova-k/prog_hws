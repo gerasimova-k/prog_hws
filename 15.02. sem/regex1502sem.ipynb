{
 "cells": [
  {
   "cell_type": "raw",
   "id": "5ae76a03-1336-43bf-bed6-bb3798a2abf8",
   "metadata": {},
   "source": [
    "# Задача 1\n",
    "\\s\\d+\\s\n",
    "\n",
    "# Задача 2\n",
    "[^А-Яа-я]игр(а|ы|е|у|ой|ою| |ам|ами|ах)[^А-Яа-я]\n",
    "\n",
    "# Задача 3\n",
    "1[0-9]{3}|2000\n",
    "\n",
    "# Задача 4\n",
    "[A-ZİĞÜŞÖÇ]\\S+'\\S+\n",
    "\n",
    "# Задача 5\n",
    "\\D[+7|8]+[8-9 ()-]+[\\d ()-]{9,}\n",
    "\n",
    "# Задача 6\n",
    "\\[\\d+]\n",
    "\n",
    "# Задача 8\n",
    "(^[A-Za-zА-ЯЁа-яё -]+) - (\\d+) - ([A-Za-zА-ЯЁа-яё -]+(?=.mp3))\n"
   ]
  }
 ],
 "metadata": {
  "kernelspec": {
   "display_name": "Python 3 (ipykernel)",
   "language": "python",
   "name": "python3"
  },
  "language_info": {
   "codemirror_mode": {
    "name": "ipython",
    "version": 3
   },
   "file_extension": ".py",
   "mimetype": "text/x-python",
   "name": "python",
   "nbconvert_exporter": "python",
   "pygments_lexer": "ipython3",
   "version": "3.9.13"
  }
 },
 "nbformat": 4,
 "nbformat_minor": 5
}
