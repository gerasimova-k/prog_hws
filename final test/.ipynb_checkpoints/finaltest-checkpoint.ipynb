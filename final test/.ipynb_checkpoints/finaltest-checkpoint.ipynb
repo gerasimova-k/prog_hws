{
 "cells": [
  {
   "cell_type": "code",
   "execution_count": 9,
   "id": "7ca79c47-db90-4a66-89a3-b324d19455f4",
   "metadata": {},
   "outputs": [],
   "source": [
    "import math\n",
    "\n",
    "def volume(r):\n",
    "    v = (4 / 3) * math.pi * (float(r)) ** 3\n",
    "    print(v)"
   ]
  },
  {
   "cell_type": "code",
   "execution_count": 10,
   "id": "e6229844-f922-4d6d-9514-9a1619ea0cb4",
   "metadata": {},
   "outputs": [
    {
     "name": "stdout",
     "output_type": "stream",
     "text": [
      "904.7786842338603\n"
     ]
    }
   ],
   "source": [
    "volume(6)"
   ]
  },
  {
   "cell_type": "code",
   "execution_count": 12,
   "id": "8207bb1d-745f-418e-a7c8-9afb65ef151e",
   "metadata": {},
   "outputs": [],
   "source": [
    "def percent(s1, s2):\n",
    "    pr = s1 / s2 * 100\n",
    "    print(pr)"
   ]
  },
  {
   "cell_type": "code",
   "execution_count": 13,
   "id": "a7a3dbdc-012c-4843-bfca-6d4355242f28",
   "metadata": {},
   "outputs": [
    {
     "name": "stdout",
     "output_type": "stream",
     "text": [
      "50.0\n"
     ]
    }
   ],
   "source": [
    "percent(2, 4)"
   ]
  },
  {
   "cell_type": "code",
   "execution_count": 20,
   "id": "b7e36485-18a2-40c9-a925-c9c77328b66f",
   "metadata": {},
   "outputs": [],
   "source": [
    "# \"по возрастанию\", \"по убыванию\", \"не упорядочен\"\n",
    "def checker(lst):\n",
    "    A = sorted(lst, reverse = False)\n",
    "    B = sorted(lst, reverse = True)\n",
    "    if lst == A:\n",
    "        print('по возрастанию')\n",
    "    if lst == B:\n",
    "        print('по убыванию')\n",
    "    if lst != A and lst != B:\n",
    "        print('не упорядочен')"
   ]
  },
  {
   "cell_type": "code",
   "execution_count": 24,
   "id": "d9d9e28d-326f-4cfd-bfd6-cd86b3a3d1b5",
   "metadata": {},
   "outputs": [
    {
     "name": "stdout",
     "output_type": "stream",
     "text": [
      "по убыванию\n"
     ]
    }
   ],
   "source": [
    "checker([7, 6, 5, 4, 3])"
   ]
  },
  {
   "cell_type": "code",
   "execution_count": 31,
   "id": "06ad4c94-ad8b-4909-81f2-8441b321bb9b",
   "metadata": {},
   "outputs": [],
   "source": [
    "def the_counter(n):\n",
    "    N = int(input('Введите кол-во слов'))\n",
    "    a = input('введите строку').lower()\n",
    "    print(a.count('the'))"
   ]
  },
  {
   "cell_type": "code",
   "execution_count": 32,
   "id": "eb39495b-608d-463a-bfa9-3c87275cccd9",
   "metadata": {},
   "outputs": [
    {
     "name": "stdin",
     "output_type": "stream",
     "text": [
      "Введите кол-во слов 10\n",
      "введите строку TheDressofthegirlintheGardentheBUS\n"
     ]
    },
    {
     "name": "stdout",
     "output_type": "stream",
     "text": [
      "4\n"
     ]
    }
   ],
   "source": [
    "the_counter(5)"
   ]
  },
  {
   "cell_type": "code",
   "execution_count": 70,
   "id": "c431db4e-1943-4c5e-b17f-cd11e642b8a6",
   "metadata": {},
   "outputs": [
    {
     "name": "stdin",
     "output_type": "stream",
     "text": [
      "введите х: 1\n",
      " 2\n",
      " 0\n"
     ]
    },
    {
     "name": "stdout",
     "output_type": "stream",
     "text": [
      "Число 1 не встретилось\n"
     ]
    }
   ],
   "source": [
    "x = int(input('введите х:'))\n",
    "a = input()\n",
    "s = a\n",
    "while a != '0':\n",
    "    a = input()\n",
    "    s += a\n",
    "    if int(a) == x:\n",
    "        ind = s.index(a) + 1\n",
    "        print(ind)\n",
    "        break\n",
    "else:\n",
    "    print('Число', x, 'не встретилось')"
   ]
  },
  {
   "cell_type": "code",
   "execution_count": 7,
   "id": "0cdccc34-dec6-47cd-a69d-42388376634a",
   "metadata": {},
   "outputs": [
    {
     "name": "stdin",
     "output_type": "stream",
     "text": [
      " f\n",
      " ff\n",
      " fff\n",
      " ffff\n",
      "  \n"
     ]
    },
    {
     "name": "stdout",
     "output_type": "stream",
     "text": [
      "f ( 1 ) - 1\n",
      "fff ( 3 ) - 3\n",
      "Слов чётной длины: 2\n"
     ]
    }
   ],
   "source": [
    "w = input()\n",
    "ws = [w]\n",
    "n = 0\n",
    "while w != ' ':\n",
    "    w = input()\n",
    "    ws.append(w)\n",
    "else:\n",
    "    ws.remove(' ')\n",
    "    for char in ws:\n",
    "        l = len(ws[ws.index(char)])\n",
    "        if l % 2 != 0:\n",
    "            print(char, '(',l,')', '-', ws.index(char) + 1)\n",
    "        if l % 2 == 0:\n",
    "            n += 1\n",
    "    if n == len(ws):\n",
    "        print('Все слова чётной длины')\n",
    "print('Слов чётной длины:', n)"
   ]
  },
  {
   "cell_type": "code",
   "execution_count": 131,
   "id": "7afe2773-9cb4-4129-9a49-a04fd40492ec",
   "metadata": {},
   "outputs": [
    {
     "name": "stdin",
     "output_type": "stream",
     "text": [
      " арозаупаланалапуазора\n"
     ]
    },
    {
     "name": "stdout",
     "output_type": "stream",
     "text": [
      "палиндром\n"
     ]
    }
   ],
   "source": [
    "def palindrome(s):\n",
    "    if len(s) < 1:\n",
    "        return True\n",
    "    else:\n",
    "        if s[0] == s[-1]:\n",
    "            return palindrome(s[1:-1])\n",
    "        else:\n",
    "            return False\n",
    "a = str(input())\n",
    "a = a.replace(' ', '')\n",
    "if palindrome(a):\n",
    "    print('палиндром')\n",
    "else:\n",
    "    print('не палиндром')"
   ]
  },
  {
   "cell_type": "code",
   "execution_count": 139,
   "id": "dbdabd43-790d-45c5-b63d-60c2ed95c39c",
   "metadata": {},
   "outputs": [
    {
     "name": "stdin",
     "output_type": "stream",
     "text": [
      "всего школьников 3\n",
      "сколько языков знает этот школьник? 2\n",
      "введите язык eng\n",
      "введите язык esp\n",
      "сколько языков знает этот школьник? 3\n",
      "введите язык eng\n",
      "введите язык esp\n",
      "введите язык rus\n",
      "сколько языков знает этот школьник? 5\n",
      "введите язык eng\n",
      "введите язык ukr\n",
      "введите язык kz\n",
      "введите язык ch\n",
      "введите язык fr\n"
     ]
    },
    {
     "name": "stdout",
     "output_type": "stream",
     "text": [
      "языки, которые знают все школьники: 1\n",
      "eng\n",
      "7 языков знает хотя бы один школьник:\n",
      "ch\n",
      "eng\n",
      "esp\n",
      "fr\n",
      "kz\n",
      "rus\n",
      "ukr\n"
     ]
    }
   ],
   "source": [
    "unilang = set()\n",
    "all = set()\n",
    "for i in range(int(input('всего школьников'))):\n",
    "    n = int(input('сколько языков знает этот школьник?'))\n",
    "    a = {input('введите язык') for j in range(n)}\n",
    "    all.update(a)\n",
    "    if i == 0:\n",
    "        unilang.update(a)\n",
    "    else:\n",
    "        unilang &= a\n",
    "print('языки, которые знают все школьники:', len(unilang))\n",
    "print('\\n'.join(sorted(unilang)))\n",
    "print(len(all), 'языков знает хотя бы один школьник:',)\n",
    "print('\\n'.join(sorted(all)))"
   ]
  },
  {
   "cell_type": "code",
   "execution_count": 12,
   "id": "89375730-2e3a-415e-b73a-5b480c3544a1",
   "metadata": {},
   "outputs": [],
   "source": [
    "def wordization(tk) -> list:\n",
    "    wordilst = []\n",
    "    symb = (',', '.', '!', '?', ';', ':', '(', ')', '*', '[', ']')\n",
    "    for i in tk:\n",
    "        if i in symb:\n",
    "            tk = tk.replace(i, '')\n",
    "    wordilst = tk.split()\n",
    "    return(wordilst)"
   ]
  },
  {
   "cell_type": "code",
   "execution_count": 37,
   "id": "543f8cca-3dcc-48bc-94dd-4316b1d4fa7a",
   "metadata": {},
   "outputs": [
    {
     "data": {
      "text/plain": [
       "['ajhef', 'sdfg', 'sdf', 'aerg', 'wej-srdjg', 'srt']"
      ]
     },
     "execution_count": 37,
     "metadata": {},
     "output_type": "execute_result"
    }
   ],
   "source": [
    "wordization('ajhef sdfg, sdf. aerg? wej-srdjg srt.')"
   ]
  },
  {
   "cell_type": "code",
   "execution_count": 8,
   "id": "35b81efa-6667-482d-9c2d-07081ffa7fba",
   "metadata": {},
   "outputs": [
    {
     "name": "stdout",
     "output_type": "stream",
     "text": [
      "['', 'I', 'II', 'la', 'les', 'Mon', 'je', 'pour', 'ne', 'pas']\n"
     ]
    }
   ],
   "source": [
    "import string\n",
    "\n",
    "def all_en(word):\n",
    "    for symb in word:\n",
    "        if symb not in string.ascii_letters:\n",
    "            return False\n",
    "    return True\n",
    "\n",
    "with open('C:\\\\Users\\\\Женя\\\\Documents\\\\geroy-nashego-vremeni.txt', 'r', encoding='utf-8') as infile:\n",
    "    word_dct = {}\n",
    "    for word in infile.read().split():\n",
    "        clear_word = word.strip(string.punctuation)\n",
    "        if all_en(clear_word):\n",
    "            if clear_word not in word_dct:\n",
    "                word_dct[clear_word] = 1\n",
    "            else:\n",
    "                word_dct[clear_word] += 1\n",
    "    result = sorted(word_dct, key=word_dct.get, reverse=True)\n",
    "    print(result[0:10]) "
   ]
  },
  {
   "cell_type": "code",
   "execution_count": 40,
   "id": "c4bf41c9-c5bf-477d-aecf-77ecde02a43a",
   "metadata": {},
   "outputs": [],
   "source": [
    "def anti_eol(text):\n",
    "    new_text = text[0]\n",
    "\n",
    "    for i in range(1, len(text)):\n",
    "        if text[i] == '\\n' and text[i - 1] not in '.:':\n",
    "            continue\n",
    "        else:\n",
    "            new_text += text[i]\n",
    "\n",
    "    return new_text"
   ]
  },
  {
   "cell_type": "code",
   "execution_count": 42,
   "id": "09d9aee0-c10c-4f87-98f9-201323d82f2b",
   "metadata": {},
   "outputs": [
    {
     "name": "stdout",
     "output_type": "stream",
     "text": [
      "aweje.\n",
      "qw\n"
     ]
    }
   ],
   "source": [
    "print(anti_eol('awe\\nje.\\nqw'))"
   ]
  },
  {
   "cell_type": "code",
   "execution_count": 38,
   "id": "11dc7740-8ca5-4ab8-8542-2d64524105a3",
   "metadata": {},
   "outputs": [],
   "source": [
    "def soothsayer(question):\n",
    "    question_without_punctuation = wordization(question)\n",
    "    lst = [len(question_without_punctuation)]\n",
    "    for word in question_without_punctuation:\n",
    "        lst.append(len(word))\n",
    "\n",
    "    while len(lst) > 1:\n",
    "        for i in range(1, len(lst)):\n",
    "            res = lst[i] + lst[i - 1]\n",
    "            if res > 9:\n",
    "                lst[i - 1] = res % 9\n",
    "            else:\n",
    "                lst[i - 1] = res\n",
    "        lst.pop()\n",
    "\n",
    "    if lst[0] % 2 == 0:\n",
    "        print('да')\n",
    "    else:\n",
    "        print('нет')"
   ]
  },
  {
   "cell_type": "code",
   "execution_count": 39,
   "id": "79b045d2-c053-44bd-96ce-cdfde601080c",
   "metadata": {},
   "outputs": [
    {
     "name": "stdout",
     "output_type": "stream",
     "text": [
      "да\n"
     ]
    }
   ],
   "source": [
    "soothsayer('получу ли я зачет по программированию') "
   ]
  },
  {
   "cell_type": "code",
   "execution_count": 3,
   "id": "a003c10a-51a9-4d12-beaa-78320b403277",
   "metadata": {},
   "outputs": [
    {
     "name": "stdout",
     "output_type": "stream",
     "text": [
      "Выберите число:    \n",
      "1) Показать список стран и их столиц\n",
      "2) Вывести столицу страны по ее названию\n",
      "3) Настроить параметры: количество предлагаемых вариантов для выбора (от 2 до 8) и количество раундов.\n",
      "4) Собственно играть.\n",
      "5) Выход.\n",
      "\n"
     ]
    },
    {
     "name": "stdin",
     "output_type": "stream",
     "text": [
      "Введите число:  4\n"
     ]
    },
    {
     "name": "stdout",
     "output_type": "stream",
     "text": [
      "\n",
      "Выберите правильную столицу Сент-Винсент-и-Гренадины: \n",
      "1) Розо 2) Варшава 3) Кингстаун 4) Вильнюс \n"
     ]
    },
    {
     "name": "stdin",
     "output_type": "stream",
     "text": [
      "Выберите число:  1\n"
     ]
    },
    {
     "name": "stdout",
     "output_type": "stream",
     "text": [
      "Неверно, Правильный ответ: Столица Сент-Винсент-и-Гренадины - Кингстаун\n",
      "Выберите правильную столицу Чили: \n",
      "1) Хараре 2) Сантьяго 3) Токио 4) Антананариву \n"
     ]
    },
    {
     "name": "stdin",
     "output_type": "stream",
     "text": [
      "Выберите число:  2\n"
     ]
    },
    {
     "name": "stdout",
     "output_type": "stream",
     "text": [
      "Правильно!\n",
      "Выберите правильную столицу Республика-Корея: \n",
      "1) Нджамена 2) Бишкек 3) Стокгольм 4) Сеул \n"
     ]
    },
    {
     "name": "stdin",
     "output_type": "stream",
     "text": [
      "Выберите число:  4\n"
     ]
    },
    {
     "name": "stdout",
     "output_type": "stream",
     "text": [
      "Правильно!\n",
      "Выберите правильную столицу Мальта: \n",
      "1) Фритаун 2) Кабул 3) Валлетта 4) Афины \n"
     ]
    },
    {
     "name": "stdin",
     "output_type": "stream",
     "text": [
      "Выберите число:  2\n"
     ]
    },
    {
     "name": "stdout",
     "output_type": "stream",
     "text": [
      "Неверно, Правильный ответ: Столица Мальта - Валлетта\n",
      "\n",
      "Игра окончена.\n",
      "Вы набрали: 2.3748467961395985 баллов.\n"
     ]
    }
   ],
   "source": [
    "from random import choice, sample, shuffle\n",
    "from math import log\n",
    "\n",
    "\n",
    "def load():\n",
    "    information = {}\n",
    "    try:\n",
    "        infile = open('C:\\\\Users\\\\Женя\\\\Documents\\\\Страны и столицы.txt', 'r', encoding='utf-8')\n",
    "        for line in infile:\n",
    "            country, capital, population = line.strip().split()\n",
    "            information[country] = {'capital': capital, 'population': int(population)}\n",
    "    except FileNotFoundError:\n",
    "        print(f'Файл не существует')\n",
    "    return information\n",
    "\n",
    "\n",
    "def showlist():\n",
    "    print('Страны и их столицы: ')\n",
    "    for index, key in enumerate(data, 1):\n",
    "        print(f\"{index}. {key} - {data[key]['capital']}\")\n",
    "\n",
    "\n",
    "def play(n, m):\n",
    "    counties = list(data.keys())\n",
    "    global total_points\n",
    "    for _ in range(n):\n",
    "        country = choice(counties)\n",
    "\n",
    "        right_capital = data[country]['capital']\n",
    "        capitlals = [data[key]['capital'] for key in sample(counties, k=m - 1)]\n",
    "\n",
    "        while right_capital in capitlals:\n",
    "            capitlals = [data[key]['capital'] for key in sample(counties, k=m - 1)]\n",
    "\n",
    "        capitlals.append(right_capital)\n",
    "        shuffle(capitlals)\n",
    "        print(f'Выберите правильную столицу {country}: ')\n",
    "        for i in range(1, len(capitlals) + 1):\n",
    "            print(f\"{i}) {capitlals[i - 1]}\", end=' ')\n",
    "        print()\n",
    "        user_answer = int(input('Выберите число: '))\n",
    "        ind_right_capital = capitlals.index(right_capital) + 1\n",
    "        if user_answer == ind_right_capital:\n",
    "            print('Правильно!')\n",
    "            total_points += log(100000000 / data[country]['population'])\n",
    "        else:\n",
    "            print(f'Неверно, Правильный ответ: Столица {country} - {right_capital}')\n",
    "        del data[country]\n",
    "        counties.remove(country)\n",
    "\n",
    "data = load()\n",
    "\n",
    "total_points = 0  # общее количество баллов игрока\n",
    "n = 4  # количество раундов по умолчанию\n",
    "m = 4  # количество предлагаемых вариантов по умолчанию\n",
    "while True:\n",
    "    print(\"\"\"Выберите число:    \n",
    "1) Показать список стран и их столиц\n",
    "2) Вывести столицу страны по ее названию\n",
    "3) Настроить параметры: количество предлагаемых вариантов для выбора (от 2 до 8) и количество раундов.\n",
    "4) Собственно играть.\n",
    "5) Выход.\"\"\")\n",
    "    print()\n",
    "    c = input('Введите число: ')\n",
    "    if c == '5':\n",
    "        print('End')\n",
    "        break\n",
    "    elif c == '1':\n",
    "        showlist()\n",
    "        print()\n",
    "    elif c == '2':\n",
    "        name_country = input('Назовите страну, чтобы узнать ее столицу')\n",
    "        if name_country in data:\n",
    "            print(f\"Столица {name_country} - {data[name_country]['capital']}\")\n",
    "            print()\n",
    "        else:\n",
    "            print('Кажется, я не знаю такую страну')\n",
    "            print()\n",
    "    elif c == '3':\n",
    "        n = int(input('Введите желаемое количество вариантов для выбора (от 2 до 8): '))\n",
    "        m = int(input('Введите желаемое количество раундов: '))\n",
    "        print()\n",
    "    elif c == '4':\n",
    "        print()\n",
    "        play(n, m)\n",
    "        print()\n",
    "        print('Игра окончена.')\n",
    "        print(f'Вы набрали: {total_points} баллов.')\n",
    "        break"
   ]
  },
  {
   "cell_type": "code",
   "execution_count": 14,
   "id": "419862f5-661d-4808-a796-c671f44983bc",
   "metadata": {},
   "outputs": [],
   "source": [
    "with open('C:\\\\Users\\\\Женя\\\\Documents\\\\geroy-nashego-vremeni.txt', 'r', encoding='utf-8') as fff:\n",
    "    words = wordization(fff.read().title())\n",
    "    \n",
    "ddd = {}\n",
    "for word in words:\n",
    "    ddd.setdefault(word, 0)\n",
    "    ddd[word] += 1\n",
    "    \n",
    "with open('ipmfreq.txt', 'w', encoding='utf-8') as f:\n",
    "    for k, v in sorted(ddd.items(), key=lambda x: (-x[1], x[0])):\n",
    "        ipm = v / len(words) * 1000000\n",
    "        f.write(f'{k} {v} {ipm}\\n')"
   ]
  },
  {
   "cell_type": "code",
   "execution_count": null,
   "id": "52a212f9-b4fe-41a4-b375-637c3955697c",
   "metadata": {},
   "outputs": [],
   "source": [
    "file.close()"
   ]
  }
 ],
 "metadata": {
  "kernelspec": {
   "display_name": "Python 3 (ipykernel)",
   "language": "python",
   "name": "python3"
  },
  "language_info": {
   "codemirror_mode": {
    "name": "ipython",
    "version": 3
   },
   "file_extension": ".py",
   "mimetype": "text/x-python",
   "name": "python",
   "nbconvert_exporter": "python",
   "pygments_lexer": "ipython3",
   "version": "3.9.13"
  }
 },
 "nbformat": 4,
 "nbformat_minor": 5
}
