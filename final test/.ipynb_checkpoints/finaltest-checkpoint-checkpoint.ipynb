{
 "cells": [
  {
   "cell_type": "code",
   "execution_count": 3,
   "id": "5d9c0471-9575-4040-9a02-83b27215d7c8",
   "metadata": {},
   "outputs": [],
   "source": [
    "import math"
   ]
  },
  {
   "cell_type": "code",
   "execution_count": 9,
   "id": "7ca79c47-db90-4a66-89a3-b324d19455f4",
   "metadata": {},
   "outputs": [],
   "source": [
    "def volume(r):\n",
    "    v = (4 / 3) * math.pi * (float(r)) ** 3\n",
    "    print(v)"
   ]
  },
  {
   "cell_type": "code",
   "execution_count": 11,
   "id": "e6229844-f922-4d6d-9514-9a1619ea0cb4",
   "metadata": {},
   "outputs": [
    {
     "name": "stdout",
     "output_type": "stream",
     "text": [
      "113.09733552923254\n"
     ]
    }
   ],
   "source": [
    "volume(3)"
   ]
  },
  {
   "cell_type": "code",
   "execution_count": 12,
   "id": "8207bb1d-745f-418e-a7c8-9afb65ef151e",
   "metadata": {},
   "outputs": [],
   "source": [
    "def percent(s1, s2):\n",
    "    pr = s1 / s2 * 100\n",
    "    print(pr)"
   ]
  },
  {
   "cell_type": "code",
   "execution_count": 13,
   "id": "a7a3dbdc-012c-4843-bfca-6d4355242f28",
   "metadata": {},
   "outputs": [
    {
     "name": "stdout",
     "output_type": "stream",
     "text": [
      "50.0\n"
     ]
    }
   ],
   "source": [
    "percent(2, 4)"
   ]
  },
  {
   "cell_type": "code",
   "execution_count": 20,
   "id": "b7e36485-18a2-40c9-a925-c9c77328b66f",
   "metadata": {},
   "outputs": [],
   "source": [
    "# \"по возрастанию\", \"по убыванию\", \"не упорядочен\"\n",
    "def checker(lst):\n",
    "    A = sorted(lst, reverse = False)\n",
    "    B = sorted(lst, reverse = True)\n",
    "    if lst == A:\n",
    "        print('по возрастанию')\n",
    "    if lst == B:\n",
    "        print('по убыванию')\n",
    "    if lst != A and lst != B:\n",
    "        print('не упорядочен')"
   ]
  },
  {
   "cell_type": "code",
   "execution_count": 24,
   "id": "d9d9e28d-326f-4cfd-bfd6-cd86b3a3d1b5",
   "metadata": {},
   "outputs": [
    {
     "name": "stdout",
     "output_type": "stream",
     "text": [
      "по убыванию\n"
     ]
    }
   ],
   "source": [
    "checker([7, 6, 5, 4, 3])"
   ]
  },
  {
   "cell_type": "code",
   "execution_count": 31,
   "id": "06ad4c94-ad8b-4909-81f2-8441b321bb9b",
   "metadata": {},
   "outputs": [],
   "source": [
    "def the_counter(n):\n",
    "    N = int(input('Введите кол-во слов'))\n",
    "    a = input('введите строку').lower()\n",
    "    print(a.count('the'))"
   ]
  },
  {
   "cell_type": "code",
   "execution_count": 32,
   "id": "eb39495b-608d-463a-bfa9-3c87275cccd9",
   "metadata": {},
   "outputs": [
    {
     "name": "stdin",
     "output_type": "stream",
     "text": [
      "Введите кол-во слов 10\n",
      "введите строку TheDressofthegirlintheGardentheBUS\n"
     ]
    },
    {
     "name": "stdout",
     "output_type": "stream",
     "text": [
      "4\n"
     ]
    }
   ],
   "source": [
    "the_counter(5)"
   ]
  },
  {
   "cell_type": "code",
   "execution_count": 70,
   "id": "c431db4e-1943-4c5e-b17f-cd11e642b8a6",
   "metadata": {},
   "outputs": [
    {
     "name": "stdin",
     "output_type": "stream",
     "text": [
      "введите х: 1\n",
      " 2\n",
      " 0\n"
     ]
    },
    {
     "name": "stdout",
     "output_type": "stream",
     "text": [
      "Число 1 не встретилось\n"
     ]
    }
   ],
   "source": [
    "x = int(input('введите х:'))\n",
    "a = input()\n",
    "s = a\n",
    "while a != '0':\n",
    "    a = input()\n",
    "    s += a\n",
    "    if int(a) == x:\n",
    "        ind = s.index(a) + 1\n",
    "        print(ind)\n",
    "        break\n",
    "else:\n",
    "    print('Число', x, 'не встретилось')"
   ]
  },
  {
   "cell_type": "code",
   "execution_count": 126,
   "id": "0cdccc34-dec6-47cd-a69d-42388376634a",
   "metadata": {},
   "outputs": [
    {
     "name": "stdin",
     "output_type": "stream",
     "text": [
      " re\n",
      " jk\n",
      " nn\n",
      "  \n"
     ]
    },
    {
     "name": "stdout",
     "output_type": "stream",
     "text": [
      "Все слова чётной длины\n",
      "Слов чётной длины: 3\n"
     ]
    }
   ],
   "source": [
    "w = input()\n",
    "ws = [w]\n",
    "n = 0\n",
    "while w != ' ':\n",
    "    w = input()\n",
    "    ws.append(w)\n",
    "else:\n",
    "    ws.remove(' ')\n",
    "    for char in ws:\n",
    "        l = len(ws[ws.index(char)])\n",
    "        if l % 2 != 0:\n",
    "            print(char, '(',l,')', '-', ws.index(char) + 1)\n",
    "        if l % 2 == 0:\n",
    "            n += 1\n",
    "    if n == len(ws):\n",
    "        print('Все слова чётной длины')\n",
    "print('Слов чётной длины:', n)"
   ]
  },
  {
   "cell_type": "code",
   "execution_count": 131,
   "id": "7afe2773-9cb4-4129-9a49-a04fd40492ec",
   "metadata": {},
   "outputs": [
    {
     "name": "stdin",
     "output_type": "stream",
     "text": [
      " арозаупаланалапуазора\n"
     ]
    },
    {
     "name": "stdout",
     "output_type": "stream",
     "text": [
      "палиндром\n"
     ]
    }
   ],
   "source": [
    "def palindrome(s):\n",
    "    if len(s) < 1:\n",
    "        return True\n",
    "    else:\n",
    "        if s[0] == s[-1]:\n",
    "            return palindrome(s[1:-1])\n",
    "        else:\n",
    "            return False\n",
    "a = str(input())\n",
    "a = a.replace(' ', '')\n",
    "if palindrome(a):\n",
    "    print('палиндром')\n",
    "else:\n",
    "    print('не палиндром')"
   ]
  },
  {
   "cell_type": "code",
   "execution_count": 139,
   "id": "dbdabd43-790d-45c5-b63d-60c2ed95c39c",
   "metadata": {},
   "outputs": [
    {
     "name": "stdin",
     "output_type": "stream",
     "text": [
      "всего школьников 3\n",
      "сколько языков знает этот школьник? 2\n",
      "введите язык eng\n",
      "введите язык esp\n",
      "сколько языков знает этот школьник? 3\n",
      "введите язык eng\n",
      "введите язык esp\n",
      "введите язык rus\n",
      "сколько языков знает этот школьник? 5\n",
      "введите язык eng\n",
      "введите язык ukr\n",
      "введите язык kz\n",
      "введите язык ch\n",
      "введите язык fr\n"
     ]
    },
    {
     "name": "stdout",
     "output_type": "stream",
     "text": [
      "языки, которые знают все школьники: 1\n",
      "eng\n",
      "7 языков знает хотя бы один школьник:\n",
      "ch\n",
      "eng\n",
      "esp\n",
      "fr\n",
      "kz\n",
      "rus\n",
      "ukr\n"
     ]
    }
   ],
   "source": [
    "unilang = set()\n",
    "all = set()\n",
    "for i in range(int(input('всего школьников'))):\n",
    "    n = int(input('сколько языков знает этот школьник?'))\n",
    "    a = {input('введите язык') for j in range(n)}\n",
    "    all.update(a)\n",
    "    if i == 0:\n",
    "        unilang.update(a)\n",
    "    else:\n",
    "        unilang &= a\n",
    "print('языки, которые знают все школьники:', len(unilang))\n",
    "print('\\n'.join(sorted(unilang)))\n",
    "print(len(all), 'языков знает хотя бы один школьник:',)\n",
    "print('\\n'.join(sorted(all)))"
   ]
  },
  {
   "cell_type": "code",
   "execution_count": 158,
   "id": "89375730-2e3a-415e-b73a-5b480c3544a1",
   "metadata": {},
   "outputs": [
    {
     "name": "stdin",
     "output_type": "stream",
     "text": [
      " ert\n"
     ]
    },
    {
     "name": "stdout",
     "output_type": "stream",
     "text": [
      "['ert']\n"
     ]
    }
   ],
   "source": [
    "q = input().split()\n",
    "print(q)"
   ]
  },
  {
   "cell_type": "code",
   "execution_count": 159,
   "id": "54b1bd36-de98-4aca-9055-c9f909715aaa",
   "metadata": {},
   "outputs": [
    {
     "data": {
      "text/plain": [
       "97"
      ]
     },
     "execution_count": 159,
     "metadata": {},
     "output_type": "execute_result"
    }
   ],
   "source": [
    "ord('a')"
   ]
  },
  {
   "cell_type": "code",
   "execution_count": 160,
   "id": "b9542244-43f8-4ccc-a3d4-2baab3b0ddff",
   "metadata": {},
   "outputs": [
    {
     "ename": "TypeError",
     "evalue": "'int' object is not callable",
     "output_type": "error",
     "traceback": [
      "\u001b[1;31m---------------------------------------------------------------------------\u001b[0m",
      "\u001b[1;31mTypeError\u001b[0m                                 Traceback (most recent call last)",
      "Cell \u001b[1;32mIn [160], line 1\u001b[0m\n\u001b[1;32m----> 1\u001b[0m \u001b[38;5;28;43mchr\u001b[39;49m\u001b[43m(\u001b[49m\u001b[38;5;241;43m1100\u001b[39;49m\u001b[43m)\u001b[49m\n",
      "\u001b[1;31mTypeError\u001b[0m: 'int' object is not callable"
     ]
    }
   ],
   "source": [
    "chr(1100)"
   ]
  },
  {
   "cell_type": "code",
   "execution_count": 161,
   "id": "902a95d0-dc0e-4a09-892c-69c9049640e3",
   "metadata": {},
   "outputs": [
    {
     "data": {
      "text/plain": [
       "int"
      ]
     },
     "execution_count": 161,
     "metadata": {},
     "output_type": "execute_result"
    }
   ],
   "source": [
    "type(chr)"
   ]
  },
  {
   "cell_type": "code",
   "execution_count": 162,
   "id": "344ea4a0-dd64-48e0-bcd8-79ec497d6c34",
   "metadata": {},
   "outputs": [
    {
     "name": "stdout",
     "output_type": "stream",
     "text": [
      "1102\n"
     ]
    }
   ],
   "source": [
    "print(chr)"
   ]
  },
  {
   "cell_type": "code",
   "execution_count": 165,
   "id": "ea2514c0-492b-409b-8cca-230e3459b9a0",
   "metadata": {},
   "outputs": [
    {
     "data": {
      "text/plain": [
       "builtin_function_or_method"
      ]
     },
     "execution_count": 165,
     "metadata": {},
     "output_type": "execute_result"
    }
   ],
   "source": [
    "type(ord)"
   ]
  },
  {
   "cell_type": "code",
   "execution_count": 164,
   "id": "c1fc546f-7bd2-4a47-a23d-82486d5b2521",
   "metadata": {},
   "outputs": [
    {
     "name": "stdout",
     "output_type": "stream",
     "text": [
      "-\n"
     ]
    }
   ],
   "source": [
    "print(char)"
   ]
  },
  {
   "cell_type": "code",
   "execution_count": null,
   "id": "c3535326-726b-4a62-8882-cc379e14f620",
   "metadata": {},
   "outputs": [],
   "source": []
  }
 ],
 "metadata": {
  "kernelspec": {
   "display_name": "Python 3 (ipykernel)",
   "language": "python",
   "name": "python3"
  },
  "language_info": {
   "codemirror_mode": {
    "name": "ipython",
    "version": 3
   },
   "file_extension": ".py",
   "mimetype": "text/x-python",
   "name": "python",
   "nbconvert_exporter": "python",
   "pygments_lexer": "ipython3",
   "version": "3.9.13"
  }
 },
 "nbformat": 4,
 "nbformat_minor": 5
}
