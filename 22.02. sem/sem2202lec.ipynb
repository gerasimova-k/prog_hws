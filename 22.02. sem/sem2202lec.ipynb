{
 "cells": [
  {
   "cell_type": "code",
   "execution_count": 1,
   "id": "865e59ed-b370-44c4-99f9-3807a08a389b",
   "metadata": {},
   "outputs": [],
   "source": [
    "import re"
   ]
  },
  {
   "cell_type": "code",
   "execution_count": 2,
   "id": "65ca624b-8210-426c-b040-0d5892cddc7b",
   "metadata": {},
   "outputs": [
    {
     "data": {
      "text/plain": [
       "['A',\n",
       " 'ASCII',\n",
       " 'DEBUG',\n",
       " 'DOTALL',\n",
       " 'I',\n",
       " 'IGNORECASE',\n",
       " 'L',\n",
       " 'LOCALE',\n",
       " 'M',\n",
       " 'MULTILINE',\n",
       " 'Match',\n",
       " 'Pattern',\n",
       " 'RegexFlag',\n",
       " 'S',\n",
       " 'Scanner',\n",
       " 'T',\n",
       " 'TEMPLATE',\n",
       " 'U',\n",
       " 'UNICODE',\n",
       " 'VERBOSE',\n",
       " 'X',\n",
       " '_MAXCACHE',\n",
       " '__all__',\n",
       " '__builtins__',\n",
       " '__cached__',\n",
       " '__doc__',\n",
       " '__file__',\n",
       " '__loader__',\n",
       " '__name__',\n",
       " '__package__',\n",
       " '__spec__',\n",
       " '__version__',\n",
       " '_cache',\n",
       " '_compile',\n",
       " '_compile_repl',\n",
       " '_expand',\n",
       " '_locale',\n",
       " '_pickle',\n",
       " '_special_chars_map',\n",
       " '_subx',\n",
       " 'compile',\n",
       " 'copyreg',\n",
       " 'enum',\n",
       " 'error',\n",
       " 'escape',\n",
       " 'findall',\n",
       " 'finditer',\n",
       " 'fullmatch',\n",
       " 'functools',\n",
       " 'match',\n",
       " 'purge',\n",
       " 'search',\n",
       " 'split',\n",
       " 'sre_compile',\n",
       " 'sre_parse',\n",
       " 'sub',\n",
       " 'subn',\n",
       " 'template']"
      ]
     },
     "execution_count": 2,
     "metadata": {},
     "output_type": "execute_result"
    }
   ],
   "source": [
    "dir(re)"
   ]
  },
  {
   "cell_type": "code",
   "execution_count": null,
   "id": "968e4f57-d4f2-4ab7-8f3a-29b3b67148e9",
   "metadata": {},
   "outputs": [],
   "source": [
    "re.Pattern # обьект, в к-рый первращается наша строка\n",
    "re.Match"
   ]
  },
  {
   "cell_type": "code",
   "execution_count": null,
   "id": "ae4e77fc-a7c2-42c7-b352-0c7b6cff1067",
   "metadata": {},
   "outputs": [],
   "source": [
    "r'\\d+' # регулярки надо компилировать заранее, особенно если она в цикле, иначе зависнет"
   ]
  },
  {
   "cell_type": "code",
   "execution_count": 3,
   "id": "3a64c9bf-17f4-4f81-a069-45e1227a60f4",
   "metadata": {},
   "outputs": [],
   "source": [
    "p = re.compile(r'\\d+') # перед бекслэшем надо ставить букву r, как и перед файлом"
   ]
  },
  {
   "cell_type": "code",
   "execution_count": 4,
   "id": "5e2e75a1-bec3-4402-a187-3fda269a3be1",
   "metadata": {},
   "outputs": [
    {
     "data": {
      "text/plain": [
       "re.compile(r'\\d+', re.UNICODE)"
      ]
     },
     "execution_count": 4,
     "metadata": {},
     "output_type": "execute_result"
    }
   ],
   "source": [
    "p"
   ]
  },
  {
   "cell_type": "code",
   "execution_count": 7,
   "id": "3fe20985-9aef-4a2b-a89d-244414d85220",
   "metadata": {},
   "outputs": [],
   "source": [
    "m = re.search(r'\\d+', '1234 2345 3344556') # до первого подходящего вхождения"
   ]
  },
  {
   "cell_type": "code",
   "execution_count": 8,
   "id": "81b4284d-dea9-40e8-817b-725255141a8f",
   "metadata": {},
   "outputs": [
    {
     "data": {
      "text/plain": [
       "<re.Match object; span=(0, 4), match='1234'>"
      ]
     },
     "execution_count": 8,
     "metadata": {},
     "output_type": "execute_result"
    }
   ],
   "source": [
    "m"
   ]
  },
  {
   "cell_type": "code",
   "execution_count": 9,
   "id": "fb88a4af-d5f5-4bae-a406-7cec41d525fc",
   "metadata": {},
   "outputs": [
    {
     "data": {
      "text/plain": [
       "'1234'"
      ]
     },
     "execution_count": 9,
     "metadata": {},
     "output_type": "execute_result"
    }
   ],
   "source": [
    "m.group(0)"
   ]
  },
  {
   "cell_type": "code",
   "execution_count": 10,
   "id": "1e84250a-35b8-4a13-b127-bdc9fd081aac",
   "metadata": {},
   "outputs": [],
   "source": [
    "mm = re.search(r'(\\d+) (\\d+)', '1234 2345 344556')"
   ]
  },
  {
   "cell_type": "code",
   "execution_count": 12,
   "id": "9ab8b72f-c3c2-4607-8e0c-ecdff4d0f203",
   "metadata": {},
   "outputs": [
    {
     "data": {
      "text/plain": [
       "<re.Match object; span=(0, 9), match='1234 2345'>"
      ]
     },
     "execution_count": 12,
     "metadata": {},
     "output_type": "execute_result"
    }
   ],
   "source": [
    "mm"
   ]
  },
  {
   "cell_type": "code",
   "execution_count": 14,
   "id": "40d45a5d-0153-4728-9845-20d4efc2dbf3",
   "metadata": {},
   "outputs": [
    {
     "data": {
      "text/plain": [
       "'1234'"
      ]
     },
     "execution_count": 14,
     "metadata": {},
     "output_type": "execute_result"
    }
   ],
   "source": [
    "mm.group(1)"
   ]
  },
  {
   "cell_type": "code",
   "execution_count": 11,
   "id": "90e464ae-3604-4f3e-8cc1-fed8d38cf259",
   "metadata": {},
   "outputs": [
    {
     "data": {
      "text/plain": [
       "'2345'"
      ]
     },
     "execution_count": 11,
     "metadata": {},
     "output_type": "execute_result"
    }
   ],
   "source": [
    "mm.group(2)"
   ]
  },
  {
   "cell_type": "code",
   "execution_count": 15,
   "id": "5b3b1f18-f6ac-4934-87d8-00c3211da1c3",
   "metadata": {},
   "outputs": [
    {
     "data": {
      "text/plain": [
       "0"
      ]
     },
     "execution_count": 15,
     "metadata": {},
     "output_type": "execute_result"
    }
   ],
   "source": [
    "mm.start()"
   ]
  },
  {
   "cell_type": "code",
   "execution_count": 16,
   "id": "5e65a8b7-ac89-4007-b623-26688a1317fc",
   "metadata": {},
   "outputs": [
    {
     "data": {
      "text/plain": [
       "9"
      ]
     },
     "execution_count": 16,
     "metadata": {},
     "output_type": "execute_result"
    }
   ],
   "source": [
    "mm.end()"
   ]
  },
  {
   "cell_type": "code",
   "execution_count": 17,
   "id": "15406135-80a1-47c5-9e6c-67cc33b3bd6d",
   "metadata": {},
   "outputs": [
    {
     "data": {
      "text/plain": [
       "(0, 9)"
      ]
     },
     "execution_count": 17,
     "metadata": {},
     "output_type": "execute_result"
    }
   ],
   "source": [
    "mm.span()"
   ]
  },
  {
   "cell_type": "code",
   "execution_count": null,
   "id": "9c4eef0c-05a4-4be2-ab37-4ea181575d2d",
   "metadata": {},
   "outputs": [],
   "source": [
    "re.search(pattern, text, [flags])\n",
    "re.finditer(pattern, text, [flags])"
   ]
  },
  {
   "cell_type": "code",
   "execution_count": 18,
   "id": "5efde0ae-1d4d-4345-9d54-75e6a6ecc386",
   "metadata": {},
   "outputs": [
    {
     "data": {
      "text/plain": [
       "range(0, 9)"
      ]
     },
     "execution_count": 18,
     "metadata": {},
     "output_type": "execute_result"
    }
   ],
   "source": [
    "range(0, 9)"
   ]
  },
  {
   "cell_type": "code",
   "execution_count": 19,
   "id": "ed0ce04e-24a5-43d3-8919-2c1b7ae56f45",
   "metadata": {},
   "outputs": [
    {
     "name": "stdout",
     "output_type": "stream",
     "text": [
      "123\n",
      "456\n",
      "789\n",
      "7756\n",
      "3332\n"
     ]
    }
   ],
   "source": [
    "for mm in re.finditer(r'\\d+', '123 456 789 7756 3332'):\n",
    "    print(mm.group())"
   ]
  },
  {
   "cell_type": "code",
   "execution_count": 20,
   "id": "94c57710-0813-4a9f-a9fb-ab67644620d4",
   "metadata": {},
   "outputs": [
    {
     "ename": "IndexError",
     "evalue": "no such group",
     "output_type": "error",
     "traceback": [
      "\u001b[1;31m---------------------------------------------------------------------------\u001b[0m",
      "\u001b[1;31mIndexError\u001b[0m                                Traceback (most recent call last)",
      "Cell \u001b[1;32mIn [20], line 2\u001b[0m\n\u001b[0;32m      1\u001b[0m \u001b[38;5;28;01mfor\u001b[39;00m mm \u001b[38;5;129;01min\u001b[39;00m re\u001b[38;5;241m.\u001b[39mfinditer(\u001b[38;5;124mr\u001b[39m\u001b[38;5;124m'\u001b[39m\u001b[38;5;124m\\\u001b[39m\u001b[38;5;124md+\u001b[39m\u001b[38;5;124m'\u001b[39m, \u001b[38;5;124m'\u001b[39m\u001b[38;5;124m123 456 789 7756 3332\u001b[39m\u001b[38;5;124m'\u001b[39m):\n\u001b[1;32m----> 2\u001b[0m     \u001b[38;5;28mprint\u001b[39m(\u001b[43mmm\u001b[49m\u001b[38;5;241;43m.\u001b[39;49m\u001b[43mgroup\u001b[49m\u001b[43m(\u001b[49m\u001b[38;5;241;43m1\u001b[39;49m\u001b[43m)\u001b[49m)\n",
      "\u001b[1;31mIndexError\u001b[0m: no such group"
     ]
    }
   ],
   "source": [
    "for mm in re.finditer(r'\\d+', '123 456 789 7756 3332'):\n",
    "    print(mm.group(1))"
   ]
  },
  {
   "cell_type": "code",
   "execution_count": 23,
   "id": "45c51852-6f6f-4aad-9d27-6bbacbd7d15c",
   "metadata": {},
   "outputs": [],
   "source": [
    "patterrn = re.compile(r'(\\d+) (\\d+)')\n",
    "textt = '1223 4543 57775 67'"
   ]
  },
  {
   "cell_type": "code",
   "execution_count": 25,
   "id": "c885fc29-8666-4702-9745-94103bc9fb78",
   "metadata": {},
   "outputs": [
    {
     "data": {
      "text/plain": [
       "[('1223', '4543'), ('57775', '67')]"
      ]
     },
     "execution_count": 25,
     "metadata": {},
     "output_type": "execute_result"
    }
   ],
   "source": [
    "re.findall(patterrn, textt)"
   ]
  },
  {
   "cell_type": "code",
   "execution_count": 26,
   "id": "e306f41e-6b1f-48f7-93ab-cc1efbd8395b",
   "metadata": {},
   "outputs": [],
   "source": [
    "paterrn = re.compile(r' (\\d+) ')\n",
    "textt = '1223 4543 57775 67'"
   ]
  },
  {
   "cell_type": "code",
   "execution_count": 27,
   "id": "dd1b85ad-e349-4670-b113-6cfe43cefe1f",
   "metadata": {},
   "outputs": [
    {
     "data": {
      "text/plain": [
       "['4543']"
      ]
     },
     "execution_count": 27,
     "metadata": {},
     "output_type": "execute_result"
    }
   ],
   "source": [
    "re.findall(paterrn, textt)"
   ]
  },
  {
   "cell_type": "code",
   "execution_count": 28,
   "id": "4142b459-391f-47ef-a4d7-400865b4173c",
   "metadata": {},
   "outputs": [],
   "source": [
    "paterrnn = re.compile(r' (?:\\d+) ')\n",
    "textt = '1223 4543 57775 67'"
   ]
  },
  {
   "cell_type": "code",
   "execution_count": 29,
   "id": "1a12bed6-e2ff-477a-8a92-d5af3cfe39da",
   "metadata": {},
   "outputs": [
    {
     "data": {
      "text/plain": [
       "[' 4543 ']"
      ]
     },
     "execution_count": 29,
     "metadata": {},
     "output_type": "execute_result"
    }
   ],
   "source": [
    "re.findall(paterrnn, textt)"
   ]
  },
  {
   "cell_type": "code",
   "execution_count": null,
   "id": "d355c203-f45e-442c-ac4d-231a08a9e608",
   "metadata": {},
   "outputs": [],
   "source": [
    "re.match(pattern, text) # чтобы начало совпадало"
   ]
  },
  {
   "cell_type": "code",
   "execution_count": 31,
   "id": "f4d1a1a2-4e30-4974-965a-6a4745997b20",
   "metadata": {},
   "outputs": [
    {
     "name": "stdout",
     "output_type": "stream",
     "text": [
      "Found\n"
     ]
    }
   ],
   "source": [
    "if re.match(r'\\d', '123wjheb473;'):\n",
    "    print('Found')"
   ]
  },
  {
   "cell_type": "code",
   "execution_count": 35,
   "id": "b50d28ed-a099-458d-8fd9-fa7624f51b12",
   "metadata": {},
   "outputs": [
    {
     "name": "stdout",
     "output_type": "stream",
     "text": [
      "Numbers\n"
     ]
    }
   ],
   "source": [
    "if re.fullmatch(r'\\d+', '12387473'):\n",
    "    print('Numbers')\n",
    "    \n",
    "    # чтобы вся строка подошла"
   ]
  },
  {
   "cell_type": "code",
   "execution_count": null,
   "id": "29b81eab-7219-4b29-afcb-485aa5a0cc33",
   "metadata": {},
   "outputs": [],
   "source": [
    "# Функции поиска\n",
    "re.search(pattern, text, [flags])\n",
    "re.finditer(pattern, text, [flags])\n",
    "re.findall(pattern, text)\n",
    "# Функции проверки\n",
    "re.match(pattern, text)\n",
    "re.fullmatch(pattern, text)\n",
    "# Функция split\n",
    "re.split(pattern, text)\n",
    "# Функция sub\n",
    "re.sub(pattern,sub, text)"
   ]
  },
  {
   "cell_type": "code",
   "execution_count": 38,
   "id": "10490a1c-99d5-44bf-ab1e-c26d6c927d3c",
   "metadata": {},
   "outputs": [
    {
     "data": {
      "text/plain": [
       "'. . .'"
      ]
     },
     "execution_count": 38,
     "metadata": {},
     "output_type": "execute_result"
    }
   ],
   "source": [
    "re.sub(r'\\d+', '.', '123 13456 5678') # заменяет (хоть на пустую строку),\n",
    "# можно им чистить хештеги и смайлики"
   ]
  },
  {
   "cell_type": "code",
   "execution_count": 37,
   "id": "f57dd856-98c7-4a42-9b28-be9134171e2b",
   "metadata": {},
   "outputs": [
    {
     "data": {
      "text/plain": [
       "'WTYEF WEUFY JH'"
      ]
     },
     "execution_count": 37,
     "metadata": {},
     "output_type": "execute_result"
    }
   ],
   "source": [
    "def sub(mm):\n",
    "    return mm.group().upper()\n",
    "\n",
    "re.sub(r'[a-z]+', sub, 'wtyef weufy jh')"
   ]
  },
  {
   "cell_type": "code",
   "execution_count": 39,
   "id": "0eff6766-041b-4193-9921-0bcd5b787c78",
   "metadata": {},
   "outputs": [
    {
     "data": {
      "text/plain": [
       "'WTYEF WEUFY JH'"
      ]
     },
     "execution_count": 39,
     "metadata": {},
     "output_type": "execute_result"
    }
   ],
   "source": [
    "re.sub(r'[a-z]+', lambda mm: mm.group().upper(), 'wtyef weufy jh')"
   ]
  },
  {
   "cell_type": "code",
   "execution_count": null,
   "id": "dbc05247-ade9-4baa-8361-5c07bbb8edf8",
   "metadata": {},
   "outputs": [],
   "source": [
    "(?aiLmsux) # Флаги, устаревшие штуки из питона-2"
   ]
  },
  {
   "cell_type": "code",
   "execution_count": null,
   "id": "4616b256-5d1a-4f9b-ad48-9cb87489f9b2",
   "metadata": {},
   "outputs": [],
   "source": [
    "# Флаги\n",
    "i re.I, re.IGNORECASE # Прописываем как (?i)\n",
    "m re.M, re.MULTILINE # ^ $\n",
    "s re.DOTALL # . (обычно точка - это всё, кроме \\n)"
   ]
  },
  {
   "cell_type": "code",
   "execution_count": 41,
   "id": "3ceee1b5-4f32-4571-9188-d06bd3b9c44b",
   "metadata": {},
   "outputs": [
    {
     "data": {
      "text/plain": [
       "['ajwZADSFbdfDbDf']"
      ]
     },
     "execution_count": 41,
     "metadata": {},
     "output_type": "execute_result"
    }
   ],
   "source": [
    "re.findall(r'(?i)[a-z]+', 'ajwZADSFbdfDbDf') # Предпочтительнее так, но можно flag = re.I или re.I"
   ]
  },
  {
   "cell_type": "code",
   "execution_count": 42,
   "id": "bd371916-1efa-49fa-87a2-5eabaa2ea1ef",
   "metadata": {},
   "outputs": [
    {
     "data": {
      "text/plain": [
       "['ajwZADS', 'FbdfDbDf']"
      ]
     },
     "execution_count": 42,
     "metadata": {},
     "output_type": "execute_result"
    }
   ],
   "source": [
    "re.findall(r'(?mi)^[a-z]+', 'ajwZADS\\nFbdfDbDf')"
   ]
  },
  {
   "cell_type": "code",
   "execution_count": null,
   "id": "e7a92313-a1c4-4949-9443-cf2924c51f7b",
   "metadata": {},
   "outputs": [],
   "source": [
    "re.findall(r'^[a-z]+', 'ajwZADS\\nFbdfDbDf', flags = re.I | re.M) \n",
    "# тоже вариант записи двух флагов одновременно"
   ]
  },
  {
   "cell_type": "code",
   "execution_count": 47,
   "id": "1ca9e4a9-6afc-435d-aca6-8ac419f7c163",
   "metadata": {},
   "outputs": [
    {
     "data": {
      "text/plain": [
       "['ajwZADS\\nFbdfDbDf']"
      ]
     },
     "execution_count": 47,
     "metadata": {},
     "output_type": "execute_result"
    }
   ],
   "source": [
    "re.findall(r'(?mis).+', 'ajwZADS\\nFbdfDbDf')"
   ]
  },
  {
   "cell_type": "code",
   "execution_count": null,
   "id": "23e8d813-53a4-40a7-ae9f-44970ecbbab5",
   "metadata": {},
   "outputs": [],
   "source": []
  }
 ],
 "metadata": {
  "kernelspec": {
   "display_name": "Python 3 (ipykernel)",
   "language": "python",
   "name": "python3"
  },
  "language_info": {
   "codemirror_mode": {
    "name": "ipython",
    "version": 3
   },
   "file_extension": ".py",
   "mimetype": "text/x-python",
   "name": "python",
   "nbconvert_exporter": "python",
   "pygments_lexer": "ipython3",
   "version": "3.9.13"
  }
 },
 "nbformat": 4,
 "nbformat_minor": 5
}
