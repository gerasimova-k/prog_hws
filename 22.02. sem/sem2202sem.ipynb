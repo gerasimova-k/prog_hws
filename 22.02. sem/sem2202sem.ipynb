{
 "cells": [
  {
   "cell_type": "code",
   "execution_count": 2,
   "id": "0bf1ba65-d461-4aef-ba20-2810f3c6235f",
   "metadata": {},
   "outputs": [],
   "source": [
    "import re"
   ]
  },
  {
   "cell_type": "code",
   "execution_count": 5,
   "id": "e435cadf-c1f9-4fe5-b810-74ee106a3e6c",
   "metadata": {},
   "outputs": [
    {
     "name": "stdout",
     "output_type": "stream",
     "text": [
      "Phone\n"
     ]
    }
   ],
   "source": [
    "# Номера могут быть в формате 0(000)00-00-00 или 0 000 00 00 00\n",
    "if re.fullmatch(r\"\\d(\\(| )\\d{3}(\\)| )\\d{2}(\\-| )\\d{2}(\\-| )\\d{2}\", '0(000)00-00-00'):\n",
    "    print('Phone')"
   ]
  },
  {
   "cell_type": "code",
   "execution_count": 45,
   "id": "f4450931-8dcb-4290-bd68-35d2dc4e7799",
   "metadata": {},
   "outputs": [
    {
     "name": "stdout",
     "output_type": "stream",
     "text": [
      "e-mail\n"
     ]
    }
   ],
   "source": [
    "# только латинские буквы, цифры и нижнее подчеркивание,\n",
    "# обязательно содержит @ и имя домена через точку.  \n",
    "# Других точек в адресе нет. \n",
    "if re.fullmatch(r'(?i)[a-z0-9_]+\\@[a-z0-9]+\\.[a-z]+', 'asSdjfh_87S@Gmail.com'):\n",
    "    print('e-mail')"
   ]
  },
  {
   "cell_type": "code",
   "execution_count": 11,
   "id": "86b0b73a-5a6a-4102-a9ad-9d787ab31c45",
   "metadata": {},
   "outputs": [
    {
     "data": {
      "text/plain": [
       "'...'"
      ]
     },
     "execution_count": 11,
     "metadata": {},
     "output_type": "execute_result"
    }
   ],
   "source": [
    "# война и разные его вариации в падежах \n",
    "# (и регистр тоже везде разный). \n",
    "# Замените это слово по всему тексту на многоточие\n",
    "\n",
    "re.sub(r'(?i)войн(|а|ы|е|у|ой|ою|ам|ами|ах)', '...', 'войн')"
   ]
  },
  {
   "cell_type": "code",
   "execution_count": 10,
   "id": "bd4f111e-a8d2-4f17-a7dd-a03af27b3bb8",
   "metadata": {},
   "outputs": [
    {
     "data": {
      "text/plain": [
       "'987.23, 9328.07, 346346.23, 3570.0'"
      ]
     },
     "execution_count": 10,
     "metadata": {},
     "output_type": "execute_result"
    }
   ],
   "source": [
    "# нецелые числа (можно через запятую, можно через точку, а можете учесть оба варианта). \n",
    "# Нужно все числа в тексте округлить до двух знаков после запятой(точки), \n",
    "# причем не просто отрезать хвост: 2.467 должно превращаться в 2.47\n",
    "\n",
    "def floattofloat(arg):\n",
    "    return str(round(float(arg.group().replace(',', '.')), 2))\n",
    "text = '987,234, 9328.066, 346346.23235, 3569.9999'\n",
    "re.sub(r'\\d+(?:\\.|,)\\d{3,}', floattofloat, text)"
   ]
  },
  {
   "cell_type": "code",
   "execution_count": null,
   "id": "99f58b86-d883-4f4b-9ca1-e30e55d1f9ea",
   "metadata": {},
   "outputs": [],
   "source": []
  },
  {
   "cell_type": "code",
   "execution_count": 9,
   "id": "ced0f34e-7d3e-422f-9392-e1a8077061ea",
   "metadata": {},
   "outputs": [
    {
     "name": "stdout",
     "output_type": "stream",
     "text": [
      "Price\n"
     ]
    }
   ],
   "source": [
    "# Найти ценники в формате \"10000 руб. 00 коп.\", при этом:\n",
    "\n",
    "# \"руб.\" и \"коп.\" не обязательно сокращены;\n",
    "# кол-во копеек не может быть трёхзначным;\n",
    "# кол-во рублей может быть нулевым, но не может быть некорректно записанным \n",
    "# числом типа \"0123 рубля\")\n",
    "\n",
    "if re.match(r\"(?:0|[1-9]\\d+) руб(?:\\.|лей|ля|ль) (?:0.+|[1-9]\\d{1}) коп(?:\\.|ейки|еек|ейка)\", \"10000 руб. 00 коп.\"):\n",
    "    print('Price')\n"
   ]
  },
  {
   "cell_type": "code",
   "execution_count": 13,
   "id": "63c9f6af-b86b-4120-843a-f9f5b69b20b0",
   "metadata": {},
   "outputs": [
    {
     "name": "stdout",
     "output_type": "stream",
     "text": [
      "important\n"
     ]
    }
   ],
   "source": [
    "# Нижнее подчеркивание, не длиннее 5 слов\n",
    "if re.search(r\"(?mis)_[а-я]+(?: [а-я]+){0,4}_\", \"здесь _очень важно_ отметить\"):\n",
    "    print('important')"
   ]
  },
  {
   "cell_type": "code",
   "execution_count": 14,
   "id": "95e4f659-17cc-42ed-966c-de9ee5809a29",
   "metadata": {},
   "outputs": [
    {
     "name": "stdout",
     "output_type": "stream",
     "text": [
      "aKejr\n",
      "ael 98L djv\n",
      "38rh nger\n",
      "76\n"
     ]
    }
   ],
   "source": [
    "# все куски, которые взяты в круглые скобки. \n",
    "# Считаем, что вложенных скобок нет.\n",
    "\n",
    "for mm in re.finditer(r'(?<=\\()[^()]+(?=\\))', 'ejkr (aKejr) dk fjv(ael 98L djv) (38rh nger). we rkg (76)()'):\n",
    "    print(mm.group())"
   ]
  },
  {
   "cell_type": "code",
   "execution_count": 17,
   "id": "8da19749-85ad-4853-ac58-898956e0e796",
   "metadata": {},
   "outputs": [
    {
     "data": {
      "text/plain": [
       "[('myfolder/', 'myfile', 'txt'), ('C:\\\\Python\\x0ciles\\\\', 'script', 'py')]"
      ]
     },
     "execution_count": 17,
     "metadata": {},
     "output_type": "execute_result"
    }
   ],
   "source": [
    "# re.findall возвращать кортежи вида \n",
    "# ('все, что слева от имени файла', 'имя файла', 'расширение')\n",
    "# ('myfolder', 'myfile', 'txt')\n",
    "# ('C:\\Python\\files', 'script', 'py')\n",
    "\n",
    "re.findall(r'(?mi)(.+)(?<=\\\\|/)(.+)\\.([a-z0-9]+)', 'myfolder/myfile.txt\\nC:\\Python\\files\\script.py')"
   ]
  },
  {
   "cell_type": "code",
   "execution_count": null,
   "id": "07e97a2e-1c9e-4ba9-b6db-69857126d553",
   "metadata": {},
   "outputs": [],
   "source": []
  }
 ],
 "metadata": {
  "kernelspec": {
   "display_name": "Python 3 (ipykernel)",
   "language": "python",
   "name": "python3"
  },
  "language_info": {
   "codemirror_mode": {
    "name": "ipython",
    "version": 3
   },
   "file_extension": ".py",
   "mimetype": "text/x-python",
   "name": "python",
   "nbconvert_exporter": "python",
   "pygments_lexer": "ipython3",
   "version": "3.9.13"
  }
 },
 "nbformat": 4,
 "nbformat_minor": 5
}
