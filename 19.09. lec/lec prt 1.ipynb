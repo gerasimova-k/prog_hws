{
 "cells": [
  {
   "cell_type": "code",
   "execution_count": 2,
   "id": "4a3fa2f4-ef74-4b3f-b75d-c819da350348",
   "metadata": {},
   "outputs": [
    {
     "name": "stdin",
     "output_type": "stream",
     "text": [
      " 1\n",
      " 2\n"
     ]
    },
    {
     "name": "stdout",
     "output_type": "stream",
     "text": [
      "1.0\n"
     ]
    }
   ],
   "source": [
    "a = float(input())\n",
    "b = float(input())\n",
    "S_tr = 0.5 * (a * b)\n",
    "print(S_tr)"
   ]
  },
  {
   "cell_type": "code",
   "execution_count": 20,
   "id": "d05e813d-161a-4416-b06a-84782cb7f845",
   "metadata": {},
   "outputs": [
    {
     "name": "stdin",
     "output_type": "stream",
     "text": [
      "В 1 классе 1\n",
      "Во 2 классе 1\n",
      "В 3 классе 1\n"
     ]
    },
    {
     "name": "stdout",
     "output_type": "stream",
     "text": [
      "3\n"
     ]
    }
   ],
   "source": [
    "a = int(input(\"В 1 классе\"))\n",
    "b = int(input(\"Во 2 классе\"))\n",
    "c = int(input(\"В 3 классе\"))\n",
    "a_dsk = a // 2 \n",
    "b_dsk = b // 2 \n",
    "c_dsk = c // 2 \n",
    "all_dsk = (a_dsk % 2 + 1) + (b_dsk % 2 + 1) + (c_dsk % 2 + 1) \n",
    "print(all_dsk)\n",
    "\n"
   ]
  },
  {
   "cell_type": "code",
   "execution_count": 23,
   "id": "9851b440-6bae-44a7-bf18-325e66bd513a",
   "metadata": {},
   "outputs": [
    {
     "name": "stdout",
     "output_type": "stream",
     "text": [
      "Hello\n",
      "New string\n"
     ]
    },
    {
     "data": {
      "text/plain": [
       "9"
      ]
     },
     "execution_count": 23,
     "metadata": {},
     "output_type": "execute_result"
    }
   ],
   "source": [
    "'Hello'\n",
    "\"Hello\\n\"\n",
    "\n",
    "'''Hello'''\n",
    "\"\"\"Hello\"\"\"\n",
    "\n",
    "print('''Hello\n",
    "New string''')\n",
    "# docstrings\n",
    "4 + 5"
   ]
  },
  {
   "cell_type": "code",
   "execution_count": 24,
   "id": "bc929f96-d425-4a7a-b105-364ebf59c8b1",
   "metadata": {},
   "outputs": [
    {
     "name": "stdout",
     "output_type": "stream",
     "text": [
      "Help on built-in function print in module builtins:\n",
      "\n",
      "print(...)\n",
      "    print(value, ..., sep=' ', end='\\n', file=sys.stdout, flush=False)\n",
      "    \n",
      "    Prints the values to a stream, or to sys.stdout by default.\n",
      "    Optional keyword arguments:\n",
      "    file:  a file-like object (stream); defaults to the current sys.stdout.\n",
      "    sep:   string inserted between values, default a space.\n",
      "    end:   string appended after the last value, default a newline.\n",
      "    flush: whether to forcibly flush the stream.\n",
      "\n"
     ]
    }
   ],
   "source": [
    "help(print)\n"
   ]
  },
  {
   "cell_type": "code",
   "execution_count": 25,
   "id": "aa204d01-bea9-4f5b-b3e2-2de33fd04dfd",
   "metadata": {},
   "outputs": [
    {
     "name": "stdout",
     "output_type": "stream",
     "text": [
      "Helloworld\n",
      "worldworldworldworldworld\n"
     ]
    }
   ],
   "source": [
    "a = 5\n",
    "b = \"Hello\"\n",
    "c = \"world\"\n",
    "print(b + c)\n",
    "print(a * c)"
   ]
  },
  {
   "cell_type": "code",
   "execution_count": 26,
   "id": "05fb9e32-8b88-4fa0-b79d-b6e45e2105ce",
   "metadata": {},
   "outputs": [
    {
     "data": {
      "text/plain": [
       "True"
      ]
     },
     "execution_count": 26,
     "metadata": {},
     "output_type": "execute_result"
    }
   ],
   "source": [
    "\"A\" < \"a\""
   ]
  },
  {
   "cell_type": "code",
   "execution_count": 27,
   "id": "b1d896ed-be26-4e26-bd23-af062753e478",
   "metadata": {},
   "outputs": [
    {
     "data": {
      "text/plain": [
       "True"
      ]
     },
     "execution_count": 27,
     "metadata": {},
     "output_type": "execute_result"
    }
   ],
   "source": [
    "\"hello\" <= \"hello \""
   ]
  },
  {
   "cell_type": "code",
   "execution_count": 31,
   "id": "fd200d21-d364-4b98-b94b-f30c873a0dfe",
   "metadata": {},
   "outputs": [
    {
     "data": {
      "text/plain": [
       "1087"
      ]
     },
     "execution_count": 31,
     "metadata": {},
     "output_type": "execute_result"
    }
   ],
   "source": [
    "ord(\"п\")"
   ]
  },
  {
   "cell_type": "code",
   "execution_count": 32,
   "id": "dac721ec-e5f7-4e98-9b4a-dfa6ecbbb1f3",
   "metadata": {},
   "outputs": [
    {
     "data": {
      "text/plain": [
       "'h'"
      ]
     },
     "execution_count": 32,
     "metadata": {},
     "output_type": "execute_result"
    }
   ],
   "source": [
    "chr(104)"
   ]
  },
  {
   "cell_type": "code",
   "execution_count": 34,
   "id": "d33dc650-6931-41b6-88fb-477d68d88775",
   "metadata": {},
   "outputs": [
    {
     "data": {
      "text/plain": [
       "'ell'"
      ]
     },
     "execution_count": 34,
     "metadata": {},
     "output_type": "execute_result"
    }
   ],
   "source": [
    "b[1:4] #со 2 по 4 символ не включая 4, а нумерация с нуля"
   ]
  },
  {
   "cell_type": "code",
   "execution_count": 36,
   "id": "127773e3-5b53-4014-a9b1-baa2e06e56ff",
   "metadata": {},
   "outputs": [
    {
     "data": {
      "text/plain": [
       "'wr'"
      ]
     },
     "execution_count": 36,
     "metadata": {},
     "output_type": "execute_result"
    }
   ],
   "source": [
    "# b[start:stop:step]\n",
    "a = \"qwertyuiop\"\n",
    "a[1:4:2]"
   ]
  },
  {
   "cell_type": "code",
   "execution_count": 37,
   "id": "79b02ef4-69d7-4d24-bd5f-fe54250faf68",
   "metadata": {},
   "outputs": [
    {
     "data": {
      "text/plain": [
       "'qwer'"
      ]
     },
     "execution_count": 37,
     "metadata": {},
     "output_type": "execute_result"
    }
   ],
   "source": [
    "a[:4]"
   ]
  },
  {
   "cell_type": "code",
   "execution_count": 39,
   "id": "00647b71-ac29-409e-95d6-6384d209f996",
   "metadata": {},
   "outputs": [
    {
     "data": {
      "text/plain": [
       "'tre'"
      ]
     },
     "execution_count": 39,
     "metadata": {},
     "output_type": "execute_result"
    }
   ],
   "source": [
    "a[4:1:-1]"
   ]
  },
  {
   "cell_type": "raw",
   "id": "e972a432-4553-4eb1-af1e-c289c1abec6c",
   "metadata": {},
   "source": []
  },
  {
   "cell_type": "code",
   "execution_count": 40,
   "id": "98a9c29b-1695-4a40-8458-dd3bfd3b97f8",
   "metadata": {},
   "outputs": [
    {
     "data": {
      "text/plain": [
       "'qwertyuiop'"
      ]
     },
     "execution_count": 40,
     "metadata": {},
     "output_type": "execute_result"
    }
   ],
   "source": [
    "a.strip() #метод, а не ф-ция, пишется через точку. Новый объект, а не изменение строки"
   ]
  },
  {
   "cell_type": "code",
   "execution_count": 41,
   "id": "429484ec-820c-40e0-a19a-ec47ca46e029",
   "metadata": {},
   "outputs": [
    {
     "name": "stdin",
     "output_type": "stream",
     "text": [
      " 123\n"
     ]
    }
   ],
   "source": [
    "a = input()"
   ]
  },
  {
   "cell_type": "code",
   "execution_count": 42,
   "id": "8d3e02d2-ba2c-44a0-a182-e768ca14734d",
   "metadata": {},
   "outputs": [
    {
     "data": {
      "text/plain": [
       "'123'"
      ]
     },
     "execution_count": 42,
     "metadata": {},
     "output_type": "execute_result"
    }
   ],
   "source": [
    "a"
   ]
  },
  {
   "cell_type": "code",
   "execution_count": 43,
   "id": "df51df56-f8c1-4094-8ec7-08d1d0a2aee1",
   "metadata": {},
   "outputs": [
    {
     "data": {
      "text/plain": [
       "str"
      ]
     },
     "execution_count": 43,
     "metadata": {},
     "output_type": "execute_result"
    }
   ],
   "source": [
    "type(a)"
   ]
  },
  {
   "cell_type": "code",
   "execution_count": 44,
   "id": "0c2fe322-7431-4f91-8209-84bd1e3436fe",
   "metadata": {},
   "outputs": [],
   "source": [
    "a = \"hello\"\n",
    "a += \" world\" # исходная спрока не меняется"
   ]
  },
  {
   "cell_type": "code",
   "execution_count": 45,
   "id": "b854c75e-f5ae-4816-8e1e-eab51f03cbca",
   "metadata": {},
   "outputs": [
    {
     "data": {
      "text/plain": [
       "'hello world'"
      ]
     },
     "execution_count": 45,
     "metadata": {},
     "output_type": "execute_result"
    }
   ],
   "source": [
    "a"
   ]
  },
  {
   "cell_type": "code",
   "execution_count": 48,
   "id": "43c8609d-2c80-4f50-8412-91c8000b8055",
   "metadata": {},
   "outputs": [
    {
     "data": {
      "text/plain": [
       "'ello world'"
      ]
     },
     "execution_count": 48,
     "metadata": {},
     "output_type": "execute_result"
    }
   ],
   "source": [
    "a.strip(\"h\") #r l "
   ]
  },
  {
   "cell_type": "code",
   "execution_count": 49,
   "id": "11ff1f52-5f55-46ed-9e47-1ed665e39de1",
   "metadata": {},
   "outputs": [
    {
     "data": {
      "text/plain": [
       "7"
      ]
     },
     "execution_count": 49,
     "metadata": {},
     "output_type": "execute_result"
    }
   ],
   "source": [
    "a.rfind(\"o\")"
   ]
  },
  {
   "cell_type": "code",
   "execution_count": 50,
   "id": "6d0d17db-daf8-4e38-b081-0541f9adb541",
   "metadata": {},
   "outputs": [
    {
     "ename": "ValueError",
     "evalue": "substring not found",
     "output_type": "error",
     "traceback": [
      "\u001b[1;31m---------------------------------------------------------------------------\u001b[0m",
      "\u001b[1;31mValueError\u001b[0m                                Traceback (most recent call last)",
      "Cell \u001b[1;32mIn [50], line 1\u001b[0m\n\u001b[1;32m----> 1\u001b[0m \u001b[43ma\u001b[49m\u001b[38;5;241;43m.\u001b[39;49m\u001b[43mindex\u001b[49m\u001b[43m(\u001b[49m\u001b[38;5;124;43m\"\u001b[39;49m\u001b[38;5;124;43ma\u001b[39;49m\u001b[38;5;124;43m\"\u001b[39;49m\u001b[43m)\u001b[49m\n",
      "\u001b[1;31mValueError\u001b[0m: substring not found"
     ]
    }
   ],
   "source": [
    "a.index()\n",
    "a.count()\n",
    "a.replace(\"a\", \"b\")\n",
    "a.title()\n",
    "a.capitalize()\n",
    "\n",
    "a.upper()\n",
    "a.lower()\n",
    "\n",
    "a.startswith(\"abc\")\n",
    "a.endswith()\n",
    "a.isupper\n",
    "a.islower\n",
    "a.isdigit\n",
    "a.isalpha\n",
    "a.isalnum\n",
    "a.isspase() # , \\xa0, \\t,n"
   ]
  },
  {
   "cell_type": "code",
   "execution_count": 51,
   "id": "977e5118-5b63-4f27-976c-f010d0cee3bd",
   "metadata": {},
   "outputs": [
    {
     "data": {
      "text/plain": [
       "['hello', 'world']"
      ]
     },
     "execution_count": 51,
     "metadata": {},
     "output_type": "execute_result"
    }
   ],
   "source": [
    "\"hello world\".split() #список"
   ]
  },
  {
   "cell_type": "code",
   "execution_count": 54,
   "id": "2e1286dd-5ade-4d89-9a1e-e23e7e0532e0",
   "metadata": {},
   "outputs": [
    {
     "data": {
      "text/plain": [
       "'a b r a c a d a b r a'"
      ]
     },
     "execution_count": 54,
     "metadata": {},
     "output_type": "execute_result"
    }
   ],
   "source": [
    "\" \".join(\"abracadabra\")"
   ]
  },
  {
   "cell_type": "code",
   "execution_count": 55,
   "id": "f186131b-904c-40c7-8151-63870f2478b0",
   "metadata": {},
   "outputs": [
    {
     "data": {
      "text/plain": [
       "'This is my variable'"
      ]
     },
     "execution_count": 55,
     "metadata": {},
     "output_type": "execute_result"
    }
   ],
   "source": [
    "a = \"my variable\"\n",
    "f\"This is {a}\""
   ]
  },
  {
   "cell_type": "code",
   "execution_count": 56,
   "id": "828f8ec8-7235-4a1e-b5d9-758c6486f291",
   "metadata": {},
   "outputs": [
    {
     "data": {
      "text/plain": [
       "'This is my variable'"
      ]
     },
     "execution_count": 56,
     "metadata": {},
     "output_type": "execute_result"
    }
   ],
   "source": [
    "\"This is {0}\".format(a, b)"
   ]
  },
  {
   "cell_type": "code",
   "execution_count": 57,
   "id": "1896e520-86c3-4625-aab1-2ef7247b5424",
   "metadata": {},
   "outputs": [
    {
     "data": {
      "text/plain": [
       "'1234'"
      ]
     },
     "execution_count": 57,
     "metadata": {},
     "output_type": "execute_result"
    }
   ],
   "source": [
    "a = 1\n",
    "b = 2\n",
    "c = 3\n",
    "d = 4\n",
    "f\"{a}{b}{c}{d}\"\n"
   ]
  },
  {
   "cell_type": "code",
   "execution_count": 60,
   "id": "f9e561d7-138e-4cf3-aca8-982667df4343",
   "metadata": {},
   "outputs": [
    {
     "data": {
      "text/plain": [
       "'1      2'"
      ]
     },
     "execution_count": 60,
     "metadata": {},
     "output_type": "execute_result"
    }
   ],
   "source": [
    "f\"{a:<4}{b:>4}\" #1... ...2"
   ]
  },
  {
   "cell_type": "code",
   "execution_count": 62,
   "id": "dfdbf03d-d6fb-4ff2-8f4f-661fb0a532a8",
   "metadata": {},
   "outputs": [
    {
     "data": {
      "text/plain": [
       "'This is 1.00'"
      ]
     },
     "execution_count": 62,
     "metadata": {},
     "output_type": "execute_result"
    }
   ],
   "source": [
    "f\"This is {a:.2f}\""
   ]
  },
  {
   "cell_type": "code",
   "execution_count": null,
   "id": "136d451b-da21-410b-ab12-b21cda7b2352",
   "metadata": {},
   "outputs": [],
   "source": [
    "a = int(input())\n",
    "while a != 0:\n",
    "    a += 1\n",
    "    print(a)\n",
    "print(\"End\")"
   ]
  },
  {
   "cell_type": "code",
   "execution_count": null,
   "id": "75c57a03-5759-4a0d-a8a8-ea8931776e6c",
   "metadata": {},
   "outputs": [],
   "source": [
    "for "
   ]
  }
 ],
 "metadata": {
  "kernelspec": {
   "display_name": "Python 3 (ipykernel)",
   "language": "python",
   "name": "python3"
  },
  "language_info": {
   "codemirror_mode": {
    "name": "ipython",
    "version": 3
   },
   "file_extension": ".py",
   "mimetype": "text/x-python",
   "name": "python",
   "nbconvert_exporter": "python",
   "pygments_lexer": "ipython3",
   "version": "3.9.13"
  }
 },
 "nbformat": 4,
 "nbformat_minor": 5
}
