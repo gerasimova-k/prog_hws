{
 "cells": [
  {
   "cell_type": "code",
   "execution_count": 13,
   "id": "cecbf71f-5f2a-4644-ade2-0b77f585fd7e",
   "metadata": {},
   "outputs": [
    {
     "name": "stdin",
     "output_type": "stream",
     "text": [
      " o\n"
     ]
    },
    {
     "name": "stdout",
     "output_type": "stream",
     "text": [
      "это не число\n"
     ]
    }
   ],
   "source": [
    "a = input()\n",
    "if a.isdigit():\n",
    "    a = int(a)\n",
    "    print(a + 1)\n",
    "else:\n",
    "    print(\"это не число\")\n"
   ]
  },
  {
   "cell_type": "code",
   "execution_count": 12,
   "id": "52fa4538-d1c1-4aad-8c5a-234d2e2d66da",
   "metadata": {},
   "outputs": [
    {
     "name": "stdin",
     "output_type": "stream",
     "text": [
      " Sldlk Ldb\n"
     ]
    },
    {
     "name": "stdout",
     "output_type": "stream",
     "text": [
      "Is a song\n"
     ]
    }
   ],
   "source": [
    "a = input()\n",
    "if a.istitle():\n",
    "    print(\"Is a song\")\n",
    "else:\n",
    "    print(\"not a song\")"
   ]
  },
  {
   "cell_type": "code",
   "execution_count": 10,
   "id": "dcaa8f32-b3fb-4ade-a58c-5bc12d137250",
   "metadata": {},
   "outputs": [
    {
     "name": "stdin",
     "output_type": "stream",
     "text": [
      " kuyg.txt\n"
     ]
    },
    {
     "data": {
      "text/plain": [
       "'.txt'"
      ]
     },
     "execution_count": 10,
     "metadata": {},
     "output_type": "execute_result"
    }
   ],
   "source": [
    "a = input()\n",
    "b = a.rfind(\".\")\n",
    "a[b:]"
   ]
  },
  {
   "cell_type": "code",
   "execution_count": null,
   "id": "c1be467d-0335-403c-9248-ad24ba9af06b",
   "metadata": {},
   "outputs": [],
   "source": []
  }
 ],
 "metadata": {
  "kernelspec": {
   "display_name": "Python 3 (ipykernel)",
   "language": "python",
   "name": "python3"
  },
  "language_info": {
   "codemirror_mode": {
    "name": "ipython",
    "version": 3
   },
   "file_extension": ".py",
   "mimetype": "text/x-python",
   "name": "python",
   "nbconvert_exporter": "python",
   "pygments_lexer": "ipython3",
   "version": "3.9.13"
  }
 },
 "nbformat": 4,
 "nbformat_minor": 5
}
