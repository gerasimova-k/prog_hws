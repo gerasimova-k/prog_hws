{
 "cells": [
  {
   "cell_type": "code",
   "execution_count": 1,
   "id": "4a5f798d-eed5-44eb-8ac3-6fa144ada423",
   "metadata": {},
   "outputs": [
    {
     "ename": "IndentationError",
     "evalue": "expected an indented block (3202405736.py, line 4)",
     "output_type": "error",
     "traceback": [
      "\u001b[1;36m  Cell \u001b[1;32mIn [1], line 4\u001b[1;36m\u001b[0m\n\u001b[1;33m    print(\"a > 0\")\u001b[0m\n\u001b[1;37m    ^\u001b[0m\n\u001b[1;31mIndentationError\u001b[0m\u001b[1;31m:\u001b[0m expected an indented block\n"
     ]
    }
   ],
   "source": [
    "a = int(input())\n",
    "while a != 0:\n",
    "    if a > 0:\n",
    "    print(\"a > 0\")\n",
    "    break\n",
    "    a += 1\n",
    "    print(a)\n",
    "else:\n",
    "    print(\"no break\")\n",
    "print(\"Cycle ended\")"
   ]
  },
  {
   "cell_type": "code",
   "execution_count": 2,
   "id": "0b32c198-35fa-4b03-8c05-6363722a6734",
   "metadata": {},
   "outputs": [
    {
     "name": "stdin",
     "output_type": "stream",
     "text": [
      " -1\n"
     ]
    },
    {
     "name": "stdout",
     "output_type": "stream",
     "text": [
      "0\n",
      "no break\n",
      "Cycle ended\n"
     ]
    }
   ],
   "source": [
    "a = int(input())\n",
    "while a != 0:\n",
    "    if a > 0:\n",
    "        print(\"a > 0\")\n",
    "        a = -1\n",
    "        continue\n",
    "    a+= 1\n",
    "    print(a)\n",
    "else:\n",
    "    print(\"no break\")\n",
    "print(\"Cycle ended\")"
   ]
  },
  {
   "cell_type": "code",
   "execution_count": null,
   "id": "611a8fcc-890a-482a-b4ad-5304d38bf994",
   "metadata": {},
   "outputs": [
    {
     "name": "stdin",
     "output_type": "stream",
     "text": [
      "Enter new strip gjh,\n"
     ]
    }
   ],
   "source": [
    "a = input(\"Enter new strip\")\n",
    "while a: # a == \" bool(\"\") == false\n",
    "    a = input()\n",
    "    # ИЛИ ЖЕ ТАК:\n",
    "\n",
    "while True: # while 1 < 3\n",
    "    a = input()\n",
    "    if not a:\n",
    "        break\n"
   ]
  },
  {
   "cell_type": "code",
   "execution_count": null,
   "id": "985b8d21-f751-4bac-84e2-5c9575e5defe",
   "metadata": {},
   "outputs": [],
   "source": [
    "for file in files:\n",
    "    if not file.endswith(\".txt\"):\n",
    "        continue\n",
    "    f = openfile"
   ]
  },
  {
   "cell_type": "code",
   "execution_count": null,
   "id": "fce993cf-1a74-43aa-b5cb-23b1a075cae4",
   "metadata": {},
   "outputs": [],
   "source": [
    "a = 1\n",
    "a.replace(\"2\", \"1\")\n",
    "# тут будет исключение\n",
    "\n",
    "string = input()\n",
    "try:\n",
    "    print(string[4])\n",
    "except IndexError:\n",
    "    print(\"String too short\")\n",
    "else:\n",
    "    print(\"String long enough!\")\n",
    "finally:\n",
    "    print(\"script ended\")"
   ]
  },
  {
   "cell_type": "code",
   "execution_count": null,
   "id": "75b9cf8f-68dd-4c42-b814-fe1aefc027c0",
   "metadata": {},
   "outputs": [],
   "source": [
    "for i in range(10): # 10 - 10 попугаев, если 100 - 100 len(data) = D\n",
    "    print(i + 1) # выполняется со скоростью 1 попугай\n",
    "\n",
    "# t = D * popugai\n",
    "# y = k * x + b\n",
    "# O(n) - линейная сложность алгоритма\n",
    "from time import sleep\n",
    "\n",
    "for i in range(10): # 10 - 10 попугаев, если 100 - 100 len(data) = D\n",
    "    sleep(1) # выполняется со скоростью 1 попугай\n"
   ]
  },
  {
   "cell_type": "code",
   "execution_count": null,
   "id": "f1d63d1e-4550-4a24-aa8d-ebcca4fae3fd",
   "metadata": {},
   "outputs": [],
   "source": [
    "a = 1\n",
    "b = 2\n",
    "print(a + b)\n",
    "\n",
    "# O(c) - константная сложность алгоритма\n",
    "\n",
    "for i in range(5):\n",
    "    for j in range(5):\n",
    "        sleep(1)\n",
    "\n",
    "# O(n ** 2) - квадратичная сложность алгоритма"
   ]
  }
 ],
 "metadata": {
  "kernelspec": {
   "display_name": "Python 3 (ipykernel)",
   "language": "python",
   "name": "python3"
  },
  "language_info": {
   "codemirror_mode": {
    "name": "ipython",
    "version": 3
   },
   "file_extension": ".py",
   "mimetype": "text/x-python",
   "name": "python",
   "nbconvert_exporter": "python",
   "pygments_lexer": "ipython3",
   "version": "3.9.13"
  }
 },
 "nbformat": 4,
 "nbformat_minor": 5
}
