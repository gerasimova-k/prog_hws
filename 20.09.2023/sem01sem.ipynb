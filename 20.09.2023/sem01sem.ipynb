{
 "cells": [
  {
   "cell_type": "code",
   "execution_count": null,
   "id": "76a38e5f-1407-474b-911f-fb583a3b6989",
   "metadata": {},
   "outputs": [],
   "source": [
    "# Задача 1"
   ]
  },
  {
   "cell_type": "code",
   "execution_count": 50,
   "id": "ec7dbba6-dd96-45af-913d-e494f2c69be2",
   "metadata": {},
   "outputs": [
    {
     "name": "stdin",
     "output_type": "stream",
     "text": [
      "Введите 1-, 2- или 3-значное число или название магазина 765\n"
     ]
    },
    {
     "name": "stdout",
     "output_type": "stream",
     "text": [
      "85.0\n"
     ]
    }
   ],
   "source": [
    "a = input('Введите 1-, 2- или 3-значное число или название магазина')\n",
    "if a.isalpha():\n",
    "    reversed_a = a[::-1]\n",
    "    print(reversed_a)\n",
    "if a.isalpha() == False:\n",
    "    if a.isalnum():\n",
    "        if len(a) > 3:\n",
    "            print('Слишком большое число')\n",
    "        b = int(a)\n",
    "        if len(a) == 3:\n",
    "            if b % 3 == 0:\n",
    "                print(b / 3 ** 2)\n",
    "            else:\n",
    "                print(b // 5)\n",
    "        if len(a) == 1 or len(a) == 2:\n",
    "            print(b * 8 % 6)\n",
    "        \n",
    "if a.isalpha() == False and a.isalnum() == False:\n",
    "    print('Маша ничего не делает')\n"
   ]
  },
  {
   "cell_type": "code",
   "execution_count": null,
   "id": "cb8aa39f-45c3-4bb4-94d4-308a508dd0d0",
   "metadata": {},
   "outputs": [],
   "source": [
    "# Задача 2"
   ]
  },
  {
   "cell_type": "code",
   "execution_count": 6,
   "id": "bfb32757-d01e-45b2-89c5-d76d60749f5b",
   "metadata": {},
   "outputs": [
    {
     "name": "stdin",
     "output_type": "stream",
     "text": [
      " 22\n",
      " 0\n"
     ]
    },
    {
     "name": "stdout",
     "output_type": "stream",
     "text": [
      "Стоп\n",
      "Требуется столов: 3\n"
     ]
    }
   ],
   "source": [
    "all_participants = 0\n",
    "tables = 0\n",
    "p = int(input())\n",
    "while p != 0: \n",
    "    all_participants += p\n",
    "    p = int(input())\n",
    "else:\n",
    "    print('Стоп')\n",
    "    if all_participants % 8 == 0:\n",
    "        tables = all_participants / 8\n",
    "    else:\n",
    "        tables = all_participants // 8 + 1\n",
    "    \n",
    "print('Требуется столов:', tables)\n",
    "    "
   ]
  },
  {
   "cell_type": "code",
   "execution_count": null,
   "id": "12358ebe-5c18-4e16-b039-b9363ae71c1e",
   "metadata": {},
   "outputs": [],
   "source": [
    "# Задача 3"
   ]
  },
  {
   "cell_type": "code",
   "execution_count": 20,
   "id": "148091e5-1b31-4eaf-97e4-87ab145299d9",
   "metadata": {},
   "outputs": [],
   "source": [
    "import random\n",
    "\n",
    "def play_fishing_game(num_attempts):\n",
    "    fish_list = {\n",
    "        'бычка': 2,\n",
    "        'пескаря': 3,\n",
    "        'плотву': 4,\n",
    "        'карпа': 5,\n",
    "        'сома': 6,\n",
    "        'налима': 7,\n",
    "        'щуку': 8\n",
    "    }\n",
    "    total_catches = 0\n",
    "\n",
    "    for i in range(num_attempts):\n",
    "        fish = random.choice(list(fish_list.keys()))\n",
    "        num_presses = fish_list[fish]\n",
    "        print('Вы закинули удочку...')\n",
    "        input('Жмите на Enter, чтобы поймать рыбу')\n",
    "        \n",
    "        for i in range(num_presses):\n",
    "            input()\n",
    "        \n",
    "        print('Вы поймали', fish)\n",
    "        total_catches += 1\n",
    "\n",
    "    print('Игра окончена! Поймано рыб:', total_catches)\n"
   ]
  },
  {
   "cell_type": "code",
   "execution_count": 21,
   "id": "0eaa7b54-042a-4fea-98a5-375cb709d324",
   "metadata": {},
   "outputs": [
    {
     "name": "stdout",
     "output_type": "stream",
     "text": [
      "Вы закинули удочку...\n"
     ]
    },
    {
     "name": "stdin",
     "output_type": "stream",
     "text": [
      "Жмите на Enter, чтобы поймать рыбу \n",
      " \n",
      " \n",
      " \n",
      " \n",
      " \n"
     ]
    },
    {
     "name": "stdout",
     "output_type": "stream",
     "text": [
      "Вы поймали карпа\n",
      "Вы закинули удочку...\n"
     ]
    },
    {
     "name": "stdin",
     "output_type": "stream",
     "text": [
      "Жмите на Enter, чтобы поймать рыбу \n",
      " \n",
      " \n",
      " \n",
      " \n",
      " \n",
      " \n"
     ]
    },
    {
     "name": "stdout",
     "output_type": "stream",
     "text": [
      "Вы поймали сома\n",
      "Игра окончена! Поймано рыб: 2\n"
     ]
    }
   ],
   "source": [
    "play_fishing_game(2)"
   ]
  },
  {
   "cell_type": "code",
   "execution_count": null,
   "id": "bbacb269-c215-4c33-a59d-0276859a63bb",
   "metadata": {},
   "outputs": [],
   "source": [
    "# Задача 4"
   ]
  },
  {
   "cell_type": "code",
   "execution_count": 22,
   "id": "826e1a6c-e856-4060-84ac-a854cce180f7",
   "metadata": {},
   "outputs": [
    {
     "name": "stdout",
     "output_type": "stream",
     "text": [
      "Даша может пойти на вечеринку представителей элиты\n",
      "Даша может пойти на вечеринку панков\n",
      "Оставшаяся одежда: {'шорты', 'майка'}\n"
     ]
    }
   ],
   "source": [
    "dasha = {\"платье\", \"туфли\", \"колготки\", \"серьги\", \"ожерелье\", \"джинсы\", \"футболка\", \"кеды\", \"толстовка\", \"перчатки\", \"шорты\", \"майка\"}\n",
    "elite = {\"платье\", \"туфли\", \"колготки\", \"серьги\", \"ожерелье\"}\n",
    "retro = {\"юбка\", \"рубашка\", \"туфли\", \"ободок\", \"серьги\"}\n",
    "punk = {\"джинсы\", \"футболка\", \"кеды\", \"толстовка\", \"перчатки\"}\n",
    "\n",
    "if dasha.issuperset(elite):\n",
    "    print(\"Даша может пойти на вечеринку представителей элиты\")\n",
    "if len(dasha.intersection(retro)) >= 3:\n",
    "    print(\"Даша может пойти на вечеринку в стиле ретро\")\n",
    "if len(dasha.intersection(punk)) >= 2:\n",
    "    print(\"Даша может пойти на вечеринку панков\")\n",
    "\n",
    "remaining_clothes = dasha.difference(elite, retro, punk)\n",
    "print(\"Оставшаяся одежда:\", remaining_clothes)"
   ]
  },
  {
   "cell_type": "code",
   "execution_count": null,
   "id": "fffbbb22-969e-4f29-94d2-0aebd2e8ef4e",
   "metadata": {},
   "outputs": [],
   "source": [
    "# Задача 5"
   ]
  },
  {
   "cell_type": "code",
   "execution_count": 24,
   "id": "785ac900-ec4f-48e4-8cc6-bf6c606d97f3",
   "metadata": {},
   "outputs": [],
   "source": [
    "dct_1 = {\"Куриное филе\": 1.3, \"Хлопья кукурузные\": \"без сахара\", \"Батончик шоколадный\": \"с арахисом\", \"Огурцы\": 4, \"Филе рыбы\": 0.6, \"Лук репчатый\": 5,\n",
    "         \"Рулет сладкий\": \"с маком\", \"Бананы\": 6, \"Ребрышки свиные\": 1.5}\n"
   ]
  },
  {
   "cell_type": "code",
   "execution_count": 26,
   "id": "f325cf42-c04c-445d-9af0-ac9827ddb1b8",
   "metadata": {},
   "outputs": [],
   "source": [
    "def product_packages(dct_1):\n",
    "    meat_and_fish = []\n",
    "    vegetables_and_fruits = []\n",
    "    sweets = []\n",
    "\n",
    "    for product, value in dct_1.items():\n",
    "        if isinstance(value, float):\n",
    "            meat_and_fish.append(product)\n",
    "        elif isinstance(value, int):\n",
    "            vegetables_and_fruits.append(product)\n",
    "        else:\n",
    "            sweets.append(product)\n",
    "    \n",
    "    packages = {\n",
    "        \"Пакет с мясом и рыбой\": meat_and_fish,\n",
    "        \"Пакет с овощами и фруктами\": vegetables_and_fruits,\n",
    "        \"Пакет со сладостями\": sweets\n",
    "    }\n",
    "\n",
    "    for package, products in packages.items():\n",
    "        print(package + \":\", products)\n",
    "    "
   ]
  },
  {
   "cell_type": "code",
   "execution_count": 27,
   "id": "a0899ef7-c4eb-47bc-ac73-69bbbe675ea8",
   "metadata": {},
   "outputs": [
    {
     "name": "stdout",
     "output_type": "stream",
     "text": [
      "Пакет с мясом и рыбой: ['Куриное филе', 'Филе рыбы', 'Ребрышки свиные']\n",
      "Пакет с овощами и фруктами: ['Огурцы', 'Лук репчатый', 'Бананы']\n",
      "Пакет со сладостями: ['Хлопья кукурузные', 'Батончик шоколадный', 'Рулет сладкий']\n"
     ]
    }
   ],
   "source": [
    "product_packages(dct_1)"
   ]
  },
  {
   "cell_type": "code",
   "execution_count": 28,
   "id": "0fb4750e-a5ba-4367-b17d-5cf13e9ab629",
   "metadata": {},
   "outputs": [],
   "source": [
    "dct_1 = {\"Лосось\": 1.3, \"Пирожное\": \"картошка\", \"Вырезка\": 0.6, \"Лук репчатый\": 5,\n",
    "         \"булочка\": \"с маком\", \"Кокосы\": 6, \"Говядина\": 1.5}\n"
   ]
  },
  {
   "cell_type": "code",
   "execution_count": 29,
   "id": "35885f3d-36b7-4efc-a17e-5ac812a0b162",
   "metadata": {
    "scrolled": true
   },
   "outputs": [
    {
     "name": "stdout",
     "output_type": "stream",
     "text": [
      "Пакет с мясом и рыбой: ['Лосось', 'Вырезка', 'Говядина']\n",
      "Пакет с овощами и фруктами: ['Лук репчатый', 'Кокосы']\n",
      "Пакет со сладостями: ['Пирожное', 'булочка']\n"
     ]
    }
   ],
   "source": [
    "product_packages(dct_1)"
   ]
  },
  {
   "cell_type": "code",
   "execution_count": null,
   "id": "ef63d178-ca09-4940-9b07-cce6fc779862",
   "metadata": {},
   "outputs": [],
   "source": [
    "# Задача 6"
   ]
  },
  {
   "cell_type": "code",
   "execution_count": 33,
   "id": "21935171-7125-49dd-9c29-3f38e902f2e2",
   "metadata": {},
   "outputs": [],
   "source": [
    "import random\n",
    "\n",
    "pool = [\"Меч из синего железа 3\", \"Странная кисть 3\", \"Рогатина 3\", \"Лук вороны 3\", \"Межреберный нож 3\", \"Предвестник заката 3\", \"Теплое лезвие 3\",\n",
    "            \"Парный рубин 3\", \"Лазурный шар 3\", \"Руководство по волшебству 3\", \"Каллен 4\", \"Шиона 4\", \"Камелия 4\",\n",
    "            \"Целлюлоза 4\", \"Хан Шин 4\"]\n",
    "\n",
    "        \n",
    "def play_genshin():\n",
    "    new_pool = []\n",
    "    count = 0\n",
    "    while count < 9:\n",
    "        item = random.choice(pool)\n",
    "        new_pool.append(item)\n",
    "        count += 1\n",
    "    new_pool.append('Гайден 5')\n",
    "    random.shuffle(new_pool)\n",
    "    \n",
    "\n",
    "    characters = 0\n",
    "    weapons = 0\n",
    "    objs = 0\n",
    "\n",
    "    for elem in new_pool:\n",
    "        if \"5\" in elem:\n",
    "            print(elem)\n",
    "            print('Катя падает в обморок')\n",
    "            return\n",
    "        if \"4\" in elem:\n",
    "            print(elem)\n",
    "            objs += 1\n",
    "            characters += 1\n",
    "            if characters == 2:\n",
    "                print('Катя расстраивается')\n",
    "        if \"3\" in elem:\n",
    "            print(elem)\n",
    "            objs +=1\n",
    "            weapons += 1\n",
    "            if weapons == 3:\n",
    "                print('Катя злится')\n",
    "        if objs == 9:\n",
    "            print('Катя плачет')\n",
    "\n",
    "    \n",
    "    \n",
    "    \n",
    "      "
   ]
  },
  {
   "cell_type": "code",
   "execution_count": 34,
   "id": "913c76e8-e043-46ac-b051-7a0cca757277",
   "metadata": {},
   "outputs": [
    {
     "name": "stdout",
     "output_type": "stream",
     "text": [
      "Странная кисть 3\n",
      "Парный рубин 3\n",
      "Руководство по волшебству 3\n",
      "Катя злится\n",
      "Каллен 4\n",
      "Межреберный нож 3\n",
      "Гайден 5\n",
      "Катя падает в обморок\n"
     ]
    }
   ],
   "source": [
    "play_genshin()"
   ]
  },
  {
   "cell_type": "code",
   "execution_count": null,
   "id": "0a223aa0-20bf-4616-9b12-7433454d8964",
   "metadata": {},
   "outputs": [],
   "source": [
    "# Задача 7"
   ]
  },
  {
   "cell_type": "code",
   "execution_count": 11,
   "id": "d2dcf8b6-8727-4f61-9fe9-f4c1f49e3562",
   "metadata": {},
   "outputs": [],
   "source": [
    "import random\n",
    "\n",
    "def generate_picture(colors, objects, action, background):\n",
    "    \n",
    "    color = random.choice(colors)\n",
    "    obj = random.choice(objects)\n",
    "    act = random.choice(action)\n",
    "    bg = random.choice(background)\n",
    "\n",
    "    print(f\"{color} {obj} {act} {bg}\")\n",
    "\n"
   ]
  },
  {
   "cell_type": "code",
   "execution_count": 12,
   "id": "fc27ea2e-7e34-4f62-bcef-cbfe69896c35",
   "metadata": {},
   "outputs": [],
   "source": [
    "colors = [\"blue\", \"red\", \"green\", \"yellow\", \"black\", \"white\", \"pink\", \"purple\"]\n",
    "objects = [\"flowers\", \"tree\", \"cat\", \"dog\", \"elf\", \"demon\", \"orc\", \"sun\", \"clouds\"]\n",
    "action = [\"sleeping\", \"awakening\", \"laughing\", \"dancing\", \"swimming\", \"grinning\", \"smiling\", \"yelling\"]\n",
    "background = [\"in the sky\", \"in the sea\", \"between the mountains\", \"in the room\", \"in the forest\", \"in the city\", \"in the river\", \"in the dark\", \"in the spider web\"]\n"
   ]
  },
  {
   "cell_type": "code",
   "execution_count": 13,
   "id": "30a4817d-af95-4d9c-bc8d-d657e9711096",
   "metadata": {},
   "outputs": [
    {
     "name": "stdout",
     "output_type": "stream",
     "text": [
      "blue elf grinning in the river\n"
     ]
    }
   ],
   "source": [
    "generate_picture(colors, objects, action, background)"
   ]
  },
  {
   "cell_type": "code",
   "execution_count": null,
   "id": "8b9aa09e-c9d0-4f20-8044-b58e00123ffb",
   "metadata": {},
   "outputs": [],
   "source": [
    "# Задача 8"
   ]
  },
  {
   "cell_type": "code",
   "execution_count": 6,
   "id": "6352937a-734b-46f8-bf38-9a7c761f331e",
   "metadata": {},
   "outputs": [
    {
     "name": "stdin",
     "output_type": "stream",
     "text": [
      "Введите имя пользователя:  Ольга\n",
      "Введите сообщение:  посчитай 100 + 100\n"
     ]
    },
    {
     "name": "stdout",
     "output_type": "stream",
     "text": [
      "Хорошо. Ответ: 200\n"
     ]
    },
    {
     "name": "stdin",
     "output_type": "stream",
     "text": [
      "Введите сообщение:  Выбери ЧиСлО: 1, 4, 66, 888\n"
     ]
    },
    {
     "name": "stdout",
     "output_type": "stream",
     "text": [
      "888\n"
     ]
    },
    {
     "name": "stdin",
     "output_type": "stream",
     "text": [
      "Введите сообщение:  скажи чайник\n"
     ]
    },
    {
     "name": "stdout",
     "output_type": "stream",
     "text": [
      "чайник\n"
     ]
    },
    {
     "name": "stdin",
     "output_type": "stream",
     "text": [
      "Введите сообщение:  Как дела?\n"
     ]
    },
    {
     "name": "stdout",
     "output_type": "stream",
     "text": [
      "Все хорошо. А твои, Ольга?\n"
     ]
    },
    {
     "name": "stdin",
     "output_type": "stream",
     "text": [
      "Введите сообщение:  Напиши программу на питоне\n"
     ]
    },
    {
     "name": "stdout",
     "output_type": "stream",
     "text": [
      "Я тебя не понимаю.\n"
     ]
    },
    {
     "name": "stdin",
     "output_type": "stream",
     "text": [
      "Введите сообщение:  пока\n"
     ]
    },
    {
     "name": "stdout",
     "output_type": "stream",
     "text": [
      "Пока, Ольга.\n"
     ]
    }
   ],
   "source": [
    "import random\n",
    "\n",
    "class Sakura:\n",
    "    def __init__(self, user):\n",
    "        self.user = user\n",
    "    \n",
    "    def respond(self, message):\n",
    "        if \"привет\" in message.lower():\n",
    "            return f\"Привет, {self.user}.\"\n",
    "        if \"как дела?\" in message.lower():\n",
    "            return f\"Все хорошо. А твои, {self.user}?\"\n",
    "        elif \"я люблю тебя\" in message.lower():\n",
    "            return f\"Я люблю тебя, {self.user}.\"\n",
    "        elif \"посчитай\" in message.lower():\n",
    "            numbers = message.lower().split(\"посчитай\")[1].strip().split(\"+\")\n",
    "            if len(numbers) == 2:\n",
    "                try:\n",
    "                    x = int(numbers[0])\n",
    "                    y = int(numbers[1])\n",
    "                    result = x + y\n",
    "                    return f\"Хорошо. Ответ: {result}\"\n",
    "                except ValueError:\n",
    "                    return \"Некорректный ввод чисел.\"\n",
    "            else:\n",
    "                return \"Я тебя не понимаю.\"\n",
    "        elif message.lower().startswith(\"скажи\"):\n",
    "            phrase = message.lower().split(\"скажи \")[1]\n",
    "            return phrase\n",
    "        elif message.lower().startswith(\"выбери число:\"):\n",
    "            numbers = message.lower().split(\"выбери число: \")[1].split(\", \")\n",
    "            chosen_number = random.choice(numbers)\n",
    "            return chosen_number\n",
    "        elif \"пока\" in message.lower():\n",
    "            return f\"Пока, {self.user}.\"\n",
    "        else:\n",
    "            return \"Я тебя не понимаю.\"\n",
    "\n",
    "user = input(\"Введите имя пользователя: \")\n",
    "sakura = Sakura(user)\n",
    "\n",
    "while True:\n",
    "    message = input(\"Введите сообщение: \")\n",
    "    response = sakura.respond(message)\n",
    "    print(response)\n",
    "    \n",
    "    if \"пока\" in message.lower():\n",
    "        break"
   ]
  },
  {
   "cell_type": "code",
   "execution_count": null,
   "id": "63857032-0a46-4f06-84b6-6585c09722c3",
   "metadata": {},
   "outputs": [],
   "source": [
    "# Задача 9"
   ]
  },
  {
   "cell_type": "code",
   "execution_count": 8,
   "id": "14fbd985-f324-48f0-bb50-c31e68ac3121",
   "metadata": {},
   "outputs": [],
   "source": [
    "lst_4 = ['Baka no Baka ni Baka to Baka!! Bakayaro', \n",
    "         \"Silk of Baka\", \n",
    "         \"Jojo's Bizarre Adventure\", \n",
    "         \"Sister!!!!!!!\", \n",
    "         \"He and his sobaka\", \n",
    "         \"Not so fast!\", \n",
    "         \"Higurashi no Naku Koro Ni Kai\",\n",
    "         \"Hopeless Simps!! Attack\",\n",
    "         \"I was a looser but became even worse in a fantasy world: useless profession of a plumber\",\n",
    "         \"Baka Monogatari\",\n",
    "         \"!Mahou Shoujo Nicola Tesla!\"]\n"
   ]
  },
  {
   "cell_type": "code",
   "execution_count": 9,
   "id": "483d4a62-afdc-42ca-bf10-4692f50f53fe",
   "metadata": {},
   "outputs": [],
   "source": [
    "def anime_analyzer(lst_4):\n",
    "    good_titles = 0\n",
    "\n",
    "    for title in lst_4:\n",
    "        if \"!!\" in title or \"Baka\" in title:\n",
    "            if len(title.split()) <= 6:\n",
    "                good_titles += 1\n",
    "\n",
    "    if good_titles > 5:\n",
    "        print(\"Николай умрет от перенапряжения!\")\n",
    "    else:\n",
    "        print(\"Николай может смотреть аниме без опаски.\")\n",
    "    "
   ]
  },
  {
   "cell_type": "code",
   "execution_count": 10,
   "id": "5df89757-9f84-485b-972d-d3c12386a36f",
   "metadata": {
    "collapsed": true,
    "jupyter": {
     "outputs_hidden": true
    },
    "scrolled": true
   },
   "outputs": [
    {
     "name": "stdout",
     "output_type": "stream",
     "text": [
      "Николай может смотреть аниме без опаски.\n"
     ]
    }
   ],
   "source": [
    "anime_analyzer(lst_4)"
   ]
  },
  {
   "cell_type": "code",
   "execution_count": null,
   "id": "e5234778-0399-4a8c-a9a8-d7a444765220",
   "metadata": {},
   "outputs": [],
   "source": [
    "# Задача 10"
   ]
  },
  {
   "cell_type": "code",
   "execution_count": 16,
   "id": "623a1e93-561a-47d8-a644-e8cbeea83005",
   "metadata": {},
   "outputs": [],
   "source": [
    "def type_counter(lst_1):\n",
    "    types_count = {}\n",
    "\n",
    "    for item in lst_1:\n",
    "        item_type = type(item).__name__\n",
    "        if item_type in types_count:\n",
    "            types_count[item_type] += 1\n",
    "        else:\n",
    "            types_count[item_type] = 1\n",
    "\n",
    "    print(types_count)"
   ]
  },
  {
   "cell_type": "code",
   "execution_count": 17,
   "id": "a6ba7b27-9af7-4453-a264-470ba71cc28e",
   "metadata": {},
   "outputs": [
    {
     "name": "stdout",
     "output_type": "stream",
     "text": [
      "{'str': 2, 'int': 4, 'tuple': 1, 'float': 1, 'dict': 1, 'function': 1}\n"
     ]
    }
   ],
   "source": [
    "lst_1 = ['good', 4, ('foo', 'bar'), 'sooooq', 6.4, -1, {}, lambda x: x + 1, 16, 24]\n",
    "type_counter(lst_1)"
   ]
  },
  {
   "cell_type": "code",
   "execution_count": null,
   "id": "517fe08b-2224-42dc-96e5-7b5ef13875ff",
   "metadata": {},
   "outputs": [],
   "source": [
    "# Задача 11"
   ]
  },
  {
   "cell_type": "code",
   "execution_count": 23,
   "id": "0ff01188-def5-47d2-9f28-c1b73a76877d",
   "metadata": {},
   "outputs": [],
   "source": [
    "from collections import Counter\n",
    "\n",
    "def lst_elem_uni(lst_2_1, lst_2_2):\n",
    "    counter_1 = Counter(lst_2_1)\n",
    "    counter_2 = Counter(lst_2_2)\n",
    "\n",
    "    result = []\n",
    "        \n",
    "    for element in set(counter_1.keys()) | set(counter_2.keys()):\n",
    "        if counter_1[element] == 0:\n",
    "            result.extend([element] * (counter_2[element]))\n",
    "        if counter_2[element] == 0:\n",
    "            result.extend([element] * (counter_1[element]))\n",
    "        if counter_1[element] != 0 and counter_2[element] != 0:\n",
    "            result.extend([element] * min(counter_1[element], counter_2[element]))\n",
    "\n",
    "    print(result)"
   ]
  },
  {
   "cell_type": "code",
   "execution_count": 25,
   "id": "ea1b07df-75d6-4862-a475-45bda2b87047",
   "metadata": {},
   "outputs": [],
   "source": [
    "lst_2_1 = [1, 2, 2, 2, 3, 5, 5, 5, 5, 5, 6, 6, 6]\n",
    "lst_2_2 = [1, 1, 1, 2, 4, 4, 5, 5, 6, 6, 6, 6, 6, 6, 7]"
   ]
  },
  {
   "cell_type": "code",
   "execution_count": 26,
   "id": "5205bfff-78f3-46c1-92c8-24c93f410351",
   "metadata": {},
   "outputs": [
    {
     "name": "stdout",
     "output_type": "stream",
     "text": [
      "[1, 2, 3, 4, 4, 5, 5, 6, 6, 6, 7]\n"
     ]
    }
   ],
   "source": [
    "lst_elem_uni(lst_2_1, lst_2_2)"
   ]
  },
  {
   "cell_type": "code",
   "execution_count": null,
   "id": "ed64ee46-4f6d-4b8c-b9f1-de65329cf3a5",
   "metadata": {},
   "outputs": [],
   "source": [
    "# Задача 12"
   ]
  },
  {
   "cell_type": "code",
   "execution_count": 27,
   "id": "b5f1a03e-26b2-4e62-ba33-f4ae885824f0",
   "metadata": {},
   "outputs": [],
   "source": [
    "lst_3 = [10, 20, 5, 50, 150, 10, 25, 100, 70, 30]"
   ]
  },
  {
   "cell_type": "code",
   "execution_count": 32,
   "id": "842a46f5-4d04-4879-9c9a-ad9b1c73f9c8",
   "metadata": {},
   "outputs": [],
   "source": [
    "def center_of_mass_calculator(lst_3):\n",
    "    total = sum(lst_3)\n",
    "    center_of_mass = total / len(lst_3)\n",
    "\n",
    "    diff = lst_3[0] - center_of_mass\n",
    "    min_diff = abs(diff)\n",
    "    closest_index = 0\n",
    "\n",
    "    for i in range(1, len(lst_3)):\n",
    "        current_diff = lst_3[i] - center_of_mass\n",
    "        if abs(current_diff) < min_diff:\n",
    "            min_diff = abs(current_diff)\n",
    "            closest_index = i\n",
    "\n",
    "    print(closest_index + 1)"
   ]
  },
  {
   "cell_type": "code",
   "execution_count": 33,
   "id": "79969258-fb6f-469d-a786-0452b1a696af",
   "metadata": {},
   "outputs": [
    {
     "name": "stdout",
     "output_type": "stream",
     "text": [
      "4\n"
     ]
    }
   ],
   "source": [
    "center_of_mass_calculator(lst_3)"
   ]
  },
  {
   "cell_type": "code",
   "execution_count": 31,
   "id": "c3d142c1-ede1-4b1d-88ea-c6febf55f3c6",
   "metadata": {},
   "outputs": [
    {
     "name": "stdout",
     "output_type": "stream",
     "text": [
      "47.0\n"
     ]
    }
   ],
   "source": [
    "total = sum(lst_3)\n",
    "    \n",
    "center_of_mass = total / len(lst_3)\n",
    "print(center_of_mass)"
   ]
  }
 ],
 "metadata": {
  "kernelspec": {
   "display_name": "Python 3 (ipykernel)",
   "language": "python",
   "name": "python3"
  },
  "language_info": {
   "codemirror_mode": {
    "name": "ipython",
    "version": 3
   },
   "file_extension": ".py",
   "mimetype": "text/x-python",
   "name": "python",
   "nbconvert_exporter": "python",
   "pygments_lexer": "ipython3",
   "version": "3.9.13"
  }
 },
 "nbformat": 4,
 "nbformat_minor": 5
}
